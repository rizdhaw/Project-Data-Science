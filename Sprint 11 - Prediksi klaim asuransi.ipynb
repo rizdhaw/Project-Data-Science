{
 "cells": [
  {
   "cell_type": "markdown",
   "metadata": {},
   "source": [
    "<div style=\"border:solid black 2px; padding: 20px\"><h1 style=\"color:black; margin-bottom:20px\">Reviewer's comment v1</h1>\n",
    "Halo Rizdha !\n",
    "\n",
    "Perkenalkan saya disini sebagai Code Reviewers, disini dengan senang hati saya akan mereview tugas Rizdha ya.\n",
    "\n",
    "Saya akan memberikan beberapa komen seperti dibawah ini, tolong jangan dipindah, dirubah, maupun dihapus ya.\n",
    "\n",
    "Komen yang saya berikan akan muncul dalam warna hijau, kuning, atau pun merah seperti ini:\n",
    "\n",
    "<div class=\"alert alert-success\">\n",
    "<b>Code Reviewers's comment v.1</b> <a class=\"tocSkip\"></a>\n",
    "\n",
    "Bagus, code yang dijalankan sudah sesuai dengan instruksi dari project.\n",
    "\n",
    "</div>\n",
    "\n",
    "<div class=\"alert alert-warning\">\n",
    "<b>Code Reviewers's comment v.1</b> <a class=\"tocSkip\"></a>\n",
    "\n",
    "Terdapat beberapa catatan.\n",
    "\n",
    "</div>\n",
    "\n",
    "<div class=\"alert alert-danger\">\n",
    "<b>Code Reviewers's comment v.1</b> <a class=\"tocSkip\"></a>\n",
    "\n",
    "Perlu beberapa perbaikan\n",
    "\n",
    "</div>\n",
    "\n",
    "Dan tentu saja Rizdha dapat menjawab saya dengan menggunakan ini\n",
    "\n",
    "<div class=\"alert alert-block alert-info\">\n",
    "<b>Student answer.</b> <a class=\"tocSkip\"></a>\n",
    "    \n",
    "Baik kak\n",
    "</div>"
   ]
  },
  {
   "cell_type": "markdown",
   "metadata": {},
   "source": [
    "# Project Description"
   ]
  },
  {
   "cell_type": "markdown",
   "metadata": {},
   "source": [
    "Perusahaan asuransi bernama \"Sure Tomorrow\" ingin menyelesaikan beberapa masalah dengan bantuan *machine learning*. Kita pun diminta untuk mengevaluasi kemungkinan tersebut.\n",
    "\n",
    "- Tugas 1: Temukan klien yang mirip dengan kriteria klien tertentu. Tugas ini akan memudahkan perusahaan untuk melakukan pemasaran.\n",
    "- Tugas 2: Prediksi apakah klien baru kemungkinan akan mengambil klaim asuransi. Apakah prediksi model lebih baik daripada prediksi model *dummy*?\n",
    "- Tugas 3: Prediksi besaran klaim asuransi yang mungkin diterima klien baru menggunakan model regresi linear.\n",
    "- Tugas 4: Lindungi data pribadi klien tanpa merusak model dari tugas sebelumnya. Sangatlah penting untuk mengembangkan algoritme transformasi data yang dapat mencegah penyalahgunaan informasi pribadi klien jika data tersebut jatuh ke tangan yang salah. Hal ini disebut penyembunyian data atau pengaburan data. Namun, prosedur perlindungan datanya pun perlu diperhatikan agar kualitas *model machine* learning tidak menurun. Di sini, Anda tidak perlu memilih model yang terbaik, cukup buktikan bahwa algoritme Anda bekerja secara akurat."
   ]
  },
  {
   "cell_type": "markdown",
   "metadata": {},
   "source": [
    "<div class=\"alert alert-success\">\n",
    "<b>Code Reviewers's comment v.1</b> <a class=\"tocSkip\"></a>\n",
    "\n",
    "Bagus, code yang dijalankan sudah sesuai dengan instruksi dari project.\n",
    "\n",
    "</div>"
   ]
  },
  {
   "cell_type": "markdown",
   "metadata": {},
   "source": [
    "# Pra-pemrosesan & Eksplorasi Data\n",
    "\n",
    "## Inisialisasi"
   ]
  },
  {
   "cell_type": "code",
   "execution_count": 1,
   "metadata": {},
   "outputs": [],
   "source": [
    "# For numerical operations\n",
    "import numpy as np\n",
    "import math\n",
    "\n",
    "# For dataframe manipulation\n",
    "import pandas as pd\n",
    "\n",
    "# For data visualization\n",
    "import matplotlib.pyplot as plt\n",
    "import seaborn as sns\n",
    "\n",
    "# scikit-learn\n",
    "import sklearn.linear_model\n",
    "import sklearn.metrics\n",
    "from sklearn.neighbors import NearestNeighbors, KNeighborsClassifier\n",
    "from sklearn.preprocessing import MaxAbsScaler\n",
    "from sklearn.model_selection import train_test_split\n",
    "\n",
    "\n",
    "from IPython.display import display"
   ]
  },
  {
   "cell_type": "markdown",
   "metadata": {},
   "source": [
    "<div class=\"alert alert-success\">\n",
    "<b>Code Reviewers's comment v.1</b> <a class=\"tocSkip\"></a>\n",
    "\n",
    "Bagus, code yang dijalankan sudah sesuai dengan instruksi dari project.\n",
    "\n",
    "</div>"
   ]
  },
  {
   "cell_type": "markdown",
   "metadata": {},
   "source": [
    "## Muat Data"
   ]
  },
  {
   "cell_type": "markdown",
   "metadata": {},
   "source": [
    "Muat data dan lakukan pemeriksaan untuk memastikan data bebas dari permasalahan."
   ]
  },
  {
   "cell_type": "code",
   "execution_count": 2,
   "metadata": {},
   "outputs": [],
   "source": [
    "try:\n",
    "    df = pd.read_csv('insurance_us.csv')\n",
    "except:\n",
    "    df = pd.read_csv('/datasets/insurance_us.csv')"
   ]
  },
  {
   "cell_type": "markdown",
   "metadata": {},
   "source": [
    "mengganti nama kolom untuk membuat kode terlihat lebih konsisten dengan gayanya."
   ]
  },
  {
   "cell_type": "code",
   "execution_count": 3,
   "metadata": {},
   "outputs": [],
   "source": [
    "df = df.rename(columns={'Gender': 'gender', 'Age': 'age', 'Salary': 'income', 'Family members': 'family_members', 'Insurance benefits': 'insurance_benefits'})"
   ]
  },
  {
   "cell_type": "code",
   "execution_count": 4,
   "metadata": {},
   "outputs": [
    {
     "data": {
      "text/html": [
       "<div>\n",
       "<style scoped>\n",
       "    .dataframe tbody tr th:only-of-type {\n",
       "        vertical-align: middle;\n",
       "    }\n",
       "\n",
       "    .dataframe tbody tr th {\n",
       "        vertical-align: top;\n",
       "    }\n",
       "\n",
       "    .dataframe thead th {\n",
       "        text-align: right;\n",
       "    }\n",
       "</style>\n",
       "<table border=\"1\" class=\"dataframe\">\n",
       "  <thead>\n",
       "    <tr style=\"text-align: right;\">\n",
       "      <th></th>\n",
       "      <th>gender</th>\n",
       "      <th>age</th>\n",
       "      <th>income</th>\n",
       "      <th>family_members</th>\n",
       "      <th>insurance_benefits</th>\n",
       "    </tr>\n",
       "  </thead>\n",
       "  <tbody>\n",
       "    <tr>\n",
       "      <th>2272</th>\n",
       "      <td>0</td>\n",
       "      <td>30.0</td>\n",
       "      <td>42800.0</td>\n",
       "      <td>0</td>\n",
       "      <td>0</td>\n",
       "    </tr>\n",
       "    <tr>\n",
       "      <th>2024</th>\n",
       "      <td>1</td>\n",
       "      <td>29.0</td>\n",
       "      <td>52500.0</td>\n",
       "      <td>0</td>\n",
       "      <td>0</td>\n",
       "    </tr>\n",
       "    <tr>\n",
       "      <th>1629</th>\n",
       "      <td>1</td>\n",
       "      <td>27.0</td>\n",
       "      <td>46600.0</td>\n",
       "      <td>2</td>\n",
       "      <td>0</td>\n",
       "    </tr>\n",
       "    <tr>\n",
       "      <th>3669</th>\n",
       "      <td>1</td>\n",
       "      <td>22.0</td>\n",
       "      <td>41400.0</td>\n",
       "      <td>1</td>\n",
       "      <td>0</td>\n",
       "    </tr>\n",
       "    <tr>\n",
       "      <th>3354</th>\n",
       "      <td>1</td>\n",
       "      <td>30.0</td>\n",
       "      <td>33200.0</td>\n",
       "      <td>3</td>\n",
       "      <td>0</td>\n",
       "    </tr>\n",
       "    <tr>\n",
       "      <th>4308</th>\n",
       "      <td>1</td>\n",
       "      <td>45.0</td>\n",
       "      <td>48900.0</td>\n",
       "      <td>2</td>\n",
       "      <td>1</td>\n",
       "    </tr>\n",
       "    <tr>\n",
       "      <th>1004</th>\n",
       "      <td>1</td>\n",
       "      <td>29.0</td>\n",
       "      <td>42400.0</td>\n",
       "      <td>0</td>\n",
       "      <td>0</td>\n",
       "    </tr>\n",
       "    <tr>\n",
       "      <th>65</th>\n",
       "      <td>1</td>\n",
       "      <td>18.0</td>\n",
       "      <td>35400.0</td>\n",
       "      <td>2</td>\n",
       "      <td>0</td>\n",
       "    </tr>\n",
       "    <tr>\n",
       "      <th>1892</th>\n",
       "      <td>0</td>\n",
       "      <td>29.0</td>\n",
       "      <td>37000.0</td>\n",
       "      <td>1</td>\n",
       "      <td>0</td>\n",
       "    </tr>\n",
       "    <tr>\n",
       "      <th>4723</th>\n",
       "      <td>0</td>\n",
       "      <td>31.0</td>\n",
       "      <td>53300.0</td>\n",
       "      <td>1</td>\n",
       "      <td>0</td>\n",
       "    </tr>\n",
       "  </tbody>\n",
       "</table>\n",
       "</div>"
      ],
      "text/plain": [
       "      gender   age   income  family_members  insurance_benefits\n",
       "2272       0  30.0  42800.0               0                   0\n",
       "2024       1  29.0  52500.0               0                   0\n",
       "1629       1  27.0  46600.0               2                   0\n",
       "3669       1  22.0  41400.0               1                   0\n",
       "3354       1  30.0  33200.0               3                   0\n",
       "4308       1  45.0  48900.0               2                   1\n",
       "1004       1  29.0  42400.0               0                   0\n",
       "65         1  18.0  35400.0               2                   0\n",
       "1892       0  29.0  37000.0               1                   0\n",
       "4723       0  31.0  53300.0               1                   0"
      ]
     },
     "execution_count": 4,
     "metadata": {},
     "output_type": "execute_result"
    }
   ],
   "source": [
    "df.sample(10)"
   ]
  },
  {
   "cell_type": "code",
   "execution_count": 5,
   "metadata": {},
   "outputs": [
    {
     "name": "stdout",
     "output_type": "stream",
     "text": [
      "<class 'pandas.core.frame.DataFrame'>\n",
      "RangeIndex: 5000 entries, 0 to 4999\n",
      "Data columns (total 5 columns):\n",
      " #   Column              Non-Null Count  Dtype  \n",
      "---  ------              --------------  -----  \n",
      " 0   gender              5000 non-null   int64  \n",
      " 1   age                 5000 non-null   float64\n",
      " 2   income              5000 non-null   float64\n",
      " 3   family_members      5000 non-null   int64  \n",
      " 4   insurance_benefits  5000 non-null   int64  \n",
      "dtypes: float64(2), int64(3)\n",
      "memory usage: 195.4 KB\n"
     ]
    }
   ],
   "source": [
    "df.info()"
   ]
  },
  {
   "cell_type": "code",
   "execution_count": 6,
   "metadata": {},
   "outputs": [],
   "source": [
    "# Change 'age' from float data type to int\n",
    "df.age = df.age.astype('int')"
   ]
  },
  {
   "cell_type": "code",
   "execution_count": 7,
   "metadata": {},
   "outputs": [
    {
     "name": "stdout",
     "output_type": "stream",
     "text": [
      "<class 'pandas.core.frame.DataFrame'>\n",
      "RangeIndex: 5000 entries, 0 to 4999\n",
      "Data columns (total 5 columns):\n",
      " #   Column              Non-Null Count  Dtype  \n",
      "---  ------              --------------  -----  \n",
      " 0   gender              5000 non-null   int64  \n",
      " 1   age                 5000 non-null   int64  \n",
      " 2   income              5000 non-null   float64\n",
      " 3   family_members      5000 non-null   int64  \n",
      " 4   insurance_benefits  5000 non-null   int64  \n",
      "dtypes: float64(1), int64(4)\n",
      "memory usage: 195.4 KB\n"
     ]
    }
   ],
   "source": [
    "df.info()"
   ]
  },
  {
   "cell_type": "code",
   "execution_count": 8,
   "metadata": {
    "scrolled": true
   },
   "outputs": [
    {
     "data": {
      "text/html": [
       "<div>\n",
       "<style scoped>\n",
       "    .dataframe tbody tr th:only-of-type {\n",
       "        vertical-align: middle;\n",
       "    }\n",
       "\n",
       "    .dataframe tbody tr th {\n",
       "        vertical-align: top;\n",
       "    }\n",
       "\n",
       "    .dataframe thead th {\n",
       "        text-align: right;\n",
       "    }\n",
       "</style>\n",
       "<table border=\"1\" class=\"dataframe\">\n",
       "  <thead>\n",
       "    <tr style=\"text-align: right;\">\n",
       "      <th></th>\n",
       "      <th>gender</th>\n",
       "      <th>age</th>\n",
       "      <th>income</th>\n",
       "      <th>family_members</th>\n",
       "      <th>insurance_benefits</th>\n",
       "    </tr>\n",
       "  </thead>\n",
       "  <tbody>\n",
       "    <tr>\n",
       "      <th>count</th>\n",
       "      <td>5000.000000</td>\n",
       "      <td>5000.000000</td>\n",
       "      <td>5000.000000</td>\n",
       "      <td>5000.000000</td>\n",
       "      <td>5000.000000</td>\n",
       "    </tr>\n",
       "    <tr>\n",
       "      <th>mean</th>\n",
       "      <td>0.499000</td>\n",
       "      <td>30.952800</td>\n",
       "      <td>39916.360000</td>\n",
       "      <td>1.194200</td>\n",
       "      <td>0.148000</td>\n",
       "    </tr>\n",
       "    <tr>\n",
       "      <th>std</th>\n",
       "      <td>0.500049</td>\n",
       "      <td>8.440807</td>\n",
       "      <td>9900.083569</td>\n",
       "      <td>1.091387</td>\n",
       "      <td>0.463183</td>\n",
       "    </tr>\n",
       "    <tr>\n",
       "      <th>min</th>\n",
       "      <td>0.000000</td>\n",
       "      <td>18.000000</td>\n",
       "      <td>5300.000000</td>\n",
       "      <td>0.000000</td>\n",
       "      <td>0.000000</td>\n",
       "    </tr>\n",
       "    <tr>\n",
       "      <th>25%</th>\n",
       "      <td>0.000000</td>\n",
       "      <td>24.000000</td>\n",
       "      <td>33300.000000</td>\n",
       "      <td>0.000000</td>\n",
       "      <td>0.000000</td>\n",
       "    </tr>\n",
       "    <tr>\n",
       "      <th>50%</th>\n",
       "      <td>0.000000</td>\n",
       "      <td>30.000000</td>\n",
       "      <td>40200.000000</td>\n",
       "      <td>1.000000</td>\n",
       "      <td>0.000000</td>\n",
       "    </tr>\n",
       "    <tr>\n",
       "      <th>75%</th>\n",
       "      <td>1.000000</td>\n",
       "      <td>37.000000</td>\n",
       "      <td>46600.000000</td>\n",
       "      <td>2.000000</td>\n",
       "      <td>0.000000</td>\n",
       "    </tr>\n",
       "    <tr>\n",
       "      <th>max</th>\n",
       "      <td>1.000000</td>\n",
       "      <td>65.000000</td>\n",
       "      <td>79000.000000</td>\n",
       "      <td>6.000000</td>\n",
       "      <td>5.000000</td>\n",
       "    </tr>\n",
       "  </tbody>\n",
       "</table>\n",
       "</div>"
      ],
      "text/plain": [
       "            gender          age        income  family_members  \\\n",
       "count  5000.000000  5000.000000   5000.000000     5000.000000   \n",
       "mean      0.499000    30.952800  39916.360000        1.194200   \n",
       "std       0.500049     8.440807   9900.083569        1.091387   \n",
       "min       0.000000    18.000000   5300.000000        0.000000   \n",
       "25%       0.000000    24.000000  33300.000000        0.000000   \n",
       "50%       0.000000    30.000000  40200.000000        1.000000   \n",
       "75%       1.000000    37.000000  46600.000000        2.000000   \n",
       "max       1.000000    65.000000  79000.000000        6.000000   \n",
       "\n",
       "       insurance_benefits  \n",
       "count         5000.000000  \n",
       "mean             0.148000  \n",
       "std              0.463183  \n",
       "min              0.000000  \n",
       "25%              0.000000  \n",
       "50%              0.000000  \n",
       "75%              0.000000  \n",
       "max              5.000000  "
      ]
     },
     "execution_count": 8,
     "metadata": {},
     "output_type": "execute_result"
    }
   ],
   "source": [
    "# Mengamati statistika deskriptif dari data kita\n",
    "df.describe()"
   ]
  },
  {
   "cell_type": "code",
   "execution_count": 9,
   "metadata": {},
   "outputs": [
    {
     "data": {
      "text/plain": [
       "153"
      ]
     },
     "execution_count": 9,
     "metadata": {},
     "output_type": "execute_result"
    }
   ],
   "source": [
    "# Check duplicate\n",
    "df.duplicated().sum()"
   ]
  },
  {
   "cell_type": "code",
   "execution_count": 10,
   "metadata": {},
   "outputs": [
    {
     "name": "stdout",
     "output_type": "stream",
     "text": [
      "Size after duplicate deletion: (4847, 5)\n",
      "Duplicates: 0\n"
     ]
    }
   ],
   "source": [
    "# Drop duplicates\n",
    "df.drop_duplicates(ignore_index=True, inplace=True)\n",
    "print('Size after duplicate deletion:', df.shape)\n",
    "print('Duplicates:', df.duplicated().sum())"
   ]
  },
  {
   "cell_type": "markdown",
   "metadata": {},
   "source": [
    "- Pada kolom age type data yang awalnya float diubah menjadi integer\n",
    "- Tidak ditemukan adanya data yang hilang\n",
    "- Mendrop 153 data duplikat"
   ]
  },
  {
   "cell_type": "markdown",
   "metadata": {},
   "source": [
    "<div class=\"alert alert-success\">\n",
    "<b>Code Reviewers's comment v.1</b> <a class=\"tocSkip\"></a>\n",
    "\n",
    "Bagus, code yang dijalankan sudah sesuai dengan instruksi dari project.\n",
    "\n",
    "</div>"
   ]
  },
  {
   "cell_type": "markdown",
   "metadata": {},
   "source": [
    "## EDA"
   ]
  },
  {
   "cell_type": "markdown",
   "metadata": {},
   "source": [
    "Mari kita periksa dengan cepat, apakah ada kelompok pelanggan tertentu dengan melihat plot pasangan?"
   ]
  },
  {
   "cell_type": "code",
   "execution_count": 11,
   "metadata": {},
   "outputs": [
    {
     "data": {
      "image/png": "[encoded data removed]",
      "text/plain": [
       "<Figure size 1200x1200 with 30 Axes>"
      ]
     },
     "metadata": {},
     "output_type": "display_data"
    }
   ],
   "source": [
    "g = sns.pairplot(df, kind='hist')\n",
    "g.fig.set_size_inches(12, 12)"
   ]
  },
  {
   "cell_type": "markdown",
   "metadata": {},
   "source": [
    "Baiklah, sepertinya agak sulit untuk melihat kelompok (klaster) yang jelas mengingat sulitnya menggabungkan beberapa variabel secara bersamaan (untuk menganalisis distribusi multivariat). Namun, itulah gunanya LA dan ML di sini.\n",
    "\n",
    "Kita akan melihat korelasi antar kolom"
   ]
  },
  {
   "cell_type": "code",
   "execution_count": 12,
   "metadata": {
    "scrolled": true
   },
   "outputs": [
    {
     "data": {
      "image/png": "[encoded data removed]",
      "text/plain": [
       "<Figure size 800x500 with 2 Axes>"
      ]
     },
     "metadata": {},
     "output_type": "display_data"
    }
   ],
   "source": [
    "plt.figure(figsize=(8,5))\n",
    "sns.heatmap(df.corr(),annot=True,cmap='viridis')\n",
    "plt.xticks(rotation=10)\n",
    "plt.show()"
   ]
  },
  {
   "cell_type": "markdown",
   "metadata": {},
   "source": [
    "Dari sini bisa kita lihat target insurance_benefit memiliki korelasi yang kuat dengan age sedangkan untuk korelasi antar fitur tidak ada sehingga aman dari kolinearitas"
   ]
  },
  {
   "cell_type": "markdown",
   "metadata": {},
   "source": [
    "<div class=\"alert alert-success\">\n",
    "<b>Code Reviewers's comment v.1</b> <a class=\"tocSkip\"></a>\n",
    "\n",
    "Bagus, code yang dijalankan sudah sesuai dengan instruksi dari project.\n",
    "\n",
    "</div>"
   ]
  },
  {
   "cell_type": "markdown",
   "metadata": {},
   "source": [
    "# Tugas 1. Klien yang Mirip"
   ]
  },
  {
   "cell_type": "markdown",
   "metadata": {},
   "source": [
    "Dalam bahasa pemrograman ML, penting untuk mengembangkan prosedur yang bisa menentukan *k-nearest neighbors* (objek) pada objek tertentu berdasarkan jarak antar objek.\n",
    "\n",
    "Anda mungkin ingin mengulas kembali pelajaran berikut (bab -> pelajaran)\n",
    "- Jarak Antar Vektor -> Jarak Euklides\n",
    "- Jarak Antar Vektor -> Jarak Manhattan\n",
    "\n",
    "Untuk menyelesaikan tugas ini, kita bisa mencoba beberapa metrik jarak."
   ]
  },
  {
   "cell_type": "markdown",
   "metadata": {},
   "source": [
    "Buatlah sebuah fungsi yang menampilkan *k-nearest neighbors* terdekat untuk objek ke-n berdasarkan metrik jarak tertentu.  Besarnya klaim asuransi yang diterima tidak perlu diperhitungkan dalam tugas ini.\n",
    "\n",
    "Anda bisa menggunakan implementasi algoritme kNN yang sudah tersedia di Scikit-learn  (periksa [tautan](https://scikit-learn.org/stable/modules/generated/sklearn.neighbors.NearestNeighbors.html#sklearn.neighbors.NearestNeighbors) ini) atau menggunakan punya Anda sendiri.\n",
    "\n",
    "Uji algoritme tersebut untuk empat kombinasi dari dua kasus\n",
    "- Penskalaan\n",
    "  - data tidak diskalakan\n",
    "  - data diskalakan dengan [MaxAbsScaler](https://scikit-learn.org/stable/modules/generated/sklearn.preprocessing.MaxAbsScaler.html) \n",
    "- Metrik Jarak\n",
    "  - Euklides\n",
    "  - Manhattan\n",
    "\n",
    "Jawablah pertanyaan-pertanyaan berikut:\n",
    "- Apakah data yang tidak berskala memengaruhi algoritme kNN? Jika berpengaruh, lalu bagaimanakah bentuknya?\n",
    "- Seberapa mirip hasil yang Anda dapatkan dari metrik Euklides dengan saat Anda menggunakan metrik jarak Manhattan (abaikan ada atau tidaknya skala)?"
   ]
  },
  {
   "cell_type": "code",
   "execution_count": 13,
   "metadata": {},
   "outputs": [],
   "source": [
    "feature_names = ['gender', 'age', 'income', 'family_members']"
   ]
  },
  {
   "cell_type": "code",
   "execution_count": 14,
   "metadata": {},
   "outputs": [],
   "source": [
    "def get_knn(df, n, k, metric):\n",
    "    \n",
    "    \"\"\"\n",
    "    Menampilkan k nearest neighbors\n",
    "\n",
    "    :param df: DataFrame Pandas digunakan untuk menemukan objek-objek yang mirip di dalamnya\n",
    "    :param n: nomor objek yang dicari k nearest neighbors\n",
    "    :param k: jumlah k nearest neighbors yang ditampilkan\n",
    "    :param metric: nama metrik jarak\n",
    "    \"\"\"\n",
    "\n",
    "    nbrs = NearestNeighbors(n_neighbors=k, metric=metric)\n",
    "    nbrs.fit(df[feature_names].values)\n",
    "    nbrs_distances, nbrs_indices = nbrs.kneighbors([df.iloc[n][feature_names]], k, return_distance=True)\n",
    "    \n",
    "    df_res = pd.concat([\n",
    "        df.iloc[nbrs_indices[0]], \n",
    "        pd.DataFrame(nbrs_distances.T, index=nbrs_indices[0], columns=['distance'])\n",
    "        ], axis=1)\n",
    "    \n",
    "    return df_res"
   ]
  },
  {
   "cell_type": "markdown",
   "metadata": {},
   "source": [
    "Mengatur skala data."
   ]
  },
  {
   "cell_type": "code",
   "execution_count": 15,
   "metadata": {},
   "outputs": [],
   "source": [
    "feature_names = ['gender', 'age', 'income', 'family_members']\n",
    "\n",
    "transformer_mas = sklearn.preprocessing.MaxAbsScaler().fit(df[feature_names].to_numpy())\n",
    "\n",
    "df_scaled = df.copy()\n",
    "df_scaled.loc[:, feature_names] = transformer_mas.transform(df[feature_names].to_numpy())"
   ]
  },
  {
   "cell_type": "code",
   "execution_count": 16,
   "metadata": {},
   "outputs": [
    {
     "data": {
      "text/html": [
       "<div>\n",
       "<style scoped>\n",
       "    .dataframe tbody tr th:only-of-type {\n",
       "        vertical-align: middle;\n",
       "    }\n",
       "\n",
       "    .dataframe tbody tr th {\n",
       "        vertical-align: top;\n",
       "    }\n",
       "\n",
       "    .dataframe thead th {\n",
       "        text-align: right;\n",
       "    }\n",
       "</style>\n",
       "<table border=\"1\" class=\"dataframe\">\n",
       "  <thead>\n",
       "    <tr style=\"text-align: right;\">\n",
       "      <th></th>\n",
       "      <th>gender</th>\n",
       "      <th>age</th>\n",
       "      <th>income</th>\n",
       "      <th>family_members</th>\n",
       "      <th>insurance_benefits</th>\n",
       "    </tr>\n",
       "  </thead>\n",
       "  <tbody>\n",
       "    <tr>\n",
       "      <th>0</th>\n",
       "      <td>1.0</td>\n",
       "      <td>0.630769</td>\n",
       "      <td>0.627848</td>\n",
       "      <td>0.166667</td>\n",
       "      <td>0</td>\n",
       "    </tr>\n",
       "    <tr>\n",
       "      <th>1</th>\n",
       "      <td>0.0</td>\n",
       "      <td>0.707692</td>\n",
       "      <td>0.481013</td>\n",
       "      <td>0.166667</td>\n",
       "      <td>1</td>\n",
       "    </tr>\n",
       "    <tr>\n",
       "      <th>2</th>\n",
       "      <td>0.0</td>\n",
       "      <td>0.446154</td>\n",
       "      <td>0.265823</td>\n",
       "      <td>0.000000</td>\n",
       "      <td>0</td>\n",
       "    </tr>\n",
       "    <tr>\n",
       "      <th>3</th>\n",
       "      <td>0.0</td>\n",
       "      <td>0.323077</td>\n",
       "      <td>0.527848</td>\n",
       "      <td>0.333333</td>\n",
       "      <td>0</td>\n",
       "    </tr>\n",
       "    <tr>\n",
       "      <th>4</th>\n",
       "      <td>1.0</td>\n",
       "      <td>0.430769</td>\n",
       "      <td>0.330380</td>\n",
       "      <td>0.000000</td>\n",
       "      <td>0</td>\n",
       "    </tr>\n",
       "  </tbody>\n",
       "</table>\n",
       "</div>"
      ],
      "text/plain": [
       "   gender       age    income  family_members  insurance_benefits\n",
       "0     1.0  0.630769  0.627848        0.166667                   0\n",
       "1     0.0  0.707692  0.481013        0.166667                   1\n",
       "2     0.0  0.446154  0.265823        0.000000                   0\n",
       "3     0.0  0.323077  0.527848        0.333333                   0\n",
       "4     1.0  0.430769  0.330380        0.000000                   0"
      ]
     },
     "execution_count": 16,
     "metadata": {},
     "output_type": "execute_result"
    }
   ],
   "source": [
    "df_scaled.head()"
   ]
  },
  {
   "cell_type": "markdown",
   "metadata": {},
   "source": [
    "Sekarang, mari kita dapatkan catatan yang mirip untuk setiap kombinasi yang ada"
   ]
  },
  {
   "cell_type": "markdown",
   "metadata": {},
   "source": [
    "Model tanpa skala"
   ]
  },
  {
   "cell_type": "code",
   "execution_count": 17,
   "metadata": {},
   "outputs": [
    {
     "data": {
      "text/html": [
       "<div>\n",
       "<style scoped>\n",
       "    .dataframe tbody tr th:only-of-type {\n",
       "        vertical-align: middle;\n",
       "    }\n",
       "\n",
       "    .dataframe tbody tr th {\n",
       "        vertical-align: top;\n",
       "    }\n",
       "\n",
       "    .dataframe thead th {\n",
       "        text-align: right;\n",
       "    }\n",
       "</style>\n",
       "<table border=\"1\" class=\"dataframe\">\n",
       "  <thead>\n",
       "    <tr style=\"text-align: right;\">\n",
       "      <th></th>\n",
       "      <th>gender</th>\n",
       "      <th>age</th>\n",
       "      <th>income</th>\n",
       "      <th>family_members</th>\n",
       "      <th>insurance_benefits</th>\n",
       "      <th>distance</th>\n",
       "    </tr>\n",
       "  </thead>\n",
       "  <tbody>\n",
       "    <tr>\n",
       "      <th>1</th>\n",
       "      <td>0</td>\n",
       "      <td>46</td>\n",
       "      <td>38000.0</td>\n",
       "      <td>1</td>\n",
       "      <td>1</td>\n",
       "      <td>0.000000</td>\n",
       "    </tr>\n",
       "    <tr>\n",
       "      <th>3810</th>\n",
       "      <td>0</td>\n",
       "      <td>40</td>\n",
       "      <td>38000.0</td>\n",
       "      <td>0</td>\n",
       "      <td>0</td>\n",
       "      <td>6.082763</td>\n",
       "    </tr>\n",
       "    <tr>\n",
       "      <th>4796</th>\n",
       "      <td>1</td>\n",
       "      <td>37</td>\n",
       "      <td>38000.0</td>\n",
       "      <td>1</td>\n",
       "      <td>0</td>\n",
       "      <td>9.055385</td>\n",
       "    </tr>\n",
       "    <tr>\n",
       "      <th>2480</th>\n",
       "      <td>1</td>\n",
       "      <td>36</td>\n",
       "      <td>38000.0</td>\n",
       "      <td>0</td>\n",
       "      <td>0</td>\n",
       "      <td>10.099505</td>\n",
       "    </tr>\n",
       "    <tr>\n",
       "      <th>3498</th>\n",
       "      <td>0</td>\n",
       "      <td>33</td>\n",
       "      <td>38000.0</td>\n",
       "      <td>0</td>\n",
       "      <td>0</td>\n",
       "      <td>13.038405</td>\n",
       "    </tr>\n",
       "  </tbody>\n",
       "</table>\n",
       "</div>"
      ],
      "text/plain": [
       "      gender  age   income  family_members  insurance_benefits   distance\n",
       "1          0   46  38000.0               1                   1   0.000000\n",
       "3810       0   40  38000.0               0                   0   6.082763\n",
       "4796       1   37  38000.0               1                   0   9.055385\n",
       "2480       1   36  38000.0               0                   0  10.099505\n",
       "3498       0   33  38000.0               0                   0  13.038405"
      ]
     },
     "execution_count": 17,
     "metadata": {},
     "output_type": "execute_result"
    }
   ],
   "source": [
    "get_knn(df, n=1, k=5, metric='euclidean')"
   ]
  },
  {
   "cell_type": "code",
   "execution_count": 18,
   "metadata": {},
   "outputs": [
    {
     "data": {
      "text/html": [
       "<div>\n",
       "<style scoped>\n",
       "    .dataframe tbody tr th:only-of-type {\n",
       "        vertical-align: middle;\n",
       "    }\n",
       "\n",
       "    .dataframe tbody tr th {\n",
       "        vertical-align: top;\n",
       "    }\n",
       "\n",
       "    .dataframe thead th {\n",
       "        text-align: right;\n",
       "    }\n",
       "</style>\n",
       "<table border=\"1\" class=\"dataframe\">\n",
       "  <thead>\n",
       "    <tr style=\"text-align: right;\">\n",
       "      <th></th>\n",
       "      <th>gender</th>\n",
       "      <th>age</th>\n",
       "      <th>income</th>\n",
       "      <th>family_members</th>\n",
       "      <th>insurance_benefits</th>\n",
       "      <th>distance</th>\n",
       "    </tr>\n",
       "  </thead>\n",
       "  <tbody>\n",
       "    <tr>\n",
       "      <th>1</th>\n",
       "      <td>0</td>\n",
       "      <td>46</td>\n",
       "      <td>38000.0</td>\n",
       "      <td>1</td>\n",
       "      <td>1</td>\n",
       "      <td>0.0</td>\n",
       "    </tr>\n",
       "    <tr>\n",
       "      <th>3810</th>\n",
       "      <td>0</td>\n",
       "      <td>40</td>\n",
       "      <td>38000.0</td>\n",
       "      <td>0</td>\n",
       "      <td>0</td>\n",
       "      <td>7.0</td>\n",
       "    </tr>\n",
       "    <tr>\n",
       "      <th>4796</th>\n",
       "      <td>1</td>\n",
       "      <td>37</td>\n",
       "      <td>38000.0</td>\n",
       "      <td>1</td>\n",
       "      <td>0</td>\n",
       "      <td>10.0</td>\n",
       "    </tr>\n",
       "    <tr>\n",
       "      <th>2480</th>\n",
       "      <td>1</td>\n",
       "      <td>36</td>\n",
       "      <td>38000.0</td>\n",
       "      <td>0</td>\n",
       "      <td>0</td>\n",
       "      <td>12.0</td>\n",
       "    </tr>\n",
       "    <tr>\n",
       "      <th>3498</th>\n",
       "      <td>0</td>\n",
       "      <td>33</td>\n",
       "      <td>38000.0</td>\n",
       "      <td>0</td>\n",
       "      <td>0</td>\n",
       "      <td>14.0</td>\n",
       "    </tr>\n",
       "  </tbody>\n",
       "</table>\n",
       "</div>"
      ],
      "text/plain": [
       "      gender  age   income  family_members  insurance_benefits  distance\n",
       "1          0   46  38000.0               1                   1       0.0\n",
       "3810       0   40  38000.0               0                   0       7.0\n",
       "4796       1   37  38000.0               1                   0      10.0\n",
       "2480       1   36  38000.0               0                   0      12.0\n",
       "3498       0   33  38000.0               0                   0      14.0"
      ]
     },
     "execution_count": 18,
     "metadata": {},
     "output_type": "execute_result"
    }
   ],
   "source": [
    "get_knn(df, n=1, k=5, metric='manhattan')"
   ]
  },
  {
   "cell_type": "markdown",
   "metadata": {},
   "source": [
    "Model dengan skala"
   ]
  },
  {
   "cell_type": "code",
   "execution_count": 19,
   "metadata": {},
   "outputs": [
    {
     "data": {
      "text/html": [
       "<div>\n",
       "<style scoped>\n",
       "    .dataframe tbody tr th:only-of-type {\n",
       "        vertical-align: middle;\n",
       "    }\n",
       "\n",
       "    .dataframe tbody tr th {\n",
       "        vertical-align: top;\n",
       "    }\n",
       "\n",
       "    .dataframe thead th {\n",
       "        text-align: right;\n",
       "    }\n",
       "</style>\n",
       "<table border=\"1\" class=\"dataframe\">\n",
       "  <thead>\n",
       "    <tr style=\"text-align: right;\">\n",
       "      <th></th>\n",
       "      <th>gender</th>\n",
       "      <th>age</th>\n",
       "      <th>income</th>\n",
       "      <th>family_members</th>\n",
       "      <th>insurance_benefits</th>\n",
       "      <th>distance</th>\n",
       "    </tr>\n",
       "  </thead>\n",
       "  <tbody>\n",
       "    <tr>\n",
       "      <th>1</th>\n",
       "      <td>0.0</td>\n",
       "      <td>0.707692</td>\n",
       "      <td>0.481013</td>\n",
       "      <td>0.166667</td>\n",
       "      <td>1</td>\n",
       "      <td>0.000000</td>\n",
       "    </tr>\n",
       "    <tr>\n",
       "      <th>4041</th>\n",
       "      <td>0.0</td>\n",
       "      <td>0.707692</td>\n",
       "      <td>0.477215</td>\n",
       "      <td>0.166667</td>\n",
       "      <td>1</td>\n",
       "      <td>0.003797</td>\n",
       "    </tr>\n",
       "    <tr>\n",
       "      <th>1835</th>\n",
       "      <td>0.0</td>\n",
       "      <td>0.707692</td>\n",
       "      <td>0.492405</td>\n",
       "      <td>0.166667</td>\n",
       "      <td>1</td>\n",
       "      <td>0.011392</td>\n",
       "    </tr>\n",
       "    <tr>\n",
       "      <th>4833</th>\n",
       "      <td>0.0</td>\n",
       "      <td>0.723077</td>\n",
       "      <td>0.491139</td>\n",
       "      <td>0.166667</td>\n",
       "      <td>1</td>\n",
       "      <td>0.018418</td>\n",
       "    </tr>\n",
       "    <tr>\n",
       "      <th>4341</th>\n",
       "      <td>0.0</td>\n",
       "      <td>0.692308</td>\n",
       "      <td>0.459494</td>\n",
       "      <td>0.166667</td>\n",
       "      <td>1</td>\n",
       "      <td>0.026453</td>\n",
       "    </tr>\n",
       "  </tbody>\n",
       "</table>\n",
       "</div>"
      ],
      "text/plain": [
       "      gender       age    income  family_members  insurance_benefits  distance\n",
       "1        0.0  0.707692  0.481013        0.166667                   1  0.000000\n",
       "4041     0.0  0.707692  0.477215        0.166667                   1  0.003797\n",
       "1835     0.0  0.707692  0.492405        0.166667                   1  0.011392\n",
       "4833     0.0  0.723077  0.491139        0.166667                   1  0.018418\n",
       "4341     0.0  0.692308  0.459494        0.166667                   1  0.026453"
      ]
     },
     "execution_count": 19,
     "metadata": {},
     "output_type": "execute_result"
    }
   ],
   "source": [
    "get_knn(df_scaled, n=1, k=5, metric='euclidean')"
   ]
  },
  {
   "cell_type": "code",
   "execution_count": 20,
   "metadata": {},
   "outputs": [
    {
     "data": {
      "text/html": [
       "<div>\n",
       "<style scoped>\n",
       "    .dataframe tbody tr th:only-of-type {\n",
       "        vertical-align: middle;\n",
       "    }\n",
       "\n",
       "    .dataframe tbody tr th {\n",
       "        vertical-align: top;\n",
       "    }\n",
       "\n",
       "    .dataframe thead th {\n",
       "        text-align: right;\n",
       "    }\n",
       "</style>\n",
       "<table border=\"1\" class=\"dataframe\">\n",
       "  <thead>\n",
       "    <tr style=\"text-align: right;\">\n",
       "      <th></th>\n",
       "      <th>gender</th>\n",
       "      <th>age</th>\n",
       "      <th>income</th>\n",
       "      <th>family_members</th>\n",
       "      <th>insurance_benefits</th>\n",
       "      <th>distance</th>\n",
       "    </tr>\n",
       "  </thead>\n",
       "  <tbody>\n",
       "    <tr>\n",
       "      <th>1</th>\n",
       "      <td>0.0</td>\n",
       "      <td>0.707692</td>\n",
       "      <td>0.481013</td>\n",
       "      <td>0.166667</td>\n",
       "      <td>1</td>\n",
       "      <td>0.000000</td>\n",
       "    </tr>\n",
       "    <tr>\n",
       "      <th>4041</th>\n",
       "      <td>0.0</td>\n",
       "      <td>0.707692</td>\n",
       "      <td>0.477215</td>\n",
       "      <td>0.166667</td>\n",
       "      <td>1</td>\n",
       "      <td>0.003797</td>\n",
       "    </tr>\n",
       "    <tr>\n",
       "      <th>1835</th>\n",
       "      <td>0.0</td>\n",
       "      <td>0.707692</td>\n",
       "      <td>0.492405</td>\n",
       "      <td>0.166667</td>\n",
       "      <td>1</td>\n",
       "      <td>0.011392</td>\n",
       "    </tr>\n",
       "    <tr>\n",
       "      <th>4833</th>\n",
       "      <td>0.0</td>\n",
       "      <td>0.723077</td>\n",
       "      <td>0.491139</td>\n",
       "      <td>0.166667</td>\n",
       "      <td>1</td>\n",
       "      <td>0.025511</td>\n",
       "    </tr>\n",
       "    <tr>\n",
       "      <th>2394</th>\n",
       "      <td>0.0</td>\n",
       "      <td>0.676923</td>\n",
       "      <td>0.482278</td>\n",
       "      <td>0.166667</td>\n",
       "      <td>1</td>\n",
       "      <td>0.032035</td>\n",
       "    </tr>\n",
       "  </tbody>\n",
       "</table>\n",
       "</div>"
      ],
      "text/plain": [
       "      gender       age    income  family_members  insurance_benefits  distance\n",
       "1        0.0  0.707692  0.481013        0.166667                   1  0.000000\n",
       "4041     0.0  0.707692  0.477215        0.166667                   1  0.003797\n",
       "1835     0.0  0.707692  0.492405        0.166667                   1  0.011392\n",
       "4833     0.0  0.723077  0.491139        0.166667                   1  0.025511\n",
       "2394     0.0  0.676923  0.482278        0.166667                   1  0.032035"
      ]
     },
     "execution_count": 20,
     "metadata": {},
     "output_type": "execute_result"
    }
   ],
   "source": [
    "get_knn(df_scaled, n=1, k=5, metric='manhattan')"
   ]
  },
  {
   "cell_type": "markdown",
   "metadata": {},
   "source": [
    "Jawab pertanyaannya"
   ]
  },
  {
   "cell_type": "markdown",
   "metadata": {},
   "source": [
    "**Apakah data yang tidak berskala memengaruhi algoritme kNN? Jika berpengaruh, lalu bagaimanakah bentuknya?** \n",
    "\n",
    "Tentu data yang tidak berskala memengaruhi algoritme kNN, data yang tidak berskala memiliki distance yang nilainya jauh lebih besar dibandingkan data yang berskala."
   ]
  },
  {
   "cell_type": "markdown",
   "metadata": {},
   "source": [
    "**Seberapa mirip hasil yang Anda dapatkan dari metrik Euklides dengan saat Anda menggunakan metrik jarak Manhattan (abaikan ada atau tidaknya skala)?** \n",
    "\n",
    "Metrik Euclidian dan metrik Manhattan mempunyai hasil yang serupa, meskipun tidak persis sama. Namun metrik Euclidian cenderung memiliki jarak yang lebih kecil dibandingkan metrik Manhattan."
   ]
  },
  {
   "cell_type": "markdown",
   "metadata": {},
   "source": [
    "<div class=\"alert alert-success\">\n",
    "<b>Code Reviewers's comment v.1</b> <a class=\"tocSkip\"></a>\n",
    "\n",
    "Bagus, code yang dijalankan sudah sesuai dengan instruksi dari project.\n",
    "\n",
    "</div>"
   ]
  },
  {
   "cell_type": "markdown",
   "metadata": {},
   "source": [
    "# Tugas 2. Apakah klien kemungkinan menerima klaim asuransi?"
   ]
  },
  {
   "cell_type": "markdown",
   "metadata": {},
   "source": [
    "Dalam konteks *machine learning*, tugas ini sama seperti tugas klasifikasi biner."
   ]
  },
  {
   "cell_type": "markdown",
   "metadata": {},
   "source": [
    "Dengan target insurance_benefits yang lebih dari nol, coba evaluasi apakah model klasifikasi kNN merupakan pendekatan yang lebih baik daripada model *dummy*.\n",
    "\n",
    "Instruksi:\n",
    "- Buat pengklasifikasi berbasis KNN dan ukur kualitasnya dengan metrik F1 untuk k=1..10 bagi data asli dan data yang diskalakan. Akan menarik untuk melihat bagaimana k dapat memengaruhi metrik evaluasi, dan apakah penskalaan data membuat hasilnya berbeda. Gunakan implementasi algoritme klasifikasi kNN yang tersedia di Scikit-learn (periksa [tautan ini](https://scikit-learn.org/stable/modules/generated/sklearn.neighbors.KNeighborsClassifier.html)) atau gunakan milik Anda sendiri.\n",
    "- Buat model *dummy* yang acak untuk kasus ini. Model tersebut harusnya menampilkan \"1\" dengan beberapa probabilitas. Mari kita uji model dengan empat nilai probabilitas: 0, probabilitas membayar benefit asuransi apa pun; 0,5; 1.\n",
    "\n",
    "Probabilitas membayar klaim asuransi dapat didefinisikan sebagai\n",
    "\n",
    "$$\n",
    "P\\{\\text{klaim asuransi yang diterima}\\}=\\frac{\\text{jumlah klien yang menerima klaim asuransi}}{\\text{jumlah klien secara keseluruhan}}.\n",
    "$$\n",
    "\n",
    "Pisahkan keseluruhan data menjadi 70:30 untuk proporsi *training* dan *test set*."
   ]
  },
  {
   "cell_type": "code",
   "execution_count": 21,
   "metadata": {},
   "outputs": [
    {
     "data": {
      "text/html": [
       "<div>\n",
       "<style scoped>\n",
       "    .dataframe tbody tr th:only-of-type {\n",
       "        vertical-align: middle;\n",
       "    }\n",
       "\n",
       "    .dataframe tbody tr th {\n",
       "        vertical-align: top;\n",
       "    }\n",
       "\n",
       "    .dataframe thead th {\n",
       "        text-align: right;\n",
       "    }\n",
       "</style>\n",
       "<table border=\"1\" class=\"dataframe\">\n",
       "  <thead>\n",
       "    <tr style=\"text-align: right;\">\n",
       "      <th></th>\n",
       "      <th>gender</th>\n",
       "      <th>age</th>\n",
       "      <th>income</th>\n",
       "      <th>family_members</th>\n",
       "      <th>insurance_benefits</th>\n",
       "      <th>insurance_benefits_received</th>\n",
       "    </tr>\n",
       "  </thead>\n",
       "  <tbody>\n",
       "    <tr>\n",
       "      <th>3251</th>\n",
       "      <td>1</td>\n",
       "      <td>36</td>\n",
       "      <td>47600.0</td>\n",
       "      <td>0</td>\n",
       "      <td>0</td>\n",
       "      <td>0</td>\n",
       "    </tr>\n",
       "    <tr>\n",
       "      <th>3161</th>\n",
       "      <td>0</td>\n",
       "      <td>30</td>\n",
       "      <td>45500.0</td>\n",
       "      <td>2</td>\n",
       "      <td>0</td>\n",
       "      <td>0</td>\n",
       "    </tr>\n",
       "    <tr>\n",
       "      <th>928</th>\n",
       "      <td>1</td>\n",
       "      <td>28</td>\n",
       "      <td>45300.0</td>\n",
       "      <td>0</td>\n",
       "      <td>0</td>\n",
       "      <td>0</td>\n",
       "    </tr>\n",
       "    <tr>\n",
       "      <th>4382</th>\n",
       "      <td>0</td>\n",
       "      <td>28</td>\n",
       "      <td>48400.0</td>\n",
       "      <td>1</td>\n",
       "      <td>0</td>\n",
       "      <td>0</td>\n",
       "    </tr>\n",
       "    <tr>\n",
       "      <th>4525</th>\n",
       "      <td>0</td>\n",
       "      <td>27</td>\n",
       "      <td>42500.0</td>\n",
       "      <td>2</td>\n",
       "      <td>0</td>\n",
       "      <td>0</td>\n",
       "    </tr>\n",
       "  </tbody>\n",
       "</table>\n",
       "</div>"
      ],
      "text/plain": [
       "      gender  age   income  family_members  insurance_benefits  \\\n",
       "3251       1   36  47600.0               0                   0   \n",
       "3161       0   30  45500.0               2                   0   \n",
       "928        1   28  45300.0               0                   0   \n",
       "4382       0   28  48400.0               1                   0   \n",
       "4525       0   27  42500.0               2                   0   \n",
       "\n",
       "      insurance_benefits_received  \n",
       "3251                            0  \n",
       "3161                            0  \n",
       "928                             0  \n",
       "4382                            0  \n",
       "4525                            0  "
      ]
     },
     "execution_count": 21,
     "metadata": {},
     "output_type": "execute_result"
    }
   ],
   "source": [
    "# Hitung tagetnya\n",
    "df['insurance_benefits_received'] = df['insurance_benefits'].apply(lambda x: 1 if x > 0 else 0)\n",
    "df.sample(5)"
   ]
  },
  {
   "cell_type": "code",
   "execution_count": 22,
   "metadata": {},
   "outputs": [
    {
     "data": {
      "text/plain": [
       "0    4284\n",
       "1     563\n",
       "Name: insurance_benefits_received, dtype: int64"
      ]
     },
     "execution_count": 22,
     "metadata": {},
     "output_type": "execute_result"
    }
   ],
   "source": [
    "# memeriksa ketidakseimbangan kelas penerima asuransi dan bukan penerima asuransi dengan value_counts()\n",
    "df.insurance_benefits_received.value_counts()"
   ]
  },
  {
   "cell_type": "code",
   "execution_count": 23,
   "metadata": {},
   "outputs": [],
   "source": [
    "# fungsi untuk menghitung F1 skor dan confusion matrix\n",
    "def eval_classifier(y_true, y_pred):\n",
    "    \n",
    "    f1_score = sklearn.metrics.f1_score(y_true, y_pred)\n",
    "    print(f'F1: {f1_score:.2f}')\n",
    "    \n",
    "# jika Anda memiliki masalah dengan baris berikut, muat ulang kernel dan jalankan notebook kembali\n",
    "    cm = sklearn.metrics.confusion_matrix(y_true, y_pred, normalize='all')\n",
    "    print('Matriks Kesalahan')\n",
    "    print(cm)"
   ]
  },
  {
   "cell_type": "code",
   "execution_count": 24,
   "metadata": {},
   "outputs": [],
   "source": [
    "# menghasilkan output dari model acak\n",
    "def rnd_model_predict(P, size, seed=42):\n",
    "\n",
    "    rng = np.random.default_rng(seed=seed)\n",
    "    return rng.binomial(n=1, p=P, size=size)"
   ]
  },
  {
   "cell_type": "code",
   "execution_count": 25,
   "metadata": {},
   "outputs": [
    {
     "name": "stdout",
     "output_type": "stream",
     "text": [
      "Probabilitasnya: 0.00\n",
      "F1: 0.00\n",
      "Matriks Kesalahan\n",
      "[[0.88384568 0.        ]\n",
      " [0.11615432 0.        ]]\n",
      "\n",
      "Probabilitasnya: 0.12\n",
      "F1: 0.13\n",
      "Matriks Kesalahan\n",
      "[[0.78502166 0.09882401]\n",
      " [0.1017124  0.01444192]]\n",
      "\n",
      "Probabilitasnya: 0.50\n",
      "F1: 0.19\n",
      "Matriks Kesalahan\n",
      "[[0.44873117 0.4351145 ]\n",
      " [0.05921188 0.05694244]]\n",
      "\n",
      "Probabilitasnya: 1.00\n",
      "F1: 0.21\n",
      "Matriks Kesalahan\n",
      "[[0.         0.88384568]\n",
      " [0.         0.11615432]]\n",
      "\n"
     ]
    }
   ],
   "source": [
    "# membuat model acak\n",
    "for P in [0, df['insurance_benefits_received'].sum() / len(df), 0.5, 1]:\n",
    "\n",
    "    print(f'Probabilitasnya: {P:.2f}')\n",
    "    y_pred_rnd = rnd_model_predict(P, size=len(df))\n",
    "        \n",
    "    eval_classifier(df['insurance_benefits_received'], y_pred_rnd)\n",
    "    \n",
    "    print()"
   ]
  },
  {
   "cell_type": "markdown",
   "metadata": {},
   "source": [
    "Create Models with Actual Data and Scaled Data"
   ]
  },
  {
   "cell_type": "code",
   "execution_count": 26,
   "metadata": {},
   "outputs": [],
   "source": [
    "# split features and target\n",
    "features = ['age', 'gender', 'income', 'family_members']\n",
    "target = ['insurance_benefits_received']"
   ]
  },
  {
   "cell_type": "code",
   "execution_count": 27,
   "metadata": {},
   "outputs": [
    {
     "name": "stdout",
     "output_type": "stream",
     "text": [
      "n_neighbors = 1\n",
      "F1: 0.66\n",
      "Matriks Kesalahan\n",
      "[[0.86735395 0.02405498]\n",
      " [0.04261168 0.06597938]]\n",
      "\n"
     ]
    },
    {
     "name": "stderr",
     "output_type": "stream",
     "text": [
      "/opt/conda/envs/python3/lib/python3.9/site-packages/sklearn/neighbors/_classification.py:179: DataConversionWarning: A column-vector y was passed when a 1d array was expected. Please change the shape of y to (n_samples,), for example using ravel().\n",
      "  return self._fit(X, y)\n",
      "/opt/conda/envs/python3/lib/python3.9/site-packages/sklearn/neighbors/_classification.py:179: DataConversionWarning: A column-vector y was passed when a 1d array was expected. Please change the shape of y to (n_samples,), for example using ravel().\n",
      "  return self._fit(X, y)\n",
      "/opt/conda/envs/python3/lib/python3.9/site-packages/sklearn/neighbors/_classification.py:179: DataConversionWarning: A column-vector y was passed when a 1d array was expected. Please change the shape of y to (n_samples,), for example using ravel().\n",
      "  return self._fit(X, y)\n"
     ]
    },
    {
     "name": "stdout",
     "output_type": "stream",
     "text": [
      "n_neighbors = 2\n",
      "F1: 0.47\n",
      "Matriks Kesalahan\n",
      "[[0.88522337 0.00618557]\n",
      " [0.07353952 0.03505155]]\n",
      "\n",
      "n_neighbors = 3\n",
      "F1: 0.45\n",
      "Matriks Kesalahan\n",
      "[[0.87285223 0.0185567 ]\n",
      " [0.07147766 0.0371134 ]]\n",
      "\n"
     ]
    },
    {
     "name": "stderr",
     "output_type": "stream",
     "text": [
      "/opt/conda/envs/python3/lib/python3.9/site-packages/sklearn/neighbors/_classification.py:179: DataConversionWarning: A column-vector y was passed when a 1d array was expected. Please change the shape of y to (n_samples,), for example using ravel().\n",
      "  return self._fit(X, y)\n",
      "/opt/conda/envs/python3/lib/python3.9/site-packages/sklearn/neighbors/_classification.py:179: DataConversionWarning: A column-vector y was passed when a 1d array was expected. Please change the shape of y to (n_samples,), for example using ravel().\n",
      "  return self._fit(X, y)\n",
      "/opt/conda/envs/python3/lib/python3.9/site-packages/sklearn/neighbors/_classification.py:179: DataConversionWarning: A column-vector y was passed when a 1d array was expected. Please change the shape of y to (n_samples,), for example using ravel().\n",
      "  return self._fit(X, y)\n"
     ]
    },
    {
     "name": "stdout",
     "output_type": "stream",
     "text": [
      "n_neighbors = 4\n",
      "F1: 0.16\n",
      "Matriks Kesalahan\n",
      "[[0.88934708 0.00206186]\n",
      " [0.09896907 0.00962199]]\n",
      "\n",
      "n_neighbors = 5\n",
      "F1: 0.17\n",
      "Matriks Kesalahan\n",
      "[[0.88659794 0.004811  ]\n",
      " [0.09828179 0.01030928]]\n",
      "\n",
      "n_neighbors = 6\n",
      "F1: 0.08\n",
      "Matriks Kesalahan\n",
      "[[8.90721649e-01 6.87285223e-04]\n",
      " [1.03780069e-01 4.81099656e-03]]\n",
      "\n"
     ]
    },
    {
     "name": "stderr",
     "output_type": "stream",
     "text": [
      "/opt/conda/envs/python3/lib/python3.9/site-packages/sklearn/neighbors/_classification.py:179: DataConversionWarning: A column-vector y was passed when a 1d array was expected. Please change the shape of y to (n_samples,), for example using ravel().\n",
      "  return self._fit(X, y)\n",
      "/opt/conda/envs/python3/lib/python3.9/site-packages/sklearn/neighbors/_classification.py:179: DataConversionWarning: A column-vector y was passed when a 1d array was expected. Please change the shape of y to (n_samples,), for example using ravel().\n",
      "  return self._fit(X, y)\n",
      "/opt/conda/envs/python3/lib/python3.9/site-packages/sklearn/neighbors/_classification.py:179: DataConversionWarning: A column-vector y was passed when a 1d array was expected. Please change the shape of y to (n_samples,), for example using ravel().\n",
      "  return self._fit(X, y)\n"
     ]
    },
    {
     "name": "stdout",
     "output_type": "stream",
     "text": [
      "n_neighbors = 7\n",
      "F1: 0.11\n",
      "Matriks Kesalahan\n",
      "[[8.90721649e-01 6.87285223e-04]\n",
      " [1.02405498e-01 6.18556701e-03]]\n",
      "\n",
      "n_neighbors = 8\n",
      "F1: 0.02\n",
      "Matriks Kesalahan\n",
      "[[0.89140893 0.        ]\n",
      " [0.10721649 0.00137457]]\n",
      "\n",
      "n_neighbors = 9\n",
      "F1: 0.04\n",
      "Matriks Kesalahan\n",
      "[[0.89140893 0.        ]\n",
      " [0.10652921 0.00206186]]\n",
      "\n",
      "n_neighbors = 10\n",
      "F1: 0.02\n",
      "Matriks Kesalahan\n",
      "[[0.89140893 0.        ]\n",
      " [0.10721649 0.00137457]]\n",
      "\n"
     ]
    },
    {
     "name": "stderr",
     "output_type": "stream",
     "text": [
      "/opt/conda/envs/python3/lib/python3.9/site-packages/sklearn/neighbors/_classification.py:179: DataConversionWarning: A column-vector y was passed when a 1d array was expected. Please change the shape of y to (n_samples,), for example using ravel().\n",
      "  return self._fit(X, y)\n"
     ]
    }
   ],
   "source": [
    "# model results with actual data\n",
    "X = df[features].to_numpy()\n",
    "y = df[target].to_numpy()\n",
    "\n",
    "X_train, X_test, y_train, y_test = train_test_split(X, y, test_size=0.3, random_state=42)\n",
    "\n",
    "for n in range(1, 11):\n",
    "    knn = KNeighborsClassifier(n_neighbors=n)\n",
    "    knn.fit(X_train, y_train)\n",
    "\n",
    "    y_test_pred = knn.predict(X_test)\n",
    "    \n",
    "    print(f'n_neighbors = {n}')\n",
    "    eval_classifier(y_test, y_test_pred) \n",
    "        \n",
    "    print()"
   ]
  },
  {
   "cell_type": "code",
   "execution_count": 28,
   "metadata": {
    "scrolled": true
   },
   "outputs": [
    {
     "name": "stderr",
     "output_type": "stream",
     "text": [
      "/opt/conda/envs/python3/lib/python3.9/site-packages/sklearn/neighbors/_classification.py:179: DataConversionWarning: A column-vector y was passed when a 1d array was expected. Please change the shape of y to (n_samples,), for example using ravel().\n",
      "  return self._fit(X, y)\n"
     ]
    },
    {
     "name": "stdout",
     "output_type": "stream",
     "text": [
      "n_neighbors = 1\n",
      "F1: 0.95\n",
      "Matriks Kesalahan\n",
      "[[0.88522337 0.00618557]\n",
      " [0.00549828 0.10309278]]\n",
      "\n"
     ]
    },
    {
     "name": "stderr",
     "output_type": "stream",
     "text": [
      "/opt/conda/envs/python3/lib/python3.9/site-packages/sklearn/neighbors/_classification.py:179: DataConversionWarning: A column-vector y was passed when a 1d array was expected. Please change the shape of y to (n_samples,), for example using ravel().\n",
      "  return self._fit(X, y)\n"
     ]
    },
    {
     "name": "stdout",
     "output_type": "stream",
     "text": [
      "n_neighbors = 2\n",
      "F1: 0.95\n",
      "Matriks Kesalahan\n",
      "[[0.89003436 0.00137457]\n",
      " [0.00962199 0.09896907]]\n",
      "\n"
     ]
    },
    {
     "name": "stderr",
     "output_type": "stream",
     "text": [
      "/opt/conda/envs/python3/lib/python3.9/site-packages/sklearn/neighbors/_classification.py:179: DataConversionWarning: A column-vector y was passed when a 1d array was expected. Please change the shape of y to (n_samples,), for example using ravel().\n",
      "  return self._fit(X, y)\n"
     ]
    },
    {
     "name": "stdout",
     "output_type": "stream",
     "text": [
      "n_neighbors = 3\n",
      "F1: 0.95\n",
      "Matriks Kesalahan\n",
      "[[0.88728522 0.00412371]\n",
      " [0.00687285 0.10171821]]\n",
      "\n",
      "n_neighbors = 4\n",
      "F1: 0.94\n",
      "Matriks Kesalahan\n",
      "[[0.89003436 0.00137457]\n",
      " [0.01099656 0.0975945 ]]\n",
      "\n"
     ]
    },
    {
     "name": "stderr",
     "output_type": "stream",
     "text": [
      "/opt/conda/envs/python3/lib/python3.9/site-packages/sklearn/neighbors/_classification.py:179: DataConversionWarning: A column-vector y was passed when a 1d array was expected. Please change the shape of y to (n_samples,), for example using ravel().\n",
      "  return self._fit(X, y)\n",
      "/opt/conda/envs/python3/lib/python3.9/site-packages/sklearn/neighbors/_classification.py:179: DataConversionWarning: A column-vector y was passed when a 1d array was expected. Please change the shape of y to (n_samples,), for example using ravel().\n",
      "  return self._fit(X, y)\n",
      "/opt/conda/envs/python3/lib/python3.9/site-packages/sklearn/neighbors/_classification.py:179: DataConversionWarning: A column-vector y was passed when a 1d array was expected. Please change the shape of y to (n_samples,), for example using ravel().\n",
      "  return self._fit(X, y)\n"
     ]
    },
    {
     "name": "stdout",
     "output_type": "stream",
     "text": [
      "n_neighbors = 5\n",
      "F1: 0.94\n",
      "Matriks Kesalahan\n",
      "[[0.88797251 0.00343643]\n",
      " [0.00824742 0.10034364]]\n",
      "\n",
      "n_neighbors = 6\n",
      "F1: 0.93\n",
      "Matriks Kesalahan\n",
      "[[0.88934708 0.00206186]\n",
      " [0.01168385 0.09690722]]\n",
      "\n",
      "n_neighbors = 7\n",
      "F1: 0.96\n",
      "Matriks Kesalahan\n",
      "[[0.88865979 0.00274914]\n",
      " [0.00549828 0.10309278]]\n",
      "\n"
     ]
    },
    {
     "name": "stderr",
     "output_type": "stream",
     "text": [
      "/opt/conda/envs/python3/lib/python3.9/site-packages/sklearn/neighbors/_classification.py:179: DataConversionWarning: A column-vector y was passed when a 1d array was expected. Please change the shape of y to (n_samples,), for example using ravel().\n",
      "  return self._fit(X, y)\n",
      "/opt/conda/envs/python3/lib/python3.9/site-packages/sklearn/neighbors/_classification.py:179: DataConversionWarning: A column-vector y was passed when a 1d array was expected. Please change the shape of y to (n_samples,), for example using ravel().\n",
      "  return self._fit(X, y)\n",
      "/opt/conda/envs/python3/lib/python3.9/site-packages/sklearn/neighbors/_classification.py:179: DataConversionWarning: A column-vector y was passed when a 1d array was expected. Please change the shape of y to (n_samples,), for example using ravel().\n",
      "  return self._fit(X, y)\n"
     ]
    },
    {
     "name": "stdout",
     "output_type": "stream",
     "text": [
      "n_neighbors = 8\n",
      "F1: 0.94\n",
      "Matriks Kesalahan\n",
      "[[0.89003436 0.00137457]\n",
      " [0.01099656 0.0975945 ]]\n",
      "\n",
      "n_neighbors = 9\n",
      "F1: 0.94\n",
      "Matriks Kesalahan\n",
      "[[0.88865979 0.00274914]\n",
      " [0.00893471 0.09965636]]\n",
      "\n",
      "n_neighbors = 10\n",
      "F1: 0.95\n",
      "Matriks Kesalahan\n",
      "[[8.90721649e-01 6.87285223e-04]\n",
      " [1.03092784e-02 9.82817869e-02]]\n",
      "\n"
     ]
    },
    {
     "name": "stderr",
     "output_type": "stream",
     "text": [
      "/opt/conda/envs/python3/lib/python3.9/site-packages/sklearn/neighbors/_classification.py:179: DataConversionWarning: A column-vector y was passed when a 1d array was expected. Please change the shape of y to (n_samples,), for example using ravel().\n",
      "  return self._fit(X, y)\n"
     ]
    }
   ],
   "source": [
    "# model results with scaled data\n",
    "X = df_scaled[features].to_numpy()\n",
    "y = df[target].to_numpy()\n",
    "\n",
    "X_train, X_test, y_train, y_test = train_test_split(X, y, test_size=0.3, random_state=42)\n",
    "\n",
    "for n in range(1, 11):\n",
    "    knn = KNeighborsClassifier(n_neighbors=n)\n",
    "    knn.fit(X_train, y_train)\n",
    "\n",
    "    y_test_pred = knn.predict(X_test)\n",
    "    \n",
    "    print(f'n_neighbors = {n}')\n",
    "    eval_classifier(y_test, y_test_pred) \n",
    "        \n",
    "    print()"
   ]
  },
  {
   "cell_type": "markdown",
   "metadata": {},
   "source": [
    "- Dataset scaling memberikan hasil F1 Score yang lebih baik dibandingkan dengan dataset actual\n",
    "- Dataset scaling memiliki performa yang lebih baik untuk memprediksi target kostumer yang tidak menerima insurance benefits\n",
    "- Semakin banyak jumlah k-neighbors nilai F1 Score pada dataset actual cenderung semakin rendah, sedangkan pada dataset scaling hanya mengalami sedikit perbedaan terhadap jumlah k-neighbors."
   ]
  },
  {
   "cell_type": "markdown",
   "metadata": {},
   "source": [
    "<div class=\"alert alert-success\">\n",
    "<b>Code Reviewers's comment v.1</b> <a class=\"tocSkip\"></a>\n",
    "\n",
    "Bagus, code yang dijalankan sudah sesuai dengan instruksi dari project.\n",
    "\n",
    "</div>"
   ]
  },
  {
   "cell_type": "markdown",
   "metadata": {},
   "source": [
    "# Tugas 3. Regresi (dengan Regresi Linear)"
   ]
  },
  {
   "cell_type": "markdown",
   "metadata": {},
   "source": [
    "Dengan `insurance_benefit` sebagai target, evaluasi berapa RMSE untuk model Regresi Linear."
   ]
  },
  {
   "cell_type": "markdown",
   "metadata": {},
   "source": [
    "Buat implementasi LR Anda sendiri. Untuk itu, coba ingat-ingat kembali bagaimana solusi tugas regresi linear dirumuskan dalam bentuk LA. Periksa RMSE untuk data asli maupun data yang telah diskalakan. Bisakah Anda melihat perbedaan RMSE di antara kedua kasus ini?\n",
    "\n",
    "Tunjukkan\n",
    "- $X$ — matriks fitur, satu baris merepresentasikan satu kasus, tiap kolom adalah fitur, kolom pertama terdiri dari satuan\n",
    "- $y$ — target (vektor)\n",
    "- $\\hat{y}$ — estimasi target (vektor)\n",
    "- $w$ — bobot vektor\n",
    "\n",
    "Matriks untuk regresi linear dapat dirumuskan sebagai\n",
    "\n",
    "$$\n",
    "y = Xw\n",
    "$$\n",
    "\n",
    "Tujuan pelatihan untuk menemukan $w$ yang akan meminimalkan jarak L2 (MSE) antara $Xw$ dan $y$:\n",
    "\n",
    "$$\n",
    "\\min_w d_2(Xw, y) \\quad \\text{atau} \\quad \\min_w \\text{MSE}(Xw, y)\n",
    "$$\n",
    "\n",
    "Sepertinya ada solusi analitis untuk masalah di atas:\n",
    "\n",
    "$$\n",
    "w = (X^T X)^{-1} X^T y\n",
    "$$\n",
    "\n",
    "Rumus di atas bisa digunakan untuk menemukan bobot $w$ dan yang terakhir dapat digunakan untuk menghitung nilai prediksi\n",
    "\n",
    "$$\n",
    "\\hat{y} = X_{val}w\n",
    "$$"
   ]
  },
  {
   "cell_type": "markdown",
   "metadata": {},
   "source": [
    "Pisahkan keseluruhan data menjadi *training set* dan *validation set* dengan proporsi 70:30. Gunakan metrik RMSE untuk evaluasi model."
   ]
  },
  {
   "cell_type": "code",
   "execution_count": 29,
   "metadata": {},
   "outputs": [],
   "source": [
    "class MyLinearRegression:\n",
    "    \n",
    "    def __init__(self):\n",
    "        \n",
    "        self.weights = None\n",
    "    \n",
    "    def fit(self, X, y):\n",
    "        \n",
    "        # menambahkan satuan\n",
    "        X2 = np.append(np.ones([len(X), 1]), X, axis=1)\n",
    "        self.weights = np.linalg.inv(X2.T.dot(X2)).dot(X2.T).dot(y)# < ketik kode program Anda di sini >\n",
    "\n",
    "    def predict(self, X):\n",
    "        \n",
    "        # menambahkan satuan\n",
    "        X2 = np.append(np.ones([len(X), 1]), X, axis=1)# < ketik kode program Anda di sini >\n",
    "        y_pred = X2.dot(self.weights)# < ketik kode program Anda di sini >\n",
    "        \n",
    "        return y_pred"
   ]
  },
  {
   "cell_type": "code",
   "execution_count": 30,
   "metadata": {},
   "outputs": [],
   "source": [
    "def eval_regressor(y_true, y_pred):\n",
    "    \n",
    "    rmse = math.sqrt(sklearn.metrics.mean_squared_error(y_true, y_pred))\n",
    "    print(f'RMSE: {rmse:.2f}')\n",
    "    \n",
    "    r2_score = math.sqrt(sklearn.metrics.r2_score(y_true, y_pred))\n",
    "    print(f'R2: {r2_score:.2f}')    "
   ]
  },
  {
   "cell_type": "markdown",
   "metadata": {},
   "source": [
    "rmse and r2 score results with actual data"
   ]
  },
  {
   "cell_type": "code",
   "execution_count": 31,
   "metadata": {},
   "outputs": [
    {
     "name": "stdout",
     "output_type": "stream",
     "text": [
      "[-9.77366729e-01  3.58042291e-02  1.95594888e-02  5.85336165e-07\n",
      " -1.21618420e-02]\n",
      "RMSE: 0.36\n",
      "R2: 0.66\n"
     ]
    }
   ],
   "source": [
    "X = df[['age', 'gender', 'income', 'family_members']].to_numpy()\n",
    "y = df['insurance_benefits'].to_numpy()\n",
    "\n",
    "X_train, X_test, y_train, y_test = train_test_split(X, y, test_size=0.3, random_state=12345)\n",
    "\n",
    "lr = MyLinearRegression()\n",
    "\n",
    "lr.fit(X_train, y_train)\n",
    "print(lr.weights)\n",
    "\n",
    "y_test_pred = lr.predict(X_test)\n",
    "eval_regressor(y_test, y_test_pred)"
   ]
  },
  {
   "cell_type": "markdown",
   "metadata": {},
   "source": [
    "rmse and r2 score results with scaling data"
   ]
  },
  {
   "cell_type": "code",
   "execution_count": 32,
   "metadata": {},
   "outputs": [
    {
     "name": "stdout",
     "output_type": "stream",
     "text": [
      "[[-0.6698156 ]\n",
      " [ 1.62473815]\n",
      " [ 0.00440576]\n",
      " [ 0.03780298]\n",
      " [-0.05229838]]\n",
      "RMSE: 0.24\n",
      "R2: 0.67\n"
     ]
    }
   ],
   "source": [
    "X = df_scaled[features].to_numpy()\n",
    "y = df[target].to_numpy()\n",
    "\n",
    "X_train, X_test, y_train, y_test = train_test_split(X, y, test_size=0.3, random_state=12345)\n",
    "\n",
    "lr = MyLinearRegression()\n",
    "\n",
    "lr.fit(X_train, y_train)\n",
    "print(lr.weights)\n",
    "\n",
    "y_test_pred = lr.predict(X_test)\n",
    "eval_regressor(y_test, y_test_pred)"
   ]
  },
  {
   "cell_type": "markdown",
   "metadata": {},
   "source": [
    "<div class=\"alert alert-success\">\n",
    "<b>Code Reviewers's comment v.1</b> <a class=\"tocSkip\"></a>\n",
    "\n",
    "Bagus, code yang dijalankan sudah sesuai dengan instruksi dari project.\n",
    "\n",
    "</div>"
   ]
  },
  {
   "cell_type": "markdown",
   "metadata": {},
   "source": [
    "# Tugas 4. Pengaburan Data"
   ]
  },
  {
   "cell_type": "markdown",
   "metadata": {},
   "source": [
    "Cara terbaik untuk mengaburkan data adalah dengan mengalikan fitur-fitur numerik (ingat bahwa fitur-fitur tersebut bisa di lihat di matriks $X$) dengan matriks yang dapat dibalik (*invertible*) $P$. \n",
    "\n",
    "$$\n",
    "X' = X \\times P\n",
    "$$\n",
    "\n",
    "Coba lakukan itu dan periksa bagaimana nilai fitur akan terlihat setelah transformasi. Sifat *invertible* sangat penting pada kasus ini, jadi pastikan $P$ bahwa $P$ bersifat *invertible*.\n",
    "\n",
    "Anda mungkin ingin meninjau kembali pelajaran 'Matriks dan Operasi Matriks -> Perkalian Matriks' untuk mengingat aturan perkalian matriks dan implementasinya dengan NumPy."
   ]
  },
  {
   "cell_type": "code",
   "execution_count": 33,
   "metadata": {},
   "outputs": [],
   "source": [
    "personal_info_column_list = ['gender', 'age', 'income', 'family_members']\n",
    "df_pn = df[personal_info_column_list]"
   ]
  },
  {
   "cell_type": "code",
   "execution_count": 34,
   "metadata": {},
   "outputs": [
    {
     "data": {
      "text/plain": [
       "array([[1.00e+00, 4.10e+01, 4.96e+04, 1.00e+00],\n",
       "       [0.00e+00, 4.60e+01, 3.80e+04, 1.00e+00],\n",
       "       [0.00e+00, 2.90e+01, 2.10e+04, 0.00e+00],\n",
       "       ...,\n",
       "       [0.00e+00, 2.00e+01, 3.39e+04, 2.00e+00],\n",
       "       [1.00e+00, 2.20e+01, 3.27e+04, 3.00e+00],\n",
       "       [1.00e+00, 2.80e+01, 4.06e+04, 1.00e+00]])"
      ]
     },
     "execution_count": 34,
     "metadata": {},
     "output_type": "execute_result"
    }
   ],
   "source": [
    "X = df_pn.to_numpy()\n",
    "X"
   ]
  },
  {
   "cell_type": "markdown",
   "metadata": {},
   "source": [
    "Membuat matriks acak $P$."
   ]
  },
  {
   "cell_type": "code",
   "execution_count": 35,
   "metadata": {},
   "outputs": [
    {
     "data": {
      "text/plain": [
       "array([[0.77395605, 0.43887844, 0.85859792, 0.69736803],\n",
       "       [0.09417735, 0.97562235, 0.7611397 , 0.78606431],\n",
       "       [0.12811363, 0.45038594, 0.37079802, 0.92676499],\n",
       "       [0.64386512, 0.82276161, 0.4434142 , 0.22723872]])"
      ]
     },
     "execution_count": 35,
     "metadata": {},
     "output_type": "execute_result"
    }
   ],
   "source": [
    "rng = np.random.default_rng(seed=42)\n",
    "P = rng.random(size=(X.shape[1], X.shape[1]))\n",
    "P"
   ]
  },
  {
   "cell_type": "markdown",
   "metadata": {},
   "source": [
    "Memeriksa apakah matriks $P$ *invertible*"
   ]
  },
  {
   "cell_type": "code",
   "execution_count": 36,
   "metadata": {},
   "outputs": [
    {
     "data": {
      "text/plain": [
       "array([[ 0.41467992, -1.43783972,  0.62798546,  1.14001268],\n",
       "       [-1.06101789,  0.44219337,  0.1329549 ,  1.18425933],\n",
       "       [ 1.42362442,  1.60461607, -2.0553823 , -1.53699695],\n",
       "       [-0.11128575, -0.65813802,  1.74995517, -0.11816316]])"
      ]
     },
     "execution_count": 36,
     "metadata": {},
     "output_type": "execute_result"
    }
   ],
   "source": [
    "P_inv = np.linalg.inv(P)\n",
    "P_inv"
   ]
  },
  {
   "cell_type": "markdown",
   "metadata": {},
   "source": [
    "Bisakah Anda menebak usia klien atau pendapatannya setelah dilakukan transformasi?"
   ]
  },
  {
   "cell_type": "code",
   "execution_count": 37,
   "metadata": {},
   "outputs": [
    {
     "data": {
      "text/html": [
       "<div>\n",
       "<style scoped>\n",
       "    .dataframe tbody tr th:only-of-type {\n",
       "        vertical-align: middle;\n",
       "    }\n",
       "\n",
       "    .dataframe tbody tr th {\n",
       "        vertical-align: top;\n",
       "    }\n",
       "\n",
       "    .dataframe thead th {\n",
       "        text-align: right;\n",
       "    }\n",
       "</style>\n",
       "<table border=\"1\" class=\"dataframe\">\n",
       "  <thead>\n",
       "    <tr style=\"text-align: right;\">\n",
       "      <th></th>\n",
       "      <th>0</th>\n",
       "      <th>1</th>\n",
       "      <th>2</th>\n",
       "      <th>3</th>\n",
       "    </tr>\n",
       "  </thead>\n",
       "  <tbody>\n",
       "    <tr>\n",
       "      <th>0</th>\n",
       "      <td>6359.715273</td>\n",
       "      <td>22380.404676</td>\n",
       "      <td>18424.090742</td>\n",
       "      <td>46000.696690</td>\n",
       "    </tr>\n",
       "    <tr>\n",
       "      <th>1</th>\n",
       "      <td>4873.294065</td>\n",
       "      <td>17160.367030</td>\n",
       "      <td>14125.780761</td>\n",
       "      <td>35253.455773</td>\n",
       "    </tr>\n",
       "    <tr>\n",
       "      <th>2</th>\n",
       "      <td>2693.117429</td>\n",
       "      <td>9486.397744</td>\n",
       "      <td>7808.831560</td>\n",
       "      <td>19484.860631</td>\n",
       "    </tr>\n",
       "    <tr>\n",
       "      <th>3</th>\n",
       "      <td>5345.603937</td>\n",
       "      <td>18803.227203</td>\n",
       "      <td>15479.148373</td>\n",
       "      <td>38663.061863</td>\n",
       "    </tr>\n",
       "    <tr>\n",
       "      <th>4</th>\n",
       "      <td>3347.176735</td>\n",
       "      <td>11782.829283</td>\n",
       "      <td>9699.998942</td>\n",
       "      <td>24211.273378</td>\n",
       "    </tr>\n",
       "    <tr>\n",
       "      <th>...</th>\n",
       "      <td>...</td>\n",
       "      <td>...</td>\n",
       "      <td>...</td>\n",
       "      <td>...</td>\n",
       "    </tr>\n",
       "    <tr>\n",
       "      <th>4842</th>\n",
       "      <td>4577.581382</td>\n",
       "      <td>16107.740932</td>\n",
       "      <td>13259.688205</td>\n",
       "      <td>33107.974380</td>\n",
       "    </tr>\n",
       "    <tr>\n",
       "      <th>4843</th>\n",
       "      <td>6717.000247</td>\n",
       "      <td>23634.217067</td>\n",
       "      <td>19456.138634</td>\n",
       "      <td>48589.438841</td>\n",
       "    </tr>\n",
       "    <tr>\n",
       "      <th>4844</th>\n",
       "      <td>4346.223425</td>\n",
       "      <td>15289.241265</td>\n",
       "      <td>12586.162644</td>\n",
       "      <td>31433.508886</td>\n",
       "    </tr>\n",
       "    <tr>\n",
       "      <th>4845</th>\n",
       "      <td>4194.093242</td>\n",
       "      <td>14751.991024</td>\n",
       "      <td>12144.029306</td>\n",
       "      <td>30323.887634</td>\n",
       "    </tr>\n",
       "    <tr>\n",
       "      <th>4846</th>\n",
       "      <td>5205.468274</td>\n",
       "      <td>18314.248144</td>\n",
       "      <td>15077.013708</td>\n",
       "      <td>37649.592955</td>\n",
       "    </tr>\n",
       "  </tbody>\n",
       "</table>\n",
       "<p>4847 rows × 4 columns</p>\n",
       "</div>"
      ],
      "text/plain": [
       "                0             1             2             3\n",
       "0     6359.715273  22380.404676  18424.090742  46000.696690\n",
       "1     4873.294065  17160.367030  14125.780761  35253.455773\n",
       "2     2693.117429   9486.397744   7808.831560  19484.860631\n",
       "3     5345.603937  18803.227203  15479.148373  38663.061863\n",
       "4     3347.176735  11782.829283   9699.998942  24211.273378\n",
       "...           ...           ...           ...           ...\n",
       "4842  4577.581382  16107.740932  13259.688205  33107.974380\n",
       "4843  6717.000247  23634.217067  19456.138634  48589.438841\n",
       "4844  4346.223425  15289.241265  12586.162644  31433.508886\n",
       "4845  4194.093242  14751.991024  12144.029306  30323.887634\n",
       "4846  5205.468274  18314.248144  15077.013708  37649.592955\n",
       "\n",
       "[4847 rows x 4 columns]"
      ]
     },
     "execution_count": 37,
     "metadata": {},
     "output_type": "execute_result"
    }
   ],
   "source": [
    "X1 = X @ P\n",
    "\n",
    "pd.DataFrame(X1)"
   ]
  },
  {
   "cell_type": "markdown",
   "metadata": {},
   "source": [
    "Bisakah Anda memulihkan data asli dari $X'$ jika $P$ sudah diketahui? Coba periksa hal tersebut melalui perhitungan dengan memindahkan $P$ dari sisi kanan rumus di atas ke sisi kiri. Aturan perkalian matriks sangat berguna di sini."
   ]
  },
  {
   "cell_type": "code",
   "execution_count": 38,
   "metadata": {},
   "outputs": [
    {
     "data": {
      "text/html": [
       "<div>\n",
       "<style scoped>\n",
       "    .dataframe tbody tr th:only-of-type {\n",
       "        vertical-align: middle;\n",
       "    }\n",
       "\n",
       "    .dataframe tbody tr th {\n",
       "        vertical-align: top;\n",
       "    }\n",
       "\n",
       "    .dataframe thead th {\n",
       "        text-align: right;\n",
       "    }\n",
       "</style>\n",
       "<table border=\"1\" class=\"dataframe\">\n",
       "  <thead>\n",
       "    <tr style=\"text-align: right;\">\n",
       "      <th></th>\n",
       "      <th>0</th>\n",
       "      <th>1</th>\n",
       "      <th>2</th>\n",
       "      <th>3</th>\n",
       "    </tr>\n",
       "  </thead>\n",
       "  <tbody>\n",
       "    <tr>\n",
       "      <th>0</th>\n",
       "      <td>1.000000e+00</td>\n",
       "      <td>41.0</td>\n",
       "      <td>49600.0</td>\n",
       "      <td>1.000000e+00</td>\n",
       "    </tr>\n",
       "    <tr>\n",
       "      <th>1</th>\n",
       "      <td>-4.473636e-12</td>\n",
       "      <td>46.0</td>\n",
       "      <td>38000.0</td>\n",
       "      <td>1.000000e+00</td>\n",
       "    </tr>\n",
       "    <tr>\n",
       "      <th>2</th>\n",
       "      <td>-2.515869e-12</td>\n",
       "      <td>29.0</td>\n",
       "      <td>21000.0</td>\n",
       "      <td>9.524523e-13</td>\n",
       "    </tr>\n",
       "    <tr>\n",
       "      <th>3</th>\n",
       "      <td>-4.844982e-12</td>\n",
       "      <td>21.0</td>\n",
       "      <td>41700.0</td>\n",
       "      <td>2.000000e+00</td>\n",
       "    </tr>\n",
       "    <tr>\n",
       "      <th>4</th>\n",
       "      <td>1.000000e+00</td>\n",
       "      <td>28.0</td>\n",
       "      <td>26100.0</td>\n",
       "      <td>-1.019907e-13</td>\n",
       "    </tr>\n",
       "    <tr>\n",
       "      <th>...</th>\n",
       "      <td>...</td>\n",
       "      <td>...</td>\n",
       "      <td>...</td>\n",
       "      <td>...</td>\n",
       "    </tr>\n",
       "    <tr>\n",
       "      <th>4842</th>\n",
       "      <td>-2.559766e-12</td>\n",
       "      <td>28.0</td>\n",
       "      <td>35700.0</td>\n",
       "      <td>2.000000e+00</td>\n",
       "    </tr>\n",
       "    <tr>\n",
       "      <th>4843</th>\n",
       "      <td>-5.486091e-12</td>\n",
       "      <td>34.0</td>\n",
       "      <td>52400.0</td>\n",
       "      <td>1.000000e+00</td>\n",
       "    </tr>\n",
       "    <tr>\n",
       "      <th>4844</th>\n",
       "      <td>-1.928379e-12</td>\n",
       "      <td>20.0</td>\n",
       "      <td>33900.0</td>\n",
       "      <td>2.000000e+00</td>\n",
       "    </tr>\n",
       "    <tr>\n",
       "      <th>4845</th>\n",
       "      <td>1.000000e+00</td>\n",
       "      <td>22.0</td>\n",
       "      <td>32700.0</td>\n",
       "      <td>3.000000e+00</td>\n",
       "    </tr>\n",
       "    <tr>\n",
       "      <th>4846</th>\n",
       "      <td>1.000000e+00</td>\n",
       "      <td>28.0</td>\n",
       "      <td>40600.0</td>\n",
       "      <td>1.000000e+00</td>\n",
       "    </tr>\n",
       "  </tbody>\n",
       "</table>\n",
       "<p>4847 rows × 4 columns</p>\n",
       "</div>"
      ],
      "text/plain": [
       "                 0     1        2             3\n",
       "0     1.000000e+00  41.0  49600.0  1.000000e+00\n",
       "1    -4.473636e-12  46.0  38000.0  1.000000e+00\n",
       "2    -2.515869e-12  29.0  21000.0  9.524523e-13\n",
       "3    -4.844982e-12  21.0  41700.0  2.000000e+00\n",
       "4     1.000000e+00  28.0  26100.0 -1.019907e-13\n",
       "...            ...   ...      ...           ...\n",
       "4842 -2.559766e-12  28.0  35700.0  2.000000e+00\n",
       "4843 -5.486091e-12  34.0  52400.0  1.000000e+00\n",
       "4844 -1.928379e-12  20.0  33900.0  2.000000e+00\n",
       "4845  1.000000e+00  22.0  32700.0  3.000000e+00\n",
       "4846  1.000000e+00  28.0  40600.0  1.000000e+00\n",
       "\n",
       "[4847 rows x 4 columns]"
      ]
     },
     "execution_count": 38,
     "metadata": {},
     "output_type": "execute_result"
    }
   ],
   "source": [
    "X_rec = X1 @ P_inv\n",
    "\n",
    "# display sample\n",
    "pd.DataFrame(X_rec)"
   ]
  },
  {
   "cell_type": "markdown",
   "metadata": {},
   "source": [
    "Tampilkan ketiga kasus untuk beberapa klien\n",
    "- Data asli\n",
    "- Data yang sudah ditransformasikan\n",
    "- Data yang telah dipulihkan ke semula"
   ]
  },
  {
   "cell_type": "code",
   "execution_count": 39,
   "metadata": {},
   "outputs": [],
   "source": [
    "# comparing dataframes\n",
    "df_trans = pd.DataFrame(X1, columns=df_pn.columns)\n",
    "df_recover = pd.DataFrame(X_rec, columns=df_pn.columns)\n",
    "df_diff = pd.concat([df_pn, df_trans, df_recover], axis=1, keys=['actual', 'transformed', 'recovered'])"
   ]
  },
  {
   "cell_type": "code",
   "execution_count": 40,
   "metadata": {},
   "outputs": [
    {
     "data": {
      "text/html": [
       "<div>\n",
       "<style scoped>\n",
       "    .dataframe tbody tr th:only-of-type {\n",
       "        vertical-align: middle;\n",
       "    }\n",
       "\n",
       "    .dataframe tbody tr th {\n",
       "        vertical-align: top;\n",
       "    }\n",
       "\n",
       "    .dataframe thead tr th {\n",
       "        text-align: left;\n",
       "    }\n",
       "</style>\n",
       "<table border=\"1\" class=\"dataframe\">\n",
       "  <thead>\n",
       "    <tr>\n",
       "      <th></th>\n",
       "      <th colspan=\"4\" halign=\"left\">actual</th>\n",
       "      <th colspan=\"4\" halign=\"left\">transformed</th>\n",
       "      <th colspan=\"4\" halign=\"left\">recovered</th>\n",
       "    </tr>\n",
       "    <tr>\n",
       "      <th></th>\n",
       "      <th>gender</th>\n",
       "      <th>age</th>\n",
       "      <th>income</th>\n",
       "      <th>family_members</th>\n",
       "      <th>gender</th>\n",
       "      <th>age</th>\n",
       "      <th>income</th>\n",
       "      <th>family_members</th>\n",
       "      <th>gender</th>\n",
       "      <th>age</th>\n",
       "      <th>income</th>\n",
       "      <th>family_members</th>\n",
       "    </tr>\n",
       "  </thead>\n",
       "  <tbody>\n",
       "    <tr>\n",
       "      <th>0</th>\n",
       "      <td>1</td>\n",
       "      <td>41</td>\n",
       "      <td>49600.0</td>\n",
       "      <td>1</td>\n",
       "      <td>6359.715273</td>\n",
       "      <td>22380.404676</td>\n",
       "      <td>18424.090742</td>\n",
       "      <td>46000.696690</td>\n",
       "      <td>1.000000e+00</td>\n",
       "      <td>41.0</td>\n",
       "      <td>49600.0</td>\n",
       "      <td>1.000000e+00</td>\n",
       "    </tr>\n",
       "    <tr>\n",
       "      <th>1</th>\n",
       "      <td>0</td>\n",
       "      <td>46</td>\n",
       "      <td>38000.0</td>\n",
       "      <td>1</td>\n",
       "      <td>4873.294065</td>\n",
       "      <td>17160.367030</td>\n",
       "      <td>14125.780761</td>\n",
       "      <td>35253.455773</td>\n",
       "      <td>-4.473636e-12</td>\n",
       "      <td>46.0</td>\n",
       "      <td>38000.0</td>\n",
       "      <td>1.000000e+00</td>\n",
       "    </tr>\n",
       "    <tr>\n",
       "      <th>2</th>\n",
       "      <td>0</td>\n",
       "      <td>29</td>\n",
       "      <td>21000.0</td>\n",
       "      <td>0</td>\n",
       "      <td>2693.117429</td>\n",
       "      <td>9486.397744</td>\n",
       "      <td>7808.831560</td>\n",
       "      <td>19484.860631</td>\n",
       "      <td>-2.515869e-12</td>\n",
       "      <td>29.0</td>\n",
       "      <td>21000.0</td>\n",
       "      <td>9.524523e-13</td>\n",
       "    </tr>\n",
       "    <tr>\n",
       "      <th>3</th>\n",
       "      <td>0</td>\n",
       "      <td>21</td>\n",
       "      <td>41700.0</td>\n",
       "      <td>2</td>\n",
       "      <td>5345.603937</td>\n",
       "      <td>18803.227203</td>\n",
       "      <td>15479.148373</td>\n",
       "      <td>38663.061863</td>\n",
       "      <td>-4.844982e-12</td>\n",
       "      <td>21.0</td>\n",
       "      <td>41700.0</td>\n",
       "      <td>2.000000e+00</td>\n",
       "    </tr>\n",
       "    <tr>\n",
       "      <th>4</th>\n",
       "      <td>1</td>\n",
       "      <td>28</td>\n",
       "      <td>26100.0</td>\n",
       "      <td>0</td>\n",
       "      <td>3347.176735</td>\n",
       "      <td>11782.829283</td>\n",
       "      <td>9699.998942</td>\n",
       "      <td>24211.273378</td>\n",
       "      <td>1.000000e+00</td>\n",
       "      <td>28.0</td>\n",
       "      <td>26100.0</td>\n",
       "      <td>-1.019907e-13</td>\n",
       "    </tr>\n",
       "  </tbody>\n",
       "</table>\n",
       "</div>"
      ],
      "text/plain": [
       "  actual                              transformed                              \\\n",
       "  gender age   income family_members       gender           age        income   \n",
       "0      1  41  49600.0              1  6359.715273  22380.404676  18424.090742   \n",
       "1      0  46  38000.0              1  4873.294065  17160.367030  14125.780761   \n",
       "2      0  29  21000.0              0  2693.117429   9486.397744   7808.831560   \n",
       "3      0  21  41700.0              2  5345.603937  18803.227203  15479.148373   \n",
       "4      1  28  26100.0              0  3347.176735  11782.829283   9699.998942   \n",
       "\n",
       "                     recovered                                \n",
       "  family_members        gender   age   income family_members  \n",
       "0   46000.696690  1.000000e+00  41.0  49600.0   1.000000e+00  \n",
       "1   35253.455773 -4.473636e-12  46.0  38000.0   1.000000e+00  \n",
       "2   19484.860631 -2.515869e-12  29.0  21000.0   9.524523e-13  \n",
       "3   38663.061863 -4.844982e-12  21.0  41700.0   2.000000e+00  \n",
       "4   24211.273378  1.000000e+00  28.0  26100.0  -1.019907e-13  "
      ]
     },
     "execution_count": 40,
     "metadata": {},
     "output_type": "execute_result"
    }
   ],
   "source": [
    "df_diff.head()"
   ]
  },
  {
   "cell_type": "markdown",
   "metadata": {},
   "source": [
    "Mungkin kita bisa melihat bahwa terdapat beberapa nilai yang tidak benar-benar sama dengan data sebelum ditransformasi. Kenapa bisa begitu?\n",
    "Hal itu dikarenakan  type data floats pada matriks yang mana menghasilkan bilangan pecahan yang sangat kecil\n",
    "contoh = 10:3 = 3.33, tetapi 3x3.33 = 9.99\n",
    "Namun hal ini dapat diatasi menggunakan pembulatan"
   ]
  },
  {
   "cell_type": "markdown",
   "metadata": {},
   "source": [
    "<div class=\"alert alert-success\">\n",
    "<b>Code Reviewers's comment v.1</b> <a class=\"tocSkip\"></a>\n",
    "\n",
    "Bagus, code yang dijalankan sudah sesuai dengan instruksi dari project.\n",
    "\n",
    "</div>"
   ]
  },
  {
   "cell_type": "markdown",
   "metadata": {},
   "source": [
    "##  Buktikan Bahwa Pengaburan Data Bisa Bekerja dengan LR"
   ]
  },
  {
   "cell_type": "markdown",
   "metadata": {},
   "source": [
    "Tugas regresi pada proyek ini telah diselesaikan dengan regresi linear. Tugas selanjutnya adalah untuk membuktikan secara analitis bahwa metode pengaburan data tertentu tidak akan memengaruhi prediksi nilai regresi linear - nilai-nilai prediksi tersebut tidak akan berubah dari hasil awalnya. Apakah Anda yakin Anda bisa melakukannya?? Anda tidak harus yakin sekarang, tetapi Anda harus membuktikannya!"
   ]
  },
  {
   "cell_type": "markdown",
   "metadata": {},
   "source": [
    "Jadi, data yang ada telah dikaburkan dan sekarang terdapat $X \\times P$ alih-alih hanya $X$. Akibatnya, ada bobot lain $w_P$ sebagai\n",
    "$$\n",
    "w = (X^T X)^{-1} X^T y \\quad \\Rightarrow \\quad w_P = [(XP)^T XP]^{-1} (XP)^T y\n",
    "$$\n",
    "\n",
    "Bagaimana menghubungkan $w$ dan $w_P$ jika Anda menyederhanakan rumus untuk wP di atas?\n",
    "\n",
    "Nilai apa yang akan $w_P$ prediksi? \n",
    "\n",
    "Apa artinya bagi kualitas regresi linier jika Anda mengukurnya dengan RMSE?\n",
    "\n",
    "Periksa lampiran B (Sifat-sifat Matriks) di bagian *notebook*. Tersedia beberapa rumus yang berguna di sana!\n",
    "\n",
    "Tidak ada kode yang begitu penting di sesi ini, hanya penjelasan analitis!"
   ]
  },
  {
   "cell_type": "markdown",
   "metadata": {},
   "source": [
    "**Jawaban**"
   ]
  },
  {
   "cell_type": "markdown",
   "metadata": {},
   "source": [
    "Kualitas Regresi Linier yang diukur dengan RMSE atau R2 tidak berubah karena kita melakukan transformasi."
   ]
  },
  {
   "cell_type": "markdown",
   "metadata": {},
   "source": [
    "**Bukti analitis**"
   ]
  },
  {
   "cell_type": "markdown",
   "metadata": {},
   "source": [
    "$$\n",
    "\\begin{align}\n",
    "w_P &= [(XP)^T XP]^{-1} (XP)^T y \\\\\n",
    "    &= [P^T X^T X P]^{-1} (XP)^T y \\\\\n",
    "    &= [(P^T X^T X) P]^{-1} (XP)^T y \\\\\n",
    "    &= P^{-1} [P^T X^T X]^{-1} (XP)^T y \\\\\n",
    "    &= P^{-1} [X^T X]^{-1} [P^T]^{-1} (XP)^T y \\\\\n",
    "    &= P^{-1} [X^T X]^{-1} [P^T]^{-1} P^T X^T y \\\\\n",
    "    &= P^{-1} [X^T X]^{-1} I X^T y \\\\\n",
    "    &= P^{-1} [X^T X]^{-1} X^T y \\\\    \n",
    "    &= P^{-1} \\boxed{[X^T X]^{-1} X^T y}\n",
    "\\end{align}\n",
    "$$\n",
    "\n",
    "$$w_P = P^{-1} [X^T X]^{-1} X^T y $$\n",
    "\n",
    "$$\n",
    "\\begin{align}\n",
    "w_P &= P^{-1} w \\\\\n",
    "P w_P &= P P^{-1} w \\\\\n",
    "P w_P &= w \\\\\n",
    "w &= P w_P \\\\\n",
    "\\end{align}\n",
    "$$\n",
    "\n",
    "Jika $w_P$ dimasukan kedalam RMSE akan menjadi:\n",
    "$$\n",
    "\\begin{aligned}\n",
    "w_p &= \\frac{y}{X_{(p)}} \\\\[4ex]\n",
    "\\hat{y} &= X_{val(p)}w_p\\\\[2ex]\n",
    "RMSE &= \\sqrt{\\frac{1}{N} \\sum_{i=1}^{N} (y_i - \\hat{y}_i)^2}\\\\[5ex]\n",
    "RMSE &= \\sqrt{\\frac{1}{N} \\sum_{i=1}^{N} (y_{i(w_P)} - \\hat{y}_{i(w_P)})^2}\n",
    "\\end{aligned}\n",
    "$$\n",
    "RMSE tidak akan berpengaruh karena hanya menghitung selisih hasil 'true' $y_i$ dan hasil 'predict' $\\hat{y}_i$ berdasarkan data yang sudah ditransformasikan $P$."
   ]
  },
  {
   "cell_type": "markdown",
   "metadata": {},
   "source": [
    "## Uji Regresi Linear dengan Pengaburan Data"
   ]
  },
  {
   "cell_type": "markdown",
   "metadata": {},
   "source": [
    "Sekarang, mari kita buktikan kalau Regresi Linear dapat bekerja secara komputasi dengan transformasi pengaburan yang dipilih.\n",
    "\n",
    "Buat prosedur atau kelas yang menjalankan regresi linear dengan pengaburan data. Anda bisa menggunakan regresi linear yang tersedia di scikit-learn atau milik Anda sendiri.\n",
    "\n",
    "Jalankan regresi linear terhadap data asli dan data yang disamarkan, bandingkan nilai prediksi dan RMSE, serta nilai metrik $R^2$. Apakah ada perbedaan?"
   ]
  },
  {
   "cell_type": "markdown",
   "metadata": {},
   "source": [
    "**Prosedur**\n",
    "\n",
    "- Buat matriks persegi $P$ dari angka acak.\n",
    "- Periksa apakah matriks tersebut *invertible*. Jika tidak, ulangi dari langkah pertama sampai kita mendapatkan matriks yang bisa dibalik (*invertible*).\n",
    "- <! ketik komentar Anda di sini !>\n",
    "- Gunakan $XP$ sebagai matriks fitur baru "
   ]
  },
  {
   "cell_type": "markdown",
   "metadata": {},
   "source": [
    "Membuat matriks $P dari angka acak"
   ]
  },
  {
   "cell_type": "code",
   "execution_count": 42,
   "metadata": {
    "scrolled": true
   },
   "outputs": [
    {
     "data": {
      "text/plain": [
       "array([[ 1, 17,  2, 10],\n",
       "       [18,  6,  4,  2],\n",
       "       [ 6, 14,  5, 14],\n",
       "       [ 4,  6, 19, 10]])"
      ]
     },
     "execution_count": 42,
     "metadata": {},
     "output_type": "execute_result"
    }
   ],
   "source": [
    "P1 = np.random.randint(1,20,(X.shape[1], X.shape[1]))\n",
    "P1"
   ]
  },
  {
   "cell_type": "markdown",
   "metadata": {},
   "source": [
    "Memeriksa apakah matriks $P1 invertible atau tidak"
   ]
  },
  {
   "cell_type": "code",
   "execution_count": 44,
   "metadata": {},
   "outputs": [
    {
     "data": {
      "text/plain": [
       "array([[ 1.,  0.,  0., -0.],\n",
       "       [ 0.,  1., -0., -0.],\n",
       "       [-0.,  0.,  1.,  0.],\n",
       "       [-0.,  0.,  0.,  1.]])"
      ]
     },
     "execution_count": 44,
     "metadata": {},
     "output_type": "execute_result"
    }
   ],
   "source": [
    "inv_P1 = np.linalg.inv(P1)\n",
    "I = np.around(P1.dot(inv_P1))\n",
    "I"
   ]
  },
  {
   "cell_type": "markdown",
   "metadata": {},
   "source": [
    "Matriks acak $P1 merupakan matriks invertible."
   ]
  },
  {
   "cell_type": "code",
   "execution_count": 45,
   "metadata": {},
   "outputs": [
    {
     "data": {
      "text/plain": [
       "array([[-0.03746604,  0.05090805,  0.02995853, -0.01465751],\n",
       "       [ 0.13284713,  0.02559703, -0.1043186 ,  0.00807951],\n",
       "       [ 0.03374803,  0.00757901, -0.07278707,  0.06663807],\n",
       "       [-0.12884313, -0.05012155,  0.18890319, -0.02559703]])"
      ]
     },
     "execution_count": 45,
     "metadata": {},
     "output_type": "execute_result"
    }
   ],
   "source": [
    "inv_P1"
   ]
  },
  {
   "cell_type": "markdown",
   "metadata": {},
   "source": [
    "Menghitung skor RMSE dan R2 menggunakan fitur original"
   ]
  },
  {
   "cell_type": "code",
   "execution_count": 46,
   "metadata": {},
   "outputs": [
    {
     "name": "stdout",
     "output_type": "stream",
     "text": [
      "[-9.77366729e-01  3.58042291e-02  1.95594888e-02  5.85336165e-07\n",
      " -1.21618420e-02]\n",
      "RMSE: 0.36\n",
      "R2: 0.66\n"
     ]
    }
   ],
   "source": [
    "X = df[['age', 'gender', 'income', 'family_members']].to_numpy()\n",
    "y = df['insurance_benefits'].to_numpy()\n",
    "\n",
    "X_train, X_test, y_train, y_test = train_test_split(X, y, test_size=0.3, random_state=12345)\n",
    "\n",
    "lr = MyLinearRegression()\n",
    "\n",
    "lr.fit(X_train, y_train)\n",
    "print(lr.weights)\n",
    "\n",
    "y_test_pred = lr.predict(X_test)\n",
    "eval_regressor(y_test, y_test_pred)"
   ]
  },
  {
   "cell_type": "markdown",
   "metadata": {},
   "source": [
    "Menghitung skor RMSE dan R2 menggunakan fitur transformasi "
   ]
  },
  {
   "cell_type": "code",
   "execution_count": 47,
   "metadata": {},
   "outputs": [
    {
     "data": {
      "text/plain": [
       "array([[297663., 695109., 248105., 694822.],\n",
       "       [228050., 532788., 190111., 532470.],\n",
       "       [126029., 294493., 105058., 294290.],\n",
       "       ...,\n",
       "       [203428., 474952., 169578., 474820.],\n",
       "       [196252., 458198., 163605., 458052.],\n",
       "       [243650., 568888., 203079., 568692.]])"
      ]
     },
     "execution_count": 47,
     "metadata": {},
     "output_type": "execute_result"
    }
   ],
   "source": [
    "X_transformasi = X.dot(P1)\n",
    "X_transformasi"
   ]
  },
  {
   "cell_type": "code",
   "execution_count": 49,
   "metadata": {},
   "outputs": [
    {
     "name": "stdout",
     "output_type": "stream",
     "text": [
      "[-9.77366679e-01 -1.67425437e-04  5.15883214e-03  5.46080156e-04\n",
      " -5.28206520e-03]\n",
      "RMSE: 0.36\n",
      "R2: 0.66\n"
     ]
    }
   ],
   "source": [
    "X_train, X_test, y_train, y_test = train_test_split(X_transformasi, y, test_size=0.3, random_state=12345)\n",
    "\n",
    "lr = MyLinearRegression()\n",
    "\n",
    "lr.fit(X_train, y_train)\n",
    "print(lr.weights)\n",
    "\n",
    "y_test_pred = lr.predict(X_test)\n",
    "eval_regressor(y_test, y_test_pred)"
   ]
  },
  {
   "cell_type": "raw",
   "metadata": {},
   "source": [
    "Berdasarkan percobaan yang dilakukan menunjukan bahwa setelah dilakukan transformasi pada fitur menggunakan matriks acak P yang invertible, tidak ada perbedaan skor RMSE dan R2 baik untuk fitur asli maupun fitur transformasi."
   ]
  },
  {
   "cell_type": "markdown",
   "metadata": {},
   "source": [
    "<div class=\"alert alert-success\">\n",
    "<b>Code Reviewers's comment v.1</b> <a class=\"tocSkip\"></a>\n",
    "\n",
    "Bagus, code yang dijalankan sudah sesuai dengan instruksi dari project.\n",
    "\n",
    "</div>"
   ]
  },
  {
   "cell_type": "markdown",
   "metadata": {},
   "source": [
    "# Kesimpulan"
   ]
  },
  {
   "cell_type": "markdown",
   "metadata": {},
   "source": [
    "Kita telah mengevaluasi permintaan dari perusahaan 'Sure Tomorrow' dengan menggunakan machine learning\n",
    "\n",
    "- Mengganti tipe data pada kolom age dari 'float' menjadi 'int'\n",
    "- Mendrop 153 data duplikat\n",
    "- Dataset scaling memberikan hasil F1 Score yang lebih baik dibandingkan dengan dataset actual\n",
    "- Skor RMSE dan R2 tidak berpengaruh terhadap model regresi linier untuk dataset original maupun scaling. Untuk nilai predictors/weight menunjukan perbedaan jika menggunakan dataset original atau dataset scaling.\n",
    "- Dari hasil menunjukan bahwa kita bisa melakukan transformasi fitur menggunakan matriks P dan mengembalikanya kesemula dari hasil transformasi dengan syarat matriks P invertible.\n",
    "- Proses transformasi pada fitur menggunakan matriks acak P yang invertible, tidak ada perbedaan skor RMSE dan R2 baik untuk fitur asli maupun fitur transformasi."
   ]
  },
  {
   "cell_type": "markdown",
   "metadata": {},
   "source": [
    "# Daftar Periksa"
   ]
  },
  {
   "cell_type": "markdown",
   "metadata": {},
   "source": [
    "Ketik 'x' untuk memeriksa. Lalu tekan Shitf+Enter"
   ]
  },
  {
   "cell_type": "markdown",
   "metadata": {},
   "source": [
    "- [x]  Jupyter Notebook dibuka\n",
    "- [x]  Tidak ada kesalahan kode\n",
    "- [x]  Sel disusun sesuai urutan yang logis dan eksekusi\n",
    "- [x]  Tugas 1 telah dikerjakan\n",
    "    - [x]  Ada prosedur yang bisa menampilkan k klien yang mirip dengan klien tertentu\n",
    "    - [x]  Prosedur diuji untuk keempat kombinasi yang diusulkan\n",
    "    - [x]  Pertanyaan terkait skala/jarak sudah terjawab\n",
    "- [x]  Tugas 2 telah dikerjakan\n",
    "    - [x]  Telah dibuat model klasifikasi acak untuk semua level probabilitas\n",
    "    - [x]  Model klasifikasi kNN telah dibuat dan diuji, baik untuk data asli maupun untuk data yang telah diberi skala. Metrik F1 telah diperhitungkan.\n",
    "- [x]  Tugas 3 telah dikerjakan\n",
    "    - [x]  Solusi regresi linear diimplementasikan menggunakan pengoperasian matriks.\n",
    "    - [x]  RMSE telah dihitung untuk solusi yang diimplementasikan.\n",
    "- [x]  Tugas 4 telah dikerjakan\n",
    "    - [x]  Data dikaburkan dengan matriks P acak dan *invertible*\n",
    "    - [x]  Data yang dikaburkan telah dipulihkan, ada beberapa contoh yang ditampilkan\n",
    "    - [x]  Terdapat bukti analitis bahwa transformasi tidak mempengaruhi RMSE\n",
    "    - [x]  Terdapat bukti perhitungan bahwa transformasi tidak memengaruhi RMSE\n",
    "- [x]  Ada kesimpulan"
   ]
  },
  {
   "cell_type": "markdown",
   "metadata": {},
   "source": [
    "# Apendiks \n",
    "\n",
    "## Apendiks A: Menulis Rumus di Jupyter Notebooks"
   ]
  },
  {
   "cell_type": "markdown",
   "metadata": {},
   "source": [
    "Anda dapat menulis rumus di Jupyter Notebook dalam bahasa *markup* yang disediakan oleh sistem penerbitan berkualitas tinggi bernama $\\LaTeX$ (diucapkan \"Lah-tech\"), dan rumus tersebut akan terlihat seperti rumus yang ada di buku teks.\n",
    "\n",
    "Untuk memasukkan rumus ke dalam teks, letakkan tanda dolar (\\\\$) sebelum dan sesudah teks rumus. $\\frac{1}{2} \\times \\frac{3}{2} = \\frac{3}{4}$ or $y = x^2, x \\ge 1$.\n",
    "\n",
    "Jika rumus harus ditulis dalam satu paragraf tersendiri, letakkan dua tanda dolar (\\\\$\\\\$) sebelum dan sesudah teks.\n",
    "\n",
    "$$\n",
    "\\bar{x} = \\frac{1}{n}\\sum_{i=1}^{n} x_i.\n",
    "$$\n",
    "\n",
    "Bahasa markup [LaTeX](https://en.wikipedia.org/wiki/LaTeX) sangat populer di kalangan orang-orang yang menggunakan rumus dalam artikel, buku, dan teks. Bahasa tesebut memang tampak rumit, tetapi dasarnya sebenarnya mudah. Periksa dua halaman [cheatsheet](http://tug.ctan.org/info/undergradmath/undergradmath.pdf) berikut untuk mempelajari cara membuat rumus yang paling umum."
   ]
  },
  {
   "cell_type": "markdown",
   "metadata": {},
   "source": [
    "## Apendiks B: Properti Matriks"
   ]
  },
  {
   "cell_type": "markdown",
   "metadata": {},
   "source": [
    "Matriks memiliki banyak properti di Aljabar Linear. Beberapa di antaranya ada di daftar berikut yang dapat membantu pembuktian analitis dalam proyek ini."
   ]
  },
  {
   "cell_type": "markdown",
   "metadata": {},
   "source": [
    "<table>\n",
    "<tr>\n",
    "<td>Pendistribusian</td><td>$A(B+C)=AB+AC$</td>\n",
    "</tr>\n",
    "<tr>\n",
    "<td>Non-komutativitas</td><td>$AB \\neq BA$</td>\n",
    "</tr>\n",
    "<tr>\n",
    "<td>Properti asosiatif dari perkalian</td><td>$(AB)C = A(BC)$</td>\n",
    "</tr>\n",
    "<tr>\n",
    "<td>Properti identitas perkalian</td><td>$IA = AI = A$</td>\n",
    "</tr>\n",
    "<tr>\n",
    "<td></td><td>$A^{-1}A = AA^{-1} = I$\n",
    "</td>\n",
    "</tr>    \n",
    "<tr>\n",
    "<td></td><td>$(AB)^{-1} = B^{-1}A^{-1}$</td>\n",
    "</tr>    \n",
    "<tr>\n",
    "<td>Reversibilitas dari transposisi hasil kali matriks,</td><td>$(AB)^T = B^TA^T$</td>\n",
    "</tr>    \n",
    "</table>"
   ]
  }
 ],
 "metadata": {
  "ExecuteTimeLog": [
   {
    "duration": 330,
    "start_time": "2024-05-18T09:01:43.288Z"
   },
   {
    "duration": 4493,
    "start_time": "2024-05-18T09:01:50.421Z"
   },
   {
    "duration": 3862,
    "start_time": "2024-05-18T09:02:20.897Z"
   },
   {
    "duration": 5048,
    "start_time": "2024-05-18T09:02:24.763Z"
   },
   {
    "duration": 21,
    "start_time": "2024-05-18T09:02:29.815Z"
   },
   {
    "duration": 6,
    "start_time": "2024-05-18T09:02:29.840Z"
   },
   {
    "duration": 20,
    "start_time": "2024-05-18T09:02:29.849Z"
   },
   {
    "duration": 39,
    "start_time": "2024-05-18T09:02:29.872Z"
   },
   {
    "duration": 4,
    "start_time": "2024-05-18T09:02:29.914Z"
   },
   {
    "duration": 6,
    "start_time": "2024-05-18T09:02:29.922Z"
   },
   {
    "duration": 3,
    "start_time": "2024-05-18T09:02:29.932Z"
   },
   {
    "duration": 4960,
    "start_time": "2024-05-18T09:02:29.941Z"
   },
   {
    "duration": 4,
    "start_time": "2024-05-18T09:02:34.905Z"
   },
   {
    "duration": 10,
    "start_time": "2024-05-18T09:02:34.913Z"
   },
   {
    "duration": 0,
    "start_time": "2024-05-18T09:02:34.927Z"
   },
   {
    "duration": 0,
    "start_time": "2024-05-18T09:02:34.934Z"
   },
   {
    "duration": 0,
    "start_time": "2024-05-18T09:02:34.936Z"
   },
   {
    "duration": 0,
    "start_time": "2024-05-18T09:02:34.940Z"
   },
   {
    "duration": 0,
    "start_time": "2024-05-18T09:02:34.943Z"
   },
   {
    "duration": 0,
    "start_time": "2024-05-18T09:02:34.946Z"
   },
   {
    "duration": 0,
    "start_time": "2024-05-18T09:02:34.947Z"
   },
   {
    "duration": 0,
    "start_time": "2024-05-18T09:02:34.950Z"
   },
   {
    "duration": 0,
    "start_time": "2024-05-18T09:02:34.952Z"
   },
   {
    "duration": 0,
    "start_time": "2024-05-18T09:02:34.954Z"
   },
   {
    "duration": 0,
    "start_time": "2024-05-18T09:02:35.089Z"
   },
   {
    "duration": 0,
    "start_time": "2024-05-18T09:02:35.091Z"
   },
   {
    "duration": 0,
    "start_time": "2024-05-18T09:02:35.109Z"
   },
   {
    "duration": 1662,
    "start_time": "2024-05-18T09:03:42.517Z"
   },
   {
    "duration": 11,
    "start_time": "2024-05-18T09:03:44.182Z"
   },
   {
    "duration": 16,
    "start_time": "2024-05-18T09:03:44.195Z"
   },
   {
    "duration": 19,
    "start_time": "2024-05-18T09:03:44.216Z"
   },
   {
    "duration": 18,
    "start_time": "2024-05-18T09:03:44.237Z"
   },
   {
    "duration": 4,
    "start_time": "2024-05-18T09:03:44.257Z"
   },
   {
    "duration": 46,
    "start_time": "2024-05-18T09:03:44.264Z"
   },
   {
    "duration": 4,
    "start_time": "2024-05-18T09:03:44.312Z"
   },
   {
    "duration": 4938,
    "start_time": "2024-05-18T09:03:44.319Z"
   },
   {
    "duration": 3,
    "start_time": "2024-05-18T09:03:49.264Z"
   },
   {
    "duration": 8,
    "start_time": "2024-05-18T09:03:49.271Z"
   },
   {
    "duration": 0,
    "start_time": "2024-05-18T09:03:49.282Z"
   },
   {
    "duration": 0,
    "start_time": "2024-05-18T09:03:49.284Z"
   },
   {
    "duration": 0,
    "start_time": "2024-05-18T09:03:49.285Z"
   },
   {
    "duration": 0,
    "start_time": "2024-05-18T09:03:49.288Z"
   },
   {
    "duration": 0,
    "start_time": "2024-05-18T09:03:49.290Z"
   },
   {
    "duration": 0,
    "start_time": "2024-05-18T09:03:49.292Z"
   },
   {
    "duration": 0,
    "start_time": "2024-05-18T09:03:49.293Z"
   },
   {
    "duration": 0,
    "start_time": "2024-05-18T09:03:49.296Z"
   },
   {
    "duration": 0,
    "start_time": "2024-05-18T09:03:49.309Z"
   },
   {
    "duration": 0,
    "start_time": "2024-05-18T09:03:49.313Z"
   },
   {
    "duration": 0,
    "start_time": "2024-05-18T09:03:49.314Z"
   },
   {
    "duration": 0,
    "start_time": "2024-05-18T09:03:49.316Z"
   },
   {
    "duration": 0,
    "start_time": "2024-05-18T09:03:49.318Z"
   },
   {
    "duration": 4,
    "start_time": "2024-05-18T09:05:20.178Z"
   },
   {
    "duration": 14,
    "start_time": "2024-05-18T09:05:36.372Z"
   },
   {
    "duration": 30,
    "start_time": "2024-05-18T09:06:13.538Z"
   },
   {
    "duration": 9,
    "start_time": "2024-05-18T09:10:12.346Z"
   },
   {
    "duration": 11,
    "start_time": "2024-05-18T09:10:33.817Z"
   },
   {
    "duration": 4909,
    "start_time": "2024-05-18T09:11:44.912Z"
   },
   {
    "duration": 5185,
    "start_time": "2024-05-19T15:01:51.953Z"
   },
   {
    "duration": 18,
    "start_time": "2024-05-19T15:01:57.142Z"
   },
   {
    "duration": 6,
    "start_time": "2024-05-19T15:01:57.162Z"
   },
   {
    "duration": 20,
    "start_time": "2024-05-19T15:01:57.171Z"
   },
   {
    "duration": 16,
    "start_time": "2024-05-19T15:01:57.211Z"
   },
   {
    "duration": 5,
    "start_time": "2024-05-19T15:01:57.230Z"
   },
   {
    "duration": 16,
    "start_time": "2024-05-19T15:01:57.238Z"
   },
   {
    "duration": 68,
    "start_time": "2024-05-19T15:01:57.257Z"
   },
   {
    "duration": 10,
    "start_time": "2024-05-19T15:01:57.328Z"
   },
   {
    "duration": 11,
    "start_time": "2024-05-19T15:01:57.341Z"
   },
   {
    "duration": 4902,
    "start_time": "2024-05-19T15:01:57.355Z"
   },
   {
    "duration": 4,
    "start_time": "2024-05-19T15:02:02.260Z"
   },
   {
    "duration": 9,
    "start_time": "2024-05-19T15:02:02.266Z"
   },
   {
    "duration": 0,
    "start_time": "2024-05-19T15:02:02.279Z"
   },
   {
    "duration": 0,
    "start_time": "2024-05-19T15:02:02.282Z"
   },
   {
    "duration": 0,
    "start_time": "2024-05-19T15:02:02.284Z"
   },
   {
    "duration": 0,
    "start_time": "2024-05-19T15:02:02.286Z"
   },
   {
    "duration": 0,
    "start_time": "2024-05-19T15:02:02.396Z"
   },
   {
    "duration": 0,
    "start_time": "2024-05-19T15:02:02.412Z"
   },
   {
    "duration": 0,
    "start_time": "2024-05-19T15:02:02.414Z"
   },
   {
    "duration": 0,
    "start_time": "2024-05-19T15:02:02.416Z"
   },
   {
    "duration": 0,
    "start_time": "2024-05-19T15:02:02.418Z"
   },
   {
    "duration": 0,
    "start_time": "2024-05-19T15:02:02.420Z"
   },
   {
    "duration": 0,
    "start_time": "2024-05-19T15:02:02.423Z"
   },
   {
    "duration": 0,
    "start_time": "2024-05-19T15:02:02.424Z"
   },
   {
    "duration": 0,
    "start_time": "2024-05-19T15:02:02.427Z"
   },
   {
    "duration": 473,
    "start_time": "2024-05-19T15:02:53.748Z"
   },
   {
    "duration": 450,
    "start_time": "2024-05-19T15:03:11.917Z"
   },
   {
    "duration": 6,
    "start_time": "2024-05-19T15:07:32.011Z"
   },
   {
    "duration": 17,
    "start_time": "2024-05-19T15:08:51.576Z"
   },
   {
    "duration": 14,
    "start_time": "2024-05-19T15:09:15.325Z"
   },
   {
    "duration": 15,
    "start_time": "2024-05-19T15:09:21.640Z"
   },
   {
    "duration": 12,
    "start_time": "2024-05-19T15:09:29.742Z"
   },
   {
    "duration": 435,
    "start_time": "2024-05-19T15:15:41.706Z"
   },
   {
    "duration": 6,
    "start_time": "2024-05-19T15:15:58.594Z"
   },
   {
    "duration": 37,
    "start_time": "2024-05-19T15:16:05.254Z"
   },
   {
    "duration": 1505,
    "start_time": "2024-05-19T15:16:14.860Z"
   },
   {
    "duration": 11,
    "start_time": "2024-05-19T15:16:16.369Z"
   },
   {
    "duration": 5,
    "start_time": "2024-05-19T15:16:16.382Z"
   },
   {
    "duration": 30,
    "start_time": "2024-05-19T15:16:16.390Z"
   },
   {
    "duration": 15,
    "start_time": "2024-05-19T15:16:16.426Z"
   },
   {
    "duration": 5,
    "start_time": "2024-05-19T15:16:16.443Z"
   },
   {
    "duration": 60,
    "start_time": "2024-05-19T15:16:16.452Z"
   },
   {
    "duration": 30,
    "start_time": "2024-05-19T15:16:16.515Z"
   },
   {
    "duration": 9,
    "start_time": "2024-05-19T15:16:16.547Z"
   },
   {
    "duration": 11,
    "start_time": "2024-05-19T15:16:16.562Z"
   },
   {
    "duration": 4877,
    "start_time": "2024-05-19T15:16:16.576Z"
   },
   {
    "duration": 478,
    "start_time": "2024-05-19T15:16:21.456Z"
   },
   {
    "duration": 4,
    "start_time": "2024-05-19T15:16:21.937Z"
   },
   {
    "duration": 6,
    "start_time": "2024-05-19T15:16:21.947Z"
   },
   {
    "duration": 15,
    "start_time": "2024-05-19T15:16:21.956Z"
   },
   {
    "duration": 48,
    "start_time": "2024-05-19T15:16:21.974Z"
   },
   {
    "duration": 446,
    "start_time": "2024-05-19T15:16:22.029Z"
   },
   {
    "duration": 0,
    "start_time": "2024-05-19T15:16:22.477Z"
   },
   {
    "duration": 0,
    "start_time": "2024-05-19T15:16:22.481Z"
   },
   {
    "duration": 0,
    "start_time": "2024-05-19T15:16:22.483Z"
   },
   {
    "duration": 0,
    "start_time": "2024-05-19T15:16:22.486Z"
   },
   {
    "duration": 0,
    "start_time": "2024-05-19T15:16:22.488Z"
   },
   {
    "duration": 0,
    "start_time": "2024-05-19T15:16:22.490Z"
   },
   {
    "duration": 0,
    "start_time": "2024-05-19T15:16:22.513Z"
   },
   {
    "duration": 0,
    "start_time": "2024-05-19T15:16:22.515Z"
   },
   {
    "duration": 0,
    "start_time": "2024-05-19T15:16:22.517Z"
   },
   {
    "duration": 0,
    "start_time": "2024-05-19T15:16:22.520Z"
   },
   {
    "duration": 1,
    "start_time": "2024-05-19T15:16:22.522Z"
   },
   {
    "duration": 37,
    "start_time": "2024-05-19T15:19:04.343Z"
   },
   {
    "duration": 6,
    "start_time": "2024-05-19T15:19:27.994Z"
   },
   {
    "duration": 43,
    "start_time": "2024-05-19T15:19:55.663Z"
   },
   {
    "duration": 6,
    "start_time": "2024-05-19T15:20:16.389Z"
   },
   {
    "duration": 20,
    "start_time": "2024-05-19T15:20:19.074Z"
   },
   {
    "duration": 20,
    "start_time": "2024-05-19T15:20:35.374Z"
   },
   {
    "duration": 27,
    "start_time": "2024-05-19T15:20:53.723Z"
   },
   {
    "duration": 35,
    "start_time": "2024-05-19T15:21:27.881Z"
   },
   {
    "duration": 38,
    "start_time": "2024-05-19T15:21:43.806Z"
   },
   {
    "duration": 35,
    "start_time": "2024-05-19T15:21:49.175Z"
   },
   {
    "duration": 17,
    "start_time": "2024-05-19T15:40:38.198Z"
   },
   {
    "duration": 8,
    "start_time": "2024-05-19T15:41:29.936Z"
   },
   {
    "duration": 9,
    "start_time": "2024-05-19T15:41:48.964Z"
   },
   {
    "duration": 7,
    "start_time": "2024-05-19T15:41:51.537Z"
   },
   {
    "duration": 16,
    "start_time": "2024-05-19T15:41:56.834Z"
   },
   {
    "duration": 5,
    "start_time": "2024-05-19T15:42:58.724Z"
   },
   {
    "duration": 5,
    "start_time": "2024-05-19T15:43:23.592Z"
   },
   {
    "duration": 4,
    "start_time": "2024-05-19T15:44:35.524Z"
   },
   {
    "duration": 8,
    "start_time": "2024-05-19T15:45:01.782Z"
   },
   {
    "duration": 36,
    "start_time": "2024-05-19T15:49:31.282Z"
   },
   {
    "duration": 37,
    "start_time": "2024-05-19T15:51:53.542Z"
   },
   {
    "duration": 4,
    "start_time": "2024-05-19T15:52:49.310Z"
   },
   {
    "duration": 788,
    "start_time": "2024-05-19T15:53:58.772Z"
   },
   {
    "duration": 1117,
    "start_time": "2024-05-19T15:55:29.935Z"
   },
   {
    "duration": 751,
    "start_time": "2024-05-19T15:55:41.372Z"
   },
   {
    "duration": 7,
    "start_time": "2024-05-19T16:12:40.579Z"
   },
   {
    "duration": 5,
    "start_time": "2024-05-19T16:12:47.028Z"
   },
   {
    "duration": 104,
    "start_time": "2024-05-19T16:14:00.429Z"
   },
   {
    "duration": 6,
    "start_time": "2024-05-19T16:15:16.591Z"
   },
   {
    "duration": 5,
    "start_time": "2024-05-19T16:15:27.034Z"
   },
   {
    "duration": 15,
    "start_time": "2024-05-19T16:15:35.248Z"
   },
   {
    "duration": 15,
    "start_time": "2024-05-19T16:17:40.280Z"
   },
   {
    "duration": 5,
    "start_time": "2024-05-19T16:18:52.334Z"
   },
   {
    "duration": 3,
    "start_time": "2024-05-19T16:18:53.965Z"
   },
   {
    "duration": 5,
    "start_time": "2024-05-19T16:18:57.650Z"
   },
   {
    "duration": 4,
    "start_time": "2024-05-19T16:19:47.490Z"
   },
   {
    "duration": 8,
    "start_time": "2024-05-19T16:19:53.616Z"
   },
   {
    "duration": 6,
    "start_time": "2024-05-19T16:21:47.129Z"
   },
   {
    "duration": 15,
    "start_time": "2024-05-19T16:26:38.178Z"
   },
   {
    "duration": 19,
    "start_time": "2024-05-19T16:35:18.887Z"
   },
   {
    "duration": 28,
    "start_time": "2024-05-19T16:37:42.601Z"
   },
   {
    "duration": 28,
    "start_time": "2024-05-19T16:37:55.951Z"
   },
   {
    "duration": 6,
    "start_time": "2024-05-19T16:41:32.254Z"
   },
   {
    "duration": 18,
    "start_time": "2024-05-19T16:42:27.174Z"
   },
   {
    "duration": 23,
    "start_time": "2024-05-19T16:45:04.964Z"
   },
   {
    "duration": 20,
    "start_time": "2024-05-19T16:47:19.468Z"
   },
   {
    "duration": 22,
    "start_time": "2024-05-19T16:47:51.768Z"
   },
   {
    "duration": 17,
    "start_time": "2024-05-19T16:48:03.737Z"
   },
   {
    "duration": 15,
    "start_time": "2024-05-19T16:50:26.938Z"
   },
   {
    "duration": 18,
    "start_time": "2024-05-19T16:51:11.949Z"
   },
   {
    "duration": 6,
    "start_time": "2024-05-19T16:51:20.697Z"
   },
   {
    "duration": 23,
    "start_time": "2024-05-19T16:51:21.898Z"
   },
   {
    "duration": 8,
    "start_time": "2024-05-19T17:15:45.059Z"
   },
   {
    "duration": 5137,
    "start_time": "2024-05-20T05:15:20.045Z"
   },
   {
    "duration": 14,
    "start_time": "2024-05-20T05:15:25.187Z"
   },
   {
    "duration": 6,
    "start_time": "2024-05-20T05:15:25.209Z"
   },
   {
    "duration": 19,
    "start_time": "2024-05-20T05:15:25.219Z"
   },
   {
    "duration": 14,
    "start_time": "2024-05-20T05:15:25.244Z"
   },
   {
    "duration": 5,
    "start_time": "2024-05-20T05:15:25.261Z"
   },
   {
    "duration": 16,
    "start_time": "2024-05-20T05:15:25.309Z"
   },
   {
    "duration": 29,
    "start_time": "2024-05-20T05:15:25.328Z"
   },
   {
    "duration": 10,
    "start_time": "2024-05-20T05:15:25.360Z"
   },
   {
    "duration": 12,
    "start_time": "2024-05-20T05:15:25.410Z"
   },
   {
    "duration": 4888,
    "start_time": "2024-05-20T05:15:25.425Z"
   },
   {
    "duration": 548,
    "start_time": "2024-05-20T05:15:30.317Z"
   },
   {
    "duration": 4,
    "start_time": "2024-05-20T05:15:30.868Z"
   },
   {
    "duration": 27,
    "start_time": "2024-05-20T05:15:30.881Z"
   },
   {
    "duration": 17,
    "start_time": "2024-05-20T05:15:30.912Z"
   },
   {
    "duration": 13,
    "start_time": "2024-05-20T05:15:30.932Z"
   },
   {
    "duration": 22,
    "start_time": "2024-05-20T05:15:30.948Z"
   },
   {
    "duration": 20,
    "start_time": "2024-05-20T05:15:31.008Z"
   },
   {
    "duration": 35,
    "start_time": "2024-05-20T05:15:31.031Z"
   },
   {
    "duration": 59,
    "start_time": "2024-05-20T05:15:31.069Z"
   },
   {
    "duration": 16,
    "start_time": "2024-05-20T05:15:31.132Z"
   },
   {
    "duration": 7,
    "start_time": "2024-05-20T05:15:31.152Z"
   },
   {
    "duration": 6,
    "start_time": "2024-05-20T05:15:31.162Z"
   },
   {
    "duration": 5,
    "start_time": "2024-05-20T05:15:31.209Z"
   },
   {
    "duration": 39,
    "start_time": "2024-05-20T05:15:31.216Z"
   },
   {
    "duration": 4,
    "start_time": "2024-05-20T05:15:31.259Z"
   },
   {
    "duration": 924,
    "start_time": "2024-05-20T05:15:31.268Z"
   },
   {
    "duration": 1088,
    "start_time": "2024-05-20T05:15:32.210Z"
   },
   {
    "duration": 7,
    "start_time": "2024-05-20T05:15:33.308Z"
   },
   {
    "duration": 5,
    "start_time": "2024-05-20T05:15:33.318Z"
   },
   {
    "duration": 17,
    "start_time": "2024-05-20T05:15:33.326Z"
   },
   {
    "duration": 17,
    "start_time": "2024-05-20T05:15:33.409Z"
   },
   {
    "duration": 8,
    "start_time": "2024-05-20T05:15:33.509Z"
   },
   {
    "duration": 7,
    "start_time": "2024-05-20T05:15:33.523Z"
   },
   {
    "duration": 81,
    "start_time": "2024-05-20T05:15:33.532Z"
   },
   {
    "duration": 7,
    "start_time": "2024-05-20T05:15:33.617Z"
   },
   {
    "duration": 85,
    "start_time": "2024-05-20T05:15:33.628Z"
   },
   {
    "duration": 483,
    "start_time": "2024-05-20T05:15:33.717Z"
   },
   {
    "duration": 0,
    "start_time": "2024-05-20T05:15:34.203Z"
   },
   {
    "duration": 0,
    "start_time": "2024-05-20T05:15:34.209Z"
   },
   {
    "duration": 19,
    "start_time": "2024-05-20T05:15:51.213Z"
   },
   {
    "duration": 6,
    "start_time": "2024-05-20T05:15:56.408Z"
   },
   {
    "duration": 23,
    "start_time": "2024-05-20T05:15:57.483Z"
   },
   {
    "duration": 7,
    "start_time": "2024-05-20T05:16:27.873Z"
   },
   {
    "duration": 24,
    "start_time": "2024-05-20T05:16:29.128Z"
   },
   {
    "duration": 1657,
    "start_time": "2024-05-20T05:29:03.096Z"
   },
   {
    "duration": 13,
    "start_time": "2024-05-20T05:29:04.756Z"
   },
   {
    "duration": 5,
    "start_time": "2024-05-20T05:29:04.772Z"
   },
   {
    "duration": 47,
    "start_time": "2024-05-20T05:29:04.782Z"
   },
   {
    "duration": 16,
    "start_time": "2024-05-20T05:29:04.833Z"
   },
   {
    "duration": 6,
    "start_time": "2024-05-20T05:29:04.853Z"
   },
   {
    "duration": 57,
    "start_time": "2024-05-20T05:29:04.862Z"
   },
   {
    "duration": 36,
    "start_time": "2024-05-20T05:29:04.922Z"
   },
   {
    "duration": 9,
    "start_time": "2024-05-20T05:29:04.962Z"
   },
   {
    "duration": 40,
    "start_time": "2024-05-20T05:29:04.976Z"
   },
   {
    "duration": 4938,
    "start_time": "2024-05-20T05:29:05.019Z"
   },
   {
    "duration": 490,
    "start_time": "2024-05-20T05:29:09.961Z"
   },
   {
    "duration": 4,
    "start_time": "2024-05-20T05:29:10.454Z"
   },
   {
    "duration": 7,
    "start_time": "2024-05-20T05:29:10.461Z"
   },
   {
    "duration": 44,
    "start_time": "2024-05-20T05:29:10.472Z"
   },
   {
    "duration": 14,
    "start_time": "2024-05-20T05:29:10.518Z"
   },
   {
    "duration": 20,
    "start_time": "2024-05-20T05:29:10.535Z"
   },
   {
    "duration": 52,
    "start_time": "2024-05-20T05:29:10.558Z"
   },
   {
    "duration": 37,
    "start_time": "2024-05-20T05:29:10.613Z"
   },
   {
    "duration": 56,
    "start_time": "2024-05-20T05:29:10.654Z"
   },
   {
    "duration": 20,
    "start_time": "2024-05-20T05:29:10.712Z"
   },
   {
    "duration": 8,
    "start_time": "2024-05-20T05:29:10.735Z"
   },
   {
    "duration": 5,
    "start_time": "2024-05-20T05:29:10.746Z"
   },
   {
    "duration": 4,
    "start_time": "2024-05-20T05:29:10.754Z"
   },
   {
    "duration": 78,
    "start_time": "2024-05-20T05:29:10.762Z"
   },
   {
    "duration": 4,
    "start_time": "2024-05-20T05:29:10.844Z"
   },
   {
    "duration": 962,
    "start_time": "2024-05-20T05:29:10.851Z"
   },
   {
    "duration": 1119,
    "start_time": "2024-05-20T05:29:11.822Z"
   },
   {
    "duration": 6,
    "start_time": "2024-05-20T05:29:12.944Z"
   },
   {
    "duration": 7,
    "start_time": "2024-05-20T05:29:12.955Z"
   },
   {
    "duration": 47,
    "start_time": "2024-05-20T05:29:12.965Z"
   },
   {
    "duration": 92,
    "start_time": "2024-05-20T05:29:13.015Z"
   },
   {
    "duration": 5,
    "start_time": "2024-05-20T05:29:13.111Z"
   },
   {
    "duration": 6,
    "start_time": "2024-05-20T05:29:13.119Z"
   },
   {
    "duration": 82,
    "start_time": "2024-05-20T05:29:13.128Z"
   },
   {
    "duration": 10,
    "start_time": "2024-05-20T05:29:13.214Z"
   },
   {
    "duration": 83,
    "start_time": "2024-05-20T05:29:13.227Z"
   },
   {
    "duration": 96,
    "start_time": "2024-05-20T05:29:13.313Z"
   },
   {
    "duration": 6,
    "start_time": "2024-05-20T05:29:13.412Z"
   },
   {
    "duration": 22,
    "start_time": "2024-05-20T05:29:13.421Z"
   },
   {
    "duration": 8,
    "start_time": "2024-05-20T05:32:44.961Z"
   },
   {
    "duration": 6,
    "start_time": "2024-05-20T05:33:37.846Z"
   },
   {
    "duration": 11,
    "start_time": "2024-05-20T05:33:44.825Z"
   },
   {
    "duration": 7,
    "start_time": "2024-05-20T05:34:22.661Z"
   },
   {
    "duration": 6,
    "start_time": "2024-05-20T05:35:13.673Z"
   },
   {
    "duration": 16,
    "start_time": "2024-05-20T05:37:23.553Z"
   },
   {
    "duration": 7,
    "start_time": "2024-05-20T05:38:40.743Z"
   },
   {
    "duration": 415,
    "start_time": "2024-05-20T05:38:52.554Z"
   },
   {
    "duration": 13,
    "start_time": "2024-05-20T05:39:00.696Z"
   }
  ],
  "kernelspec": {
   "display_name": "Python 3 (ipykernel)",
   "language": "python",
   "name": "python3"
  },
  "language_info": {
   "codemirror_mode": {
    "name": "ipython",
    "version": 3
   },
   "file_extension": ".py",
   "mimetype": "text/x-python",
   "name": "python",
   "nbconvert_exporter": "python",
   "pygments_lexer": "ipython3",
   "version": "3.9.19"
  },
  "toc": {
   "base_numbering": 1,
   "nav_menu": {},
   "number_sections": true,
   "sideBar": true,
   "skip_h1_title": true,
   "title_cell": "Table of Contents",
   "title_sidebar": "Contents",
   "toc_cell": false,
   "toc_position": {},
   "toc_section_display": true,
   "toc_window_display": false
  }
 },
 "nbformat": 4,
 "nbformat_minor": 4
}
