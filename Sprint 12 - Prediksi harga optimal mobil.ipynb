{
 "cells": [
  {
   "cell_type": "markdown",
   "metadata": {},
   "source": [
    "<div style=\"border:solid black 2px; padding: 20px\">\n",
    "\n",
    "# Reviewer's feedback v.1\n",
    "\n",
    "**Halo Wahyudi**\n",
    "    \n",
    "**Greetings from Chamdani**\n",
    "\n",
    "Terima kasih telah mengirimkan project kamu dengan ini kamu sudah memulai sebuah langkah yang luar biasa saat ini. Disini saya akan mereview proyek kamu ya.\n",
    "\n",
    "Saya akan memberikan beberapa komentar dan feedback seperti dibawah ini, **mohon jangan dipindah, dirubah, maupun dihapus ya :).**\n",
    "    \n",
    "> Mohon diperhatikan bahwa apabila ada temuan atau kesalahan yang sama namun tidak ada komentar perbaikan disana, itu berarti kamu masih tetap harus memperbaikinya yaa.\n",
    "\n",
    "Komentar yang saya berikan akan muncul dalam warna hijau, kuning, atau pun merah seperti ini:\n",
    "\n",
    "</div>\n",
    "\n",
    "<div class=\"alert alert-success\">\n",
    "<b>Chamdani's comment v.*</b> <a class=\"tocSkip\"></a>\n",
    "\n",
    "Bagus, semua berjalan lancar.\n",
    "\n",
    "</div>\n",
    "\n",
    "<div class=\"alert alert-warning\">\n",
    "<b>Chamdani's comment v.*</b> <a class=\"tocSkip\"></a>\n",
    "\n",
    "Ada beberapa catatan.\n",
    "\n",
    "</div>\n",
    "\n",
    "<div class=\"alert alert-danger\">\n",
    "<b>Chamdani's comment v.*</b> <a class=\"tocSkip\"></a>\n",
    "\n",
    "Perlu beberapa perbaikan.\n",
    "\n",
    "</div>\n",
    "\n",
    "<div class=\"alert alert-info\">\n",
    "<b>Chamdani's info v.1</b> <a class=\"tocSkip\"></a>\n",
    "\n",
    "Catatan umum:\n",
    "* Fungsi `print` tidak diperlukan untuk mencetak suatu nilai\n",
    "* Lebih baik tulis kode pada bagian akhir cell code untuk menampilkan output tanpa `print`\n",
    "* Perintah soal yang ada dalam tanda kurung siku `[...]` sebaiknya dihilangkan\n",
    "* Sangat disarankan untuk menggunakan cell markdown untuk memberikan deskripsi temuan atau kesimpulan.\n",
    "* Tidak disarankan menggunakan cell code untuk memberikan penjelasan / deskripsi.\n",
    "* Untuk menghindari galat pada notebook project kamu. Batasi jumlah output yang dikeluarkan setiap kode dengan batas max 10 baris data.\n",
    "\n",
    "</div>\n",
    "\n",
    "<div style=\"border:solid gray 5px; padding: 20px\" class=\"alert alert-warning\">\n",
    "\n",
    "**INGATLAH** \n",
    "* Project kamu tidak akan bisa diterima bila kamu masih memiliki feedback berwarna merah. \n",
    "* Kamu hanya memiliki 3 kali kesempatan iterasi submission disetiap projectnya \n",
    "* Jika merasa kesulitan kamu dapat menuliskan responmu atas feedback saya menggunakan blok markdown warna biru dan kamu bisa mengirimkan project pada submission selanjutnya untuk mendapatkan jawaban / respon dari saya segera yaa\n",
    "\n",
    "Kamu dapat menjawab saya dengan menggunakan blok berwarna biru seperti ini\n",
    "\n",
    "<div class=\"alert alert-info\">\n",
    "<b>Student answer</b> <a class=\"tocSkip\"></a>\n",
    "\n",
    "Siap kak.\n",
    "\n",
    "</div>"
   ]
  },
  {
   "cell_type": "markdown",
   "metadata": {},
   "source": [
    "<div style=\"border:solid black 2px; padding: 20px\" class=\"alert alert-success\">\n",
    "    \n",
    "# General feedback v.1 *Project Accepted*\n",
    "\n",
    "Terima kasih banyak telah mengirimkan proyek Anda! \n",
    "<br>\n",
    "    \n",
    "Secara keseluruhan, proyek Anda **SANGAT** mengesankan. Semoga apa yang kamu pelajari dalam project ini dapat membantu meningkatkan kemampuanmu. Pertahankan apa yang sudah bagus, dan tingkatkan apa yang menurutmu masih perlu ditingkatkan. Semoga berhasil pada project selanjutnya yaa :)\n",
    "\n",
    "**TETAP SEMANGAT!!**\n",
    "    \n",
    "</div>"
   ]
  },
  {
   "cell_type": "markdown",
   "metadata": {},
   "source": [
    "Rusty Bargain adalah perusahaan jual beli mobil bekas yang sedang mengembangkan sebuah aplikasi untuk menarik pembeli baru. Dalam aplikasi tersebut, kamu bisa dengan cepat mengetahui nilai pasar mobilmu. Kamu memiliki akses ke data historis, spesifikasi teknis kendaraan, versi model kendaraan, dan harga kendaraan. Tugasmu adalah membuat suatu model yang mampu menentukan nilai pasar mobil.\n",
    "Rusty Bargain tertarik pada:\n",
    "\n",
    "- kualitas prediksi;\n",
    "- kecepatan model dalam memprediksi;\n",
    "- waktu yang diperlukan untuk melatih model"
   ]
  },
  {
   "cell_type": "markdown",
   "metadata": {},
   "source": [
    "## Persiapan Data"
   ]
  },
  {
   "cell_type": "markdown",
   "metadata": {},
   "source": [
    "### Menyiapkan Libraries"
   ]
  },
  {
   "cell_type": "code",
   "execution_count": 1,
   "metadata": {},
   "outputs": [],
   "source": [
    "# For numerical operations\n",
    "import numpy as np\n",
    "\n",
    "# For dataframe manipulation\n",
    "import pandas as pd\n",
    "import matplotlib.pyplot as plt\n",
    "import seaborn as sns\n",
    "from math import sqrt\n",
    "\n",
    "# Scikit-Learn\n",
    "## Tools\n",
    "from sklearn.preprocessing import OneHotEncoder\n",
    "from sklearn.metrics import mean_squared_error as mse\n",
    "from sklearn.model_selection import train_test_split\n",
    "\n",
    "## Models\n",
    "from sklearn.linear_model import LinearRegression\n",
    "from sklearn.tree import DecisionTreeRegressor\n",
    "from sklearn.ensemble import RandomForestRegressor\n",
    "\n",
    "# Gradient-boosting models\n",
    "## XGBoost\n",
    "from xgboost import XGBRegressor\n",
    "## LightGBM\n",
    "from lightgbm import LGBMRegressor\n",
    "## CatBoost\n",
    "from catboost import CatBoostRegressor\n",
    "\n",
    "import time\n",
    "\n",
    "# Setting the global random_state value for this project\n",
    "random_state = 12345"
   ]
  },
  {
   "cell_type": "markdown",
   "metadata": {},
   "source": [
    "<div class=\"alert alert-success\">\n",
    "<b>Chamdani's comment v.1</b> <a class=\"tocSkip\"></a>\n",
    "\n",
    "Hebat, Kerja bagus!\n",
    "</div>"
   ]
  },
  {
   "cell_type": "markdown",
   "metadata": {},
   "source": [
    "### Menyiapkan dataset"
   ]
  },
  {
   "cell_type": "code",
   "execution_count": 2,
   "metadata": {},
   "outputs": [],
   "source": [
    "try:\n",
    "    df = pd.read_csv('car_data.csv')\n",
    "except:\n",
    "    df = pd.read_csv('/datasets/car_data.csv')"
   ]
  },
  {
   "cell_type": "code",
   "execution_count": 3,
   "metadata": {},
   "outputs": [
    {
     "data": {
      "text/html": [
       "<div>\n",
       "<style scoped>\n",
       "    .dataframe tbody tr th:only-of-type {\n",
       "        vertical-align: middle;\n",
       "    }\n",
       "\n",
       "    .dataframe tbody tr th {\n",
       "        vertical-align: top;\n",
       "    }\n",
       "\n",
       "    .dataframe thead th {\n",
       "        text-align: right;\n",
       "    }\n",
       "</style>\n",
       "<table border=\"1\" class=\"dataframe\">\n",
       "  <thead>\n",
       "    <tr style=\"text-align: right;\">\n",
       "      <th></th>\n",
       "      <th>DateCrawled</th>\n",
       "      <th>Price</th>\n",
       "      <th>VehicleType</th>\n",
       "      <th>RegistrationYear</th>\n",
       "      <th>Gearbox</th>\n",
       "      <th>Power</th>\n",
       "      <th>Model</th>\n",
       "      <th>Mileage</th>\n",
       "      <th>RegistrationMonth</th>\n",
       "      <th>FuelType</th>\n",
       "      <th>Brand</th>\n",
       "      <th>NotRepaired</th>\n",
       "      <th>DateCreated</th>\n",
       "      <th>NumberOfPictures</th>\n",
       "      <th>PostalCode</th>\n",
       "      <th>LastSeen</th>\n",
       "    </tr>\n",
       "  </thead>\n",
       "  <tbody>\n",
       "    <tr>\n",
       "      <th>334549</th>\n",
       "      <td>05/03/2016 14:41</td>\n",
       "      <td>3299</td>\n",
       "      <td>convertible</td>\n",
       "      <td>2002</td>\n",
       "      <td>manual</td>\n",
       "      <td>147</td>\n",
       "      <td>astra</td>\n",
       "      <td>150000</td>\n",
       "      <td>1</td>\n",
       "      <td>petrol</td>\n",
       "      <td>opel</td>\n",
       "      <td>no</td>\n",
       "      <td>05/03/2016 00:00</td>\n",
       "      <td>0</td>\n",
       "      <td>54413</td>\n",
       "      <td>07/04/2016 09:45</td>\n",
       "    </tr>\n",
       "    <tr>\n",
       "      <th>348257</th>\n",
       "      <td>03/04/2016 20:59</td>\n",
       "      <td>399</td>\n",
       "      <td>sedan</td>\n",
       "      <td>1993</td>\n",
       "      <td>manual</td>\n",
       "      <td>75</td>\n",
       "      <td>golf</td>\n",
       "      <td>150000</td>\n",
       "      <td>11</td>\n",
       "      <td>petrol</td>\n",
       "      <td>volkswagen</td>\n",
       "      <td>no</td>\n",
       "      <td>03/04/2016 00:00</td>\n",
       "      <td>0</td>\n",
       "      <td>96190</td>\n",
       "      <td>05/04/2016 21:47</td>\n",
       "    </tr>\n",
       "    <tr>\n",
       "      <th>98930</th>\n",
       "      <td>11/03/2016 10:43</td>\n",
       "      <td>1350</td>\n",
       "      <td>coupe</td>\n",
       "      <td>1994</td>\n",
       "      <td>manual</td>\n",
       "      <td>75</td>\n",
       "      <td>3er</td>\n",
       "      <td>150000</td>\n",
       "      <td>5</td>\n",
       "      <td>petrol</td>\n",
       "      <td>bmw</td>\n",
       "      <td>no</td>\n",
       "      <td>11/03/2016 00:00</td>\n",
       "      <td>0</td>\n",
       "      <td>22335</td>\n",
       "      <td>11/03/2016 23:17</td>\n",
       "    </tr>\n",
       "    <tr>\n",
       "      <th>37887</th>\n",
       "      <td>20/03/2016 11:39</td>\n",
       "      <td>6450</td>\n",
       "      <td>wagon</td>\n",
       "      <td>2009</td>\n",
       "      <td>manual</td>\n",
       "      <td>101</td>\n",
       "      <td>focus</td>\n",
       "      <td>70000</td>\n",
       "      <td>7</td>\n",
       "      <td>petrol</td>\n",
       "      <td>ford</td>\n",
       "      <td>no</td>\n",
       "      <td>20/03/2016 00:00</td>\n",
       "      <td>0</td>\n",
       "      <td>85435</td>\n",
       "      <td>22/03/2016 17:46</td>\n",
       "    </tr>\n",
       "    <tr>\n",
       "      <th>262764</th>\n",
       "      <td>03/04/2016 15:52</td>\n",
       "      <td>6700</td>\n",
       "      <td>small</td>\n",
       "      <td>2010</td>\n",
       "      <td>manual</td>\n",
       "      <td>82</td>\n",
       "      <td>fiesta</td>\n",
       "      <td>60000</td>\n",
       "      <td>9</td>\n",
       "      <td>petrol</td>\n",
       "      <td>ford</td>\n",
       "      <td>no</td>\n",
       "      <td>03/04/2016 00:00</td>\n",
       "      <td>0</td>\n",
       "      <td>66299</td>\n",
       "      <td>05/04/2016 15:16</td>\n",
       "    </tr>\n",
       "  </tbody>\n",
       "</table>\n",
       "</div>"
      ],
      "text/plain": [
       "             DateCrawled  Price  VehicleType  RegistrationYear Gearbox  Power  \\\n",
       "334549  05/03/2016 14:41   3299  convertible              2002  manual    147   \n",
       "348257  03/04/2016 20:59    399        sedan              1993  manual     75   \n",
       "98930   11/03/2016 10:43   1350        coupe              1994  manual     75   \n",
       "37887   20/03/2016 11:39   6450        wagon              2009  manual    101   \n",
       "262764  03/04/2016 15:52   6700        small              2010  manual     82   \n",
       "\n",
       "         Model  Mileage  RegistrationMonth FuelType       Brand NotRepaired  \\\n",
       "334549   astra   150000                  1   petrol        opel          no   \n",
       "348257    golf   150000                 11   petrol  volkswagen          no   \n",
       "98930      3er   150000                  5   petrol         bmw          no   \n",
       "37887    focus    70000                  7   petrol        ford          no   \n",
       "262764  fiesta    60000                  9   petrol        ford          no   \n",
       "\n",
       "             DateCreated  NumberOfPictures  PostalCode          LastSeen  \n",
       "334549  05/03/2016 00:00                 0       54413  07/04/2016 09:45  \n",
       "348257  03/04/2016 00:00                 0       96190  05/04/2016 21:47  \n",
       "98930   11/03/2016 00:00                 0       22335  11/03/2016 23:17  \n",
       "37887   20/03/2016 00:00                 0       85435  22/03/2016 17:46  \n",
       "262764  03/04/2016 00:00                 0       66299  05/04/2016 15:16  "
      ]
     },
     "execution_count": 3,
     "metadata": {},
     "output_type": "execute_result"
    }
   ],
   "source": [
    "df.sample(5)"
   ]
  },
  {
   "cell_type": "code",
   "execution_count": 4,
   "metadata": {
    "scrolled": false
   },
   "outputs": [
    {
     "name": "stdout",
     "output_type": "stream",
     "text": [
      "<class 'pandas.core.frame.DataFrame'>\n",
      "RangeIndex: 354369 entries, 0 to 354368\n",
      "Data columns (total 16 columns):\n",
      " #   Column             Non-Null Count   Dtype \n",
      "---  ------             --------------   ----- \n",
      " 0   DateCrawled        354369 non-null  object\n",
      " 1   Price              354369 non-null  int64 \n",
      " 2   VehicleType        316879 non-null  object\n",
      " 3   RegistrationYear   354369 non-null  int64 \n",
      " 4   Gearbox            334536 non-null  object\n",
      " 5   Power              354369 non-null  int64 \n",
      " 6   Model              334664 non-null  object\n",
      " 7   Mileage            354369 non-null  int64 \n",
      " 8   RegistrationMonth  354369 non-null  int64 \n",
      " 9   FuelType           321474 non-null  object\n",
      " 10  Brand              354369 non-null  object\n",
      " 11  NotRepaired        283215 non-null  object\n",
      " 12  DateCreated        354369 non-null  object\n",
      " 13  NumberOfPictures   354369 non-null  int64 \n",
      " 14  PostalCode         354369 non-null  int64 \n",
      " 15  LastSeen           354369 non-null  object\n",
      "dtypes: int64(7), object(9)\n",
      "memory usage: 43.3+ MB\n"
     ]
    }
   ],
   "source": [
    "df.info()"
   ]
  },
  {
   "cell_type": "markdown",
   "metadata": {},
   "source": [
    "Terdapat data yang hilang pada beberapa kolom"
   ]
  },
  {
   "cell_type": "markdown",
   "metadata": {},
   "source": [
    "Dataset memiliki beberapa kolom-kolom diantaranya:\n",
    "\n",
    "Fitur:\n",
    "\n",
    "- `DateCrawled` — tanggal ketika profil diunduh dari database\n",
    "- `VehicleType` — jenis bodi kendaraan\n",
    "- `RegistrationYear` — tahun registrasi kendaraan\n",
    "- `Gearbox` — jenis transmisi\n",
    "- `Power` — daya (hp)\n",
    "- `Model` — model kendaraan\n",
    "- `Mileage` — jarak tempuh (diukur dalam satuan km berdasarkan dataset regional tertentu)\n",
    "- `RegistrationMonth` — bulan registrasi kendaraan\n",
    "- `FuelType` — jenis bahan bakar\n",
    "- `Brand` — merek kendaraan\n",
    "- `NotRepaired` — apakah kendaraan pernah direparasi sebelumnya\n",
    "- `DateCreated` — tanggal pembuatan profil\n",
    "- `NumberOfPictures` — jumlah gambar kendaraan\n",
    "- `PostalCode` — kode pos pemilik profil (pengguna)\n",
    "- `LastSeen` — tanggal aktivitas terakhir pengguna\n",
    "Target:\n",
    "\n",
    "- `Price` — harga (dalam satuan Euro)"
   ]
  },
  {
   "cell_type": "markdown",
   "metadata": {},
   "source": [
    "<div class=\"alert alert-success\">\n",
    "<b>Chamdani's comment v.1</b> <a class=\"tocSkip\"></a>\n",
    "\n",
    "Hebat, Kerja bagus!\n",
    "</div>"
   ]
  },
  {
   "cell_type": "code",
   "execution_count": 5,
   "metadata": {},
   "outputs": [
    {
     "data": {
      "text/html": [
       "<div>\n",
       "<style scoped>\n",
       "    .dataframe tbody tr th:only-of-type {\n",
       "        vertical-align: middle;\n",
       "    }\n",
       "\n",
       "    .dataframe tbody tr th {\n",
       "        vertical-align: top;\n",
       "    }\n",
       "\n",
       "    .dataframe thead th {\n",
       "        text-align: right;\n",
       "    }\n",
       "</style>\n",
       "<table border=\"1\" class=\"dataframe\">\n",
       "  <thead>\n",
       "    <tr style=\"text-align: right;\">\n",
       "      <th></th>\n",
       "      <th>Price</th>\n",
       "      <th>RegistrationYear</th>\n",
       "      <th>Power</th>\n",
       "      <th>Mileage</th>\n",
       "      <th>RegistrationMonth</th>\n",
       "      <th>NumberOfPictures</th>\n",
       "      <th>PostalCode</th>\n",
       "    </tr>\n",
       "  </thead>\n",
       "  <tbody>\n",
       "    <tr>\n",
       "      <th>count</th>\n",
       "      <td>354369.000000</td>\n",
       "      <td>354369.000000</td>\n",
       "      <td>354369.000000</td>\n",
       "      <td>354369.000000</td>\n",
       "      <td>354369.000000</td>\n",
       "      <td>354369.0</td>\n",
       "      <td>354369.000000</td>\n",
       "    </tr>\n",
       "    <tr>\n",
       "      <th>mean</th>\n",
       "      <td>4416.656776</td>\n",
       "      <td>2004.234448</td>\n",
       "      <td>110.094337</td>\n",
       "      <td>128211.172535</td>\n",
       "      <td>5.714645</td>\n",
       "      <td>0.0</td>\n",
       "      <td>50508.689087</td>\n",
       "    </tr>\n",
       "    <tr>\n",
       "      <th>std</th>\n",
       "      <td>4514.158514</td>\n",
       "      <td>90.227958</td>\n",
       "      <td>189.850405</td>\n",
       "      <td>37905.341530</td>\n",
       "      <td>3.726421</td>\n",
       "      <td>0.0</td>\n",
       "      <td>25783.096248</td>\n",
       "    </tr>\n",
       "    <tr>\n",
       "      <th>min</th>\n",
       "      <td>0.000000</td>\n",
       "      <td>1000.000000</td>\n",
       "      <td>0.000000</td>\n",
       "      <td>5000.000000</td>\n",
       "      <td>0.000000</td>\n",
       "      <td>0.0</td>\n",
       "      <td>1067.000000</td>\n",
       "    </tr>\n",
       "    <tr>\n",
       "      <th>25%</th>\n",
       "      <td>1050.000000</td>\n",
       "      <td>1999.000000</td>\n",
       "      <td>69.000000</td>\n",
       "      <td>125000.000000</td>\n",
       "      <td>3.000000</td>\n",
       "      <td>0.0</td>\n",
       "      <td>30165.000000</td>\n",
       "    </tr>\n",
       "    <tr>\n",
       "      <th>50%</th>\n",
       "      <td>2700.000000</td>\n",
       "      <td>2003.000000</td>\n",
       "      <td>105.000000</td>\n",
       "      <td>150000.000000</td>\n",
       "      <td>6.000000</td>\n",
       "      <td>0.0</td>\n",
       "      <td>49413.000000</td>\n",
       "    </tr>\n",
       "    <tr>\n",
       "      <th>75%</th>\n",
       "      <td>6400.000000</td>\n",
       "      <td>2008.000000</td>\n",
       "      <td>143.000000</td>\n",
       "      <td>150000.000000</td>\n",
       "      <td>9.000000</td>\n",
       "      <td>0.0</td>\n",
       "      <td>71083.000000</td>\n",
       "    </tr>\n",
       "    <tr>\n",
       "      <th>max</th>\n",
       "      <td>20000.000000</td>\n",
       "      <td>9999.000000</td>\n",
       "      <td>20000.000000</td>\n",
       "      <td>150000.000000</td>\n",
       "      <td>12.000000</td>\n",
       "      <td>0.0</td>\n",
       "      <td>99998.000000</td>\n",
       "    </tr>\n",
       "  </tbody>\n",
       "</table>\n",
       "</div>"
      ],
      "text/plain": [
       "               Price  RegistrationYear          Power        Mileage  \\\n",
       "count  354369.000000     354369.000000  354369.000000  354369.000000   \n",
       "mean     4416.656776       2004.234448     110.094337  128211.172535   \n",
       "std      4514.158514         90.227958     189.850405   37905.341530   \n",
       "min         0.000000       1000.000000       0.000000    5000.000000   \n",
       "25%      1050.000000       1999.000000      69.000000  125000.000000   \n",
       "50%      2700.000000       2003.000000     105.000000  150000.000000   \n",
       "75%      6400.000000       2008.000000     143.000000  150000.000000   \n",
       "max     20000.000000       9999.000000   20000.000000  150000.000000   \n",
       "\n",
       "       RegistrationMonth  NumberOfPictures     PostalCode  \n",
       "count      354369.000000          354369.0  354369.000000  \n",
       "mean            5.714645               0.0   50508.689087  \n",
       "std             3.726421               0.0   25783.096248  \n",
       "min             0.000000               0.0    1067.000000  \n",
       "25%             3.000000               0.0   30165.000000  \n",
       "50%             6.000000               0.0   49413.000000  \n",
       "75%             9.000000               0.0   71083.000000  \n",
       "max            12.000000               0.0   99998.000000  "
      ]
     },
     "execution_count": 5,
     "metadata": {},
     "output_type": "execute_result"
    }
   ],
   "source": [
    "df.describe()"
   ]
  },
  {
   "cell_type": "markdown",
   "metadata": {},
   "source": [
    "- Kolom Price terdapat nilai yang bernilai nol.\n",
    "- Kolom RegistrationYear memiliki tahun terendah 1000 dan tertinggi 9999.\n",
    "- Kolom Power memiliki daya terendah 0 dan tertinggi 20000.\n",
    "- Kolom RegistrationMonth memiliki bulan registrasi terendah 0.\n",
    "- Kolom NumberOfPictures semua data bernilai nol."
   ]
  },
  {
   "cell_type": "markdown",
   "metadata": {},
   "source": [
    "<div class=\"alert alert-success\">\n",
    "<b>Chamdani's comment v.1</b> <a class=\"tocSkip\"></a>\n",
    "\n",
    "Hebat, Kerja bagus!\n",
    "</div>"
   ]
  },
  {
   "cell_type": "markdown",
   "metadata": {},
   "source": [
    "### Memperbaiki Data"
   ]
  },
  {
   "cell_type": "code",
   "execution_count": 6,
   "metadata": {},
   "outputs": [],
   "source": [
    "# change data type to datetime\n",
    "df['DateCrawled'] = pd.to_datetime(df['DateCrawled'], format='%d/%m/%Y %H:%M')\n",
    "df['DateCreated'] = pd.to_datetime(df['DateCreated'], format='%d/%m/%Y %H:%M')\n",
    "df['LastSeen'] = pd.to_datetime(df['LastSeen'], format='%d/%m/%Y %H:%M')"
   ]
  },
  {
   "cell_type": "code",
   "execution_count": 7,
   "metadata": {
    "scrolled": true
   },
   "outputs": [
    {
     "data": {
      "text/plain": [
       "DateCrawled              0\n",
       "Price                    0\n",
       "VehicleType          37490\n",
       "RegistrationYear         0\n",
       "Gearbox              19833\n",
       "Power                    0\n",
       "Model                19705\n",
       "Mileage                  0\n",
       "RegistrationMonth        0\n",
       "FuelType             32895\n",
       "Brand                    0\n",
       "NotRepaired          71154\n",
       "DateCreated              0\n",
       "NumberOfPictures         0\n",
       "PostalCode               0\n",
       "LastSeen                 0\n",
       "dtype: int64"
      ]
     },
     "execution_count": 7,
     "metadata": {},
     "output_type": "execute_result"
    }
   ],
   "source": [
    "df.isna().sum()"
   ]
  },
  {
   "cell_type": "markdown",
   "metadata": {},
   "source": [
    "Semua nilai yang hilang ditemukan dalam fitur kategorikal. Kita bisa menebak Tipe Kendaraan berdasarkan Modelnya. Namun fitur lainnya tidak dapat dengan mudah disimpulkan karena model yang sama dapat memiliki spesifikasi yang berbeda."
   ]
  },
  {
   "cell_type": "markdown",
   "metadata": {},
   "source": [
    "<div class=\"alert alert-success\">\n",
    "<b>Chamdani's comment v.1</b> <a class=\"tocSkip\"></a>\n",
    "\n",
    "Hebat, Kerja bagus!\n",
    "</div>"
   ]
  },
  {
   "cell_type": "code",
   "execution_count": 8,
   "metadata": {},
   "outputs": [
    {
     "data": {
      "text/plain": [
       "{'grand': 'suv',\n",
       " 'golf': 'small',\n",
       " 'fabia': 'small',\n",
       " '3er': 'sedan',\n",
       " '2_reihe': 'convertible',\n",
       " 'other': 'sedan',\n",
       " 'c_max': 'bus',\n",
       " '3_reihe': 'sedan',\n",
       " 'passat': 'wagon',\n",
       " 'navara': 'suv',\n",
       " 'ka': 'small',\n",
       " 'twingo': 'small',\n",
       " 'a_klasse': 'bus',\n",
       " 'scirocco': 'coupe',\n",
       " '5er': 'sedan',\n",
       " 'arosa': 'small',\n",
       " 'civic': 'sedan',\n",
       " 'transporter': 'bus',\n",
       " 'punto': 'small',\n",
       " 'e_klasse': 'sedan',\n",
       " 'kadett': 'other',\n",
       " 'one': 'sedan',\n",
       " 'fortwo': 'small',\n",
       " 'clio': 'small',\n",
       " '1er': 'sedan',\n",
       " 'b_klasse': 'bus',\n",
       " 'signum': 'wagon',\n",
       " 'astra': 'wagon',\n",
       " 'a8': 'sedan',\n",
       " 'jetta': 'sedan',\n",
       " 'polo': 'small',\n",
       " 'fiesta': 'small',\n",
       " 'c_klasse': 'wagon',\n",
       " 'micra': 'small',\n",
       " 'vito': 'other',\n",
       " 'sprinter': 'bus',\n",
       " '156': 'wagon',\n",
       " 'escort': 'sedan',\n",
       " 'forester': 'wagon',\n",
       " 'xc_reihe': 'suv',\n",
       " 'scenic': 'bus',\n",
       " 'a4': 'sedan',\n",
       " 'a1': 'small',\n",
       " 'combo': 'bus',\n",
       " 'focus': 'wagon',\n",
       " 'tt': 'coupe',\n",
       " 'corsa': 'small',\n",
       " 'a6': 'wagon',\n",
       " 'jazz': 'small',\n",
       " 'omega': 'sedan',\n",
       " 'slk': 'sedan',\n",
       " '7er': 'sedan',\n",
       " '80': 'convertible',\n",
       " '147': 'sedan',\n",
       " 'meriva': 'bus',\n",
       " 'z_reihe': 'convertible',\n",
       " 'sorento': 'suv',\n",
       " 'v40': 'wagon',\n",
       " 'ibiza': 'small',\n",
       " 'mustang': 'convertible',\n",
       " 'eos': 'convertible',\n",
       " 'touran': 'bus',\n",
       " 'getz': 'small',\n",
       " 'insignia': 'wagon',\n",
       " 'a3': 'wagon',\n",
       " 'megane': 'convertible',\n",
       " 'lupo': 'small',\n",
       " 'r19': 'sedan',\n",
       " 'mondeo': 'wagon',\n",
       " 'cordoba': 'wagon',\n",
       " 'colt': 'sedan',\n",
       " 'impreza': 'sedan',\n",
       " 'vectra': 'sedan',\n",
       " 'berlingo': 'bus',\n",
       " 'tiguan': 'suv',\n",
       " 'sharan': 'bus',\n",
       " '6_reihe': 'sedan',\n",
       " 'c4': 'coupe',\n",
       " 'panda': 'small',\n",
       " 'up': 'small',\n",
       " 'i_reihe': 'wagon',\n",
       " 'ceed': 'sedan',\n",
       " 'kangoo': 'bus',\n",
       " '5_reihe': 'bus',\n",
       " 'yeti': 'suv',\n",
       " 'octavia': 'wagon',\n",
       " 'zafira': 'bus',\n",
       " 'mii': 'small',\n",
       " 'rx_reihe': 'coupe',\n",
       " '6er': 'coupe',\n",
       " 'fox': 'small',\n",
       " 'matiz': 'small',\n",
       " 'beetle': 'small',\n",
       " 'rio': 'small',\n",
       " 'touareg': 'suv',\n",
       " 'logan': 'wagon',\n",
       " 'caddy': 'wagon',\n",
       " 'spider': 'convertible',\n",
       " 'cuore': 'small',\n",
       " 's_max': 'bus',\n",
       " 'modus': 'bus',\n",
       " 'a2': 'small',\n",
       " 'galaxy': 'bus',\n",
       " 'c3': 'small',\n",
       " 'viano': 'bus',\n",
       " 's_klasse': 'sedan',\n",
       " '1_reihe': 'small',\n",
       " 'avensis': 'wagon',\n",
       " 'roomster': 'bus',\n",
       " 'sl': 'convertible',\n",
       " 'kaefer': 'convertible',\n",
       " 'santa': 'suv',\n",
       " 'cooper': 'small',\n",
       " 'leon': 'sedan',\n",
       " '4_reihe': 'sedan',\n",
       " 'a5': 'sedan',\n",
       " 'sportage': 'suv',\n",
       " 'laguna': 'wagon',\n",
       " 'ptcruiser': 'wagon',\n",
       " 'clk': 'coupe',\n",
       " 'primera': 'sedan',\n",
       " 'espace': 'bus',\n",
       " 'x_reihe': 'suv',\n",
       " 'exeo': 'wagon',\n",
       " '159': 'sedan',\n",
       " 'transit': 'bus',\n",
       " 'juke': 'small',\n",
       " 'carisma': 'sedan',\n",
       " 'accord': 'sedan',\n",
       " 'corolla': 'wagon',\n",
       " 'phaeton': 'sedan',\n",
       " 'verso': 'bus',\n",
       " 'swift': 'convertible',\n",
       " 'rav': 'suv',\n",
       " 'qashqai': 'sedan',\n",
       " 'picanto': 'small',\n",
       " 'boxster': 'convertible',\n",
       " 'kalos': 'small',\n",
       " 'superb': 'wagon',\n",
       " 'stilo': 'wagon',\n",
       " 'alhambra': 'bus',\n",
       " 'mx_reihe': 'convertible',\n",
       " 'roadster': 'convertible',\n",
       " 'ypsilon': 'small',\n",
       " 'cayenne': 'small',\n",
       " 'galant': 'wagon',\n",
       " 'justy': 'small',\n",
       " '90': 'coupe',\n",
       " 'sirion': 'sedan',\n",
       " 'crossfire': 'convertible',\n",
       " 'agila': 'small',\n",
       " 'duster': 'suv',\n",
       " 'v50': 'wagon',\n",
       " '500': 'small',\n",
       " 'c_reihe': 'convertible',\n",
       " 'v_klasse': 'bus',\n",
       " 'm_klasse': 'suv',\n",
       " 'yaris': 'small',\n",
       " 'c5': 'wagon',\n",
       " 'aygo': 'small',\n",
       " 'almera': 'sedan',\n",
       " 'seicento': 'small',\n",
       " 'cc': 'coupe',\n",
       " '911': 'coupe',\n",
       " 'bora': 'wagon',\n",
       " 'forfour': 'coupe',\n",
       " 'm_reihe': 'coupe',\n",
       " '100': 'wagon',\n",
       " 'cl': 'coupe',\n",
       " 'tigra': 'convertible',\n",
       " '300c': 'sedan',\n",
       " 'cr_reihe': 'suv',\n",
       " 'spark': 'small',\n",
       " 'kuga': 'suv',\n",
       " 'x_type': 'sedan',\n",
       " 'ducato': 'wagon',\n",
       " 's_type': 'sedan',\n",
       " 'x_trail': 'suv',\n",
       " 'toledo': 'sedan',\n",
       " 'altea': 'bus',\n",
       " 'voyager': 'bus',\n",
       " 'carnival': 'bus',\n",
       " 'v70': 'wagon',\n",
       " 'bravo': 'small',\n",
       " 'antara': 'suv',\n",
       " 'tucson': 'suv',\n",
       " 'c1': 'small',\n",
       " 'citigo': 'small',\n",
       " 'jimny': 'suv',\n",
       " 'wrangler': 'suv',\n",
       " 'lybra': 'wagon',\n",
       " 'q7': 'suv',\n",
       " 'lancer': 'sedan',\n",
       " 'captiva': 'suv',\n",
       " 'fusion': 'sedan',\n",
       " 'discovery': 'suv',\n",
       " 'sandero': 'small',\n",
       " 'note': 'bus',\n",
       " '900': 'coupe',\n",
       " 'cherokee': 'suv',\n",
       " 'clubman': 'wagon',\n",
       " 'defender': 'suv',\n",
       " 'cx_reihe': 'suv',\n",
       " 'legacy': 'wagon',\n",
       " '601': 'wagon',\n",
       " 'pajero': 'suv',\n",
       " 'c2': 'small',\n",
       " 'niva': 'suv',\n",
       " 's60': 'sedan',\n",
       " 'nubira': 'wagon',\n",
       " 'vivaro': 'bus',\n",
       " 'lanos': 'sedan',\n",
       " 'g_klasse': 'suv',\n",
       " 'freelander': 'suv',\n",
       " 'auris': 'sedan',\n",
       " 'lodgy': 'bus',\n",
       " '850': 'wagon',\n",
       " 'range_rover': 'suv',\n",
       " 'q3': 'sedan',\n",
       " 'serie_2': 'other',\n",
       " 'calibra': 'coupe',\n",
       " 'glk': 'suv',\n",
       " 'charade': 'small',\n",
       " 'croma': 'wagon',\n",
       " 'outlander': 'wagon',\n",
       " 'doblo': 'bus',\n",
       " 'musa': 'wagon',\n",
       " 'move': 'small',\n",
       " '9000': 'sedan',\n",
       " 'v60': 'wagon',\n",
       " '200': 'sedan',\n",
       " '145': 'small',\n",
       " 'b_max': 'bus',\n",
       " 'range_rover_sport': 'suv',\n",
       " 'aveo': 'small',\n",
       " 'terios': 'sedan',\n",
       " 'rangerover': 'small',\n",
       " 'q5': 'suv',\n",
       " 'range_rover_evoque': 'suv',\n",
       " 'materia': 'sedan',\n",
       " 'gl': 'suv',\n",
       " 'kalina': 'small',\n",
       " 'samara': 'small',\n",
       " 'elefantino': 'small',\n",
       " 'delta': 'wagon',\n",
       " 'i3': 'convertible',\n",
       " 'amarok': 'suv',\n",
       " 'kappa': 'sedan',\n",
       " 'serie_3': 'suv',\n",
       " 'serie_1': 'wagon'}"
      ]
     },
     "execution_count": 8,
     "metadata": {},
     "output_type": "execute_result"
    }
   ],
   "source": [
    "# Creating a dictionary to map VehicleType-Model values\n",
    "## Getting only unique values\n",
    "df_unique = df[(df['VehicleType'].isna() == False) & (df['Model'].isna() == False)][['VehicleType', 'Model']].copy()\n",
    "df_unique.drop_duplicates(subset='Model', keep='first', inplace=True)\n",
    "df_unique = df_unique[['Model', 'VehicleType']]\n",
    "\n",
    "## Converting value pairs into a dict\n",
    "model_type_dict = dict(df_unique.values)\n",
    "model_type_dict"
   ]
  },
  {
   "cell_type": "code",
   "execution_count": 9,
   "metadata": {},
   "outputs": [
    {
     "data": {
      "text/plain": [
       "6828"
      ]
     },
     "execution_count": 9,
     "metadata": {},
     "output_type": "execute_result"
    }
   ],
   "source": [
    "# Filling missing VehicleTypes using the dict\n",
    "df['VehicleType'] = df['VehicleType'].fillna(df['Model'].map(model_type_dict))\n",
    "df['VehicleType'].isna().sum()"
   ]
  },
  {
   "cell_type": "code",
   "execution_count": 10,
   "metadata": {},
   "outputs": [
    {
     "data": {
      "text/plain": [
       "DateCrawled          0\n",
       "Price                0\n",
       "VehicleType          0\n",
       "RegistrationYear     0\n",
       "Gearbox              0\n",
       "Power                0\n",
       "Model                0\n",
       "Mileage              0\n",
       "RegistrationMonth    0\n",
       "FuelType             0\n",
       "Brand                0\n",
       "NotRepaired          0\n",
       "DateCreated          0\n",
       "NumberOfPictures     0\n",
       "PostalCode           0\n",
       "LastSeen             0\n",
       "dtype: int64"
      ]
     },
     "execution_count": 10,
     "metadata": {},
     "output_type": "execute_result"
    }
   ],
   "source": [
    "# Filling the rest of NaN values with 'unknown'\n",
    "df.fillna('unknown', inplace=True)\n",
    "df.isna().sum()"
   ]
  },
  {
   "cell_type": "markdown",
   "metadata": {},
   "source": [
    "<div class=\"alert alert-success\">\n",
    "<b>Chamdani's comment v.1</b> <a class=\"tocSkip\"></a>\n",
    "\n",
    "Hebat, Kerja bagus!\n",
    "</div>"
   ]
  },
  {
   "cell_type": "markdown",
   "metadata": {},
   "source": [
    "Registration Date"
   ]
  },
  {
   "cell_type": "code",
   "execution_count": 11,
   "metadata": {},
   "outputs": [
    {
     "data": {
      "text/html": [
       "<div>\n",
       "<style scoped>\n",
       "    .dataframe tbody tr th:only-of-type {\n",
       "        vertical-align: middle;\n",
       "    }\n",
       "\n",
       "    .dataframe tbody tr th {\n",
       "        vertical-align: top;\n",
       "    }\n",
       "\n",
       "    .dataframe thead th {\n",
       "        text-align: right;\n",
       "    }\n",
       "</style>\n",
       "<table border=\"1\" class=\"dataframe\">\n",
       "  <thead>\n",
       "    <tr style=\"text-align: right;\">\n",
       "      <th></th>\n",
       "      <th>DateCrawled</th>\n",
       "      <th>Price</th>\n",
       "      <th>VehicleType</th>\n",
       "      <th>RegistrationYear</th>\n",
       "      <th>Gearbox</th>\n",
       "      <th>Power</th>\n",
       "      <th>Model</th>\n",
       "      <th>Mileage</th>\n",
       "      <th>RegistrationMonth</th>\n",
       "      <th>FuelType</th>\n",
       "      <th>Brand</th>\n",
       "      <th>NotRepaired</th>\n",
       "      <th>DateCreated</th>\n",
       "      <th>NumberOfPictures</th>\n",
       "      <th>PostalCode</th>\n",
       "      <th>LastSeen</th>\n",
       "    </tr>\n",
       "  </thead>\n",
       "  <tbody>\n",
       "    <tr>\n",
       "      <th>184888</th>\n",
       "      <td>2016-03-05 14:06:00</td>\n",
       "      <td>3500</td>\n",
       "      <td>sedan</td>\n",
       "      <td>2003</td>\n",
       "      <td>auto</td>\n",
       "      <td>203</td>\n",
       "      <td>other</td>\n",
       "      <td>125000</td>\n",
       "      <td>12</td>\n",
       "      <td>petrol</td>\n",
       "      <td>chrysler</td>\n",
       "      <td>no</td>\n",
       "      <td>2016-03-05</td>\n",
       "      <td>0</td>\n",
       "      <td>65719</td>\n",
       "      <td>2016-03-05 21:24:00</td>\n",
       "    </tr>\n",
       "    <tr>\n",
       "      <th>169065</th>\n",
       "      <td>2016-03-05 14:06:00</td>\n",
       "      <td>599</td>\n",
       "      <td>small</td>\n",
       "      <td>1997</td>\n",
       "      <td>manual</td>\n",
       "      <td>50</td>\n",
       "      <td>polo</td>\n",
       "      <td>100000</td>\n",
       "      <td>4</td>\n",
       "      <td>petrol</td>\n",
       "      <td>volkswagen</td>\n",
       "      <td>no</td>\n",
       "      <td>2016-03-05</td>\n",
       "      <td>0</td>\n",
       "      <td>60489</td>\n",
       "      <td>2016-03-05 14:25:00</td>\n",
       "    </tr>\n",
       "    <tr>\n",
       "      <th>176823</th>\n",
       "      <td>2016-03-05 14:06:00</td>\n",
       "      <td>6200</td>\n",
       "      <td>convertible</td>\n",
       "      <td>2006</td>\n",
       "      <td>manual</td>\n",
       "      <td>135</td>\n",
       "      <td>megane</td>\n",
       "      <td>90000</td>\n",
       "      <td>9</td>\n",
       "      <td>petrol</td>\n",
       "      <td>renault</td>\n",
       "      <td>no</td>\n",
       "      <td>2016-03-05</td>\n",
       "      <td>0</td>\n",
       "      <td>35764</td>\n",
       "      <td>2016-03-24 09:16:00</td>\n",
       "    </tr>\n",
       "    <tr>\n",
       "      <th>116018</th>\n",
       "      <td>2016-03-05 14:06:00</td>\n",
       "      <td>3950</td>\n",
       "      <td>bus</td>\n",
       "      <td>1995</td>\n",
       "      <td>auto</td>\n",
       "      <td>110</td>\n",
       "      <td>transporter</td>\n",
       "      <td>150000</td>\n",
       "      <td>6</td>\n",
       "      <td>petrol</td>\n",
       "      <td>volkswagen</td>\n",
       "      <td>no</td>\n",
       "      <td>2016-03-05</td>\n",
       "      <td>0</td>\n",
       "      <td>65719</td>\n",
       "      <td>2016-03-13 10:11:00</td>\n",
       "    </tr>\n",
       "    <tr>\n",
       "      <th>220604</th>\n",
       "      <td>2016-03-05 14:06:00</td>\n",
       "      <td>1900</td>\n",
       "      <td>sedan</td>\n",
       "      <td>2004</td>\n",
       "      <td>manual</td>\n",
       "      <td>64</td>\n",
       "      <td>polo</td>\n",
       "      <td>150000</td>\n",
       "      <td>10</td>\n",
       "      <td>petrol</td>\n",
       "      <td>volkswagen</td>\n",
       "      <td>no</td>\n",
       "      <td>2016-03-05</td>\n",
       "      <td>0</td>\n",
       "      <td>60598</td>\n",
       "      <td>2016-03-09 15:19:00</td>\n",
       "    </tr>\n",
       "    <tr>\n",
       "      <th>...</th>\n",
       "      <td>...</td>\n",
       "      <td>...</td>\n",
       "      <td>...</td>\n",
       "      <td>...</td>\n",
       "      <td>...</td>\n",
       "      <td>...</td>\n",
       "      <td>...</td>\n",
       "      <td>...</td>\n",
       "      <td>...</td>\n",
       "      <td>...</td>\n",
       "      <td>...</td>\n",
       "      <td>...</td>\n",
       "      <td>...</td>\n",
       "      <td>...</td>\n",
       "      <td>...</td>\n",
       "      <td>...</td>\n",
       "    </tr>\n",
       "    <tr>\n",
       "      <th>301030</th>\n",
       "      <td>2016-04-07 14:36:00</td>\n",
       "      <td>15200</td>\n",
       "      <td>wagon</td>\n",
       "      <td>2008</td>\n",
       "      <td>manual</td>\n",
       "      <td>190</td>\n",
       "      <td>a6</td>\n",
       "      <td>150000</td>\n",
       "      <td>9</td>\n",
       "      <td>gasoline</td>\n",
       "      <td>audi</td>\n",
       "      <td>no</td>\n",
       "      <td>2016-04-07</td>\n",
       "      <td>0</td>\n",
       "      <td>81476</td>\n",
       "      <td>2016-04-07 14:36:00</td>\n",
       "    </tr>\n",
       "    <tr>\n",
       "      <th>124250</th>\n",
       "      <td>2016-04-07 14:36:00</td>\n",
       "      <td>5900</td>\n",
       "      <td>convertible</td>\n",
       "      <td>2002</td>\n",
       "      <td>manual</td>\n",
       "      <td>131</td>\n",
       "      <td>other</td>\n",
       "      <td>50000</td>\n",
       "      <td>4</td>\n",
       "      <td>petrol</td>\n",
       "      <td>fiat</td>\n",
       "      <td>no</td>\n",
       "      <td>2016-04-07</td>\n",
       "      <td>0</td>\n",
       "      <td>63322</td>\n",
       "      <td>2016-04-07 14:36:00</td>\n",
       "    </tr>\n",
       "    <tr>\n",
       "      <th>220515</th>\n",
       "      <td>2016-04-07 14:36:00</td>\n",
       "      <td>920</td>\n",
       "      <td>small</td>\n",
       "      <td>1998</td>\n",
       "      <td>manual</td>\n",
       "      <td>50</td>\n",
       "      <td>corsa</td>\n",
       "      <td>150000</td>\n",
       "      <td>8</td>\n",
       "      <td>petrol</td>\n",
       "      <td>opel</td>\n",
       "      <td>unknown</td>\n",
       "      <td>2016-04-07</td>\n",
       "      <td>0</td>\n",
       "      <td>24601</td>\n",
       "      <td>2016-04-07 14:36:00</td>\n",
       "    </tr>\n",
       "    <tr>\n",
       "      <th>304465</th>\n",
       "      <td>2016-04-07 14:36:00</td>\n",
       "      <td>1500</td>\n",
       "      <td>bus</td>\n",
       "      <td>2005</td>\n",
       "      <td>manual</td>\n",
       "      <td>69</td>\n",
       "      <td>doblo</td>\n",
       "      <td>150000</td>\n",
       "      <td>1</td>\n",
       "      <td>gasoline</td>\n",
       "      <td>fiat</td>\n",
       "      <td>no</td>\n",
       "      <td>2016-04-07</td>\n",
       "      <td>0</td>\n",
       "      <td>52076</td>\n",
       "      <td>2016-04-07 14:36:00</td>\n",
       "    </tr>\n",
       "    <tr>\n",
       "      <th>339649</th>\n",
       "      <td>2016-04-07 14:36:00</td>\n",
       "      <td>8650</td>\n",
       "      <td>suv</td>\n",
       "      <td>1992</td>\n",
       "      <td>manual</td>\n",
       "      <td>121</td>\n",
       "      <td>wrangler</td>\n",
       "      <td>125000</td>\n",
       "      <td>5</td>\n",
       "      <td>petrol</td>\n",
       "      <td>jeep</td>\n",
       "      <td>no</td>\n",
       "      <td>2016-04-07</td>\n",
       "      <td>0</td>\n",
       "      <td>20357</td>\n",
       "      <td>2016-04-07 14:36:00</td>\n",
       "    </tr>\n",
       "  </tbody>\n",
       "</table>\n",
       "<p>354369 rows × 16 columns</p>\n",
       "</div>"
      ],
      "text/plain": [
       "               DateCrawled  Price  VehicleType  RegistrationYear Gearbox  \\\n",
       "184888 2016-03-05 14:06:00   3500        sedan              2003    auto   \n",
       "169065 2016-03-05 14:06:00    599        small              1997  manual   \n",
       "176823 2016-03-05 14:06:00   6200  convertible              2006  manual   \n",
       "116018 2016-03-05 14:06:00   3950          bus              1995    auto   \n",
       "220604 2016-03-05 14:06:00   1900        sedan              2004  manual   \n",
       "...                    ...    ...          ...               ...     ...   \n",
       "301030 2016-04-07 14:36:00  15200        wagon              2008  manual   \n",
       "124250 2016-04-07 14:36:00   5900  convertible              2002  manual   \n",
       "220515 2016-04-07 14:36:00    920        small              1998  manual   \n",
       "304465 2016-04-07 14:36:00   1500          bus              2005  manual   \n",
       "339649 2016-04-07 14:36:00   8650          suv              1992  manual   \n",
       "\n",
       "        Power        Model  Mileage  RegistrationMonth  FuelType       Brand  \\\n",
       "184888    203        other   125000                 12    petrol    chrysler   \n",
       "169065     50         polo   100000                  4    petrol  volkswagen   \n",
       "176823    135       megane    90000                  9    petrol     renault   \n",
       "116018    110  transporter   150000                  6    petrol  volkswagen   \n",
       "220604     64         polo   150000                 10    petrol  volkswagen   \n",
       "...       ...          ...      ...                ...       ...         ...   \n",
       "301030    190           a6   150000                  9  gasoline        audi   \n",
       "124250    131        other    50000                  4    petrol        fiat   \n",
       "220515     50        corsa   150000                  8    petrol        opel   \n",
       "304465     69        doblo   150000                  1  gasoline        fiat   \n",
       "339649    121     wrangler   125000                  5    petrol        jeep   \n",
       "\n",
       "       NotRepaired DateCreated  NumberOfPictures  PostalCode  \\\n",
       "184888          no  2016-03-05                 0       65719   \n",
       "169065          no  2016-03-05                 0       60489   \n",
       "176823          no  2016-03-05                 0       35764   \n",
       "116018          no  2016-03-05                 0       65719   \n",
       "220604          no  2016-03-05                 0       60598   \n",
       "...            ...         ...               ...         ...   \n",
       "301030          no  2016-04-07                 0       81476   \n",
       "124250          no  2016-04-07                 0       63322   \n",
       "220515     unknown  2016-04-07                 0       24601   \n",
       "304465          no  2016-04-07                 0       52076   \n",
       "339649          no  2016-04-07                 0       20357   \n",
       "\n",
       "                  LastSeen  \n",
       "184888 2016-03-05 21:24:00  \n",
       "169065 2016-03-05 14:25:00  \n",
       "176823 2016-03-24 09:16:00  \n",
       "116018 2016-03-13 10:11:00  \n",
       "220604 2016-03-09 15:19:00  \n",
       "...                    ...  \n",
       "301030 2016-04-07 14:36:00  \n",
       "124250 2016-04-07 14:36:00  \n",
       "220515 2016-04-07 14:36:00  \n",
       "304465 2016-04-07 14:36:00  \n",
       "339649 2016-04-07 14:36:00  \n",
       "\n",
       "[354369 rows x 16 columns]"
      ]
     },
     "execution_count": 11,
     "metadata": {},
     "output_type": "execute_result"
    }
   ],
   "source": [
    "df.sort_values(by='DateCrawled')"
   ]
  },
  {
   "cell_type": "code",
   "execution_count": 12,
   "metadata": {},
   "outputs": [
    {
     "data": {
      "text/plain": [
       "1000     37\n",
       "1001      1\n",
       "1039      1\n",
       "1111      3\n",
       "1200      1\n",
       "1234      4\n",
       "1253      1\n",
       "1255      1\n",
       "1300      2\n",
       "1400      1\n",
       "1500      5\n",
       "1600      2\n",
       "1602      1\n",
       "1688      1\n",
       "1800      5\n",
       "1910    101\n",
       "Name: RegistrationYear, dtype: int64"
      ]
     },
     "execution_count": 12,
     "metadata": {},
     "output_type": "execute_result"
    }
   ],
   "source": [
    "df[df['RegistrationYear'] < 1913]['RegistrationYear'].value_counts().sort_index()"
   ]
  },
  {
   "cell_type": "markdown",
   "metadata": {},
   "source": [
    "Date terakhir yang terdapat pada dataset datecrawled adalah 2016, kita akan menghapus data yang melebihi tahun ini, sedangkan batas bawahnya kita akan menghapus mobil yang datecrawlednya kurang dari 1913 karena berdasarkan sejarah, mobil pertama kali produksi masal mada tahun 1913"
   ]
  },
  {
   "cell_type": "markdown",
   "metadata": {},
   "source": [
    "<div class=\"alert alert-success\">\n",
    "<b>Chamdani's comment v.1</b> <a class=\"tocSkip\"></a>\n",
    "\n",
    "Hebat, Kerja bagus!\n",
    "</div>"
   ]
  },
  {
   "cell_type": "code",
   "execution_count": 13,
   "metadata": {},
   "outputs": [
    {
     "name": "stdout",
     "output_type": "stream",
     "text": [
      "Rows before dropping: 354369\n",
      "Dropped rows: 55083\n",
      "Rows after dropping: 299286\n"
     ]
    }
   ],
   "source": [
    "shape_pre = df.shape[0]\n",
    "print('Rows before dropping:', shape_pre)\n",
    "\n",
    "# Dropping rows with impossible years\n",
    "df = df[(df['RegistrationYear'] > 1913) & (df['RegistrationYear'] < 2016)]\n",
    "\n",
    "# Dropping rows with impossible months\n",
    "df = df[(df['RegistrationMonth'] > 0) & (df['RegistrationMonth'] < 13)]\n",
    "\n",
    "# Dropping rows with impossible months in 2016\n",
    "df = df.drop(df[(df['RegistrationYear'] == 2016) & (df['RegistrationMonth'] > 4)].index)\n",
    "\n",
    "shape_post = df.shape[0]\n",
    "print('Dropped rows:', shape_pre - shape_post)\n",
    "print('Rows after dropping:', shape_post)"
   ]
  },
  {
   "cell_type": "markdown",
   "metadata": {},
   "source": [
    "<div class=\"alert alert-success\">\n",
    "<b>Chamdani's comment v.1</b> <a class=\"tocSkip\"></a>\n",
    "\n",
    "Hebat, Kerja bagus!\n",
    "</div>"
   ]
  },
  {
   "cell_type": "markdown",
   "metadata": {},
   "source": [
    "Power and Price"
   ]
  },
  {
   "cell_type": "code",
   "execution_count": 14,
   "metadata": {},
   "outputs": [
    {
     "name": "stdout",
     "output_type": "stream",
     "text": [
      "Rows before dropping: 299286\n",
      "Dropped rows: 38772\n",
      "Rows after dropping: 260514\n"
     ]
    }
   ],
   "source": [
    "# Removing outliers in `Power`\n",
    "\n",
    "shape_pre = df.shape[0]\n",
    "print('Rows before dropping:', shape_pre)\n",
    "\n",
    "Q1 = df['Power'].quantile(0.25)\n",
    "Q3 = df['Power'].quantile(0.75)\n",
    "IQR = Q3 - Q1\n",
    "lower_bound = Q1 - IQR\n",
    "upper_bound = Q3 + IQR\n",
    "\n",
    "df = df[(df['Power'] >= lower_bound) & (df['Power'] <=  upper_bound)] \n",
    "\n",
    "shape_post = df.shape[0]\n",
    "print('Dropped rows:', shape_pre - shape_post)\n",
    "print('Rows after dropping:', shape_post)"
   ]
  },
  {
   "cell_type": "markdown",
   "metadata": {},
   "source": [
    "<div class=\"alert alert-success\">\n",
    "<b>Chamdani's comment v.1</b> <a class=\"tocSkip\"></a>\n",
    "\n",
    "Hebat, Kerja bagus!\n",
    "</div>"
   ]
  },
  {
   "cell_type": "code",
   "execution_count": 15,
   "metadata": {},
   "outputs": [
    {
     "name": "stdout",
     "output_type": "stream",
     "text": [
      "Rows before dropping: 260514\n",
      "Dropped rows: 23991\n",
      "Rows after dropping: 236523\n"
     ]
    }
   ],
   "source": [
    "# Removing outliers in `Price`\n",
    "\n",
    "shape_pre = df.shape[0]\n",
    "print('Rows before dropping:', shape_pre)\n",
    "\n",
    "Q1 = df['Price'].quantile(0.25)\n",
    "Q3 = df['Price'].quantile(0.75)\n",
    "IQR = Q3 - Q1\n",
    "lower_bound = Q1 - IQR\n",
    "upper_bound = Q3 + IQR\n",
    "\n",
    "df = df[(df['Price'] >= lower_bound) & (df['Price'] <= upper_bound)] \n",
    "\n",
    "shape_post = df.shape[0]\n",
    "print('Dropped rows:', shape_pre - shape_post)\n",
    "print('Rows after dropping:', shape_post)"
   ]
  },
  {
   "cell_type": "markdown",
   "metadata": {},
   "source": [
    "<div class=\"alert alert-success\">\n",
    "<b>Chamdani's comment v.1</b> <a class=\"tocSkip\"></a>\n",
    "\n",
    "Hebat, Kerja bagus!\n",
    "</div>"
   ]
  },
  {
   "cell_type": "markdown",
   "metadata": {},
   "source": [
    "Kita menghilangkan outlier pada kolom power dan price menggunakan pendekatan statistik dengan pendekatan batas atas-batas bawah"
   ]
  },
  {
   "cell_type": "code",
   "execution_count": 16,
   "metadata": {},
   "outputs": [
    {
     "name": "stdout",
     "output_type": "stream",
     "text": [
      "<class 'pandas.core.frame.DataFrame'>\n",
      "Int64Index: 236523 entries, 2 to 354368\n",
      "Data columns (total 16 columns):\n",
      " #   Column             Non-Null Count   Dtype         \n",
      "---  ------             --------------   -----         \n",
      " 0   DateCrawled        236523 non-null  datetime64[ns]\n",
      " 1   Price              236523 non-null  int64         \n",
      " 2   VehicleType        236523 non-null  object        \n",
      " 3   RegistrationYear   236523 non-null  int64         \n",
      " 4   Gearbox            236523 non-null  object        \n",
      " 5   Power              236523 non-null  int64         \n",
      " 6   Model              236523 non-null  object        \n",
      " 7   Mileage            236523 non-null  int64         \n",
      " 8   RegistrationMonth  236523 non-null  int64         \n",
      " 9   FuelType           236523 non-null  object        \n",
      " 10  Brand              236523 non-null  object        \n",
      " 11  NotRepaired        236523 non-null  object        \n",
      " 12  DateCreated        236523 non-null  datetime64[ns]\n",
      " 13  NumberOfPictures   236523 non-null  int64         \n",
      " 14  PostalCode         236523 non-null  int64         \n",
      " 15  LastSeen           236523 non-null  datetime64[ns]\n",
      "dtypes: datetime64[ns](3), int64(7), object(6)\n",
      "memory usage: 30.7+ MB\n"
     ]
    }
   ],
   "source": [
    "df.info()"
   ]
  },
  {
   "cell_type": "markdown",
   "metadata": {},
   "source": [
    "<div class=\"alert alert-success\">\n",
    "<b>Chamdani's comment v.1</b> <a class=\"tocSkip\"></a>\n",
    "\n",
    "Hebat, Kerja bagus!\n",
    "</div>"
   ]
  },
  {
   "cell_type": "markdown",
   "metadata": {},
   "source": [
    "Display Data"
   ]
  },
  {
   "cell_type": "code",
   "execution_count": 17,
   "metadata": {},
   "outputs": [
    {
     "data": {
      "image/png": "[encoded data removed]",
      "text/plain": [
       "<Figure size 1200x800 with 4 Axes>"
      ]
     },
     "metadata": {},
     "output_type": "display_data"
    }
   ],
   "source": [
    "# display the distribution of continues columns\n",
    "continues = ['Price', 'RegistrationYear', 'Mileage', 'Power']\n",
    "\n",
    "plt.figure(figsize=(12, 8))\n",
    "plt.subplots_adjust(hspace=0.2)\n",
    "plt.suptitle('Distribution of Continues Data', fontsize=18, y=0.95)\n",
    "\n",
    "# set number of columns (use 3 to demonstrate the change)\n",
    "ncols = 2\n",
    "# calculate number of rows\n",
    "nrows = len(continues) // ncols + (len(continues) % ncols > 0)\n",
    "\n",
    "# loop through the length of tickers and keep track of index\n",
    "for n, cont in enumerate(continues):\n",
    "    # add a new subplot iteratively using nrows and cols\n",
    "    ax = plt.subplot(nrows, ncols, n + 1)\n",
    "\n",
    "    # filter df and plot ticker on the new subplot axis\n",
    "    sns.histplot(data=df, x=df[cont].sample(5000), ax=ax)\n",
    "\n",
    "    # chart formatting\n",
    "    ax.set_title(cont.upper())\n",
    "    ax.set_xlabel('')\n",
    "\n",
    "plt.show()"
   ]
  },
  {
   "cell_type": "markdown",
   "metadata": {},
   "source": [
    "- Harga mobil terendah adalah 0 dan yang tertinggi hampir mendekati 12000\n",
    "- Mobil yang tergistrasi rata pada tahun 2000-2010\n",
    "- Rata-rata Mileage lebih dari 140000 miles\n",
    "- Rata-rata mobil memiliki daya 50-150 Hp"
   ]
  },
  {
   "cell_type": "markdown",
   "metadata": {},
   "source": [
    "<div class=\"alert alert-success\">\n",
    "<b>Chamdani's comment v.1</b> <a class=\"tocSkip\"></a>\n",
    "\n",
    "Hebat, Kerja bagus!\n",
    "</div>"
   ]
  },
  {
   "cell_type": "code",
   "execution_count": 18,
   "metadata": {},
   "outputs": [
    {
     "data": {
      "image/png": "[encoded data removed]",
      "text/plain": [
       "<Figure size 1200x1000 with 4 Axes>"
      ]
     },
     "metadata": {},
     "output_type": "display_data"
    }
   ],
   "source": [
    "# display the distribution of categorical columns\n",
    "categorical = ['VehicleType', 'Gearbox', 'FuelType', 'NotRepaired']\n",
    "\n",
    "plt.figure(figsize=(12, 10))\n",
    "plt.subplots_adjust(hspace=0.2)\n",
    "plt.suptitle('Distribution of categorical Data', fontsize=18, y=0.95)\n",
    "\n",
    "# set number of columns (use 3 to demonstrate the change)\n",
    "ncols = 2\n",
    "# calculate number of rows\n",
    "nrows = len(categorical) // ncols + (len(categorical) % ncols > 0)\n",
    "\n",
    "# loop through the length of tickers and keep track of index\n",
    "for n, cat in enumerate(categorical):\n",
    "    # add a new subplot iteratively using nrows and cols\n",
    "    ax = plt.subplot(nrows, ncols, n + 1)\n",
    "\n",
    "    # filter df and plot ticker on the new subplot axis\n",
    "    splot = sns.countplot(data=df, x=df[cat].sort_values(), ax=ax)\n",
    "    for p in splot.patches:\n",
    "        splot.annotate('{:.0f}'.format(p.get_height()), (p.get_x()+0.1, p.get_height()+100))\n",
    "    # chart formatting\n",
    "    ax.set_title(cat.upper())\n",
    "    ax.set_xlabel('')\n",
    "\n",
    "plt.show()"
   ]
  },
  {
   "cell_type": "markdown",
   "metadata": {},
   "source": [
    "- Mobil paling populer adalah tipe sedan dan small\n",
    "- transmisi manual adalah yang paling banyak digunakan\n",
    "- Bahan bakar paling sering digunakan adalah petrol dan gasoline\n",
    "- Sebagian besar mobil belum pernah diperbaiki sebelumnya"
   ]
  },
  {
   "cell_type": "markdown",
   "metadata": {},
   "source": [
    "<div class=\"alert alert-success\">\n",
    "<b>Chamdani's comment v.1</b> <a class=\"tocSkip\"></a>\n",
    "\n",
    "Hebat, Kerja bagus!\n",
    "</div>"
   ]
  },
  {
   "cell_type": "markdown",
   "metadata": {},
   "source": [
    "OHE\n",
    "\n",
    "Model ML hanya dapat memproses data numerik. KITA dapat merepresentasikan data kategorikal secara numerik dengan mengkodekannya"
   ]
  },
  {
   "cell_type": "code",
   "execution_count": 19,
   "metadata": {},
   "outputs": [
    {
     "name": "stdout",
     "output_type": "stream",
     "text": [
      "df_encoded size: (236523, 304)\n",
      "Complete df_encoded size: (236523, 308)\n"
     ]
    }
   ],
   "source": [
    "# Specifying columns to encode\n",
    "columns_to_encode = ['VehicleType', 'Gearbox', 'Power', 'Model', 'FuelType', 'Brand', 'NotRepaired']\n",
    "other_columns = ['RegistrationYear', 'Mileage', 'RegistrationMonth', 'Price']\n",
    "\n",
    "# Transforming non-ordinal categorical columns\n",
    "# drop_first=True to prevent redundancy\n",
    "df_encoded = df[columns_to_encode]\n",
    "df_encoded = pd.get_dummies(df_encoded, drop_first=True)\n",
    "print('df_encoded size:', df_encoded.shape)\n",
    "\n",
    "# Appending non-encoded columns to the df\n",
    "df_encoded[other_columns] = df[other_columns]\n",
    "print('Complete df_encoded size:', df_encoded.shape)"
   ]
  },
  {
   "cell_type": "markdown",
   "metadata": {},
   "source": [
    "Pemisahan data\n",
    "\n",
    "Kita akan membagi data dengan rasio 70:30"
   ]
  },
  {
   "cell_type": "markdown",
   "metadata": {},
   "source": [
    "<div class=\"alert alert-success\">\n",
    "<b>Chamdani's comment v.1</b> <a class=\"tocSkip\"></a>\n",
    "\n",
    "Hebat, Kerja bagus!\n",
    "</div>"
   ]
  },
  {
   "cell_type": "code",
   "execution_count": 20,
   "metadata": {},
   "outputs": [
    {
     "name": "stdout",
     "output_type": "stream",
     "text": [
      "df_train size: (165566, 308)\n",
      "df_test size: (70957, 308)\n"
     ]
    }
   ],
   "source": [
    "df_train, df_test = train_test_split(df_encoded, train_size=0.7, random_state=random_state)\n",
    "print('df_train size:', df_train.shape)\n",
    "print('df_test size:', df_test.shape)"
   ]
  },
  {
   "cell_type": "markdown",
   "metadata": {},
   "source": [
    "Penentuan target dan features\n",
    "\n",
    "`Price` akan menjadi target pada model kali ini"
   ]
  },
  {
   "cell_type": "code",
   "execution_count": 21,
   "metadata": {},
   "outputs": [],
   "source": [
    "train_target = df_train['Price']\n",
    "train_features = df_train.drop('Price', axis=1)\n",
    "\n",
    "test_target = df_test['Price']\n",
    "test_features = df_test.drop('Price', axis=1)"
   ]
  },
  {
   "cell_type": "markdown",
   "metadata": {},
   "source": [
    "<div class=\"alert alert-success\">\n",
    "<b>Chamdani's comment v.1</b> <a class=\"tocSkip\"></a>\n",
    "\n",
    "Hebat, Kerja bagus!\n",
    "</div>"
   ]
  },
  {
   "cell_type": "markdown",
   "metadata": {},
   "source": [
    "## Pelatihan Model"
   ]
  },
  {
   "cell_type": "markdown",
   "metadata": {},
   "source": [
    "### Membuat dictionary untuk menampilkan performa model"
   ]
  },
  {
   "cell_type": "markdown",
   "metadata": {},
   "source": [
    "Karena Rusty Bargain tertarik pada:\n",
    "- kualitas prediksi\n",
    "- kecepatan prediksi\n",
    "- waktu yang diperlukan untuk melatih model\n",
    "Kita akan membuat dictionary untuk menampilkan performa tiap model"
   ]
  },
  {
   "cell_type": "code",
   "execution_count": 22,
   "metadata": {},
   "outputs": [],
   "source": [
    "performance_dict = {}\n",
    "performance_columns = ['Training time', 'Test time', 'Test score', 'Training score']"
   ]
  },
  {
   "cell_type": "markdown",
   "metadata": {},
   "source": [
    "<div class=\"alert alert-success\">\n",
    "<b>Chamdani's comment v.1</b> <a class=\"tocSkip\"></a>\n",
    "\n",
    "Hebat, Kerja bagus!\n",
    "</div>"
   ]
  },
  {
   "cell_type": "markdown",
   "metadata": {},
   "source": [
    "### Linear Regression"
   ]
  },
  {
   "cell_type": "code",
   "execution_count": 23,
   "metadata": {},
   "outputs": [
    {
     "name": "stdout",
     "output_type": "stream",
     "text": [
      "Training\n"
     ]
    },
    {
     "data": {
      "text/plain": [
       "LinearRegression()"
      ]
     },
     "execution_count": 23,
     "metadata": {},
     "output_type": "execute_result"
    }
   ],
   "source": [
    "# Creating an instance of the linear regressor model\n",
    "lr = LinearRegression()\n",
    "\n",
    "# Fitting\n",
    "print('Training')\n",
    "\n",
    "## Recording start time\n",
    "start = time.process_time()\n",
    "lr.fit(train_features, train_target)"
   ]
  },
  {
   "cell_type": "code",
   "execution_count": 24,
   "metadata": {},
   "outputs": [
    {
     "name": "stdout",
     "output_type": "stream",
     "text": [
      "Training CPU execution time: 15.115438311\n"
     ]
    }
   ],
   "source": [
    "## Recording end time and storing it\n",
    "end = time.process_time()\n",
    "lr_train_time = end - start\n",
    "\n",
    "print('Training CPU execution time:', lr_train_time)"
   ]
  },
  {
   "cell_type": "code",
   "execution_count": 25,
   "metadata": {},
   "outputs": [
    {
     "name": "stdout",
     "output_type": "stream",
     "text": [
      "Training score: 1748.0694367035005\n",
      "\n"
     ]
    }
   ],
   "source": [
    "pred = lr.predict(train_features)\n",
    "lr_train_score = (mse(train_target, pred) ** 0.5)\n",
    "print('Training score:', lr_train_score)\n",
    "print()\n"
   ]
  },
  {
   "cell_type": "code",
   "execution_count": 26,
   "metadata": {},
   "outputs": [
    {
     "name": "stdout",
     "output_type": "stream",
     "text": [
      "Testing\n",
      "Test prediction CPU execution time: 0.14529591299999822\n",
      "Test score: 1764.1068902982795\n"
     ]
    }
   ],
   "source": [
    "\n",
    "# Testing\n",
    "print('Testing')\n",
    "\n",
    "## Getting test time\n",
    "start = time.process_time()\n",
    "pred = lr.predict(test_features)\n",
    "\n",
    "## Recording end time and storing it\n",
    "end = time.process_time()\n",
    "lr_test_time = end - start\n",
    "print('Test prediction CPU execution time:', lr_test_time)\n",
    "\n",
    "## Getting test score\n",
    "lr_test_score = (mse(test_target, pred) ** 0.5)\n",
    "print('Test score:', lr_test_score)\n",
    "\n",
    "# Storing information in the performance dictionary\n",
    "performance_dict['lr'] = [lr_train_time, lr_test_time, lr_train_score, lr_test_score]"
   ]
  },
  {
   "cell_type": "markdown",
   "metadata": {},
   "source": [
    "<div class=\"alert alert-success\">\n",
    "<b>Chamdani's comment v.1</b> <a class=\"tocSkip\"></a>\n",
    "\n",
    "Hebat, Kerja bagus!\n",
    "</div>"
   ]
  },
  {
   "cell_type": "markdown",
   "metadata": {},
   "source": [
    "### Decision Tree Regressor"
   ]
  },
  {
   "cell_type": "code",
   "execution_count": 27,
   "metadata": {},
   "outputs": [
    {
     "name": "stdout",
     "output_type": "stream",
     "text": [
      "Best training time: 4.037143235000002\n",
      "Best test time: 0.11601643899999203\n",
      "Best training score: 1160.2945579816296\n",
      "Best test score: 1360.2924331953036\n",
      "Best model & hyperparameters: DecisionTreeRegressor(max_depth=14, random_state=12345)\n"
     ]
    }
   ],
   "source": [
    "# Creating variables to store best scores and time\n",
    "dtr_best_train_score = 10000\n",
    "dtr_best_test_score = 10000\n",
    "dtr_best_train_time = 10000\n",
    "dtr_best_test_time = 10000\n",
    "dtr_best_model = None\n",
    "\n",
    "# Creating instances of the decision tree model with varying hyperparameters\n",
    "for depth in range(1, 15):\n",
    "    dtr = DecisionTreeRegressor(max_depth=depth, random_state=random_state)\n",
    "\n",
    "    # Fitting   \n",
    "    ## Recording start time\n",
    "    start = time.process_time()\n",
    "\n",
    "    dtr.fit(train_features, train_target)\n",
    "\n",
    "    ## Recording end time and storing it\n",
    "    end = time.process_time()\n",
    "    dtr_train_time = end - start\n",
    "    \n",
    "    pred = dtr.predict(train_features)\n",
    "    dtr_train_score = (mse(train_target, pred) ** 0.5)\n",
    "    \n",
    "    # Testing   \n",
    "    ## Recording start time\n",
    "    start = time.process_time()\n",
    "\n",
    "    pred = dtr.predict(test_features)\n",
    "\n",
    "    ## Recording end time and storing it\n",
    "    end = time.process_time()\n",
    "    dtr_test_time = end - start\n",
    "    \n",
    "    dtr_test_score = (mse(test_target, pred) ** 0.5)\n",
    "    \n",
    "    # Storing best max_depth and scores\n",
    "    if dtr_test_score < dtr_best_test_score:\n",
    "        dtr_best_train_time = dtr_train_time\n",
    "        dtr_best_test_time = dtr_test_time\n",
    "        dtr_best_train_score = dtr_train_score\n",
    "        dtr_best_test_score = dtr_test_score\n",
    "        dtr_best_model = dtr\n",
    "\n",
    "# Storing information in the performance dictionary\n",
    "performance_dict['dtr'] = [dtr_best_train_time, dtr_best_test_time, dtr_best_train_score, dtr_best_test_score]\n",
    "    \n",
    "# Printing best depth and scores\n",
    "print('Best training time:', dtr_best_train_time)\n",
    "print('Best test time:', dtr_best_test_time)\n",
    "print('Best training score:', dtr_best_train_score)\n",
    "print('Best test score:', dtr_best_test_score)\n",
    "print('Best model & hyperparameters:', dtr_best_model)"
   ]
  },
  {
   "cell_type": "markdown",
   "metadata": {},
   "source": [
    "<div class=\"alert alert-success\">\n",
    "<b>Chamdani's comment v.1</b> <a class=\"tocSkip\"></a>\n",
    "\n",
    "Hebat, Kerja bagus!\n",
    "</div>"
   ]
  },
  {
   "cell_type": "markdown",
   "metadata": {},
   "source": [
    "### Random Forest Regressor"
   ]
  },
  {
   "cell_type": "code",
   "execution_count": 28,
   "metadata": {},
   "outputs": [
    {
     "name": "stdout",
     "output_type": "stream",
     "text": [
      "Best training time: 136.964923768\n",
      "Best test time: 0.741039977000014\n",
      "Best training score: 1259.5276611903114\n",
      "Best test score: 1337.52991415326\n",
      "Best model & hyperparameters: RandomForestRegressor(max_depth=11, n_estimators=61, random_state=12345)\n"
     ]
    }
   ],
   "source": [
    "# Creating variables to store best scores\n",
    "rfr_best_train_score = 10000\n",
    "rfr_best_test_score = 10000\n",
    "rfr_best_train_time = 10000\n",
    "rfr_best_test_time = 10000\n",
    "rfr_best_model = None\n",
    "\n",
    "# Increasing the number of estimators from 1 to 80 by 20 in each loop\n",
    "for estimators in range(1, 81, 20):\n",
    "    # Increasing the depth from 1 to 15 by 5 in each loop \n",
    "    for depth in range(1, 15, 5):\n",
    "        # Creating instances of LGBMRegressor with varying hyperparameters\n",
    "        rfr = RandomForestRegressor(n_estimators=estimators, max_depth=depth, random_state=random_state)\n",
    "\n",
    "        # Fitting   \n",
    "        ## Recording start time\n",
    "        start = time.process_time()\n",
    "\n",
    "        rfr.fit(train_features, train_target)\n",
    "\n",
    "        ## Recording end time and storing it\n",
    "        end = time.process_time()\n",
    "        rfr_train_time = end - start\n",
    "\n",
    "        pred = rfr.predict(train_features)\n",
    "        rfr_train_score = (mse(train_target, pred) ** 0.5)\n",
    "\n",
    "        # Testing   \n",
    "        ## Recording start time\n",
    "        start = time.process_time()\n",
    "\n",
    "        pred = rfr.predict(test_features)\n",
    "\n",
    "        ## Recording end time and storing it\n",
    "        end = time.process_time()\n",
    "        rfr_test_time = end - start\n",
    "\n",
    "        rfr_test_score = (mse(test_target, pred) ** 0.5)\n",
    "\n",
    "        # Storing best max_depth and scores\n",
    "        if rfr_test_score < rfr_best_test_score:\n",
    "            rfr_best_train_time = rfr_train_time\n",
    "            rfr_best_test_time = rfr_test_time\n",
    "            rfr_best_train_score = rfr_train_score\n",
    "            rfr_best_test_score = rfr_test_score\n",
    "            rfr_best_model = rfr\n",
    "    \n",
    "# Storing information in the performance dictionary\n",
    "performance_dict['rfr'] = [rfr_best_train_time, rfr_best_test_time, rfr_best_train_score, rfr_best_test_score]\n",
    "    \n",
    "# Printing best hyperparameters and scores\n",
    "print('Best training time:', rfr_best_train_time)\n",
    "print('Best test time:', rfr_best_test_time)\n",
    "print('Best training score:', rfr_best_train_score)\n",
    "print('Best test score:', rfr_best_test_score)\n",
    "print('Best model & hyperparameters:', rfr_best_model)"
   ]
  },
  {
   "cell_type": "markdown",
   "metadata": {},
   "source": [
    "<div class=\"alert alert-success\">\n",
    "<b>Chamdani's comment v.1</b> <a class=\"tocSkip\"></a>\n",
    "\n",
    "Hebat, Kerja bagus!\n",
    "</div>"
   ]
  },
  {
   "cell_type": "markdown",
   "metadata": {},
   "source": [
    "### Gradient-Boosting Algorithms\n",
    "\n",
    "Gradient-boosting algorithms yang akan kita gunakan sebagai model terdiri dari : XGBoost, LightGBM, dan CatBoost"
   ]
  },
  {
   "cell_type": "markdown",
   "metadata": {},
   "source": [
    "#### XGBoost Regressor"
   ]
  },
  {
   "cell_type": "code",
   "execution_count": 29,
   "metadata": {},
   "outputs": [
    {
     "name": "stdout",
     "output_type": "stream",
     "text": [
      "Best training time: 352.75145111899997\n",
      "Best test time: 1.3605271139999786\n",
      "Best training score: 946.7674745659662\n",
      "Best test score: 1172.8143489871425\n",
      "Best model & hyperparameters: XGBRegressor(base_score=0.5, booster='gbtree', colsample_bylevel=1,\n",
      "             colsample_bynode=1, colsample_bytree=1, enable_categorical=False,\n",
      "             gamma=0, gpu_id=-1, importance_type=None,\n",
      "             interaction_constraints='', learning_rate=0.300000012,\n",
      "             max_delta_step=0, max_depth=11, min_child_weight=1, missing=nan,\n",
      "             monotone_constraints='()', n_estimators=61, n_jobs=4,\n",
      "             num_parallel_tree=1, predictor='auto', random_state=12345,\n",
      "             reg_alpha=0, reg_lambda=1, scale_pos_weight=1, subsample=1,\n",
      "             tree_method='exact', validate_parameters=1, verbosity=None)\n"
     ]
    }
   ],
   "source": [
    "# Creating variables to store best scores\n",
    "xgbr_best_train_score = 10000\n",
    "xgbr_best_test_score = 10000\n",
    "xgbr_best_train_time = 10000\n",
    "xgbr_best_test_time = 10000\n",
    "xgbr_best_model = None\n",
    "\n",
    "# Increasing the number of estimators from 1 to 80 by 20 in each loop\n",
    "for estimators in range(1, 81, 20):\n",
    "    # Increasing the depth from 1 to 15 by 5 in each loop \n",
    "    for depth in range(1, 15, 5):\n",
    "        # Creating instances of LGBMRegressor with varying hyperparameters\n",
    "        xgbr = XGBRegressor(n_estimators=estimators, max_depth=depth, random_state=random_state)\n",
    "\n",
    "        # Fitting   \n",
    "        ## Recording start time\n",
    "        start = time.process_time()\n",
    "\n",
    "        xgbr.fit(train_features, train_target)\n",
    "\n",
    "        ## Recording end time and storing it\n",
    "        end = time.process_time()\n",
    "        xgbr_train_time = end - start\n",
    "\n",
    "        pred = xgbr.predict(train_features)\n",
    "        xgbr_train_score = (mse(train_target, pred) ** 0.5)\n",
    "\n",
    "        # Testing   \n",
    "        ## Recording start time\n",
    "        start = time.process_time()\n",
    "\n",
    "        pred = xgbr.predict(test_features)\n",
    "\n",
    "        ## Recording end time and storing it\n",
    "        end = time.process_time()\n",
    "        xgbr_test_time = end - start\n",
    "\n",
    "        xgbr_test_score = (mse(test_target, pred) ** 0.5)\n",
    "\n",
    "        # Storing best max_depth and scores\n",
    "        if xgbr_test_score < xgbr_best_test_score:\n",
    "            xgbr_best_train_time = xgbr_train_time\n",
    "            xgbr_best_test_time = xgbr_test_time\n",
    "            xgbr_best_train_score = xgbr_train_score\n",
    "            xgbr_best_test_score = xgbr_test_score\n",
    "            xgbr_best_model = xgbr\n",
    "    \n",
    "# Storing information in the performance dictionary\n",
    "performance_dict['xgbr'] = [xgbr_best_train_time, xgbr_best_test_time, xgbr_best_train_score, xgbr_best_test_score]\n",
    "    \n",
    "# Printing best hyperparameters and scores\n",
    "print('Best training time:', xgbr_best_train_time)\n",
    "print('Best test time:', xgbr_best_test_time)\n",
    "print('Best training score:', xgbr_best_train_score)\n",
    "print('Best test score:', xgbr_best_test_score)\n",
    "print('Best model & hyperparameters:', xgbr_best_model)"
   ]
  },
  {
   "cell_type": "markdown",
   "metadata": {},
   "source": [
    "<div class=\"alert alert-success\">\n",
    "<b>Chamdani's comment v.1</b> <a class=\"tocSkip\"></a>\n",
    "\n",
    "Hebat, Kerja bagus!\n",
    "</div>"
   ]
  },
  {
   "cell_type": "markdown",
   "metadata": {},
   "source": [
    "#### LightGBM Regressor"
   ]
  },
  {
   "cell_type": "code",
   "execution_count": 30,
   "metadata": {},
   "outputs": [
    {
     "name": "stdout",
     "output_type": "stream",
     "text": [
      "Best training score: 1245.327236503027\n",
      "Best test score: 1270.376087508665\n",
      "Best training time: 3.527839302000075\n",
      "Best test time: 0.6370782479998525\n",
      "Best model & hyperparameters: LGBMRegressor(max_depth=11, n_estimators=61, random_state=12345)\n"
     ]
    }
   ],
   "source": [
    "# Creating variables to store best scores\n",
    "lgbmr_best_train_score = 10000\n",
    "lgbmr_best_test_score = 10000\n",
    "lgbmr_best_train_time = 10000\n",
    "lgbmr_best_test_time = 10000\n",
    "lgbmr_best_model = None\n",
    "\n",
    "# Increasing the number of estimators from 1 to 80 by 20 in each loop\n",
    "for estimators in range(1, 81, 20):\n",
    "    # Increasing the depth from 1 to 15 by 5 in each loop \n",
    "    for depth in range(1, 15, 5):\n",
    "        # Creating instances of LGBMRegressor with varying hyperparameters\n",
    "        lgbmr = LGBMRegressor(n_estimators=estimators, max_depth=depth, random_state=random_state)\n",
    "\n",
    "        # Fitting   \n",
    "        ## Recording start time\n",
    "        start = time.process_time()\n",
    "\n",
    "        lgbmr.fit(train_features, train_target)\n",
    "\n",
    "        ## Recording end time and storing it\n",
    "        end = time.process_time()\n",
    "        lgbmr_train_time = end - start\n",
    "\n",
    "        pred = lgbmr.predict(train_features)\n",
    "        lgbmr_train_score = (mse(train_target, pred) ** 0.5)\n",
    "\n",
    "        # Testing   \n",
    "        ## Recording start time\n",
    "        start = time.process_time()\n",
    "\n",
    "        pred = lgbmr.predict(test_features)\n",
    "\n",
    "        ## Recording end time and storing it\n",
    "        end = time.process_time()\n",
    "        lgbmr_test_time = end - start\n",
    "\n",
    "        lgbmr_test_score = (mse(test_target, pred) ** 0.5)\n",
    "\n",
    "        # Storing best max_depth and scores\n",
    "        if lgbmr_test_score < lgbmr_best_test_score:\n",
    "            lgbmr_best_train_time = lgbmr_train_time\n",
    "            lgbmr_best_test_time = lgbmr_test_time\n",
    "            lgbmr_best_train_score = lgbmr_train_score\n",
    "            lgbmr_best_test_score = lgbmr_test_score\n",
    "            lgbmr_best_model = lgbmr\n",
    "    \n",
    "# Storing information in the performance dictionary\n",
    "performance_dict['lgbmr'] = [lgbmr_best_train_time, lgbmr_best_test_time, lgbmr_best_train_score, lgbmr_best_test_score]\n",
    "    \n",
    "# Printing best hyperparameters and scores\n",
    "print('Best training score:', lgbmr_best_train_score)\n",
    "print('Best test score:', lgbmr_best_test_score)\n",
    "print('Best training time:', lgbmr_best_train_time)\n",
    "print('Best test time:', lgbmr_best_test_time)\n",
    "print('Best model & hyperparameters:', lgbmr_best_model)"
   ]
  },
  {
   "cell_type": "markdown",
   "metadata": {},
   "source": [
    "<div class=\"alert alert-success\">\n",
    "<b>Chamdani's comment v.1</b> <a class=\"tocSkip\"></a>\n",
    "\n",
    "Hebat, Kerja bagus!\n",
    "</div>"
   ]
  },
  {
   "cell_type": "markdown",
   "metadata": {},
   "source": [
    "#### CatBoost Regressor"
   ]
  },
  {
   "cell_type": "code",
   "execution_count": 31,
   "metadata": {},
   "outputs": [
    {
     "name": "stdout",
     "output_type": "stream",
     "text": [
      "Learning rate set to 0.5\n",
      "0:\tlearn: 2402.7824067\ttotal: 72.8ms\tremaining: 0us\n",
      "Learning rate set to 0.5\n",
      "0:\tlearn: 2130.0763444\ttotal: 41.4ms\tremaining: 0us\n",
      "Learning rate set to 0.5\n",
      "0:\tlearn: 2019.5216117\ttotal: 129ms\tremaining: 0us\n",
      "Learning rate set to 0.5\n",
      "0:\tlearn: 2402.7824067\ttotal: 19.8ms\tremaining: 395ms\n",
      "1:\tlearn: 2212.6499479\ttotal: 40ms\tremaining: 380ms\n",
      "2:\tlearn: 2086.5548836\ttotal: 59.3ms\tremaining: 356ms\n",
      "3:\tlearn: 1997.8078081\ttotal: 77.5ms\tremaining: 329ms\n",
      "4:\tlearn: 1938.4744075\ttotal: 96ms\tremaining: 307ms\n",
      "5:\tlearn: 1884.4547875\ttotal: 115ms\tremaining: 288ms\n",
      "6:\tlearn: 1851.5088110\ttotal: 134ms\tremaining: 269ms\n",
      "7:\tlearn: 1822.8224000\ttotal: 154ms\tremaining: 250ms\n",
      "8:\tlearn: 1796.1990141\ttotal: 172ms\tremaining: 230ms\n",
      "9:\tlearn: 1774.7140932\ttotal: 191ms\tremaining: 210ms\n",
      "10:\tlearn: 1755.2224228\ttotal: 210ms\tremaining: 191ms\n",
      "11:\tlearn: 1736.8452737\ttotal: 231ms\tremaining: 173ms\n",
      "12:\tlearn: 1719.5735044\ttotal: 250ms\tremaining: 154ms\n",
      "13:\tlearn: 1704.3655295\ttotal: 270ms\tremaining: 135ms\n",
      "14:\tlearn: 1694.0570181\ttotal: 289ms\tremaining: 116ms\n",
      "15:\tlearn: 1682.9408809\ttotal: 308ms\tremaining: 96.2ms\n",
      "16:\tlearn: 1673.9831781\ttotal: 327ms\tremaining: 76.9ms\n",
      "17:\tlearn: 1664.7494688\ttotal: 346ms\tremaining: 57.7ms\n",
      "18:\tlearn: 1657.4248081\ttotal: 366ms\tremaining: 38.5ms\n",
      "19:\tlearn: 1650.2087344\ttotal: 385ms\tremaining: 19.2ms\n",
      "20:\tlearn: 1642.9229761\ttotal: 404ms\tremaining: 0us\n",
      "Learning rate set to 0.5\n",
      "0:\tlearn: 2130.0763444\ttotal: 37.5ms\tremaining: 751ms\n",
      "1:\tlearn: 1788.5249192\ttotal: 71.2ms\tremaining: 677ms\n",
      "2:\tlearn: 1616.5334399\ttotal: 104ms\tremaining: 622ms\n",
      "3:\tlearn: 1523.9341416\ttotal: 137ms\tremaining: 580ms\n",
      "4:\tlearn: 1472.9820962\ttotal: 166ms\tremaining: 531ms\n",
      "5:\tlearn: 1439.4535431\ttotal: 196ms\tremaining: 491ms\n",
      "6:\tlearn: 1417.1077757\ttotal: 224ms\tremaining: 449ms\n",
      "7:\tlearn: 1400.3137084\ttotal: 259ms\tremaining: 421ms\n",
      "8:\tlearn: 1386.8396817\ttotal: 289ms\tremaining: 385ms\n",
      "9:\tlearn: 1373.8524407\ttotal: 320ms\tremaining: 352ms\n",
      "10:\tlearn: 1364.1775265\ttotal: 348ms\tremaining: 316ms\n",
      "11:\tlearn: 1353.6758652\ttotal: 379ms\tremaining: 285ms\n",
      "12:\tlearn: 1347.5841026\ttotal: 407ms\tremaining: 250ms\n",
      "13:\tlearn: 1342.9377962\ttotal: 435ms\tremaining: 217ms\n",
      "14:\tlearn: 1334.5598008\ttotal: 467ms\tremaining: 187ms\n",
      "15:\tlearn: 1329.1724924\ttotal: 499ms\tremaining: 156ms\n",
      "16:\tlearn: 1325.0278970\ttotal: 526ms\tremaining: 124ms\n",
      "17:\tlearn: 1318.0921269\ttotal: 561ms\tremaining: 93.6ms\n",
      "18:\tlearn: 1313.2563443\ttotal: 592ms\tremaining: 62.3ms\n",
      "19:\tlearn: 1307.2367325\ttotal: 624ms\tremaining: 31.2ms\n",
      "20:\tlearn: 1304.1204841\ttotal: 650ms\tremaining: 0us\n",
      "Learning rate set to 0.5\n",
      "0:\tlearn: 2019.5216117\ttotal: 127ms\tremaining: 2.55s\n",
      "1:\tlearn: 1647.6488375\ttotal: 247ms\tremaining: 2.35s\n",
      "2:\tlearn: 1470.6513334\ttotal: 373ms\tremaining: 2.24s\n",
      "3:\tlearn: 1388.7633312\ttotal: 499ms\tremaining: 2.12s\n",
      "4:\tlearn: 1349.4270243\ttotal: 627ms\tremaining: 2.01s\n",
      "5:\tlearn: 1322.1611828\ttotal: 757ms\tremaining: 1.89s\n",
      "6:\tlearn: 1306.1103228\ttotal: 887ms\tremaining: 1.77s\n",
      "7:\tlearn: 1289.5300711\ttotal: 1.01s\tremaining: 1.65s\n",
      "8:\tlearn: 1277.7147575\ttotal: 1.14s\tremaining: 1.52s\n",
      "9:\tlearn: 1268.8941505\ttotal: 1.27s\tremaining: 1.39s\n",
      "10:\tlearn: 1262.3068094\ttotal: 1.39s\tremaining: 1.26s\n",
      "11:\tlearn: 1256.8449244\ttotal: 1.51s\tremaining: 1.14s\n",
      "12:\tlearn: 1253.2839868\ttotal: 1.64s\tremaining: 1.01s\n",
      "13:\tlearn: 1248.0584536\ttotal: 1.77s\tremaining: 884ms\n",
      "14:\tlearn: 1240.3113684\ttotal: 1.89s\tremaining: 758ms\n",
      "15:\tlearn: 1233.2128582\ttotal: 2.02s\tremaining: 630ms\n",
      "16:\tlearn: 1226.3170212\ttotal: 2.13s\tremaining: 502ms\n",
      "17:\tlearn: 1221.9230044\ttotal: 2.26s\tremaining: 376ms\n",
      "18:\tlearn: 1219.5143482\ttotal: 2.38s\tremaining: 251ms\n",
      "19:\tlearn: 1215.8183362\ttotal: 2.51s\tremaining: 125ms\n",
      "20:\tlearn: 1211.6938465\ttotal: 2.63s\tremaining: 0us\n",
      "Learning rate set to 0.5\n",
      "0:\tlearn: 2402.7824067\ttotal: 21ms\tremaining: 839ms\n",
      "1:\tlearn: 2212.6499479\ttotal: 41.6ms\tremaining: 812ms\n",
      "2:\tlearn: 2086.5548836\ttotal: 60.1ms\tremaining: 762ms\n",
      "3:\tlearn: 1997.8078081\ttotal: 79.4ms\tremaining: 735ms\n",
      "4:\tlearn: 1938.4744075\ttotal: 98.7ms\tremaining: 711ms\n",
      "5:\tlearn: 1884.4547875\ttotal: 120ms\tremaining: 698ms\n",
      "6:\tlearn: 1851.5088110\ttotal: 139ms\tremaining: 675ms\n",
      "7:\tlearn: 1822.8224000\ttotal: 158ms\tremaining: 650ms\n",
      "8:\tlearn: 1796.1990141\ttotal: 176ms\tremaining: 627ms\n",
      "9:\tlearn: 1774.7140932\ttotal: 195ms\tremaining: 605ms\n",
      "10:\tlearn: 1755.2224228\ttotal: 215ms\tremaining: 587ms\n",
      "11:\tlearn: 1736.8452737\ttotal: 235ms\tremaining: 567ms\n",
      "12:\tlearn: 1719.5735044\ttotal: 257ms\tremaining: 554ms\n",
      "13:\tlearn: 1704.3655295\ttotal: 276ms\tremaining: 532ms\n",
      "14:\tlearn: 1694.0570181\ttotal: 295ms\tremaining: 512ms\n",
      "15:\tlearn: 1682.9408809\ttotal: 315ms\tremaining: 493ms\n",
      "16:\tlearn: 1673.9831781\ttotal: 335ms\tremaining: 472ms\n",
      "17:\tlearn: 1664.7494688\ttotal: 354ms\tremaining: 452ms\n",
      "18:\tlearn: 1657.4248081\ttotal: 374ms\tremaining: 432ms\n",
      "19:\tlearn: 1650.2087344\ttotal: 393ms\tremaining: 412ms\n",
      "20:\tlearn: 1642.9229761\ttotal: 412ms\tremaining: 392ms\n",
      "21:\tlearn: 1636.5034868\ttotal: 430ms\tremaining: 371ms\n",
      "22:\tlearn: 1629.1381914\ttotal: 449ms\tremaining: 351ms\n",
      "23:\tlearn: 1621.8755308\ttotal: 470ms\tremaining: 333ms\n",
      "24:\tlearn: 1615.2793870\ttotal: 490ms\tremaining: 313ms\n",
      "25:\tlearn: 1609.4586933\ttotal: 508ms\tremaining: 293ms\n",
      "26:\tlearn: 1603.0120051\ttotal: 527ms\tremaining: 273ms\n",
      "27:\tlearn: 1598.7566089\ttotal: 550ms\tremaining: 255ms\n",
      "28:\tlearn: 1594.3023334\ttotal: 568ms\tremaining: 235ms\n",
      "29:\tlearn: 1590.0587041\ttotal: 586ms\tremaining: 215ms\n",
      "30:\tlearn: 1585.6616789\ttotal: 604ms\tremaining: 195ms\n",
      "31:\tlearn: 1581.8467354\ttotal: 623ms\tremaining: 175ms\n",
      "32:\tlearn: 1578.3289394\ttotal: 641ms\tremaining: 155ms\n",
      "33:\tlearn: 1573.9215791\ttotal: 659ms\tremaining: 136ms\n",
      "34:\tlearn: 1570.4519824\ttotal: 678ms\tremaining: 116ms\n",
      "35:\tlearn: 1567.3317091\ttotal: 698ms\tremaining: 97ms\n",
      "36:\tlearn: 1564.0789092\ttotal: 717ms\tremaining: 77.5ms\n",
      "37:\tlearn: 1561.0420453\ttotal: 739ms\tremaining: 58.4ms\n",
      "38:\tlearn: 1558.3888555\ttotal: 758ms\tremaining: 38.9ms\n",
      "39:\tlearn: 1555.7684364\ttotal: 776ms\tremaining: 19.4ms\n",
      "40:\tlearn: 1553.3457472\ttotal: 796ms\tremaining: 0us\n",
      "Learning rate set to 0.5\n",
      "0:\tlearn: 2130.0763444\ttotal: 38.8ms\tremaining: 1.55s\n",
      "1:\tlearn: 1788.5249192\ttotal: 76.9ms\tremaining: 1.5s\n",
      "2:\tlearn: 1616.5334399\ttotal: 109ms\tremaining: 1.38s\n",
      "3:\tlearn: 1523.9341416\ttotal: 145ms\tremaining: 1.34s\n",
      "4:\tlearn: 1472.9820962\ttotal: 177ms\tremaining: 1.27s\n",
      "5:\tlearn: 1439.4535431\ttotal: 214ms\tremaining: 1.25s\n",
      "6:\tlearn: 1417.1077757\ttotal: 247ms\tremaining: 1.2s\n",
      "7:\tlearn: 1400.3137084\ttotal: 280ms\tremaining: 1.15s\n",
      "8:\tlearn: 1386.8396817\ttotal: 317ms\tremaining: 1.13s\n",
      "9:\tlearn: 1373.8524407\ttotal: 350ms\tremaining: 1.08s\n",
      "10:\tlearn: 1364.1775265\ttotal: 380ms\tremaining: 1.04s\n",
      "11:\tlearn: 1353.6758652\ttotal: 414ms\tremaining: 1s\n",
      "12:\tlearn: 1347.5841026\ttotal: 444ms\tremaining: 955ms\n",
      "13:\tlearn: 1342.9377962\ttotal: 472ms\tremaining: 911ms\n",
      "14:\tlearn: 1334.5598008\ttotal: 515ms\tremaining: 892ms\n",
      "15:\tlearn: 1329.1724924\ttotal: 553ms\tremaining: 863ms\n",
      "16:\tlearn: 1325.0278970\ttotal: 582ms\tremaining: 821ms\n",
      "17:\tlearn: 1318.0921269\ttotal: 612ms\tremaining: 782ms\n",
      "18:\tlearn: 1313.2563443\ttotal: 642ms\tremaining: 744ms\n",
      "19:\tlearn: 1307.2367325\ttotal: 677ms\tremaining: 711ms\n",
      "20:\tlearn: 1304.1204841\ttotal: 709ms\tremaining: 675ms\n",
      "21:\tlearn: 1300.8245916\ttotal: 736ms\tremaining: 636ms\n",
      "22:\tlearn: 1295.6190614\ttotal: 770ms\tremaining: 603ms\n",
      "23:\tlearn: 1292.5899084\ttotal: 797ms\tremaining: 565ms\n",
      "24:\tlearn: 1289.1673058\ttotal: 829ms\tremaining: 530ms\n",
      "25:\tlearn: 1286.3927132\ttotal: 858ms\tremaining: 495ms\n",
      "26:\tlearn: 1282.7665888\ttotal: 888ms\tremaining: 460ms\n",
      "27:\tlearn: 1278.7110496\ttotal: 923ms\tremaining: 429ms\n",
      "28:\tlearn: 1275.0944064\ttotal: 951ms\tremaining: 394ms\n",
      "29:\tlearn: 1272.9762346\ttotal: 979ms\tremaining: 359ms\n",
      "30:\tlearn: 1270.1440331\ttotal: 1.01s\tremaining: 327ms\n",
      "31:\tlearn: 1267.6825776\ttotal: 1.04s\tremaining: 293ms\n",
      "32:\tlearn: 1265.7338451\ttotal: 1.07s\tremaining: 260ms\n",
      "33:\tlearn: 1263.4952090\ttotal: 1.1s\tremaining: 227ms\n",
      "34:\tlearn: 1261.5785260\ttotal: 1.13s\tremaining: 194ms\n",
      "35:\tlearn: 1258.5587692\ttotal: 1.16s\tremaining: 162ms\n",
      "36:\tlearn: 1255.9950350\ttotal: 1.19s\tremaining: 129ms\n",
      "37:\tlearn: 1254.5960888\ttotal: 1.22s\tremaining: 96.4ms\n",
      "38:\tlearn: 1252.8268228\ttotal: 1.25s\tremaining: 64.1ms\n",
      "39:\tlearn: 1250.8189115\ttotal: 1.28s\tremaining: 32ms\n",
      "40:\tlearn: 1246.8653920\ttotal: 1.31s\tremaining: 0us\n",
      "Learning rate set to 0.5\n",
      "0:\tlearn: 2019.5216117\ttotal: 120ms\tremaining: 4.78s\n",
      "1:\tlearn: 1647.6488375\ttotal: 243ms\tremaining: 4.73s\n"
     ]
    },
    {
     "name": "stdout",
     "output_type": "stream",
     "text": [
      "2:\tlearn: 1470.6513334\ttotal: 367ms\tremaining: 4.65s\n",
      "3:\tlearn: 1388.7633312\ttotal: 498ms\tremaining: 4.6s\n",
      "4:\tlearn: 1349.4270243\ttotal: 624ms\tremaining: 4.5s\n",
      "5:\tlearn: 1322.1611828\ttotal: 746ms\tremaining: 4.35s\n",
      "6:\tlearn: 1306.1103228\ttotal: 870ms\tremaining: 4.22s\n",
      "7:\tlearn: 1289.5300711\ttotal: 998ms\tremaining: 4.12s\n",
      "8:\tlearn: 1277.7147575\ttotal: 1.12s\tremaining: 4s\n",
      "9:\tlearn: 1268.8941505\ttotal: 1.25s\tremaining: 3.87s\n",
      "10:\tlearn: 1262.3068094\ttotal: 1.37s\tremaining: 3.74s\n",
      "11:\tlearn: 1256.8449244\ttotal: 1.5s\tremaining: 3.63s\n",
      "12:\tlearn: 1253.2839868\ttotal: 1.63s\tremaining: 3.51s\n",
      "13:\tlearn: 1248.0584536\ttotal: 1.75s\tremaining: 3.37s\n",
      "14:\tlearn: 1240.3113684\ttotal: 1.87s\tremaining: 3.24s\n",
      "15:\tlearn: 1233.2128582\ttotal: 2s\tremaining: 3.12s\n",
      "16:\tlearn: 1226.3170212\ttotal: 2.12s\tremaining: 2.99s\n",
      "17:\tlearn: 1221.9230044\ttotal: 2.24s\tremaining: 2.87s\n",
      "18:\tlearn: 1219.5143482\ttotal: 2.36s\tremaining: 2.74s\n",
      "19:\tlearn: 1215.8183362\ttotal: 2.49s\tremaining: 2.61s\n",
      "20:\tlearn: 1211.6938465\ttotal: 2.62s\tremaining: 2.5s\n",
      "21:\tlearn: 1208.9467924\ttotal: 2.74s\tremaining: 2.37s\n",
      "22:\tlearn: 1206.0705778\ttotal: 2.86s\tremaining: 2.24s\n",
      "23:\tlearn: 1204.2345605\ttotal: 2.99s\tremaining: 2.12s\n",
      "24:\tlearn: 1200.5315596\ttotal: 3.12s\tremaining: 1.99s\n",
      "25:\tlearn: 1196.1868557\ttotal: 3.24s\tremaining: 1.87s\n",
      "26:\tlearn: 1192.6801543\ttotal: 3.36s\tremaining: 1.74s\n",
      "27:\tlearn: 1190.6195317\ttotal: 3.49s\tremaining: 1.62s\n",
      "28:\tlearn: 1187.8663425\ttotal: 3.62s\tremaining: 1.5s\n",
      "29:\tlearn: 1184.9570379\ttotal: 3.74s\tremaining: 1.37s\n",
      "30:\tlearn: 1181.8146964\ttotal: 3.87s\tremaining: 1.25s\n",
      "31:\tlearn: 1179.4431406\ttotal: 3.99s\tremaining: 1.12s\n",
      "32:\tlearn: 1176.1402082\ttotal: 4.11s\tremaining: 997ms\n",
      "33:\tlearn: 1173.8435180\ttotal: 4.24s\tremaining: 872ms\n",
      "34:\tlearn: 1170.6745684\ttotal: 4.36s\tremaining: 748ms\n",
      "35:\tlearn: 1168.4821461\ttotal: 4.48s\tremaining: 623ms\n",
      "36:\tlearn: 1165.4468583\ttotal: 4.61s\tremaining: 498ms\n",
      "37:\tlearn: 1162.4886194\ttotal: 4.74s\tremaining: 374ms\n",
      "38:\tlearn: 1159.4679000\ttotal: 4.86s\tremaining: 249ms\n",
      "39:\tlearn: 1156.9477121\ttotal: 4.99s\tremaining: 125ms\n",
      "40:\tlearn: 1155.6122285\ttotal: 5.12s\tremaining: 0us\n",
      "Learning rate set to 0.5\n",
      "0:\tlearn: 2402.7824067\ttotal: 20.9ms\tremaining: 1.25s\n",
      "1:\tlearn: 2212.6499479\ttotal: 41.6ms\tremaining: 1.23s\n",
      "2:\tlearn: 2086.5548836\ttotal: 60.5ms\tremaining: 1.17s\n",
      "3:\tlearn: 1997.8078081\ttotal: 79.6ms\tremaining: 1.13s\n",
      "4:\tlearn: 1938.4744075\ttotal: 99.3ms\tremaining: 1.11s\n",
      "5:\tlearn: 1884.4547875\ttotal: 119ms\tremaining: 1.09s\n",
      "6:\tlearn: 1851.5088110\ttotal: 139ms\tremaining: 1.07s\n",
      "7:\tlearn: 1822.8224000\ttotal: 158ms\tremaining: 1.05s\n",
      "8:\tlearn: 1796.1990141\ttotal: 176ms\tremaining: 1.02s\n",
      "9:\tlearn: 1774.7140932\ttotal: 195ms\tremaining: 995ms\n",
      "10:\tlearn: 1755.2224228\ttotal: 214ms\tremaining: 975ms\n",
      "11:\tlearn: 1736.8452737\ttotal: 233ms\tremaining: 953ms\n",
      "12:\tlearn: 1719.5735044\ttotal: 253ms\tremaining: 934ms\n",
      "13:\tlearn: 1704.3655295\ttotal: 272ms\tremaining: 914ms\n",
      "14:\tlearn: 1694.0570181\ttotal: 291ms\tremaining: 891ms\n",
      "15:\tlearn: 1682.9408809\ttotal: 309ms\tremaining: 869ms\n",
      "16:\tlearn: 1673.9831781\ttotal: 332ms\tremaining: 859ms\n",
      "17:\tlearn: 1664.7494688\ttotal: 351ms\tremaining: 838ms\n",
      "18:\tlearn: 1657.4248081\ttotal: 371ms\tremaining: 819ms\n",
      "19:\tlearn: 1650.2087344\ttotal: 390ms\tremaining: 799ms\n",
      "20:\tlearn: 1642.9229761\ttotal: 408ms\tremaining: 777ms\n",
      "21:\tlearn: 1636.5034868\ttotal: 427ms\tremaining: 756ms\n",
      "22:\tlearn: 1629.1381914\ttotal: 447ms\tremaining: 739ms\n",
      "23:\tlearn: 1621.8755308\ttotal: 470ms\tremaining: 724ms\n",
      "24:\tlearn: 1615.2793870\ttotal: 489ms\tremaining: 704ms\n",
      "25:\tlearn: 1609.4586933\ttotal: 508ms\tremaining: 684ms\n",
      "26:\tlearn: 1603.0120051\ttotal: 531ms\tremaining: 669ms\n",
      "27:\tlearn: 1598.7566089\ttotal: 550ms\tremaining: 648ms\n",
      "28:\tlearn: 1594.3023334\ttotal: 569ms\tremaining: 628ms\n",
      "29:\tlearn: 1590.0587041\ttotal: 589ms\tremaining: 609ms\n",
      "30:\tlearn: 1585.6616789\ttotal: 608ms\tremaining: 588ms\n",
      "31:\tlearn: 1581.8467354\ttotal: 626ms\tremaining: 567ms\n",
      "32:\tlearn: 1578.3289394\ttotal: 644ms\tremaining: 546ms\n",
      "33:\tlearn: 1573.9215791\ttotal: 662ms\tremaining: 526ms\n",
      "34:\tlearn: 1570.4519824\ttotal: 681ms\tremaining: 506ms\n",
      "35:\tlearn: 1567.3317091\ttotal: 702ms\tremaining: 487ms\n",
      "36:\tlearn: 1564.0789092\ttotal: 724ms\tremaining: 469ms\n",
      "37:\tlearn: 1561.0420453\ttotal: 743ms\tremaining: 450ms\n",
      "38:\tlearn: 1558.3888555\ttotal: 763ms\tremaining: 430ms\n",
      "39:\tlearn: 1555.7684364\ttotal: 783ms\tremaining: 411ms\n",
      "40:\tlearn: 1553.3457472\ttotal: 802ms\tremaining: 391ms\n",
      "41:\tlearn: 1550.8666604\ttotal: 822ms\tremaining: 372ms\n",
      "42:\tlearn: 1547.6128432\ttotal: 840ms\tremaining: 352ms\n",
      "43:\tlearn: 1545.1627829\ttotal: 859ms\tremaining: 332ms\n",
      "44:\tlearn: 1542.8297344\ttotal: 878ms\tremaining: 312ms\n",
      "45:\tlearn: 1540.5479182\ttotal: 897ms\tremaining: 293ms\n",
      "46:\tlearn: 1538.3619970\ttotal: 920ms\tremaining: 274ms\n",
      "47:\tlearn: 1536.3576794\ttotal: 939ms\tremaining: 254ms\n",
      "48:\tlearn: 1534.4961681\ttotal: 957ms\tremaining: 234ms\n",
      "49:\tlearn: 1532.4094391\ttotal: 976ms\tremaining: 215ms\n",
      "50:\tlearn: 1530.6759662\ttotal: 994ms\tremaining: 195ms\n",
      "51:\tlearn: 1529.0340181\ttotal: 1.01s\tremaining: 175ms\n",
      "52:\tlearn: 1527.4242757\ttotal: 1.03s\tremaining: 156ms\n",
      "53:\tlearn: 1525.8299042\ttotal: 1.05s\tremaining: 136ms\n",
      "54:\tlearn: 1524.2241191\ttotal: 1.07s\tremaining: 117ms\n",
      "55:\tlearn: 1522.6718759\ttotal: 1.09s\tremaining: 97.1ms\n",
      "56:\tlearn: 1521.2329594\ttotal: 1.11s\tremaining: 77.6ms\n",
      "57:\tlearn: 1519.7818304\ttotal: 1.13s\tremaining: 58.4ms\n",
      "58:\tlearn: 1518.3171452\ttotal: 1.15s\tremaining: 39ms\n",
      "59:\tlearn: 1516.7213771\ttotal: 1.17s\tremaining: 19.5ms\n",
      "60:\tlearn: 1515.0650172\ttotal: 1.19s\tremaining: 0us\n",
      "Learning rate set to 0.5\n",
      "0:\tlearn: 2130.0763444\ttotal: 37.8ms\tremaining: 2.27s\n",
      "1:\tlearn: 1788.5249192\ttotal: 69.2ms\tremaining: 2.04s\n",
      "2:\tlearn: 1616.5334399\ttotal: 102ms\tremaining: 1.97s\n",
      "3:\tlearn: 1523.9341416\ttotal: 136ms\tremaining: 1.93s\n",
      "4:\tlearn: 1472.9820962\ttotal: 165ms\tremaining: 1.85s\n",
      "5:\tlearn: 1439.4535431\ttotal: 196ms\tremaining: 1.8s\n",
      "6:\tlearn: 1417.1077757\ttotal: 224ms\tremaining: 1.73s\n",
      "7:\tlearn: 1400.3137084\ttotal: 255ms\tremaining: 1.69s\n",
      "8:\tlearn: 1386.8396817\ttotal: 285ms\tremaining: 1.65s\n",
      "9:\tlearn: 1373.8524407\ttotal: 314ms\tremaining: 1.6s\n",
      "10:\tlearn: 1364.1775265\ttotal: 341ms\tremaining: 1.55s\n",
      "11:\tlearn: 1353.6758652\ttotal: 372ms\tremaining: 1.52s\n",
      "12:\tlearn: 1347.5841026\ttotal: 398ms\tremaining: 1.47s\n",
      "13:\tlearn: 1342.9377962\ttotal: 423ms\tremaining: 1.42s\n",
      "14:\tlearn: 1334.5598008\ttotal: 455ms\tremaining: 1.39s\n",
      "15:\tlearn: 1329.1724924\ttotal: 491ms\tremaining: 1.38s\n",
      "16:\tlearn: 1325.0278970\ttotal: 518ms\tremaining: 1.34s\n",
      "17:\tlearn: 1318.0921269\ttotal: 548ms\tremaining: 1.31s\n",
      "18:\tlearn: 1313.2563443\ttotal: 574ms\tremaining: 1.27s\n",
      "19:\tlearn: 1307.2367325\ttotal: 608ms\tremaining: 1.25s\n",
      "20:\tlearn: 1304.1204841\ttotal: 634ms\tremaining: 1.21s\n",
      "21:\tlearn: 1300.8245916\ttotal: 666ms\tremaining: 1.18s\n",
      "22:\tlearn: 1295.6190614\ttotal: 698ms\tremaining: 1.15s\n",
      "23:\tlearn: 1292.5899084\ttotal: 726ms\tremaining: 1.12s\n",
      "24:\tlearn: 1289.1673058\ttotal: 757ms\tremaining: 1.09s\n",
      "25:\tlearn: 1286.3927132\ttotal: 788ms\tremaining: 1.06s\n",
      "26:\tlearn: 1282.7665888\ttotal: 817ms\tremaining: 1.03s\n",
      "27:\tlearn: 1278.7110496\ttotal: 850ms\tremaining: 1s\n",
      "28:\tlearn: 1275.0944064\ttotal: 878ms\tremaining: 969ms\n",
      "29:\tlearn: 1272.9762346\ttotal: 905ms\tremaining: 935ms\n",
      "30:\tlearn: 1270.1440331\ttotal: 937ms\tremaining: 907ms\n",
      "31:\tlearn: 1267.6825776\ttotal: 964ms\tremaining: 873ms\n",
      "32:\tlearn: 1265.7338451\ttotal: 990ms\tremaining: 840ms\n",
      "33:\tlearn: 1263.4952090\ttotal: 1.02s\tremaining: 809ms\n",
      "34:\tlearn: 1261.5785260\ttotal: 1.04s\tremaining: 777ms\n",
      "35:\tlearn: 1258.5587692\ttotal: 1.08s\tremaining: 750ms\n",
      "36:\tlearn: 1255.9950350\ttotal: 1.11s\tremaining: 718ms\n",
      "37:\tlearn: 1254.5960888\ttotal: 1.13s\tremaining: 686ms\n",
      "38:\tlearn: 1252.8268228\ttotal: 1.16s\tremaining: 655ms\n",
      "39:\tlearn: 1250.8189115\ttotal: 1.19s\tremaining: 627ms\n",
      "40:\tlearn: 1246.8653920\ttotal: 1.22s\tremaining: 597ms\n",
      "41:\tlearn: 1244.1670194\ttotal: 1.25s\tremaining: 568ms\n",
      "42:\tlearn: 1242.4502546\ttotal: 1.28s\tremaining: 538ms\n",
      "43:\tlearn: 1240.4888449\ttotal: 1.31s\tremaining: 508ms\n",
      "44:\tlearn: 1237.9895999\ttotal: 1.34s\tremaining: 478ms\n",
      "45:\tlearn: 1237.4471529\ttotal: 1.37s\tremaining: 446ms\n",
      "46:\tlearn: 1235.7922119\ttotal: 1.4s\tremaining: 418ms\n",
      "47:\tlearn: 1234.5742045\ttotal: 1.43s\tremaining: 387ms\n",
      "48:\tlearn: 1232.8355438\ttotal: 1.46s\tremaining: 357ms\n",
      "49:\tlearn: 1231.7437623\ttotal: 1.49s\tremaining: 327ms\n",
      "50:\tlearn: 1229.5111506\ttotal: 1.51s\tremaining: 297ms\n",
      "51:\tlearn: 1228.2565833\ttotal: 1.54s\tremaining: 267ms\n",
      "52:\tlearn: 1226.7599465\ttotal: 1.58s\tremaining: 238ms\n",
      "53:\tlearn: 1225.7149258\ttotal: 1.61s\tremaining: 208ms\n",
      "54:\tlearn: 1224.3832746\ttotal: 1.63s\tremaining: 178ms\n",
      "55:\tlearn: 1223.1248142\ttotal: 1.66s\tremaining: 148ms\n",
      "56:\tlearn: 1222.3494285\ttotal: 1.69s\tremaining: 118ms\n",
      "57:\tlearn: 1220.8753021\ttotal: 1.72s\tremaining: 88.7ms\n"
     ]
    },
    {
     "name": "stdout",
     "output_type": "stream",
     "text": [
      "58:\tlearn: 1220.0365903\ttotal: 1.74s\tremaining: 59.1ms\n",
      "59:\tlearn: 1218.1447607\ttotal: 1.77s\tremaining: 29.5ms\n",
      "60:\tlearn: 1216.5357001\ttotal: 1.8s\tremaining: 0us\n",
      "Learning rate set to 0.5\n",
      "0:\tlearn: 2019.5216117\ttotal: 129ms\tremaining: 7.73s\n",
      "1:\tlearn: 1647.6488375\ttotal: 253ms\tremaining: 7.46s\n",
      "2:\tlearn: 1470.6513334\ttotal: 375ms\tremaining: 7.25s\n",
      "3:\tlearn: 1388.7633312\ttotal: 498ms\tremaining: 7.09s\n",
      "4:\tlearn: 1349.4270243\ttotal: 625ms\tremaining: 6.99s\n",
      "5:\tlearn: 1322.1611828\ttotal: 752ms\tremaining: 6.89s\n",
      "6:\tlearn: 1306.1103228\ttotal: 877ms\tremaining: 6.76s\n",
      "7:\tlearn: 1289.5300711\ttotal: 1s\tremaining: 6.65s\n",
      "8:\tlearn: 1277.7147575\ttotal: 1.13s\tremaining: 6.53s\n",
      "9:\tlearn: 1268.8941505\ttotal: 1.26s\tremaining: 6.41s\n",
      "10:\tlearn: 1262.3068094\ttotal: 1.38s\tremaining: 6.29s\n",
      "11:\tlearn: 1256.8449244\ttotal: 1.51s\tremaining: 6.17s\n",
      "12:\tlearn: 1253.2839868\ttotal: 1.63s\tremaining: 6.03s\n",
      "13:\tlearn: 1248.0584536\ttotal: 1.76s\tremaining: 5.91s\n",
      "14:\tlearn: 1240.3113684\ttotal: 1.89s\tremaining: 5.78s\n",
      "15:\tlearn: 1233.2128582\ttotal: 2.01s\tremaining: 5.66s\n",
      "16:\tlearn: 1226.3170212\ttotal: 2.13s\tremaining: 5.51s\n",
      "17:\tlearn: 1221.9230044\ttotal: 2.26s\tremaining: 5.41s\n",
      "18:\tlearn: 1219.5143482\ttotal: 2.39s\tremaining: 5.28s\n",
      "19:\tlearn: 1215.8183362\ttotal: 2.52s\tremaining: 5.16s\n",
      "20:\tlearn: 1211.6938465\ttotal: 2.65s\tremaining: 5.04s\n",
      "21:\tlearn: 1208.9467924\ttotal: 2.77s\tremaining: 4.92s\n",
      "22:\tlearn: 1206.0705778\ttotal: 2.9s\tremaining: 4.79s\n",
      "23:\tlearn: 1204.2345605\ttotal: 3.03s\tremaining: 4.67s\n",
      "24:\tlearn: 1200.5315596\ttotal: 3.16s\tremaining: 4.55s\n",
      "25:\tlearn: 1196.1868557\ttotal: 3.28s\tremaining: 4.42s\n",
      "26:\tlearn: 1192.6801543\ttotal: 3.41s\tremaining: 4.29s\n",
      "27:\tlearn: 1190.6195317\ttotal: 3.54s\tremaining: 4.17s\n",
      "28:\tlearn: 1187.8663425\ttotal: 3.67s\tremaining: 4.05s\n",
      "29:\tlearn: 1184.9570379\ttotal: 3.8s\tremaining: 3.92s\n",
      "30:\tlearn: 1181.8146964\ttotal: 3.92s\tremaining: 3.79s\n",
      "31:\tlearn: 1179.4431406\ttotal: 4.04s\tremaining: 3.66s\n",
      "32:\tlearn: 1176.1402082\ttotal: 4.17s\tremaining: 3.54s\n",
      "33:\tlearn: 1173.8435180\ttotal: 4.29s\tremaining: 3.4s\n",
      "34:\tlearn: 1170.6745684\ttotal: 4.41s\tremaining: 3.28s\n",
      "35:\tlearn: 1168.4821461\ttotal: 4.54s\tremaining: 3.15s\n",
      "36:\tlearn: 1165.4468583\ttotal: 4.67s\tremaining: 3.03s\n",
      "37:\tlearn: 1162.4886194\ttotal: 4.8s\tremaining: 2.91s\n",
      "38:\tlearn: 1159.4679000\ttotal: 4.93s\tremaining: 2.78s\n",
      "39:\tlearn: 1156.9477121\ttotal: 5.06s\tremaining: 2.65s\n",
      "40:\tlearn: 1155.6122285\ttotal: 5.19s\tremaining: 2.53s\n",
      "41:\tlearn: 1153.2567372\ttotal: 5.31s\tremaining: 2.4s\n",
      "42:\tlearn: 1150.5915700\ttotal: 5.43s\tremaining: 2.27s\n",
      "43:\tlearn: 1147.5418114\ttotal: 5.56s\tremaining: 2.15s\n",
      "44:\tlearn: 1145.4673465\ttotal: 5.69s\tremaining: 2.02s\n",
      "45:\tlearn: 1144.4257202\ttotal: 5.82s\tremaining: 1.9s\n",
      "46:\tlearn: 1142.7491363\ttotal: 5.94s\tremaining: 1.77s\n",
      "47:\tlearn: 1141.6508659\ttotal: 6.06s\tremaining: 1.64s\n",
      "48:\tlearn: 1140.0977958\ttotal: 6.19s\tremaining: 1.51s\n",
      "49:\tlearn: 1139.0550182\ttotal: 6.32s\tremaining: 1.39s\n",
      "50:\tlearn: 1136.6166778\ttotal: 6.43s\tremaining: 1.26s\n",
      "51:\tlearn: 1134.7432575\ttotal: 6.56s\tremaining: 1.14s\n",
      "52:\tlearn: 1133.2304745\ttotal: 6.69s\tremaining: 1.01s\n",
      "53:\tlearn: 1133.0686732\ttotal: 6.81s\tremaining: 883ms\n",
      "54:\tlearn: 1131.3792567\ttotal: 6.93s\tremaining: 756ms\n",
      "55:\tlearn: 1127.7817777\ttotal: 7.06s\tremaining: 631ms\n",
      "56:\tlearn: 1126.6831843\ttotal: 7.19s\tremaining: 504ms\n",
      "57:\tlearn: 1125.0060371\ttotal: 7.32s\tremaining: 378ms\n",
      "58:\tlearn: 1123.4963308\ttotal: 7.44s\tremaining: 252ms\n",
      "59:\tlearn: 1122.2748170\ttotal: 7.55s\tremaining: 126ms\n",
      "60:\tlearn: 1120.2110758\ttotal: 7.68s\tremaining: 0us\n",
      "Best training time: 8.941260809999903\n",
      "Best test time: 0.06307451100019534\n",
      "Best training score: 1120.2110758257077\n",
      "Best test score: 1200.5984130476456\n",
      "Best model & hyperparameters: <catboost.core.CatBoostRegressor object at 0x7f57b67f6220>\n"
     ]
    }
   ],
   "source": [
    "# Creating variables to store best scores\n",
    "cbr_best_depth = 10000\n",
    "cbr_best_train_score = 10000\n",
    "cbr_best_test_score = 10000\n",
    "cbr_best_train_time = 10000\n",
    "cbr_best_test_time = 10000\n",
    "cbr_best_model = None\n",
    "\n",
    "# Increasing the number of estimators from 1 to 80 by 20 in each loop\n",
    "for estimators in range(1, 81, 20):\n",
    "    # Increasing the depth from 1 to 15 by 5 in each loop \n",
    "    for depth in range(1, 15, 5):\n",
    "        # Creating instances of LGBMRegressor with varying hyperparameters\n",
    "        cbr = CatBoostRegressor(n_estimators=estimators, max_depth=depth, random_state=random_state)\n",
    "\n",
    "        # Fitting   \n",
    "        ## Recording start time\n",
    "        start = time.process_time()\n",
    "\n",
    "        cbr.fit(train_features, train_target)\n",
    "\n",
    "        ## Recording end time and storing it\n",
    "        end = time.process_time()\n",
    "        cbr_train_time = end - start\n",
    "\n",
    "        pred = cbr.predict(train_features)\n",
    "        cbr_train_score = (mse(train_target, pred) ** 0.5)\n",
    "\n",
    "        # Testing   \n",
    "        ## Recording start time\n",
    "        start = time.process_time()\n",
    "\n",
    "        pred = cbr.predict(test_features)\n",
    "\n",
    "        ## Recording end time and storing it\n",
    "        end = time.process_time()\n",
    "        cbr_test_time = end - start\n",
    "\n",
    "        cbr_test_score = (mse(test_target, pred) ** 0.5)\n",
    "\n",
    "        # Storing best max_depth and scores\n",
    "        if cbr_test_score < cbr_best_test_score:\n",
    "            cbr_best_train_time = cbr_train_time\n",
    "            cbr_best_test_time = cbr_test_time\n",
    "            cbr_best_train_score = cbr_train_score\n",
    "            cbr_best_test_score = cbr_test_score\n",
    "            cbr_best_model = cbr\n",
    "    \n",
    "# Storing information in the performance dictionary\n",
    "performance_dict['cbr'] = [cbr_best_train_time, cbr_best_test_time, cbr_best_train_score, cbr_best_test_score]\n",
    "    \n",
    "# Printing best hyperparameters and scores\n",
    "print('Best training time:', cbr_best_train_time)\n",
    "print('Best test time:', cbr_best_test_time)\n",
    "print('Best training score:', cbr_best_train_score)\n",
    "print('Best test score:', cbr_best_test_score)\n",
    "print('Best model & hyperparameters:', cbr_best_model)"
   ]
  },
  {
   "cell_type": "markdown",
   "metadata": {},
   "source": [
    "<div class=\"alert alert-success\">\n",
    "<b>Chamdani's comment v.1</b> <a class=\"tocSkip\"></a>\n",
    "\n",
    "Hebat, Kerja bagus!\n",
    "</div>"
   ]
  },
  {
   "cell_type": "code",
   "execution_count": 32,
   "metadata": {},
   "outputs": [
    {
     "data": {
      "text/plain": [
       "{'loss_function': 'RMSE',\n",
       " 'max_depth': 11,\n",
       " 'n_estimators': 61,\n",
       " 'random_state': 12345}"
      ]
     },
     "execution_count": 32,
     "metadata": {},
     "output_type": "execute_result"
    }
   ],
   "source": [
    "cbr_best_model.get_params()"
   ]
  },
  {
   "cell_type": "markdown",
   "metadata": {},
   "source": [
    "## Analisis Model"
   ]
  },
  {
   "cell_type": "code",
   "execution_count": 33,
   "metadata": {
    "scrolled": true
   },
   "outputs": [
    {
     "data": {
      "text/html": [
       "<div>\n",
       "<style scoped>\n",
       "    .dataframe tbody tr th:only-of-type {\n",
       "        vertical-align: middle;\n",
       "    }\n",
       "\n",
       "    .dataframe tbody tr th {\n",
       "        vertical-align: top;\n",
       "    }\n",
       "\n",
       "    .dataframe thead th {\n",
       "        text-align: right;\n",
       "    }\n",
       "</style>\n",
       "<table border=\"1\" class=\"dataframe\">\n",
       "  <thead>\n",
       "    <tr style=\"text-align: right;\">\n",
       "      <th></th>\n",
       "      <th>Training time</th>\n",
       "      <th>Test time</th>\n",
       "      <th>Test score</th>\n",
       "      <th>Training score</th>\n",
       "    </tr>\n",
       "  </thead>\n",
       "  <tbody>\n",
       "    <tr>\n",
       "      <th>lr</th>\n",
       "      <td>15.115438</td>\n",
       "      <td>0.145296</td>\n",
       "      <td>1748.069437</td>\n",
       "      <td>1764.106890</td>\n",
       "    </tr>\n",
       "    <tr>\n",
       "      <th>dtr</th>\n",
       "      <td>4.037143</td>\n",
       "      <td>0.116016</td>\n",
       "      <td>1160.294558</td>\n",
       "      <td>1360.292433</td>\n",
       "    </tr>\n",
       "    <tr>\n",
       "      <th>rfr</th>\n",
       "      <td>136.964924</td>\n",
       "      <td>0.741040</td>\n",
       "      <td>1259.527661</td>\n",
       "      <td>1337.529914</td>\n",
       "    </tr>\n",
       "    <tr>\n",
       "      <th>xgbr</th>\n",
       "      <td>352.751451</td>\n",
       "      <td>1.360527</td>\n",
       "      <td>946.767475</td>\n",
       "      <td>1172.814349</td>\n",
       "    </tr>\n",
       "    <tr>\n",
       "      <th>lgbmr</th>\n",
       "      <td>3.527839</td>\n",
       "      <td>0.637078</td>\n",
       "      <td>1245.327237</td>\n",
       "      <td>1270.376088</td>\n",
       "    </tr>\n",
       "    <tr>\n",
       "      <th>cbr</th>\n",
       "      <td>8.941261</td>\n",
       "      <td>0.063075</td>\n",
       "      <td>1120.211076</td>\n",
       "      <td>1200.598413</td>\n",
       "    </tr>\n",
       "  </tbody>\n",
       "</table>\n",
       "</div>"
      ],
      "text/plain": [
       "       Training time  Test time   Test score  Training score\n",
       "lr         15.115438   0.145296  1748.069437     1764.106890\n",
       "dtr         4.037143   0.116016  1160.294558     1360.292433\n",
       "rfr       136.964924   0.741040  1259.527661     1337.529914\n",
       "xgbr      352.751451   1.360527   946.767475     1172.814349\n",
       "lgbmr       3.527839   0.637078  1245.327237     1270.376088\n",
       "cbr         8.941261   0.063075  1120.211076     1200.598413"
      ]
     },
     "execution_count": 33,
     "metadata": {},
     "output_type": "execute_result"
    }
   ],
   "source": [
    "performance_df = pd.DataFrame.from_dict(data=performance_dict, orient='index', columns=performance_columns)\n",
    "performance_df"
   ]
  },
  {
   "cell_type": "markdown",
   "metadata": {},
   "source": [
    "<div class=\"alert alert-success\">\n",
    "<b>Chamdani's comment v.1</b> <a class=\"tocSkip\"></a>\n",
    "\n",
    "Hebat, Kerja bagus!\n",
    "</div>"
   ]
  },
  {
   "cell_type": "markdown",
   "metadata": {},
   "source": [
    "## Kesimpulan\n",
    "\n",
    "- Terdapat data yang hilang pada beberapa kolom, pada kolom vehicletype data yang hilang diisi berdasarkan model karena termasuk categorical data, dan yang lain kita isi dengan `unknown`\n",
    "- Pada kolom 'registrationyear' tahun yang kurang dari 1913 dan lebih dari 2016 akan di drop karena kita anggap sebagai outlier\n",
    "- Pada kolom power & price untuk menghilangkan outlier kita menggunakan pendekatan kuantil atas - kuantil bawah\n",
    "- Total data yang di drop mencapai 117845 atau mencapai 33% dari dataset original\n",
    "- Harga mobil terendah adalah 0 dan yang tertinggi hampir mendekati 12000, Mobil yang tergistrasi rata pada tahun 2000-2010, Rata-rata Mileage lebih dari 140000 miles, Rata-rata mobil memiliki daya 50-150 Hp\n",
    "- Mobil paling populer adalah tipe sedan dan small, transmisi manual adalah yang paling banyak digunakan, Bahan bakar paling sering digunakan adalah petrol dan gasoline, Sebagian besar mobil belum pernah diperbaiki sebelumnya\n",
    "\n",
    "- Untuk pelatihan model kita menggunakan linear regression, decision tree regressor, random forest regressor, dan untuk gradient boosting algoritms, kita menggunakan xgboost regressor, lightgbm regressor, dan catboost regressor\n",
    "- Semua model dalam meprediksi target memiliki hasil yang lebih baik dari linear regression yang ditunjukkan dengan nilai RMSE lebih rendah\n",
    "- Semua model ensemble mencapai puncak performa pada hyperparameter yg sama yakni `n_estimators` = 61, `max_depth` = 11\n",
    "- XGBoost Regressor memiliki nilai yang terbaik untuk memprediksi target values (~1172), diikuti oleh Catboost regressor (~1200), dan LighGBM regressor (~1270)\n",
    "- Catboost regressor memiliki performa tercepat untuk memprediksi target values (~0.06), diikuti oleh LighGBM regressor (~0.6), dan XGBoost regressor (~1.3) untuk model-model gradient boosting\n",
    "- Dan untuk kecepatan pelatihan model, yang tercepat adalah LightGBM (~3.4), kemudian Catboost (~8.9), dan XGBoost (~338)\n",
    "\n",
    "- Berdasarkan permintaan Rusty Bargain yang tertarik berdasarkan kriteria kualitas model, kecepatan prediksi , dan waktu yang diperlukan untuk melatih model untuk menentukan nilai pasar mobil, kita memutuskan untuk menggunakan model CatBoost Regressor dengan hyperparameter :\n",
    "- 'loss_function': 'RMSE'\n",
    "- 'max_depth': 11\n",
    "- 'n_estimators': 61\n",
    "- 'random_state': 12345"
   ]
  },
  {
   "cell_type": "markdown",
   "metadata": {},
   "source": [
    "<div class=\"alert alert-success\">\n",
    "<b>Chamdani's comment v.1</b> <a class=\"tocSkip\"></a>\n",
    "\n",
    "Hebat, Kerja bagus!\n",
    "</div>"
   ]
  },
  {
   "cell_type": "markdown",
   "metadata": {},
   "source": [
    "# Daftar Periksa"
   ]
  },
  {
   "cell_type": "markdown",
   "metadata": {},
   "source": [
    "Ketik 'x' untuk menandakannya sebagai selesai. Lalu, tekan tombol Shift+Enter"
   ]
  },
  {
   "cell_type": "markdown",
   "metadata": {},
   "source": [
    "- [x]  Jupyter Notebook bisa dibuka\n",
    "- [ ]  Tidak ada kesalahan pada kode\n",
    "- [ ]  Sel-sel dengan kode telah disusun berdasarkan urutan eksekusi\n",
    "- [ ]  Data telah diunduh dan disiapkan- [ ]  Model sudah dilatih\n",
    "- [ ]  Analisis terhadap kecepatan dan kualitas model telah dilakukan"
   ]
  },
  {
   "cell_type": "code",
   "execution_count": null,
   "metadata": {},
   "outputs": [],
   "source": []
  }
 ],
 "metadata": {
  "ExecuteTimeLog": [
   {
    "duration": 1454,
    "start_time": "2024-06-03T05:22:28.595Z"
   },
   {
    "duration": 1620,
    "start_time": "2024-06-03T05:23:29.012Z"
   },
   {
    "duration": 1045,
    "start_time": "2024-06-03T05:24:31.096Z"
   },
   {
    "duration": 49,
    "start_time": "2024-06-03T05:24:58.317Z"
   },
   {
    "duration": 781,
    "start_time": "2024-06-03T05:25:31.435Z"
   },
   {
    "duration": 32,
    "start_time": "2024-06-03T05:25:34.930Z"
   },
   {
    "duration": 145,
    "start_time": "2024-06-03T05:25:49.964Z"
   },
   {
    "duration": 3311,
    "start_time": "2024-06-03T05:26:55.208Z"
   },
   {
    "duration": 20,
    "start_time": "2024-06-03T05:32:45.823Z"
   },
   {
    "duration": 125,
    "start_time": "2024-06-03T05:33:01.865Z"
   },
   {
    "duration": 112,
    "start_time": "2024-06-03T05:42:23.546Z"
   },
   {
    "duration": 306,
    "start_time": "2024-06-03T21:43:29.940Z"
   },
   {
    "duration": 1467,
    "start_time": "2024-06-03T21:43:40.985Z"
   },
   {
    "duration": 818,
    "start_time": "2024-06-03T21:43:42.457Z"
   },
   {
    "duration": 35,
    "start_time": "2024-06-03T21:43:43.278Z"
   },
   {
    "duration": 145,
    "start_time": "2024-06-03T21:43:43.330Z"
   },
   {
    "duration": 155,
    "start_time": "2024-06-03T21:43:43.479Z"
   },
   {
    "duration": 2855,
    "start_time": "2024-06-03T21:43:43.638Z"
   },
   {
    "duration": 214,
    "start_time": "2024-06-03T21:43:46.495Z"
   },
   {
    "duration": 13676,
    "start_time": "2024-06-03T21:50:56.696Z"
   },
   {
    "duration": 24,
    "start_time": "2024-06-03T21:51:11.067Z"
   },
   {
    "duration": 2694,
    "start_time": "2024-06-03T21:51:38.886Z"
   },
   {
    "duration": 2349,
    "start_time": "2024-06-03T21:52:23.464Z"
   },
   {
    "duration": 32,
    "start_time": "2024-06-03T21:52:26.773Z"
   },
   {
    "duration": 2392,
    "start_time": "2024-06-03T21:52:42.715Z"
   },
   {
    "duration": 779,
    "start_time": "2024-06-03T21:52:45.111Z"
   },
   {
    "duration": 0,
    "start_time": "2024-06-03T21:52:45.893Z"
   },
   {
    "duration": 0,
    "start_time": "2024-06-03T21:52:45.895Z"
   },
   {
    "duration": 0,
    "start_time": "2024-06-03T21:52:45.902Z"
   },
   {
    "duration": 0,
    "start_time": "2024-06-03T21:52:45.904Z"
   },
   {
    "duration": 0,
    "start_time": "2024-06-03T21:52:45.905Z"
   },
   {
    "duration": 0,
    "start_time": "2024-06-03T21:52:45.907Z"
   },
   {
    "duration": 29,
    "start_time": "2024-06-03T21:53:35.700Z"
   },
   {
    "duration": 2370,
    "start_time": "2024-06-03T21:53:42.962Z"
   },
   {
    "duration": 797,
    "start_time": "2024-06-03T21:53:45.336Z"
   },
   {
    "duration": 0,
    "start_time": "2024-06-03T21:53:46.136Z"
   },
   {
    "duration": 0,
    "start_time": "2024-06-03T21:53:46.138Z"
   },
   {
    "duration": 0,
    "start_time": "2024-06-03T21:53:46.140Z"
   },
   {
    "duration": 0,
    "start_time": "2024-06-03T21:53:46.142Z"
   },
   {
    "duration": 0,
    "start_time": "2024-06-03T21:53:46.144Z"
   },
   {
    "duration": 0,
    "start_time": "2024-06-03T21:53:46.147Z"
   },
   {
    "duration": 1007,
    "start_time": "2024-06-03T21:55:17.786Z"
   },
   {
    "duration": 100,
    "start_time": "2024-06-03T21:55:24.010Z"
   },
   {
    "duration": 719,
    "start_time": "2024-06-03T21:55:30.915Z"
   },
   {
    "duration": 27,
    "start_time": "2024-06-03T21:55:39.576Z"
   },
   {
    "duration": 152,
    "start_time": "2024-06-03T21:56:25.385Z"
   },
   {
    "duration": 1418,
    "start_time": "2024-06-03T21:56:33.103Z"
   },
   {
    "duration": 726,
    "start_time": "2024-06-03T21:56:34.525Z"
   },
   {
    "duration": 38,
    "start_time": "2024-06-03T21:56:35.254Z"
   },
   {
    "duration": 181,
    "start_time": "2024-06-03T21:56:35.297Z"
   },
   {
    "duration": 127,
    "start_time": "2024-06-03T21:56:35.482Z"
   },
   {
    "duration": 2879,
    "start_time": "2024-06-03T21:56:35.612Z"
   },
   {
    "duration": 100,
    "start_time": "2024-06-03T21:56:38.494Z"
   },
   {
    "duration": 125,
    "start_time": "2024-06-03T21:58:07.398Z"
   },
   {
    "duration": 80,
    "start_time": "2024-06-03T21:58:31.652Z"
   },
   {
    "duration": 180,
    "start_time": "2024-06-03T21:58:58.500Z"
   },
   {
    "duration": 185,
    "start_time": "2024-06-03T22:05:36.883Z"
   },
   {
    "duration": 10,
    "start_time": "2024-06-03T22:05:54.663Z"
   },
   {
    "duration": 10,
    "start_time": "2024-06-03T22:07:08.613Z"
   },
   {
    "duration": 145,
    "start_time": "2024-06-03T22:13:21.710Z"
   },
   {
    "duration": 114,
    "start_time": "2024-06-03T22:13:38.192Z"
   },
   {
    "duration": 48,
    "start_time": "2024-06-03T22:15:10.084Z"
   },
   {
    "duration": 46,
    "start_time": "2024-06-03T22:15:29.513Z"
   },
   {
    "duration": 70,
    "start_time": "2024-06-03T22:18:53.783Z"
   },
   {
    "duration": 474,
    "start_time": "2024-06-03T22:21:10.336Z"
   },
   {
    "duration": 3836,
    "start_time": "2024-06-03T22:21:48.736Z"
   },
   {
    "duration": 217,
    "start_time": "2024-06-03T22:21:58.033Z"
   },
   {
    "duration": 32,
    "start_time": "2024-06-03T22:22:21.224Z"
   },
   {
    "duration": 1081,
    "start_time": "2024-06-03T22:22:28.635Z"
   },
   {
    "duration": 1081,
    "start_time": "2024-06-03T22:23:06.994Z"
   },
   {
    "duration": 257,
    "start_time": "2024-06-03T22:32:07.264Z"
   },
   {
    "duration": 2671,
    "start_time": "2024-06-03T22:32:52.686Z"
   },
   {
    "duration": 477,
    "start_time": "2024-06-03T22:37:09.897Z"
   },
   {
    "duration": 620,
    "start_time": "2024-06-03T22:38:08.449Z"
   },
   {
    "duration": 59,
    "start_time": "2024-06-03T22:38:41.661Z"
   },
   {
    "duration": 66,
    "start_time": "2024-06-03T22:39:16.807Z"
   },
   {
    "duration": 4,
    "start_time": "2024-06-03T22:46:24.607Z"
   },
   {
    "duration": 13638,
    "start_time": "2024-06-03T22:49:30.293Z"
   },
   {
    "duration": 38042,
    "start_time": "2024-06-03T22:52:54.299Z"
   },
   {
    "duration": 779892,
    "start_time": "2024-06-03T22:56:37.502Z"
   },
   {
    "duration": 1740,
    "start_time": "2024-06-03T23:14:19.633Z"
   },
   {
    "duration": 754,
    "start_time": "2024-06-03T23:14:21.378Z"
   },
   {
    "duration": 39,
    "start_time": "2024-06-03T23:14:22.135Z"
   },
   {
    "duration": 190,
    "start_time": "2024-06-03T23:14:22.177Z"
   },
   {
    "duration": 126,
    "start_time": "2024-06-03T23:14:22.373Z"
   },
   {
    "duration": 2780,
    "start_time": "2024-06-03T23:14:22.502Z"
   },
   {
    "duration": 98,
    "start_time": "2024-06-03T23:14:25.284Z"
   },
   {
    "duration": 150,
    "start_time": "2024-06-03T23:14:25.385Z"
   },
   {
    "duration": 94,
    "start_time": "2024-06-03T23:14:25.538Z"
   },
   {
    "duration": 200,
    "start_time": "2024-06-03T23:14:25.634Z"
   },
   {
    "duration": 203,
    "start_time": "2024-06-03T23:14:25.838Z"
   },
   {
    "duration": 11,
    "start_time": "2024-06-03T23:14:26.044Z"
   },
   {
    "duration": 156,
    "start_time": "2024-06-03T23:14:26.058Z"
   },
   {
    "duration": 51,
    "start_time": "2024-06-03T23:14:26.230Z"
   },
   {
    "duration": 66,
    "start_time": "2024-06-03T23:14:26.284Z"
   },
   {
    "duration": 79,
    "start_time": "2024-06-03T23:14:26.354Z"
   },
   {
    "duration": 1104,
    "start_time": "2024-06-03T23:14:26.437Z"
   },
   {
    "duration": 2668,
    "start_time": "2024-06-03T23:14:27.544Z"
   },
   {
    "duration": 499,
    "start_time": "2024-06-03T23:14:30.215Z"
   },
   {
    "duration": 639,
    "start_time": "2024-06-03T23:14:30.718Z"
   },
   {
    "duration": 76,
    "start_time": "2024-06-03T23:14:31.360Z"
   },
   {
    "duration": 4,
    "start_time": "2024-06-03T23:14:31.439Z"
   },
   {
    "duration": 13585,
    "start_time": "2024-06-03T23:14:31.446Z"
   },
   {
    "duration": 38018,
    "start_time": "2024-06-03T23:14:45.034Z"
   },
   {
    "duration": 5457,
    "start_time": "2024-06-04T01:26:14.494Z"
   },
   {
    "duration": 802,
    "start_time": "2024-06-04T01:26:19.954Z"
   },
   {
    "duration": 35,
    "start_time": "2024-06-04T01:26:20.759Z"
   },
   {
    "duration": 165,
    "start_time": "2024-06-04T01:26:20.799Z"
   },
   {
    "duration": 131,
    "start_time": "2024-06-04T01:26:20.967Z"
   },
   {
    "duration": 2830,
    "start_time": "2024-06-04T01:26:21.101Z"
   },
   {
    "duration": 104,
    "start_time": "2024-06-04T01:26:23.934Z"
   },
   {
    "duration": 145,
    "start_time": "2024-06-04T01:26:24.042Z"
   },
   {
    "duration": 90,
    "start_time": "2024-06-04T01:26:24.193Z"
   },
   {
    "duration": 196,
    "start_time": "2024-06-04T01:26:24.289Z"
   },
   {
    "duration": 218,
    "start_time": "2024-06-04T01:26:24.488Z"
   },
   {
    "duration": 25,
    "start_time": "2024-06-04T01:26:24.709Z"
   },
   {
    "duration": 142,
    "start_time": "2024-06-04T01:26:24.737Z"
   },
   {
    "duration": 64,
    "start_time": "2024-06-04T01:26:24.882Z"
   },
   {
    "duration": 42,
    "start_time": "2024-06-04T01:26:24.950Z"
   },
   {
    "duration": 93,
    "start_time": "2024-06-04T01:26:24.995Z"
   },
   {
    "duration": 1124,
    "start_time": "2024-06-04T01:26:25.091Z"
   },
   {
    "duration": 2722,
    "start_time": "2024-06-04T01:26:26.218Z"
   },
   {
    "duration": 485,
    "start_time": "2024-06-04T01:26:28.944Z"
   },
   {
    "duration": 651,
    "start_time": "2024-06-04T01:26:29.432Z"
   },
   {
    "duration": 79,
    "start_time": "2024-06-04T01:26:30.087Z"
   },
   {
    "duration": 4,
    "start_time": "2024-06-04T01:26:30.169Z"
   },
   {
    "duration": 13951,
    "start_time": "2024-06-04T01:26:30.176Z"
   },
   {
    "duration": 40685,
    "start_time": "2024-06-04T01:26:44.133Z"
   },
   {
    "duration": 1847,
    "start_time": "2024-06-04T01:35:39.407Z"
   },
   {
    "duration": 760,
    "start_time": "2024-06-04T01:35:41.259Z"
   },
   {
    "duration": 38,
    "start_time": "2024-06-04T01:35:42.022Z"
   },
   {
    "duration": 173,
    "start_time": "2024-06-04T01:35:42.063Z"
   },
   {
    "duration": 135,
    "start_time": "2024-06-04T01:35:42.243Z"
   },
   {
    "duration": 2798,
    "start_time": "2024-06-04T01:35:42.382Z"
   },
   {
    "duration": 105,
    "start_time": "2024-06-04T01:35:45.183Z"
   },
   {
    "duration": 149,
    "start_time": "2024-06-04T01:35:45.291Z"
   },
   {
    "duration": 95,
    "start_time": "2024-06-04T01:35:45.444Z"
   },
   {
    "duration": 194,
    "start_time": "2024-06-04T01:35:45.545Z"
   },
   {
    "duration": 211,
    "start_time": "2024-06-04T01:35:45.742Z"
   },
   {
    "duration": 11,
    "start_time": "2024-06-04T01:35:45.956Z"
   },
   {
    "duration": 159,
    "start_time": "2024-06-04T01:35:45.970Z"
   },
   {
    "duration": 52,
    "start_time": "2024-06-04T01:35:46.137Z"
   },
   {
    "duration": 74,
    "start_time": "2024-06-04T01:35:46.192Z"
   },
   {
    "duration": 86,
    "start_time": "2024-06-04T01:35:46.268Z"
   },
   {
    "duration": 1098,
    "start_time": "2024-06-04T01:35:46.357Z"
   },
   {
    "duration": 2854,
    "start_time": "2024-06-04T01:35:47.460Z"
   },
   {
    "duration": 505,
    "start_time": "2024-06-04T01:35:50.325Z"
   },
   {
    "duration": 649,
    "start_time": "2024-06-04T01:35:50.833Z"
   },
   {
    "duration": 80,
    "start_time": "2024-06-04T01:35:51.486Z"
   },
   {
    "duration": 4,
    "start_time": "2024-06-04T01:35:51.570Z"
   },
   {
    "duration": 14055,
    "start_time": "2024-06-04T01:35:51.577Z"
   },
   {
    "duration": 44177,
    "start_time": "2024-06-04T01:36:05.638Z"
   },
   {
    "duration": 5377,
    "start_time": "2024-06-04T22:57:13.123Z"
   },
   {
    "duration": 810,
    "start_time": "2024-06-04T22:57:18.505Z"
   },
   {
    "duration": 34,
    "start_time": "2024-06-04T22:57:19.318Z"
   },
   {
    "duration": 159,
    "start_time": "2024-06-04T22:57:19.358Z"
   },
   {
    "duration": 130,
    "start_time": "2024-06-04T22:57:19.523Z"
   },
   {
    "duration": 2848,
    "start_time": "2024-06-04T22:57:19.656Z"
   },
   {
    "duration": 106,
    "start_time": "2024-06-04T22:57:22.508Z"
   },
   {
    "duration": 133,
    "start_time": "2024-06-04T22:57:22.617Z"
   },
   {
    "duration": 92,
    "start_time": "2024-06-04T22:57:22.752Z"
   },
   {
    "duration": 194,
    "start_time": "2024-06-04T22:57:22.847Z"
   },
   {
    "duration": 197,
    "start_time": "2024-06-04T22:57:23.044Z"
   },
   {
    "duration": 10,
    "start_time": "2024-06-04T22:57:23.244Z"
   },
   {
    "duration": 144,
    "start_time": "2024-06-04T22:57:23.257Z"
   },
   {
    "duration": 48,
    "start_time": "2024-06-04T22:57:23.407Z"
   },
   {
    "duration": 67,
    "start_time": "2024-06-04T22:57:23.458Z"
   },
   {
    "duration": 82,
    "start_time": "2024-06-04T22:57:23.528Z"
   },
   {
    "duration": 1067,
    "start_time": "2024-06-04T22:57:23.614Z"
   },
   {
    "duration": 2667,
    "start_time": "2024-06-04T22:57:24.684Z"
   },
   {
    "duration": 481,
    "start_time": "2024-06-04T22:57:27.357Z"
   },
   {
    "duration": 629,
    "start_time": "2024-06-04T22:57:27.841Z"
   },
   {
    "duration": 74,
    "start_time": "2024-06-04T22:57:28.472Z"
   },
   {
    "duration": 5,
    "start_time": "2024-06-04T22:57:28.549Z"
   },
   {
    "duration": 13651,
    "start_time": "2024-06-04T22:57:28.558Z"
   },
   {
    "duration": 37261,
    "start_time": "2024-06-04T22:57:42.214Z"
   },
   {
    "duration": 468742,
    "start_time": "2024-06-04T22:58:19.478Z"
   },
   {
    "duration": 5797,
    "start_time": "2024-06-05T00:53:51.872Z"
   },
   {
    "duration": 776,
    "start_time": "2024-06-05T00:53:57.672Z"
   },
   {
    "duration": 40,
    "start_time": "2024-06-05T00:53:58.452Z"
   },
   {
    "duration": 153,
    "start_time": "2024-06-05T00:53:58.510Z"
   },
   {
    "duration": 128,
    "start_time": "2024-06-05T00:53:58.667Z"
   },
   {
    "duration": 2902,
    "start_time": "2024-06-05T00:53:58.798Z"
   },
   {
    "duration": 102,
    "start_time": "2024-06-05T00:54:01.708Z"
   },
   {
    "duration": 141,
    "start_time": "2024-06-05T00:54:01.813Z"
   },
   {
    "duration": 93,
    "start_time": "2024-06-05T00:54:01.956Z"
   },
   {
    "duration": 193,
    "start_time": "2024-06-05T00:54:02.054Z"
   },
   {
    "duration": 195,
    "start_time": "2024-06-05T00:54:02.250Z"
   },
   {
    "duration": 11,
    "start_time": "2024-06-05T00:54:02.448Z"
   },
   {
    "duration": 146,
    "start_time": "2024-06-05T00:54:02.462Z"
   },
   {
    "duration": 45,
    "start_time": "2024-06-05T00:54:02.612Z"
   },
   {
    "duration": 65,
    "start_time": "2024-06-05T00:54:02.661Z"
   },
   {
    "duration": 86,
    "start_time": "2024-06-05T00:54:02.729Z"
   },
   {
    "duration": 1135,
    "start_time": "2024-06-05T00:54:02.818Z"
   },
   {
    "duration": 2673,
    "start_time": "2024-06-05T00:54:03.956Z"
   },
   {
    "duration": 481,
    "start_time": "2024-06-05T00:54:06.632Z"
   },
   {
    "duration": 646,
    "start_time": "2024-06-05T00:54:07.115Z"
   },
   {
    "duration": 74,
    "start_time": "2024-06-05T00:54:07.763Z"
   },
   {
    "duration": 4,
    "start_time": "2024-06-05T00:54:07.840Z"
   },
   {
    "duration": 13169,
    "start_time": "2024-06-05T00:54:07.848Z"
   },
   {
    "duration": 37997,
    "start_time": "2024-06-05T00:54:21.025Z"
   },
   {
    "duration": 471153,
    "start_time": "2024-06-05T00:54:59.026Z"
   },
   {
    "duration": 1802,
    "start_time": "2024-06-05T01:35:05.521Z"
   },
   {
    "duration": 766,
    "start_time": "2024-06-05T01:35:07.327Z"
   },
   {
    "duration": 42,
    "start_time": "2024-06-05T01:35:08.095Z"
   },
   {
    "duration": 234,
    "start_time": "2024-06-05T01:35:08.142Z"
   },
   {
    "duration": 134,
    "start_time": "2024-06-05T01:35:08.379Z"
   },
   {
    "duration": 2832,
    "start_time": "2024-06-05T01:35:13.886Z"
   },
   {
    "duration": 487,
    "start_time": "2024-06-05T01:35:16.721Z"
   },
   {
    "duration": 661,
    "start_time": "2024-06-05T01:35:17.212Z"
   },
   {
    "duration": 73,
    "start_time": "2024-06-05T01:35:17.876Z"
   },
   {
    "duration": 4,
    "start_time": "2024-06-05T01:35:17.953Z"
   },
   {
    "duration": 1813,
    "start_time": "2024-06-05T01:41:36.807Z"
   },
   {
    "duration": 831,
    "start_time": "2024-06-05T01:41:38.625Z"
   },
   {
    "duration": 51,
    "start_time": "2024-06-05T01:41:39.459Z"
   },
   {
    "duration": 173,
    "start_time": "2024-06-05T01:41:39.514Z"
   },
   {
    "duration": 140,
    "start_time": "2024-06-05T01:41:39.691Z"
   },
   {
    "duration": 2827,
    "start_time": "2024-06-05T01:41:39.835Z"
   },
   {
    "duration": 161,
    "start_time": "2024-06-05T01:41:42.665Z"
   },
   {
    "duration": 146,
    "start_time": "2024-06-05T01:41:42.829Z"
   },
   {
    "duration": 95,
    "start_time": "2024-06-05T01:41:42.981Z"
   },
   {
    "duration": 198,
    "start_time": "2024-06-05T01:41:43.082Z"
   },
   {
    "duration": 228,
    "start_time": "2024-06-05T01:41:43.284Z"
   },
   {
    "duration": 12,
    "start_time": "2024-06-05T01:41:43.516Z"
   },
   {
    "duration": 160,
    "start_time": "2024-06-05T01:41:43.531Z"
   },
   {
    "duration": 63,
    "start_time": "2024-06-05T01:41:43.694Z"
   },
   {
    "duration": 62,
    "start_time": "2024-06-05T01:41:43.763Z"
   },
   {
    "duration": 133,
    "start_time": "2024-06-05T01:41:43.828Z"
   },
   {
    "duration": 1149,
    "start_time": "2024-06-05T01:41:43.964Z"
   },
   {
    "duration": 2813,
    "start_time": "2024-06-05T01:41:45.117Z"
   },
   {
    "duration": 480,
    "start_time": "2024-06-05T01:41:47.934Z"
   },
   {
    "duration": 677,
    "start_time": "2024-06-05T01:41:48.420Z"
   },
   {
    "duration": 69,
    "start_time": "2024-06-05T01:41:49.101Z"
   },
   {
    "duration": 4,
    "start_time": "2024-06-05T01:41:49.176Z"
   },
   {
    "duration": 16642,
    "start_time": "2024-06-05T01:41:49.185Z"
   },
   {
    "duration": 39319,
    "start_time": "2024-06-05T01:42:05.830Z"
   },
   {
    "duration": 489811,
    "start_time": "2024-06-05T01:42:45.152Z"
   },
   {
    "duration": 1456259,
    "start_time": "2024-06-05T01:50:54.965Z"
   },
   {
    "duration": 253311,
    "start_time": "2024-06-05T02:15:11.228Z"
   },
   {
    "duration": 46335,
    "start_time": "2024-06-05T02:19:24.543Z"
   },
   {
    "duration": 7,
    "start_time": "2024-06-05T02:20:10.882Z"
   },
   {
    "duration": 29,
    "start_time": "2024-06-05T02:20:10.892Z"
   },
   {
    "duration": 40631,
    "start_time": "2024-06-05T02:43:10.016Z"
   },
   {
    "duration": 6,
    "start_time": "2024-06-05T02:43:50.652Z"
   },
   {
    "duration": 16,
    "start_time": "2024-06-05T02:43:55.974Z"
   },
   {
    "duration": 4,
    "start_time": "2024-06-05T03:28:21.501Z"
   },
   {
    "duration": 11,
    "start_time": "2024-06-05T03:28:27.279Z"
   },
   {
    "duration": 7,
    "start_time": "2024-06-05T03:31:55.420Z"
   },
   {
    "duration": 10,
    "start_time": "2024-06-05T03:31:57.183Z"
   },
   {
    "duration": 4,
    "start_time": "2024-06-05T03:32:08.847Z"
   },
   {
    "duration": 1697,
    "start_time": "2024-06-05T03:32:21.187Z"
   },
   {
    "duration": 719,
    "start_time": "2024-06-05T03:32:22.890Z"
   },
   {
    "duration": 34,
    "start_time": "2024-06-05T03:32:23.612Z"
   },
   {
    "duration": 175,
    "start_time": "2024-06-05T03:32:23.649Z"
   },
   {
    "duration": 120,
    "start_time": "2024-06-05T03:32:23.829Z"
   },
   {
    "duration": 2868,
    "start_time": "2024-06-05T03:32:23.953Z"
   },
   {
    "duration": 100,
    "start_time": "2024-06-05T03:32:26.824Z"
   },
   {
    "duration": 153,
    "start_time": "2024-06-05T03:32:26.927Z"
   },
   {
    "duration": 85,
    "start_time": "2024-06-05T03:32:27.083Z"
   },
   {
    "duration": 208,
    "start_time": "2024-06-05T03:32:27.172Z"
   },
   {
    "duration": 194,
    "start_time": "2024-06-05T03:32:27.384Z"
   },
   {
    "duration": 10,
    "start_time": "2024-06-05T03:32:27.581Z"
   },
   {
    "duration": 132,
    "start_time": "2024-06-05T03:32:27.610Z"
   },
   {
    "duration": 61,
    "start_time": "2024-06-05T03:32:27.748Z"
   },
   {
    "duration": 43,
    "start_time": "2024-06-05T03:32:27.811Z"
   },
   {
    "duration": 94,
    "start_time": "2024-06-05T03:32:27.857Z"
   },
   {
    "duration": 1075,
    "start_time": "2024-06-05T03:32:27.954Z"
   },
   {
    "duration": 2642,
    "start_time": "2024-06-05T03:32:29.032Z"
   },
   {
    "duration": 482,
    "start_time": "2024-06-05T03:32:31.678Z"
   },
   {
    "duration": 626,
    "start_time": "2024-06-05T03:32:32.163Z"
   },
   {
    "duration": 67,
    "start_time": "2024-06-05T03:32:32.792Z"
   },
   {
    "duration": 4,
    "start_time": "2024-06-05T03:32:32.862Z"
   },
   {
    "duration": 13342,
    "start_time": "2024-06-05T03:32:32.869Z"
   },
   {
    "duration": 37268,
    "start_time": "2024-06-05T03:32:46.214Z"
   },
   {
    "duration": 461145,
    "start_time": "2024-06-05T03:33:23.485Z"
   },
   {
    "duration": 1679,
    "start_time": "2024-06-05T04:00:37.001Z"
   },
   {
    "duration": 725,
    "start_time": "2024-06-05T04:00:38.683Z"
   },
   {
    "duration": 32,
    "start_time": "2024-06-05T04:00:39.411Z"
   },
   {
    "duration": 163,
    "start_time": "2024-06-05T04:00:39.447Z"
   },
   {
    "duration": 120,
    "start_time": "2024-06-05T04:00:39.616Z"
   },
   {
    "duration": 2780,
    "start_time": "2024-06-05T04:00:39.739Z"
   },
   {
    "duration": 99,
    "start_time": "2024-06-05T04:00:42.522Z"
   },
   {
    "duration": 145,
    "start_time": "2024-06-05T04:00:42.624Z"
   },
   {
    "duration": 90,
    "start_time": "2024-06-05T04:00:42.772Z"
   },
   {
    "duration": 204,
    "start_time": "2024-06-05T04:00:42.868Z"
   },
   {
    "duration": 195,
    "start_time": "2024-06-05T04:00:43.075Z"
   },
   {
    "duration": 11,
    "start_time": "2024-06-05T04:00:43.272Z"
   },
   {
    "duration": 147,
    "start_time": "2024-06-05T04:00:43.286Z"
   },
   {
    "duration": 45,
    "start_time": "2024-06-05T04:00:43.436Z"
   },
   {
    "duration": 60,
    "start_time": "2024-06-05T04:00:43.484Z"
   },
   {
    "duration": 91,
    "start_time": "2024-06-05T04:00:43.547Z"
   },
   {
    "duration": 1092,
    "start_time": "2024-06-05T04:00:43.641Z"
   },
   {
    "duration": 2675,
    "start_time": "2024-06-05T04:00:44.737Z"
   },
   {
    "duration": 473,
    "start_time": "2024-06-05T04:00:47.415Z"
   },
   {
    "duration": 630,
    "start_time": "2024-06-05T04:00:47.891Z"
   },
   {
    "duration": 62,
    "start_time": "2024-06-05T04:00:48.524Z"
   },
   {
    "duration": 20,
    "start_time": "2024-06-05T04:00:48.589Z"
   },
   {
    "duration": 13399,
    "start_time": "2024-06-05T04:00:48.612Z"
   },
   {
    "duration": 37269,
    "start_time": "2024-06-05T04:01:02.014Z"
   },
   {
    "duration": 460094,
    "start_time": "2024-06-05T04:01:39.290Z"
   },
   {
    "duration": 1226365,
    "start_time": "2024-06-05T04:09:19.387Z"
   },
   {
    "duration": 44627,
    "start_time": "2024-06-05T04:29:45.808Z"
   },
   {
    "duration": 39583,
    "start_time": "2024-06-05T04:30:30.439Z"
   },
   {
    "duration": 6,
    "start_time": "2024-06-05T04:31:10.025Z"
   },
   {
    "duration": 15,
    "start_time": "2024-06-05T04:31:10.034Z"
   },
   {
    "duration": 3672,
    "start_time": "2024-06-05T06:21:17.070Z"
   },
   {
    "duration": 1693,
    "start_time": "2024-06-05T06:21:20.748Z"
   },
   {
    "duration": 108,
    "start_time": "2024-06-05T06:21:22.444Z"
   },
   {
    "duration": 378,
    "start_time": "2024-06-05T06:21:22.558Z"
   },
   {
    "duration": 284,
    "start_time": "2024-06-05T06:21:22.939Z"
   },
   {
    "duration": 7003,
    "start_time": "2024-06-05T06:21:23.227Z"
   },
   {
    "duration": 207,
    "start_time": "2024-06-05T06:21:30.237Z"
   },
   {
    "duration": 301,
    "start_time": "2024-06-05T06:21:30.449Z"
   },
   {
    "duration": 193,
    "start_time": "2024-06-05T06:21:30.753Z"
   },
   {
    "duration": 406,
    "start_time": "2024-06-05T06:21:30.954Z"
   },
   {
    "duration": 488,
    "start_time": "2024-06-05T06:21:31.364Z"
   },
   {
    "duration": 72,
    "start_time": "2024-06-05T06:21:31.856Z"
   },
   {
    "duration": 305,
    "start_time": "2024-06-05T06:21:31.935Z"
   },
   {
    "duration": 118,
    "start_time": "2024-06-05T06:21:32.244Z"
   },
   {
    "duration": 106,
    "start_time": "2024-06-05T06:21:32.423Z"
   },
   {
    "duration": 191,
    "start_time": "2024-06-05T06:21:32.532Z"
   },
   {
    "duration": 2728,
    "start_time": "2024-06-05T06:21:32.727Z"
   },
   {
    "duration": 7097,
    "start_time": "2024-06-05T06:21:35.459Z"
   },
   {
    "duration": 1363,
    "start_time": "2024-06-05T06:21:42.560Z"
   },
   {
    "duration": 1437,
    "start_time": "2024-06-05T06:21:43.931Z"
   },
   {
    "duration": 141,
    "start_time": "2024-06-05T06:21:45.428Z"
   },
   {
    "duration": 56,
    "start_time": "2024-06-05T06:21:45.572Z"
   },
   {
    "duration": 3567,
    "start_time": "2024-06-05T06:27:32.856Z"
   },
   {
    "duration": 1607,
    "start_time": "2024-06-05T06:27:36.426Z"
   },
   {
    "duration": 98,
    "start_time": "2024-06-05T06:27:38.036Z"
   },
   {
    "duration": 306,
    "start_time": "2024-06-05T06:27:38.139Z"
   },
   {
    "duration": 274,
    "start_time": "2024-06-05T06:27:38.451Z"
   },
   {
    "duration": 5930,
    "start_time": "2024-06-05T06:27:38.729Z"
   },
   {
    "duration": 261,
    "start_time": "2024-06-05T06:27:44.662Z"
   },
   {
    "duration": 232,
    "start_time": "2024-06-05T06:27:44.926Z"
   },
   {
    "duration": 191,
    "start_time": "2024-06-05T06:27:45.162Z"
   },
   {
    "duration": 403,
    "start_time": "2024-06-05T06:27:45.360Z"
   },
   {
    "duration": 467,
    "start_time": "2024-06-05T06:27:45.766Z"
   },
   {
    "duration": 15,
    "start_time": "2024-06-05T06:27:46.236Z"
   },
   {
    "duration": 309,
    "start_time": "2024-06-05T06:27:46.254Z"
   },
   {
    "duration": 160,
    "start_time": "2024-06-05T06:27:46.566Z"
   },
   {
    "duration": 104,
    "start_time": "2024-06-05T06:27:46.730Z"
   },
   {
    "duration": 128,
    "start_time": "2024-06-05T06:27:46.838Z"
   },
   {
    "duration": 2499,
    "start_time": "2024-06-05T06:27:47.025Z"
   },
   {
    "duration": 5833,
    "start_time": "2024-06-05T06:27:49.530Z"
   },
   {
    "duration": 967,
    "start_time": "2024-06-05T06:27:55.366Z"
   },
   {
    "duration": 1290,
    "start_time": "2024-06-05T06:27:56.336Z"
   },
   {
    "duration": 120,
    "start_time": "2024-06-05T06:27:57.629Z"
   },
   {
    "duration": 6,
    "start_time": "2024-06-05T06:27:57.755Z"
   },
   {
    "duration": 3691,
    "start_time": "2024-06-05T06:34:19.636Z"
   },
   {
    "duration": 1736,
    "start_time": "2024-06-05T06:34:23.331Z"
   },
   {
    "duration": 40,
    "start_time": "2024-06-05T06:34:25.124Z"
   },
   {
    "duration": 310,
    "start_time": "2024-06-05T06:34:25.225Z"
   },
   {
    "duration": 286,
    "start_time": "2024-06-05T06:34:25.538Z"
   },
   {
    "duration": 5801,
    "start_time": "2024-06-05T06:34:25.829Z"
   },
   {
    "duration": 204,
    "start_time": "2024-06-05T06:34:31.632Z"
   },
   {
    "duration": 292,
    "start_time": "2024-06-05T06:34:31.842Z"
   },
   {
    "duration": 219,
    "start_time": "2024-06-05T06:34:32.139Z"
   },
   {
    "duration": 402,
    "start_time": "2024-06-05T06:34:32.364Z"
   },
   {
    "duration": 433,
    "start_time": "2024-06-05T06:34:32.822Z"
   },
   {
    "duration": 70,
    "start_time": "2024-06-05T06:34:33.258Z"
   },
   {
    "duration": 298,
    "start_time": "2024-06-05T06:34:33.332Z"
   },
   {
    "duration": 111,
    "start_time": "2024-06-05T06:34:33.634Z"
   },
   {
    "duration": 110,
    "start_time": "2024-06-05T06:34:33.751Z"
   },
   {
    "duration": 126,
    "start_time": "2024-06-05T06:34:33.924Z"
   },
   {
    "duration": 2287,
    "start_time": "2024-06-05T06:34:34.054Z"
   },
   {
    "duration": 5978,
    "start_time": "2024-06-05T06:34:36.345Z"
   },
   {
    "duration": 1034,
    "start_time": "2024-06-05T06:34:42.327Z"
   },
   {
    "duration": 1299,
    "start_time": "2024-06-05T06:34:43.429Z"
   },
   {
    "duration": 129,
    "start_time": "2024-06-05T06:34:44.735Z"
   },
   {
    "duration": 9,
    "start_time": "2024-06-05T06:34:44.923Z"
   },
   {
    "duration": 16486,
    "start_time": "2024-06-05T06:34:44.936Z"
   },
   {
    "duration": 8,
    "start_time": "2024-06-05T06:35:01.434Z"
   },
   {
    "duration": 300,
    "start_time": "2024-06-05T06:35:17.925Z"
   },
   {
    "duration": 126,
    "start_time": "2024-06-05T06:35:34.108Z"
   },
   {
    "duration": 39627,
    "start_time": "2024-06-05T06:35:40.137Z"
   },
   {
    "duration": 492817,
    "start_time": "2024-06-05T06:36:19.768Z"
   },
   {
    "duration": 1279370,
    "start_time": "2024-06-05T06:44:32.588Z"
   },
   {
    "duration": 45899,
    "start_time": "2024-06-05T07:05:52.027Z"
   },
   {
    "duration": 39884,
    "start_time": "2024-06-05T07:06:37.930Z"
   },
   {
    "duration": 10,
    "start_time": "2024-06-05T07:07:17.817Z"
   },
   {
    "duration": 14,
    "start_time": "2024-06-05T07:07:17.830Z"
   }
  ],
  "kernelspec": {
   "display_name": "Python 3 (ipykernel)",
   "language": "python",
   "name": "python3"
  },
  "language_info": {
   "codemirror_mode": {
    "name": "ipython",
    "version": 3
   },
   "file_extension": ".py",
   "mimetype": "text/x-python",
   "name": "python",
   "nbconvert_exporter": "python",
   "pygments_lexer": "ipython3",
   "version": "3.9.19"
  },
  "toc": {
   "base_numbering": 1,
   "nav_menu": {},
   "number_sections": true,
   "sideBar": true,
   "skip_h1_title": true,
   "title_cell": "Table of Contents",
   "title_sidebar": "Contents",
   "toc_cell": false,
   "toc_position": {},
   "toc_section_display": true,
   "toc_window_display": false
  }
 },
 "nbformat": 4,
 "nbformat_minor": 2
}
