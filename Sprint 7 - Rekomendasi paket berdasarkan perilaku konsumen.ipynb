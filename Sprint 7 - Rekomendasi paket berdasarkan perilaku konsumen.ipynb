{
 "cells": [
  {
   "cell_type": "markdown",
   "metadata": {},
   "source": [
    "<div style=\"border:solid black 2px; padding: 20px\">\n",
    "\n",
    "# Reviewer's feedback v.1\n",
    "\n",
    "**Hi Rizdha**\n",
    "    \n",
    "**Greetings from Fachri**\n",
    "\n",
    "Terima kasih telah mengirimkan project kamu dengan ini kamu sudah memulai sebuah langkah yang luar biasa saat ini. Disini saya akan mereview proyek kamu ya.\n",
    "\n",
    "Saya akan memberikan beberapa komentar dan feedback seperti dibawah ini, **mohon jangan dipindah, dirubah, maupun dihapus yaa.**\n",
    "    \n",
    "> Mohon diperhatikan bahwa apabila ada temuan atau kesalahan yang sama namun tidak ada komentar perbaikan disana, itu berarti kamu masih tetap harus memperbaikinya yaa.\n",
    "\n",
    "Komentar yang saya berikan akan muncul dalam warna hijau, kuning, atau pun merah seperti ini:\n",
    "\n",
    "<div class=\"alert alert-success\">\n",
    "<b>Fachri's comment v.*</b> <a class=\"tocSkip\"></a>\n",
    "\n",
    "Bagus, semua berjalan lancar.\n",
    "\n",
    "</div>\n",
    "\n",
    "<div class=\"alert alert-warning\">\n",
    "<b>Fachri's comment v.*</b> <a class=\"tocSkip\"></a>\n",
    "\n",
    "Ada beberapa catatan.\n",
    "\n",
    "</div>\n",
    "    \n",
    "<div class=\"alert alert-danger\">\n",
    "<b>Fachri's comment v.*</b> <a class=\"tocSkip\"></a>\n",
    "\n",
    "Perlu beberapa perbaikan.\n",
    "\n",
    "</div>\n",
    "    \n",
    "<div class=\"alert alert-info\">\n",
    "<b>Fachri's info v.1</b> <a class=\"tocSkip\"></a>\n",
    "\n",
    "Catatan umum:\n",
    "* Fungsi `print` tidak diperlukan untuk mencetak suatu nilai\n",
    "* Lebih baik tulis kode pada bagian akhir cell code untuk menampilkan output tanpa `print`\n",
    "* Perintah soal yang ada dalam tanda kurung siku `[...]` sebaiknya dihilangkan\n",
    "* Sangat disarankan untuk menggunakan cell markdown untuk memberikan deskripsi temuan atau kesimpulan.\n",
    "* Tidak disarankan menggunakan cell code untuk memberikan penjelasan / deskripsi.\n",
    "* Untuk menghindari galat pada notebook project kamu. Batasi jumlah output yang dikeluarkan setiap kode dengan batas max 10 baris data.\n",
    "\n",
    "</div>\n",
    "    \n",
    "Kamu dapat menjawab saya dengan menggunakan blok berwarna biru seperti ini\n",
    "<div class=\"alert alert-info\">\n",
    "<b>Student answer</b> <a class=\"tocSkip\"></a>\n",
    "\n",
    "Siap kak.\n",
    "\n",
    "</div>\n",
    "</div>"
   ]
  },
  {
   "cell_type": "markdown",
   "metadata": {},
   "source": [
    "<div  class=\"alert alert-success\">\n",
    "    \n",
    "# General feedback v.1 [Project Accepted]\n",
    "\n",
    "Terima kasih banyak telah mengirimkan proyek Anda! \n",
    "\n",
    "Proyek Anda sudah sangat baik dan sudah direvisi, sudah dapat diterima ya, Selamat!\n",
    "    \n",
    "Tetap Semangat!\n",
    "    \n",
    "<br>\n",
    "Jika ada sesuatu yang membuat Anda bingung atau tidak mengerti. Tolong, jangan ragu untuk menghubungi tim mentor atau instruktur Anda  yaa\n",
    "    \n",
    "</div>"
   ]
  },
  {
   "cell_type": "markdown",
   "metadata": {},
   "source": [
    "# Deskripsi Proyek\n",
    "\n",
    "Kita memiliki proyek untuk mengembangkan sebuah model yang mampu memilih paket dengan tepat pada operator seluler Megaline yang merasa tidak puas karena sebagian besar pelanggan mereka masih menggunakan paket lama. Perusahaan tersebut ingin mengembangkan sebuah model yang bisa menganalisis perilaku konsumen dan merekomendasikan salah satu dari kedua paket terbaru Megaline: Smart atau Ultra. Pada proyek ini kita membuat sebuah model dengan tingkat accuracy dengan ambang batas 0,75."
   ]
  },
  {
   "cell_type": "markdown",
   "metadata": {},
   "source": [
    "# Daftar Isi\n",
    "\n",
    "- Memuat Dataset\n",
    "- Menganalisis Data\n",
    "- Memisahkan Dataset\n",
    "- Menguji kualitas Model\n",
    "    - Decision Tree Classifier\n",
    "    - Random Forest\n",
    "    - Logistic Regression\n",
    "- Kesimpulan"
   ]
  },
  {
   "cell_type": "markdown",
   "metadata": {},
   "source": [
    "# Library"
   ]
  },
  {
   "cell_type": "code",
   "execution_count": 1,
   "metadata": {},
   "outputs": [],
   "source": [
    "import pandas as pd\n",
    "import numpy as np\n",
    "import matplotlib.pyplot as plt\n",
    "import seaborn as sns\n",
    "from sklearn.tree import DecisionTreeClassifier\n",
    "from sklearn.ensemble import RandomForestClassifier\n",
    "from sklearn.linear_model import LogisticRegression\n",
    "from sklearn.model_selection import train_test_split\n",
    "from sklearn.metrics import accuracy_score"
   ]
  },
  {
   "cell_type": "markdown",
   "metadata": {},
   "source": [
    "<div class=\"alert alert-success\">\n",
    "<b>Fachri's comment v.1</b> <a class=\"tocSkip\"></a>\n",
    "\n",
    "Sip Good Job</div>"
   ]
  },
  {
   "cell_type": "markdown",
   "metadata": {},
   "source": [
    "### Memuat dataset"
   ]
  },
  {
   "cell_type": "code",
   "execution_count": 2,
   "metadata": {},
   "outputs": [],
   "source": [
    "try:\n",
    "    df = pd.read_csv('/datasets/users_behavior.csv')\n",
    "except:\n",
    "    df = pd.read_csv('/datasets/users_behavior.csv')"
   ]
  },
  {
   "cell_type": "markdown",
   "metadata": {},
   "source": [
    "<div class=\"alert alert-success\">\n",
    "<b>Fachri's comment v.1</b> <a class=\"tocSkip\"></a>\n",
    "\n",
    "Sip Good Job sudah memisahkan pemuatan dataset dan library</div>"
   ]
  },
  {
   "cell_type": "code",
   "execution_count": 3,
   "metadata": {},
   "outputs": [
    {
     "name": "stdout",
     "output_type": "stream",
     "text": [
      "<class 'pandas.core.frame.DataFrame'>\n",
      "RangeIndex: 3214 entries, 0 to 3213\n",
      "Data columns (total 5 columns):\n",
      " #   Column    Non-Null Count  Dtype  \n",
      "---  ------    --------------  -----  \n",
      " 0   calls     3214 non-null   float64\n",
      " 1   minutes   3214 non-null   float64\n",
      " 2   messages  3214 non-null   float64\n",
      " 3   mb_used   3214 non-null   float64\n",
      " 4   is_ultra  3214 non-null   int64  \n",
      "dtypes: float64(4), int64(1)\n",
      "memory usage: 125.7 KB\n"
     ]
    }
   ],
   "source": [
    "df.info()"
   ]
  },
  {
   "cell_type": "code",
   "execution_count": 4,
   "metadata": {},
   "outputs": [
    {
     "data": {
      "text/html": [
       "<div>\n",
       "<style scoped>\n",
       "    .dataframe tbody tr th:only-of-type {\n",
       "        vertical-align: middle;\n",
       "    }\n",
       "\n",
       "    .dataframe tbody tr th {\n",
       "        vertical-align: top;\n",
       "    }\n",
       "\n",
       "    .dataframe thead th {\n",
       "        text-align: right;\n",
       "    }\n",
       "</style>\n",
       "<table border=\"1\" class=\"dataframe\">\n",
       "  <thead>\n",
       "    <tr style=\"text-align: right;\">\n",
       "      <th></th>\n",
       "      <th>calls</th>\n",
       "      <th>minutes</th>\n",
       "      <th>messages</th>\n",
       "      <th>mb_used</th>\n",
       "      <th>is_ultra</th>\n",
       "    </tr>\n",
       "  </thead>\n",
       "  <tbody>\n",
       "    <tr>\n",
       "      <th>241</th>\n",
       "      <td>5.0</td>\n",
       "      <td>27.01</td>\n",
       "      <td>0.0</td>\n",
       "      <td>2207.27</td>\n",
       "      <td>0</td>\n",
       "    </tr>\n",
       "    <tr>\n",
       "      <th>2788</th>\n",
       "      <td>38.0</td>\n",
       "      <td>280.97</td>\n",
       "      <td>41.0</td>\n",
       "      <td>16853.45</td>\n",
       "      <td>0</td>\n",
       "    </tr>\n",
       "    <tr>\n",
       "      <th>2627</th>\n",
       "      <td>165.0</td>\n",
       "      <td>965.74</td>\n",
       "      <td>93.0</td>\n",
       "      <td>17477.23</td>\n",
       "      <td>1</td>\n",
       "    </tr>\n",
       "    <tr>\n",
       "      <th>2507</th>\n",
       "      <td>36.0</td>\n",
       "      <td>260.94</td>\n",
       "      <td>10.0</td>\n",
       "      <td>15438.40</td>\n",
       "      <td>0</td>\n",
       "    </tr>\n",
       "    <tr>\n",
       "      <th>1618</th>\n",
       "      <td>48.0</td>\n",
       "      <td>322.61</td>\n",
       "      <td>73.0</td>\n",
       "      <td>18642.34</td>\n",
       "      <td>1</td>\n",
       "    </tr>\n",
       "    <tr>\n",
       "      <th>1847</th>\n",
       "      <td>82.0</td>\n",
       "      <td>492.00</td>\n",
       "      <td>30.0</td>\n",
       "      <td>22325.63</td>\n",
       "      <td>0</td>\n",
       "    </tr>\n",
       "    <tr>\n",
       "      <th>3187</th>\n",
       "      <td>35.0</td>\n",
       "      <td>259.10</td>\n",
       "      <td>4.0</td>\n",
       "      <td>14857.57</td>\n",
       "      <td>0</td>\n",
       "    </tr>\n",
       "    <tr>\n",
       "      <th>965</th>\n",
       "      <td>81.0</td>\n",
       "      <td>542.22</td>\n",
       "      <td>21.0</td>\n",
       "      <td>15356.16</td>\n",
       "      <td>0</td>\n",
       "    </tr>\n",
       "    <tr>\n",
       "      <th>1347</th>\n",
       "      <td>23.0</td>\n",
       "      <td>147.69</td>\n",
       "      <td>30.0</td>\n",
       "      <td>18417.93</td>\n",
       "      <td>0</td>\n",
       "    </tr>\n",
       "    <tr>\n",
       "      <th>1132</th>\n",
       "      <td>51.0</td>\n",
       "      <td>381.12</td>\n",
       "      <td>43.0</td>\n",
       "      <td>14771.91</td>\n",
       "      <td>0</td>\n",
       "    </tr>\n",
       "  </tbody>\n",
       "</table>\n",
       "</div>"
      ],
      "text/plain": [
       "      calls  minutes  messages   mb_used  is_ultra\n",
       "241     5.0    27.01       0.0   2207.27         0\n",
       "2788   38.0   280.97      41.0  16853.45         0\n",
       "2627  165.0   965.74      93.0  17477.23         1\n",
       "2507   36.0   260.94      10.0  15438.40         0\n",
       "1618   48.0   322.61      73.0  18642.34         1\n",
       "1847   82.0   492.00      30.0  22325.63         0\n",
       "3187   35.0   259.10       4.0  14857.57         0\n",
       "965    81.0   542.22      21.0  15356.16         0\n",
       "1347   23.0   147.69      30.0  18417.93         0\n",
       "1132   51.0   381.12      43.0  14771.91         0"
      ]
     },
     "execution_count": 4,
     "metadata": {},
     "output_type": "execute_result"
    }
   ],
   "source": [
    "df.sample(10)"
   ]
  },
  {
   "cell_type": "code",
   "execution_count": 5,
   "metadata": {},
   "outputs": [
    {
     "data": {
      "text/plain": [
       "(3214, 5)"
      ]
     },
     "execution_count": 5,
     "metadata": {},
     "output_type": "execute_result"
    }
   ],
   "source": [
    "df.shape"
   ]
  },
  {
   "cell_type": "code",
   "execution_count": 6,
   "metadata": {},
   "outputs": [
    {
     "data": {
      "text/html": [
       "<div>\n",
       "<style scoped>\n",
       "    .dataframe tbody tr th:only-of-type {\n",
       "        vertical-align: middle;\n",
       "    }\n",
       "\n",
       "    .dataframe tbody tr th {\n",
       "        vertical-align: top;\n",
       "    }\n",
       "\n",
       "    .dataframe thead th {\n",
       "        text-align: right;\n",
       "    }\n",
       "</style>\n",
       "<table border=\"1\" class=\"dataframe\">\n",
       "  <thead>\n",
       "    <tr style=\"text-align: right;\">\n",
       "      <th></th>\n",
       "      <th>calls</th>\n",
       "      <th>minutes</th>\n",
       "      <th>messages</th>\n",
       "      <th>mb_used</th>\n",
       "      <th>is_ultra</th>\n",
       "    </tr>\n",
       "  </thead>\n",
       "  <tbody>\n",
       "    <tr>\n",
       "      <th>count</th>\n",
       "      <td>3214.000000</td>\n",
       "      <td>3214.000000</td>\n",
       "      <td>3214.000000</td>\n",
       "      <td>3214.000000</td>\n",
       "      <td>3214.000000</td>\n",
       "    </tr>\n",
       "    <tr>\n",
       "      <th>mean</th>\n",
       "      <td>63.038892</td>\n",
       "      <td>438.208787</td>\n",
       "      <td>38.281269</td>\n",
       "      <td>17207.673836</td>\n",
       "      <td>0.306472</td>\n",
       "    </tr>\n",
       "    <tr>\n",
       "      <th>std</th>\n",
       "      <td>33.236368</td>\n",
       "      <td>234.569872</td>\n",
       "      <td>36.148326</td>\n",
       "      <td>7570.968246</td>\n",
       "      <td>0.461100</td>\n",
       "    </tr>\n",
       "    <tr>\n",
       "      <th>min</th>\n",
       "      <td>0.000000</td>\n",
       "      <td>0.000000</td>\n",
       "      <td>0.000000</td>\n",
       "      <td>0.000000</td>\n",
       "      <td>0.000000</td>\n",
       "    </tr>\n",
       "    <tr>\n",
       "      <th>25%</th>\n",
       "      <td>40.000000</td>\n",
       "      <td>274.575000</td>\n",
       "      <td>9.000000</td>\n",
       "      <td>12491.902500</td>\n",
       "      <td>0.000000</td>\n",
       "    </tr>\n",
       "    <tr>\n",
       "      <th>50%</th>\n",
       "      <td>62.000000</td>\n",
       "      <td>430.600000</td>\n",
       "      <td>30.000000</td>\n",
       "      <td>16943.235000</td>\n",
       "      <td>0.000000</td>\n",
       "    </tr>\n",
       "    <tr>\n",
       "      <th>75%</th>\n",
       "      <td>82.000000</td>\n",
       "      <td>571.927500</td>\n",
       "      <td>57.000000</td>\n",
       "      <td>21424.700000</td>\n",
       "      <td>1.000000</td>\n",
       "    </tr>\n",
       "    <tr>\n",
       "      <th>max</th>\n",
       "      <td>244.000000</td>\n",
       "      <td>1632.060000</td>\n",
       "      <td>224.000000</td>\n",
       "      <td>49745.730000</td>\n",
       "      <td>1.000000</td>\n",
       "    </tr>\n",
       "  </tbody>\n",
       "</table>\n",
       "</div>"
      ],
      "text/plain": [
       "             calls      minutes     messages       mb_used     is_ultra\n",
       "count  3214.000000  3214.000000  3214.000000   3214.000000  3214.000000\n",
       "mean     63.038892   438.208787    38.281269  17207.673836     0.306472\n",
       "std      33.236368   234.569872    36.148326   7570.968246     0.461100\n",
       "min       0.000000     0.000000     0.000000      0.000000     0.000000\n",
       "25%      40.000000   274.575000     9.000000  12491.902500     0.000000\n",
       "50%      62.000000   430.600000    30.000000  16943.235000     0.000000\n",
       "75%      82.000000   571.927500    57.000000  21424.700000     1.000000\n",
       "max     244.000000  1632.060000   224.000000  49745.730000     1.000000"
      ]
     },
     "execution_count": 6,
     "metadata": {},
     "output_type": "execute_result"
    }
   ],
   "source": [
    "df.describe()"
   ]
  },
  {
   "cell_type": "markdown",
   "metadata": {},
   "source": [
    "### Mengalisis Data"
   ]
  },
  {
   "cell_type": "code",
   "execution_count": 7,
   "metadata": {},
   "outputs": [
    {
     "data": {
      "text/plain": [
       "0"
      ]
     },
     "execution_count": 7,
     "metadata": {},
     "output_type": "execute_result"
    }
   ],
   "source": [
    "#check duplikat\n",
    "df.duplicated().sum()"
   ]
  },
  {
   "cell_type": "code",
   "execution_count": 8,
   "metadata": {},
   "outputs": [
    {
     "data": {
      "text/plain": [
       "calls       0\n",
       "minutes     0\n",
       "messages    0\n",
       "mb_used     0\n",
       "is_ultra    0\n",
       "dtype: int64"
      ]
     },
     "execution_count": 8,
     "metadata": {},
     "output_type": "execute_result"
    }
   ],
   "source": [
    "# check for missing values\n",
    "df.isna().sum()"
   ]
  },
  {
   "cell_type": "code",
   "execution_count": 9,
   "metadata": {},
   "outputs": [
    {
     "name": "stdout",
     "output_type": "stream",
     "text": [
      "<class 'pandas.core.frame.DataFrame'>\n",
      "RangeIndex: 3214 entries, 0 to 3213\n",
      "Data columns (total 5 columns):\n",
      " #   Column    Non-Null Count  Dtype  \n",
      "---  ------    --------------  -----  \n",
      " 0   calls     3214 non-null   int64  \n",
      " 1   minutes   3214 non-null   float64\n",
      " 2   messages  3214 non-null   int64  \n",
      " 3   mb_used   3214 non-null   float64\n",
      " 4   is_ultra  3214 non-null   int64  \n",
      "dtypes: float64(2), int64(3)\n",
      "memory usage: 125.7 KB\n"
     ]
    }
   ],
   "source": [
    "# fix data type\n",
    "for col in ['calls', 'messages']:\n",
    "    df[col] = df[col].apply(np.int64)\n",
    "    \n",
    "df.info()"
   ]
  },
  {
   "cell_type": "code",
   "execution_count": 10,
   "metadata": {},
   "outputs": [
    {
     "data": {
      "text/plain": [
       "0    69.352831\n",
       "1    30.647169\n",
       "Name: is_ultra, dtype: float64"
      ]
     },
     "execution_count": 10,
     "metadata": {},
     "output_type": "execute_result"
    }
   ],
   "source": [
    "#Sanity check\n",
    "df['is_ultra'].value_counts()/len(df['is_ultra']) * 100"
   ]
  },
  {
   "cell_type": "code",
   "execution_count": 11,
   "metadata": {},
   "outputs": [
    {
     "data": {
      "image/png": "[encoded data removed]",
      "text/plain": [
       "<Figure size 288x288 with 1 Axes>"
      ]
     },
     "metadata": {
      "needs_background": "light"
     },
     "output_type": "display_data"
    }
   ],
   "source": [
    "plt.figure(figsize=(4,4))\n",
    "sns.countplot(x='is_ultra', data=df, order=df['is_ultra'].value_counts().index)\n",
    "plt.xlabel('Service')\n",
    "plt.ylabel('Amount')\n",
    "plt.title('Count of Package')\n",
    "plt.show()"
   ]
  },
  {
   "cell_type": "markdown",
   "metadata": {},
   "source": [
    "Berdasarkan analisis data yang dilakukan, tidak terdapat duplikat, dan nilai yang hilang\n",
    "Type data int diaplikasikan pada kolom 'calls' dan 'messages'\n",
    "Pengguna Paket smart ('is_ultra = 0) = 69%, untuk memastikan bahwa model kami tidak membuat prediksi yang benar hanya secara kebetulan, kita perlu menetapkan tingkat akurasi ke nilai yang lebih tinggi. Kita akan meningkatkan skor akurasi menjadi 75%."
   ]
  },
  {
   "cell_type": "markdown",
   "metadata": {},
   "source": [
    "<div class=\"alert alert-success\">\n",
    "<b>Fachri's comment v.1</b> <a class=\"tocSkip\"></a>\n",
    "\n",
    "Sip Good Job</div>"
   ]
  },
  {
   "cell_type": "markdown",
   "metadata": {},
   "source": [
    "### Memisahkan dataset\n",
    "\n",
    "Membuat model ML melibatkan tiga langkah: training, validation, and testing. Kami hanya memiliki satu kumpulan data untuk ketiga langkah tersebut, jadi kami perlu membaginya untuk digunakan di setiap tahap.\n",
    "\n",
    "Training memerlukan lebih banyak data dibandingkan dua tahap terakhir. Membagi dataset dengan rasio 3:1:1 (60% untuk training, masing-masing 20% untuk validation dan testing) seharusnya dapat memberikan data yang cukup untuk setiap bagian. Karena train_test_split hanya dapat membagi kumpulan data menjadi dua, kita perlu menjalankan fungsi ini dua kali.\n",
    "\n",
    "Kami akan menyetel hyperparameter random_state ke nilai arbitrary 12345 di seluruh proyek. Ini akan memastikan bahwa kami mendapatkan hasil yang konsisten setiap saat."
   ]
  },
  {
   "cell_type": "code",
   "execution_count": 12,
   "metadata": {},
   "outputs": [],
   "source": [
    "# membagi dataset menjadi 60% training, 20% validasi dan 20% test\n",
    "\n",
    "# membagi dataset megaline menjadi 60% untuk training dan 40% untuk (validasi + test)\n",
    "df_train, df2 = train_test_split(df, train_size=0.6, random_state=12345)\n",
    "\n",
    "# membagi dataset temporary menjadi 50% untuk validation dan 50% untuk test\n",
    "df_val, df_test = train_test_split(df2, test_size=0.5, random_state=12345)"
   ]
  },
  {
   "cell_type": "code",
   "execution_count": 13,
   "metadata": {},
   "outputs": [
    {
     "name": "stdout",
     "output_type": "stream",
     "text": [
      "features_train: (1928, 4)\n",
      "target_train: (1928,) \n",
      "\n",
      "features_valid: (643, 4)\n",
      "target_valid: (643,) \n",
      "\n",
      "features_test: (643, 4)\n",
      "target_test: (643,)\n"
     ]
    }
   ],
   "source": [
    "# membagi dataset training menjadi fitur dan target\n",
    "features_train = df_train.drop(['is_ultra'],axis=1)\n",
    "target_train = df_train['is_ultra']\n",
    "\n",
    "# membagi dataset validation menjadi fitur dan target\n",
    "features_val = df_val.drop(['is_ultra'],axis=1)\n",
    "target_val = df_val['is_ultra']\n",
    "\n",
    "# membagi dataset test menjadi fitur dan target\n",
    "features_test = df_test.drop(['is_ultra'],axis=1)\n",
    "target_test = df_test['is_ultra']\n",
    "\n",
    "# menampilkan shape dari training dan validation\n",
    "print('features_train:',features_train.shape)\n",
    "print('target_train:',target_train.shape,'\\n')\n",
    "\n",
    "print('features_valid:',features_val.shape)\n",
    "print('target_valid:',target_val.shape,'\\n')\n",
    "\n",
    "print('features_test:',features_test.shape)\n",
    "print('target_test:',target_test.shape)"
   ]
  },
  {
   "cell_type": "markdown",
   "metadata": {},
   "source": [
    "<div class=\"alert alert-success\">\n",
    "<b>Fachri's comment v.1</b> <a class=\"tocSkip\"></a>\n",
    "\n",
    "Sip Good Job</div>"
   ]
  },
  {
   "cell_type": "markdown",
   "metadata": {},
   "source": [
    "### Menguji kualitas model"
   ]
  },
  {
   "cell_type": "markdown",
   "metadata": {},
   "source": [
    "#### Decision Tree Classifier\n",
    "\n",
    "Performa model ini bervariasi berdasarkan kedalaman pohon. Artinya kita harus menjaga pohonnya cukup dalam untuk menghasilkan hasil terbaik, namun tidak terlalu dalam untuk mencegah overfitting dan pemborosan sumber daya. Untuk mencapai hal ini, kami akan melatih dan memvalidasi model 10 kali dengan kedalaman yang semakin meningkat dan memilih model dengan skor terbaik."
   ]
  },
  {
   "cell_type": "code",
   "execution_count": 14,
   "metadata": {},
   "outputs": [
    {
     "name": "stdout",
     "output_type": "stream",
     "text": [
      "Best depth: 3 training accuracy: 0.8075726141078838 validation accuracy: 0.7853810264385692\n"
     ]
    }
   ],
   "source": [
    "#Mendefinisikan temporary variabel\n",
    "tree_train_best_score = 0\n",
    "tree_best_score = 0\n",
    "tree_best_depth = 0\n",
    "\n",
    "for depth in range(1, 11):\n",
    "    # Creating models\n",
    "    tree_model = DecisionTreeClassifier(max_depth=depth, random_state=12345)\n",
    "    # Training models\n",
    "    tree_model.fit(features_train, target_train)\n",
    "    \n",
    "    # Getting training scores\n",
    "    pred_train = tree_model.predict(features_train)\n",
    "    tree_train_score = accuracy_score(target_train, pred_train)\n",
    "    \n",
    "    # Validation and obtaining validation metric scores\n",
    "    pred_val = tree_model.predict(features_val)\n",
    "    val_acc_score = accuracy_score(target_val, pred_val)\n",
    "    \n",
    "    # Storing the best depth and scores\n",
    "    if val_acc_score > tree_best_score:\n",
    "        tree_train_best_score = tree_train_score\n",
    "        tree_best_score = val_acc_score\n",
    "        tree_best_depth = depth\n",
    "    \n",
    "print('Best depth:', tree_best_depth, 'training accuracy:', tree_train_best_score, 'validation accuracy:', tree_best_score)"
   ]
  },
  {
   "cell_type": "markdown",
   "metadata": {},
   "source": [
    "Model dengan validation accuracy terbaik pada depth : 3, dengan nilai 78.5%\n",
    "Skor ini telah melampai minimal skor akurasi kita di 75%. Kami akan menggunakan kedalaman ini sebagai hyperparameter untuk model Decision Tree ini"
   ]
  },
  {
   "cell_type": "markdown",
   "metadata": {},
   "source": [
    "<div class=\"alert alert-success\">\n",
    "<b>Fachri's comment v.1</b> <a class=\"tocSkip\"></a>\n",
    "\n",
    "Sip Good Job</div>"
   ]
  },
  {
   "cell_type": "markdown",
   "metadata": {},
   "source": [
    "#### Random Forest\n",
    "\n",
    "Pada teknik random forest, keakuratan model akan bervariasi berdasarkan kedalaman maksimal pohonnya (max_depth) dan jumlah pohonnya (n_estimator). max_ depth akan disetel dari 1--10 dan n_estimators akan berkisar dari 1--50 dengan penambahan 2 estimator di setiap iterasi."
   ]
  },
  {
   "cell_type": "code",
   "execution_count": 15,
   "metadata": {},
   "outputs": [
    {
     "name": "stdout",
     "output_type": "stream",
     "text": [
      "Best training accuracy: 0.8744813278008299\n",
      "Best validation accuracy: 0.807153965785381\n"
     ]
    },
    {
     "data": {
      "text/plain": [
       "RandomForestClassifier(max_depth=8, n_estimators=41, random_state=12345)"
      ]
     },
     "execution_count": 15,
     "metadata": {},
     "output_type": "execute_result"
    }
   ],
   "source": [
    "#Mendefinisikan temporary variabel\n",
    "forest_best_training_score = 0\n",
    "forest_best_score = 0\n",
    "forest_best_model = None\n",
    "\n",
    "for depth in range(1, 11):\n",
    "    for estimator in range(1, 51, 2): # Setting untuk penambahan 2 estimator di setiap iterasi\n",
    "        \n",
    "        # Creating & training the model with different max_depth and n_estimators\n",
    "        forest_model = RandomForestClassifier(random_state=12345, max_depth=depth, n_estimators=estimator)\n",
    "        forest_model.fit(features_train, target_train)\n",
    "        \n",
    "        # Getting training scores\n",
    "        pred_train = forest_model.predict(features_train)\n",
    "        forest_train_score = accuracy_score(target_train, pred_train)\n",
    "        \n",
    "        # Validating the model\n",
    "        pred_val = forest_model.predict(features_val)\n",
    "        val_acc_score = accuracy_score(target_val, pred_val)\n",
    "        \n",
    "        # Storing the best score and model\n",
    "        if val_acc_score > forest_best_score:\n",
    "            forest_best_training_score = forest_train_score\n",
    "            forest_best_score = val_acc_score\n",
    "            forest_best_model = forest_model\n",
    "                 \n",
    "print('Best training accuracy:', forest_best_training_score)\n",
    "print('Best validation accuracy:', forest_best_score)\n",
    "forest_best_model"
   ]
  },
  {
   "cell_type": "markdown",
   "metadata": {},
   "source": [
    "Berdasarkan model pohon ini, kedalam terbaik = 8, dan estimator = 41, untuk mendapat Best validation accuracy = 80.7%"
   ]
  },
  {
   "cell_type": "markdown",
   "metadata": {},
   "source": [
    "<div class=\"alert alert-success\">\n",
    "<b>Fachri's comment v.1</b> <a class=\"tocSkip\"></a>\n",
    "\n",
    "Sip Good Job</div>"
   ]
  },
  {
   "cell_type": "markdown",
   "metadata": {},
   "source": [
    "#### Logistic Regression\n",
    "\n",
    "Pada metode logistic regression kita akan menguji 5 solver yang telah disediakan oleh scikit-learn ('liblinear', 'newton-cg', 'lbfgs', 'sag', 'saga') namun untuk solver 'sag', dan 'saga' memerlukan iterasi yang lebih banyak. Oleh sebab itu kami akan membuat max_iter hyperparamter menjadi 4000 untuk kedua solver tersebut, dan solver lainnya tetap menggunakan nilai deafultnya 100"
   ]
  },
  {
   "cell_type": "code",
   "execution_count": 16,
   "metadata": {},
   "outputs": [
    {
     "name": "stdout",
     "output_type": "stream",
     "text": [
      "liblinear training accuracy: 0.7505186721991701\n",
      "liblinear validation accuracy: 0.7589424572317263\n",
      "\n",
      "newton-cg training accuracy: 0.7531120331950207\n",
      "newton-cg validation accuracy: 0.7558320373250389\n",
      "\n",
      "lbfgs training accuracy: 0.7131742738589212\n",
      "lbfgs validation accuracy: 0.7107309486780715\n",
      "\n"
     ]
    },
    {
     "name": "stderr",
     "output_type": "stream",
     "text": [
      "/opt/conda/lib/python3.9/site-packages/scipy/optimize/_linesearch.py:456: LineSearchWarning: The line search algorithm did not converge\n",
      "  warn('The line search algorithm did not converge', LineSearchWarning)\n",
      "/opt/conda/lib/python3.9/site-packages/scipy/optimize/_linesearch.py:305: LineSearchWarning: The line search algorithm did not converge\n",
      "  warn('The line search algorithm did not converge', LineSearchWarning)\n",
      "/opt/conda/lib/python3.9/site-packages/scipy/optimize/_linesearch.py:415: LineSearchWarning: Rounding errors prevent the line search from converging\n",
      "  warn(msg, LineSearchWarning)\n",
      "/opt/conda/lib/python3.9/site-packages/scipy/optimize/_linesearch.py:305: LineSearchWarning: The line search algorithm did not converge\n",
      "  warn('The line search algorithm did not converge', LineSearchWarning)\n",
      "/opt/conda/lib/python3.9/site-packages/sklearn/utils/optimize.py:195: UserWarning: Line Search failed\n",
      "  warnings.warn('Line Search failed')\n"
     ]
    },
    {
     "name": "stdout",
     "output_type": "stream",
     "text": [
      "sag training accuracy: 0.7105809128630706\n",
      "sag validation accuracy: 0.7076205287713841\n",
      "\n",
      "saga training accuracy: 0.7085062240663901\n",
      "saga validation accuracy: 0.7076205287713841\n",
      "\n"
     ]
    }
   ],
   "source": [
    "solver_list = ['liblinear', 'newton-cg', 'lbfgs', 'sag', 'saga']\n",
    "\n",
    "for solver in solver_list:\n",
    "    # Creating & training logistic regression models, changing max_iter\n",
    "    if solver == 'sag' or solver == 'saga':\n",
    "        logreg_model = LogisticRegression(random_state=12345, solver=solver, max_iter=4000)\n",
    "    else:\n",
    "        logreg_model = LogisticRegression(random_state=12345, solver=solver)\n",
    "    logreg_model.fit(features_train, target_train)\n",
    "    \n",
    "    # Getting training accuracy scores\n",
    "    pred_train = logreg_model.predict(features_train)\n",
    "    train_acc_score = accuracy_score(target_train, pred_train)\n",
    "    print(solver, 'training accuracy:', train_acc_score)\n",
    "\n",
    "    # Validating model & getting accuracy\n",
    "    pred_val = logreg_model.predict(features_val)\n",
    "    val_acc_score = accuracy_score(target_val, pred_val)\n",
    "    print(solver, 'validation accuracy:', val_acc_score)\n",
    "    print()"
   ]
  },
  {
   "cell_type": "markdown",
   "metadata": {},
   "source": [
    "Hasil yang kita dapat dengan menggunakan metode logistic regression dengan semua solver kita berada pada rentang akurasi 70%-75%, namun untuk solver liblinear dan newton-cg mengindikasikan underfitting karena validation accuracy lebih tinggi dari training score"
   ]
  },
  {
   "cell_type": "markdown",
   "metadata": {},
   "source": [
    "<div class=\"alert alert-success\">\n",
    "<b>Fachri's comment v.1</b> <a class=\"tocSkip\"></a>\n",
    "\n",
    "Sip Good Job</div>"
   ]
  },
  {
   "cell_type": "markdown",
   "metadata": {},
   "source": [
    "### Kesimpulan\n",
    "\n",
    "Diawal kita melakukan sanity check data manual antara data 'is_ultra' 0=69% dan 1=31%, yang mengharuskan model memiliki akurasi lebih dari 75%, dengan menggunakan :\n",
    "\n",
    "DecisionTreeClassifier dengan tuning hyperparameter random_state=12345, pada depth : 3 \n",
    "menghasilkan model yang tidak underfitting maupun overfitting dengan tingkat akurasi pada test sebesar 78.5%\n",
    "\n",
    "RandomForestClassifier dengan tuning hyperparameter random_state=12345, kedalam terbaik = 8, dan estimator = 41, menghasilkan model yang tidak underfitting maupun ovefitting dengan tingkat akurasi pada test sebesar 80.7%\n",
    "\n",
    "Logistic Regression dengan tuning random_state=12345, solver='liblinear', 'newton-cg', 'lbfgs', 'sag', 'saga', menghasilkan berbagai hasil tingkat akurasi dengan range 70%-75% dan pada solver liblinear dan newton-cg mengindikasikan underfitting\n",
    "\n",
    "dari ketiga model di atas, RandomForestClassifier memiliki tingkat akurasi tertinggi, tetapi jika dibandingkan kecepatan eksekusi program sedikit lebih lambat dari model yang lain"
   ]
  },
  {
   "cell_type": "markdown",
   "metadata": {},
   "source": [
    "<div class=\"alert alert-success\">\n",
    "<b>Fachri's comment v.1</b> <a class=\"tocSkip\"></a>\n",
    "\n",
    "Sip Good Job</div>"
   ]
  }
 ],
 "metadata": {
  "kernelspec": {
   "display_name": "Python 3 (ipykernel)",
   "language": "python",
   "name": "python3"
  },
  "language_info": {
   "codemirror_mode": {
    "name": "ipython",
    "version": 3
   },
   "file_extension": ".py",
   "mimetype": "text/x-python",
   "name": "python",
   "nbconvert_exporter": "python",
   "pygments_lexer": "ipython3",
   "version": "3.9.19"
  },
  "toc": {
   "base_numbering": 1,
   "nav_menu": {},
   "number_sections": true,
   "sideBar": true,
   "skip_h1_title": true,
   "title_cell": "Table of Contents",
   "title_sidebar": "Contents",
   "toc_cell": false,
   "toc_position": {},
   "toc_section_display": true,
   "toc_window_display": false
  }
 },
 "nbformat": 4,
 "nbformat_minor": 2
}
