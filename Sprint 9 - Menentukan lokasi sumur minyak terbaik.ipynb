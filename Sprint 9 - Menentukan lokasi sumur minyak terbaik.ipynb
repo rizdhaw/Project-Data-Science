{
 "cells": [
  {
   "cell_type": "markdown",
   "metadata": {},
   "source": [
    "<div style=\"border:solid black 2px; padding: 20px\">\n",
    "\n",
    "# Reviewer's feedback v.1\n",
    "\n",
    "**Halo Wahyudi**\n",
    "    \n",
    "**Greetings from Chamdani**\n",
    "\n",
    "Terima kasih telah mengirimkan project kamu dengan ini kamu sudah memulai sebuah langkah yang luar biasa saat ini. Disini saya akan mereview proyek kamu ya.\n",
    "\n",
    "Saya akan memberikan beberapa komentar dan feedback seperti dibawah ini, **mohon jangan dipindah, dirubah, maupun dihapus ya :).**\n",
    "    \n",
    "> Mohon diperhatikan bahwa apabila ada temuan atau kesalahan yang sama namun tidak ada komentar perbaikan disana, itu berarti kamu masih tetap harus memperbaikinya yaa.\n",
    "\n",
    "Komentar yang saya berikan akan muncul dalam warna hijau, kuning, atau pun merah seperti ini:\n",
    "\n",
    "</div>\n",
    "\n",
    "<div class=\"alert alert-success\">\n",
    "<b>Chamdani's comment v.*</b> <a class=\"tocSkip\"></a>\n",
    "\n",
    "Bagus, semua berjalan lancar.\n",
    "\n",
    "</div>\n",
    "\n",
    "<div class=\"alert alert-warning\">\n",
    "<b>Chamdani's comment v.*</b> <a class=\"tocSkip\"></a>\n",
    "\n",
    "Ada beberapa catatan.\n",
    "\n",
    "</div>\n",
    "\n",
    "<div class=\"alert alert-danger\">\n",
    "<b>Chamdani's comment v.*</b> <a class=\"tocSkip\"></a>\n",
    "\n",
    "Perlu beberapa perbaikan.\n",
    "\n",
    "</div>\n",
    "\n",
    "<div class=\"alert alert-info\">\n",
    "<b>Chamdani's info v.1</b> <a class=\"tocSkip\"></a>\n",
    "\n",
    "Catatan umum:\n",
    "* Fungsi `print` tidak diperlukan untuk mencetak suatu nilai\n",
    "* Lebih baik tulis kode pada bagian akhir cell code untuk menampilkan output tanpa `print`\n",
    "* Perintah soal yang ada dalam tanda kurung siku `[...]` sebaiknya dihilangkan\n",
    "* Sangat disarankan untuk menggunakan cell markdown untuk memberikan deskripsi temuan atau kesimpulan.\n",
    "* Tidak disarankan menggunakan cell code untuk memberikan penjelasan / deskripsi.\n",
    "* Untuk menghindari galat pada notebook project kamu. Batasi jumlah output yang dikeluarkan setiap kode dengan batas max 10 baris data.\n",
    "\n",
    "</div>\n",
    "\n",
    "<div style=\"border:solid gray 5px; padding: 20px\" class=\"alert alert-warning\">\n",
    "\n",
    "**INGATLAH** \n",
    "* Project kamu tidak akan bisa diterima bila kamu masih memiliki feedback berwarna merah. \n",
    "* Kamu hanya memiliki 3 kali kesempatan iterasi submission disetiap projectnya \n",
    "* Jika merasa kesulitan kamu dapat menuliskan responmu atas feedback saya menggunakan blok markdown warna biru dan kamu bisa mengirimkan project pada submission selanjutnya untuk mendapatkan jawaban / respon dari saya segera yaa\n",
    "\n",
    "Kamu dapat menjawab saya dengan menggunakan blok berwarna biru seperti ini\n",
    "\n",
    "<div class=\"alert alert-info\">\n",
    "<b>Student answer</b> <a class=\"tocSkip\"></a>\n",
    "\n",
    "Siap kak.\n",
    "\n",
    "</div>"
   ]
  },
  {
   "cell_type": "markdown",
   "metadata": {},
   "source": [
    "<div style=\"border:solid black 2px; padding: 20px\" class=\"alert alert-success\">\n",
    "    \n",
    "# General feedback v.1 *Project Accepted*\n",
    "\n",
    "Terima kasih banyak telah mengirimkan proyek Anda! \n",
    "<br>\n",
    "    \n",
    "Secara keseluruhan, proyek Anda **SANGAT** mengesankan. Semoga apa yang kamu pelajari dalam project ini dapat membantu meningkatkan kemampuanmu. Pertahankan apa yang sudah bagus, dan tingkatkan apa yang menurutmu masih perlu ditingkatkan. Semoga berhasil pada project selanjutnya yaa :)\n",
    "\n",
    "**TETAP SEMANGAT!!**\n",
    "    \n",
    "</div>"
   ]
  },
  {
   "cell_type": "markdown",
   "metadata": {},
   "source": [
    "# Table of Contents\n",
    "\n",
    "- EDA\n",
    "- Data Processing\n",
    "- Preparation for calculating profit\n",
    "- Create Function to Calculate Profit\n",
    "- Calculating confidence intervals\n",
    "- Conclusion"
   ]
  },
  {
   "cell_type": "markdown",
   "metadata": {},
   "source": [
    "# Project Description\n",
    "\n",
    "\n",
    "Perusahaan minyak OilyGiant berniat akan melakukan eksplorasi sumur baru, tugas kita adalah mencari tempat terbaik untuk mengembangkan 200 titik sumur minyak baru tersebut. dimana perusahaan memiliki investasi 100 juta untuk 200 sumur minyak, sebuah sumur minyak rata-rata harus menghasilkan setidaknya 500 ribu USD untuk menghindari kerugian. Satu barel minyak mentah menghasilkan pendapatan sebesar 4,5 dolar. Nah, pendapatan dari satu unit produk adalah $4.500 (volume cadangan ditulis dalam ribuan barel).\n",
    "Setelah kita menganalisis risiko yang ada, kita mempertahankan wilayah yang memiliki risiko kerugian kurang dari 2,5%."
   ]
  },
  {
   "cell_type": "markdown",
   "metadata": {},
   "source": [
    "<div class=\"alert alert-success\">\n",
    "<b>Chamdani's comment v.1</b> <a class=\"tocSkip\"></a>\n",
    "\n",
    "Hebat, Kerja bagus!\n",
    "</div>"
   ]
  },
  {
   "cell_type": "markdown",
   "metadata": {},
   "source": [
    "## EDA"
   ]
  },
  {
   "cell_type": "markdown",
   "metadata": {},
   "source": [
    "### Libraries"
   ]
  },
  {
   "cell_type": "code",
   "execution_count": 1,
   "metadata": {},
   "outputs": [],
   "source": [
    "# Load all libraries\n",
    "import pandas as pd\n",
    "import numpy as np\n",
    "import matplotlib.pyplot as plt\n",
    "import seaborn as sns\n",
    "import warnings\n",
    "warnings.filterwarnings('ignore')\n",
    "from collections import defaultdict\n",
    "\n",
    "# ml libraries\n",
    "from sklearn.model_selection import train_test_split\n",
    "from sklearn.preprocessing import StandardScaler, PolynomialFeatures\n",
    "from sklearn.metrics import mean_absolute_percentage_error, mean_absolute_error, mean_squared_error\n",
    "from math import sqrt\n",
    "from sklearn.linear_model import Lasso, Ridge, LinearRegression\n",
    "from sklearn.neural_network import MLPRegressor"
   ]
  },
  {
   "cell_type": "markdown",
   "metadata": {},
   "source": [
    "<div class=\"alert alert-success\">\n",
    "<b>Chamdani's comment v.1</b> <a class=\"tocSkip\"></a>\n",
    "\n",
    "Hebat, Kerja bagus!\n",
    "</div>"
   ]
  },
  {
   "cell_type": "markdown",
   "metadata": {},
   "source": [
    "### Data Preparation"
   ]
  },
  {
   "cell_type": "code",
   "execution_count": 2,
   "metadata": {},
   "outputs": [],
   "source": [
    "# If run locally\n",
    "try:\n",
    "    df0 = pd.read_csv('datasets/geo_data_0.csv')\n",
    "    df1 = pd.read_csv('datasets/geo_data_1.csv')\n",
    "    df2 = pd.read_csv('datasets/geo_data_2.csv')\n",
    "\n",
    "# If run on the platform\n",
    "except:\n",
    "    df0 = pd.read_csv('/datasets/geo_data_0.csv')\n",
    "    df1 = pd.read_csv('/datasets/geo_data_1.csv')\n",
    "    df2 = pd.read_csv('/datasets/geo_data_2.csv')"
   ]
  },
  {
   "cell_type": "markdown",
   "metadata": {},
   "source": [
    "<div class=\"alert alert-success\">\n",
    "<b>Chamdani's comment v.1</b> <a class=\"tocSkip\"></a>\n",
    "\n",
    "Hebat, Kerja bagus!\n",
    "</div>"
   ]
  },
  {
   "cell_type": "markdown",
   "metadata": {},
   "source": [
    "#### Check Dataset"
   ]
  },
  {
   "cell_type": "code",
   "execution_count": 3,
   "metadata": {
    "scrolled": true
   },
   "outputs": [
    {
     "name": "stdout",
     "output_type": "stream",
     "text": [
      "<class 'pandas.core.frame.DataFrame'>\n",
      "RangeIndex: 100000 entries, 0 to 99999\n",
      "Data columns (total 5 columns):\n",
      " #   Column   Non-Null Count   Dtype  \n",
      "---  ------   --------------   -----  \n",
      " 0   id       100000 non-null  object \n",
      " 1   f0       100000 non-null  float64\n",
      " 2   f1       100000 non-null  float64\n",
      " 3   f2       100000 non-null  float64\n",
      " 4   product  100000 non-null  float64\n",
      "dtypes: float64(4), object(1)\n",
      "memory usage: 3.8+ MB\n",
      "None\n",
      "                  f0             f1             f2        product\n",
      "count  100000.000000  100000.000000  100000.000000  100000.000000\n",
      "mean        0.500419       0.250143       2.502647      92.500000\n",
      "std         0.871832       0.504433       3.248248      44.288691\n",
      "min        -1.408605      -0.848218     -12.088328       0.000000\n",
      "25%        -0.072580      -0.200881       0.287748      56.497507\n",
      "50%         0.502360       0.250252       2.515969      91.849972\n",
      "75%         1.073581       0.700646       4.715088     128.564089\n",
      "max         2.362331       1.343769      16.003790     185.364347\n"
     ]
    },
    {
     "data": {
      "text/html": [
       "<div>\n",
       "<style scoped>\n",
       "    .dataframe tbody tr th:only-of-type {\n",
       "        vertical-align: middle;\n",
       "    }\n",
       "\n",
       "    .dataframe tbody tr th {\n",
       "        vertical-align: top;\n",
       "    }\n",
       "\n",
       "    .dataframe thead th {\n",
       "        text-align: right;\n",
       "    }\n",
       "</style>\n",
       "<table border=\"1\" class=\"dataframe\">\n",
       "  <thead>\n",
       "    <tr style=\"text-align: right;\">\n",
       "      <th></th>\n",
       "      <th>id</th>\n",
       "      <th>f0</th>\n",
       "      <th>f1</th>\n",
       "      <th>f2</th>\n",
       "      <th>product</th>\n",
       "    </tr>\n",
       "  </thead>\n",
       "  <tbody>\n",
       "    <tr>\n",
       "      <th>73199</th>\n",
       "      <td>z3o1j</td>\n",
       "      <td>0.783585</td>\n",
       "      <td>-0.555084</td>\n",
       "      <td>2.614219</td>\n",
       "      <td>59.414729</td>\n",
       "    </tr>\n",
       "    <tr>\n",
       "      <th>58955</th>\n",
       "      <td>gTKkj</td>\n",
       "      <td>0.475157</td>\n",
       "      <td>0.791620</td>\n",
       "      <td>1.622652</td>\n",
       "      <td>111.935267</td>\n",
       "    </tr>\n",
       "    <tr>\n",
       "      <th>28459</th>\n",
       "      <td>tmZ5R</td>\n",
       "      <td>1.790601</td>\n",
       "      <td>-0.129360</td>\n",
       "      <td>-2.104832</td>\n",
       "      <td>117.416423</td>\n",
       "    </tr>\n",
       "    <tr>\n",
       "      <th>41872</th>\n",
       "      <td>aqJI9</td>\n",
       "      <td>1.592064</td>\n",
       "      <td>-0.286448</td>\n",
       "      <td>3.940004</td>\n",
       "      <td>80.788220</td>\n",
       "    </tr>\n",
       "    <tr>\n",
       "      <th>73905</th>\n",
       "      <td>e2mPy</td>\n",
       "      <td>0.567314</td>\n",
       "      <td>0.949970</td>\n",
       "      <td>0.187913</td>\n",
       "      <td>49.227307</td>\n",
       "    </tr>\n",
       "  </tbody>\n",
       "</table>\n",
       "</div>"
      ],
      "text/plain": [
       "          id        f0        f1        f2     product\n",
       "73199  z3o1j  0.783585 -0.555084  2.614219   59.414729\n",
       "58955  gTKkj  0.475157  0.791620  1.622652  111.935267\n",
       "28459  tmZ5R  1.790601 -0.129360 -2.104832  117.416423\n",
       "41872  aqJI9  1.592064 -0.286448  3.940004   80.788220\n",
       "73905  e2mPy  0.567314  0.949970  0.187913   49.227307"
      ]
     },
     "execution_count": 3,
     "metadata": {},
     "output_type": "execute_result"
    }
   ],
   "source": [
    "# df0\n",
    "print(df0.info())\n",
    "print(df0.describe())\n",
    "df0.sample(5)"
   ]
  },
  {
   "cell_type": "code",
   "execution_count": 4,
   "metadata": {},
   "outputs": [
    {
     "name": "stdout",
     "output_type": "stream",
     "text": [
      "<class 'pandas.core.frame.DataFrame'>\n",
      "RangeIndex: 100000 entries, 0 to 99999\n",
      "Data columns (total 5 columns):\n",
      " #   Column   Non-Null Count   Dtype  \n",
      "---  ------   --------------   -----  \n",
      " 0   id       100000 non-null  object \n",
      " 1   f0       100000 non-null  float64\n",
      " 2   f1       100000 non-null  float64\n",
      " 3   f2       100000 non-null  float64\n",
      " 4   product  100000 non-null  float64\n",
      "dtypes: float64(4), object(1)\n",
      "memory usage: 3.8+ MB\n",
      "None\n",
      "                  f0             f1             f2        product\n",
      "count  100000.000000  100000.000000  100000.000000  100000.000000\n",
      "mean        1.141296      -4.796579       2.494541      68.825000\n",
      "std         8.965932       5.119872       1.703572      45.944423\n",
      "min       -31.609576     -26.358598      -0.018144       0.000000\n",
      "25%        -6.298551      -8.267985       1.000021      26.953261\n",
      "50%         1.153055      -4.813172       2.011479      57.085625\n",
      "75%         8.621015      -1.332816       3.999904     107.813044\n",
      "max        29.421755      18.734063       5.019721     137.945408\n"
     ]
    },
    {
     "data": {
      "text/html": [
       "<div>\n",
       "<style scoped>\n",
       "    .dataframe tbody tr th:only-of-type {\n",
       "        vertical-align: middle;\n",
       "    }\n",
       "\n",
       "    .dataframe tbody tr th {\n",
       "        vertical-align: top;\n",
       "    }\n",
       "\n",
       "    .dataframe thead th {\n",
       "        text-align: right;\n",
       "    }\n",
       "</style>\n",
       "<table border=\"1\" class=\"dataframe\">\n",
       "  <thead>\n",
       "    <tr style=\"text-align: right;\">\n",
       "      <th></th>\n",
       "      <th>id</th>\n",
       "      <th>f0</th>\n",
       "      <th>f1</th>\n",
       "      <th>f2</th>\n",
       "      <th>product</th>\n",
       "    </tr>\n",
       "  </thead>\n",
       "  <tbody>\n",
       "    <tr>\n",
       "      <th>53385</th>\n",
       "      <td>v5fXU</td>\n",
       "      <td>-8.361655</td>\n",
       "      <td>-4.796396</td>\n",
       "      <td>2.001350</td>\n",
       "      <td>57.085625</td>\n",
       "    </tr>\n",
       "    <tr>\n",
       "      <th>30963</th>\n",
       "      <td>QLGqV</td>\n",
       "      <td>-11.093352</td>\n",
       "      <td>-12.128133</td>\n",
       "      <td>1.009003</td>\n",
       "      <td>30.132364</td>\n",
       "    </tr>\n",
       "    <tr>\n",
       "      <th>88006</th>\n",
       "      <td>e288L</td>\n",
       "      <td>15.076468</td>\n",
       "      <td>-6.351626</td>\n",
       "      <td>0.999835</td>\n",
       "      <td>26.953261</td>\n",
       "    </tr>\n",
       "    <tr>\n",
       "      <th>21968</th>\n",
       "      <td>y6kDn</td>\n",
       "      <td>-0.991981</td>\n",
       "      <td>-17.995529</td>\n",
       "      <td>1.997870</td>\n",
       "      <td>57.085625</td>\n",
       "    </tr>\n",
       "    <tr>\n",
       "      <th>37359</th>\n",
       "      <td>xmUnK</td>\n",
       "      <td>-11.321670</td>\n",
       "      <td>-9.972623</td>\n",
       "      <td>1.995770</td>\n",
       "      <td>57.085625</td>\n",
       "    </tr>\n",
       "  </tbody>\n",
       "</table>\n",
       "</div>"
      ],
      "text/plain": [
       "          id         f0         f1        f2    product\n",
       "53385  v5fXU  -8.361655  -4.796396  2.001350  57.085625\n",
       "30963  QLGqV -11.093352 -12.128133  1.009003  30.132364\n",
       "88006  e288L  15.076468  -6.351626  0.999835  26.953261\n",
       "21968  y6kDn  -0.991981 -17.995529  1.997870  57.085625\n",
       "37359  xmUnK -11.321670  -9.972623  1.995770  57.085625"
      ]
     },
     "execution_count": 4,
     "metadata": {},
     "output_type": "execute_result"
    }
   ],
   "source": [
    "# df1\n",
    "print(df1.info())\n",
    "print(df1.describe())\n",
    "df1.sample(5)"
   ]
  },
  {
   "cell_type": "code",
   "execution_count": 5,
   "metadata": {
    "scrolled": false
   },
   "outputs": [
    {
     "name": "stdout",
     "output_type": "stream",
     "text": [
      "<class 'pandas.core.frame.DataFrame'>\n",
      "RangeIndex: 100000 entries, 0 to 99999\n",
      "Data columns (total 5 columns):\n",
      " #   Column   Non-Null Count   Dtype  \n",
      "---  ------   --------------   -----  \n",
      " 0   id       100000 non-null  object \n",
      " 1   f0       100000 non-null  float64\n",
      " 2   f1       100000 non-null  float64\n",
      " 3   f2       100000 non-null  float64\n",
      " 4   product  100000 non-null  float64\n",
      "dtypes: float64(4), object(1)\n",
      "memory usage: 3.8+ MB\n",
      "None\n",
      "                  f0             f1             f2        product\n",
      "count  100000.000000  100000.000000  100000.000000  100000.000000\n",
      "mean        0.002023      -0.002081       2.495128      95.000000\n",
      "std         1.732045       1.730417       3.473445      44.749921\n",
      "min        -8.760004      -7.084020     -11.970335       0.000000\n",
      "25%        -1.162288      -1.174820       0.130359      59.450441\n",
      "50%         0.009424      -0.009482       2.484236      94.925613\n",
      "75%         1.158535       1.163678       4.858794     130.595027\n",
      "max         7.238262       7.844801      16.739402     190.029838\n"
     ]
    },
    {
     "data": {
      "text/html": [
       "<div>\n",
       "<style scoped>\n",
       "    .dataframe tbody tr th:only-of-type {\n",
       "        vertical-align: middle;\n",
       "    }\n",
       "\n",
       "    .dataframe tbody tr th {\n",
       "        vertical-align: top;\n",
       "    }\n",
       "\n",
       "    .dataframe thead th {\n",
       "        text-align: right;\n",
       "    }\n",
       "</style>\n",
       "<table border=\"1\" class=\"dataframe\">\n",
       "  <thead>\n",
       "    <tr style=\"text-align: right;\">\n",
       "      <th></th>\n",
       "      <th>id</th>\n",
       "      <th>f0</th>\n",
       "      <th>f1</th>\n",
       "      <th>f2</th>\n",
       "      <th>product</th>\n",
       "    </tr>\n",
       "  </thead>\n",
       "  <tbody>\n",
       "    <tr>\n",
       "      <th>88381</th>\n",
       "      <td>Tebgn</td>\n",
       "      <td>0.104535</td>\n",
       "      <td>-1.776619</td>\n",
       "      <td>7.729179</td>\n",
       "      <td>99.405890</td>\n",
       "    </tr>\n",
       "    <tr>\n",
       "      <th>6650</th>\n",
       "      <td>VshgM</td>\n",
       "      <td>0.824620</td>\n",
       "      <td>0.333841</td>\n",
       "      <td>-6.287497</td>\n",
       "      <td>22.921564</td>\n",
       "    </tr>\n",
       "    <tr>\n",
       "      <th>21715</th>\n",
       "      <td>ih1Pa</td>\n",
       "      <td>1.463838</td>\n",
       "      <td>3.270688</td>\n",
       "      <td>3.176862</td>\n",
       "      <td>119.178542</td>\n",
       "    </tr>\n",
       "    <tr>\n",
       "      <th>40137</th>\n",
       "      <td>tZj76</td>\n",
       "      <td>-1.739645</td>\n",
       "      <td>-0.640797</td>\n",
       "      <td>5.771408</td>\n",
       "      <td>115.407118</td>\n",
       "    </tr>\n",
       "    <tr>\n",
       "      <th>81110</th>\n",
       "      <td>nNKog</td>\n",
       "      <td>2.520088</td>\n",
       "      <td>-1.347796</td>\n",
       "      <td>1.350840</td>\n",
       "      <td>158.452410</td>\n",
       "    </tr>\n",
       "  </tbody>\n",
       "</table>\n",
       "</div>"
      ],
      "text/plain": [
       "          id        f0        f1        f2     product\n",
       "88381  Tebgn  0.104535 -1.776619  7.729179   99.405890\n",
       "6650   VshgM  0.824620  0.333841 -6.287497   22.921564\n",
       "21715  ih1Pa  1.463838  3.270688  3.176862  119.178542\n",
       "40137  tZj76 -1.739645 -0.640797  5.771408  115.407118\n",
       "81110  nNKog  2.520088 -1.347796  1.350840  158.452410"
      ]
     },
     "execution_count": 5,
     "metadata": {},
     "output_type": "execute_result"
    }
   ],
   "source": [
    "# df2\n",
    "print(df2.info())\n",
    "print(df2.describe())\n",
    "df2.sample(5)"
   ]
  },
  {
   "cell_type": "markdown",
   "metadata": {},
   "source": [
    "Semua dataset memiliki 10000 baris yang menandakan tidak ada nilai yang hilang, fitur f0,f1,f2 memiliki nilai yang bervariasi dimana nilai-nilai tersebut berkorelasi terhadap berapa banyak minyak yang diproduksi pada setiap site. fitur produk juga memiliki nilai dari 0 sampai 191 unit."
   ]
  },
  {
   "cell_type": "markdown",
   "metadata": {},
   "source": [
    "<div class=\"alert alert-success\">\n",
    "<b>Chamdani's comment v.1</b> <a class=\"tocSkip\"></a>\n",
    "\n",
    "Hebat, Kerja bagus!\n",
    "</div>"
   ]
  },
  {
   "cell_type": "markdown",
   "metadata": {},
   "source": [
    "#### Data Visualization"
   ]
  },
  {
   "cell_type": "code",
   "execution_count": 6,
   "metadata": {
    "scrolled": true
   },
   "outputs": [
    {
     "data": {
      "image/png": "[encoded data removed]",
      "text/plain": [
       "<Figure size 432x288 with 1 Axes>"
      ]
     },
     "metadata": {
      "needs_background": "light"
     },
     "output_type": "display_data"
    }
   ],
   "source": [
    "# merge `product` column from each datasets\n",
    "oil = pd.concat([df0['product'], df1['product'], df2['product']],axis=1)\n",
    "oil.columns = ['Region 1','Region 2','Region 3']\n",
    "\n",
    "# create boxplot\n",
    "sns.boxplot(data=oil)\n",
    "plt.title('Volume Distribution of Location')\n",
    "plt.ylabel('Volume in Thousand of Barrels')\n",
    "plt.xlabel('Dataset')\n",
    "plt.show()"
   ]
  },
  {
   "cell_type": "markdown",
   "metadata": {},
   "source": [
    "Berdasarkan grafik boxplot, region 3 memiliki kandungan minyak terbanyak, dan region 2 memiliki kandungan minyak paling sedikit"
   ]
  },
  {
   "cell_type": "markdown",
   "metadata": {},
   "source": [
    "<div class=\"alert alert-success\">\n",
    "<b>Chamdani's comment v.1</b> <a class=\"tocSkip\"></a>\n",
    "\n",
    "Hebat, Kerja bagus!\n",
    "</div>"
   ]
  },
  {
   "cell_type": "markdown",
   "metadata": {},
   "source": [
    "#### Corelation Table"
   ]
  },
  {
   "cell_type": "code",
   "execution_count": 7,
   "metadata": {},
   "outputs": [
    {
     "data": {
      "image/png": "[encoded data removed]",
      "text/plain": [
       "<Figure size 432x288 with 2 Axes>"
      ]
     },
     "metadata": {
      "needs_background": "light"
     },
     "output_type": "display_data"
    }
   ],
   "source": [
    "corr_tab1 = df0.select_dtypes(exclude='object').corr()\n",
    "sns.heatmap(corr_tab1,annot=True,cmap='viridis').set_title('Region 1')\n",
    "plt.show()"
   ]
  },
  {
   "cell_type": "code",
   "execution_count": 8,
   "metadata": {},
   "outputs": [
    {
     "data": {
      "image/png": "[encoded data removed]",
      "text/plain": [
       "<Figure size 432x288 with 2 Axes>"
      ]
     },
     "metadata": {
      "needs_background": "light"
     },
     "output_type": "display_data"
    }
   ],
   "source": [
    "corr_tab2 = df1.select_dtypes(exclude='object').corr()\n",
    "sns.heatmap(corr_tab2,annot=True,cmap='viridis').set_title('Region 2')\n",
    "plt.show()"
   ]
  },
  {
   "cell_type": "code",
   "execution_count": 9,
   "metadata": {},
   "outputs": [
    {
     "data": {
      "image/png": "[encoded data removed]",
      "text/plain": [
       "<Figure size 432x288 with 2 Axes>"
      ]
     },
     "metadata": {
      "needs_background": "light"
     },
     "output_type": "display_data"
    }
   ],
   "source": [
    "corr_tab3 = df2.select_dtypes(exclude='object').corr()\n",
    "sns.heatmap(corr_tab3,annot=True,cmap='viridis').set_title('Region 3')\n",
    "plt.show()"
   ]
  },
  {
   "cell_type": "markdown",
   "metadata": {},
   "source": [
    "Berdasarkan tabel korelasi, variabel f2 memiliki korelasi tertinggi dengan product"
   ]
  },
  {
   "cell_type": "markdown",
   "metadata": {},
   "source": [
    "<div class=\"alert alert-success\">\n",
    "<b>Chamdani's comment v.1</b> <a class=\"tocSkip\"></a>\n",
    "\n",
    "Hebat, Kerja bagus!\n",
    "</div>"
   ]
  },
  {
   "cell_type": "markdown",
   "metadata": {},
   "source": [
    "## Data Procesing "
   ]
  },
  {
   "cell_type": "markdown",
   "metadata": {},
   "source": [
    "### Spreading Dataset\n",
    "\n",
    "Membagi dataset menjadi fitur dan target serta membagi persentase dataset menjadi 75% training dan 25% validasi"
   ]
  },
  {
   "cell_type": "code",
   "execution_count": 10,
   "metadata": {},
   "outputs": [
    {
     "name": "stdout",
     "output_type": "stream",
     "text": [
      "train_0 set shape: (75000, 5)\n",
      "val_0 set shape: (25000, 5)\n",
      "\n",
      "train_1: (75000, 5)\n",
      "val_1 set shape: (25000, 5)\n",
      "\n",
      "train_2: (75000, 5)\n",
      "val_2 set shape: (25000, 5)\n"
     ]
    }
   ],
   "source": [
    "# Splitting data_0\n",
    "train_0, val_0 = train_test_split(df0, train_size=0.75, random_state=12345)\n",
    "print('train_0 set shape:', train_0.shape)\n",
    "print('val_0 set shape:', val_0.shape)\n",
    "print()\n",
    "\n",
    "# Splitting data_1\n",
    "train_1, val_1 = train_test_split(df1, train_size=0.75, random_state=12345)\n",
    "print('train_1:', train_1.shape)\n",
    "print('val_1 set shape:', val_1.shape)\n",
    "print()\n",
    "\n",
    "# Splitting data_2\n",
    "train_2, val_2 = train_test_split(df2, train_size=0.75, random_state=12345)\n",
    "print('train_2:', train_2.shape)\n",
    "print('val_2 set shape:', val_2.shape)"
   ]
  },
  {
   "cell_type": "code",
   "execution_count": 11,
   "metadata": {},
   "outputs": [],
   "source": [
    "#Split dataset into features and target\n",
    "train_features0 = train_0.drop(['product','id'],axis=1)\n",
    "train_target0 = train_0['product']\n",
    "val_features0 = val_0.drop(['product','id'],axis=1)\n",
    "val_target0 = val_0['product']\n",
    "\n",
    "train_features1 = train_1.drop(['product','id'],axis=1)\n",
    "train_target1 = train_1['product']\n",
    "val_features1 = val_1.drop(['product','id'],axis=1)\n",
    "val_target1 = val_1['product']\n",
    "\n",
    "train_features2 = train_2.drop(['product','id'],axis=1)\n",
    "train_target2 = train_2['product']\n",
    "val_features2 = val_2.drop(['product','id'],axis=1)\n",
    "val_target2 = val_2['product']"
   ]
  },
  {
   "cell_type": "markdown",
   "metadata": {},
   "source": [
    "<div class=\"alert alert-success\">\n",
    "<b>Chamdani's comment v.1</b> <a class=\"tocSkip\"></a>\n",
    "\n",
    "Hebat, Kerja bagus!\n",
    "</div>"
   ]
  },
  {
   "cell_type": "markdown",
   "metadata": {},
   "source": [
    "### Standardization"
   ]
  },
  {
   "cell_type": "code",
   "execution_count": 12,
   "metadata": {},
   "outputs": [
    {
     "data": {
      "text/plain": [
       "<AxesSubplot:ylabel='Count'>"
      ]
     },
     "execution_count": 12,
     "metadata": {},
     "output_type": "execute_result"
    },
    {
     "data": {
      "image/png": "[encoded data removed]",
      "text/plain": [
       "<Figure size 432x288 with 1 Axes>"
      ]
     },
     "metadata": {
      "needs_background": "light"
     },
     "output_type": "display_data"
    }
   ],
   "source": [
    "# data_0\n",
    "\n",
    "## Creating an instance of the standard scaler\n",
    "standard_scaler = StandardScaler()\n",
    "\n",
    "## Fitting & transforming training set\n",
    "### .values attribute excludes dataframe headers and prevent errors/warnings\n",
    "train_features0 = standard_scaler.fit_transform(X=train_features0.values)\n",
    "\n",
    "## Transforming validation set\n",
    "val_features0 = standard_scaler.transform(X=val_features0.values)\n",
    "\n",
    "## Checking transformed dataset\n",
    "sns.histplot(data=train_features0)\n",
    "sns.histplot(data=val_features0)"
   ]
  },
  {
   "cell_type": "code",
   "execution_count": 13,
   "metadata": {
    "scrolled": true
   },
   "outputs": [
    {
     "data": {
      "text/plain": [
       "<AxesSubplot:ylabel='Count'>"
      ]
     },
     "execution_count": 13,
     "metadata": {},
     "output_type": "execute_result"
    },
    {
     "data": {
      "image/png": "[encoded data removed]",
      "text/plain": [
       "<Figure size 432x288 with 1 Axes>"
      ]
     },
     "metadata": {
      "needs_background": "light"
     },
     "output_type": "display_data"
    }
   ],
   "source": [
    "# data_1\n",
    "\n",
    "## Creating an instance of the standard scaler\n",
    "standard_scaler = StandardScaler()\n",
    "\n",
    "## Fitting & transforming training set\n",
    "### .values attribute excludes dataframe headers and prevent errors/warnings\n",
    "train_features1 = standard_scaler.fit_transform(X=train_features1.values)\n",
    "\n",
    "## Transforming validation set\n",
    "val_features1 = standard_scaler.transform(X=val_features1.values)\n",
    "\n",
    "## Checking transformed dataset\n",
    "sns.histplot(data=train_features1)\n",
    "sns.histplot(data=val_features1)"
   ]
  },
  {
   "cell_type": "markdown",
   "metadata": {},
   "source": [
    "<div class=\"alert alert-success\">\n",
    "<b>Chamdani's comment v.1</b> <a class=\"tocSkip\"></a>\n",
    "\n",
    "Hebat, Kerja bagus!\n",
    "</div>"
   ]
  },
  {
   "cell_type": "code",
   "execution_count": 14,
   "metadata": {
    "scrolled": true
   },
   "outputs": [
    {
     "data": {
      "text/plain": [
       "<AxesSubplot:ylabel='Count'>"
      ]
     },
     "execution_count": 14,
     "metadata": {},
     "output_type": "execute_result"
    },
    {
     "data": {
      "image/png": "[encoded data removed]",
      "text/plain": [
       "<Figure size 432x288 with 1 Axes>"
      ]
     },
     "metadata": {
      "needs_background": "light"
     },
     "output_type": "display_data"
    }
   ],
   "source": [
    "# data_2\n",
    "\n",
    "## Creating an instance of the standard scaler\n",
    "standard_scaler = StandardScaler()\n",
    "\n",
    "## Fitting & transforming training set\n",
    "### .values attribute excludes dataframe headers and prevent errors/warnings\n",
    "train_features2 = standard_scaler.fit_transform(X=train_features2.values)\n",
    "\n",
    "## Transforming validation set\n",
    "val_features2 = standard_scaler.transform(X=val_features2.values)\n",
    "\n",
    "## Checking transformed dataset\n",
    "sns.histplot(data=train_features2)\n",
    "sns.histplot(data=val_features2)"
   ]
  },
  {
   "cell_type": "markdown",
   "metadata": {},
   "source": [
    "Histogram menunjukkan data berpusat disekitar rata-rata = 0 yang mengindikasikan standarisasi sukses"
   ]
  },
  {
   "cell_type": "markdown",
   "metadata": {},
   "source": [
    "<div class=\"alert alert-success\">\n",
    "<b>Chamdani's comment v.1</b> <a class=\"tocSkip\"></a>\n",
    "\n",
    "Hebat, Kerja bagus!\n",
    "</div>"
   ]
  },
  {
   "cell_type": "markdown",
   "metadata": {},
   "source": [
    "### Predict average oil reserve volume\n",
    "\n",
    "Melihat performa dari model machine learning menggunakan root mean square error (RMSE). Model yang kita buat adalah regresi linier dari scikit-learn."
   ]
  },
  {
   "cell_type": "code",
   "execution_count": 15,
   "metadata": {},
   "outputs": [],
   "source": [
    "def oil_pred(feature_train,feature_valid,target_train,target_valid):\n",
    "    # create regression linear model\n",
    "    model = LinearRegression()\n",
    "    # training model with dataset training\n",
    "    model.fit(feature_train,target_train)\n",
    "    # predict average oil reserve volume\n",
    "    vol = model.predict(feature_valid)\n",
    "    # calculate RMSE\n",
    "    rmse = mean_squared_error(target_valid,vol)**0.5\n",
    "    return vol, rmse"
   ]
  },
  {
   "cell_type": "code",
   "execution_count": 16,
   "metadata": {},
   "outputs": [
    {
     "name": "stdout",
     "output_type": "stream",
     "text": [
      "Average predicted reserve volume in region 1 : 92.593\n",
      "RMSE of model predictions in region 1 : 37.579\n"
     ]
    }
   ],
   "source": [
    "vol_0, rmse_0 = oil_pred(train_features0, val_features0, train_target0, val_target0)\n",
    "print('Average predicted reserve volume in region 1 :', round(vol_0.mean(),3))\n",
    "print('RMSE of model predictions in region 1 :', round(rmse_0,3))"
   ]
  },
  {
   "cell_type": "code",
   "execution_count": 17,
   "metadata": {},
   "outputs": [
    {
     "name": "stdout",
     "output_type": "stream",
     "text": [
      "Average predicted reserve volume in region 2 : 68.729\n",
      "RMSE of model predictions in region 2 : 0.893\n"
     ]
    }
   ],
   "source": [
    "vol_1, rmse_1 = oil_pred(train_features1, val_features1, train_target1, val_target1)\n",
    "print('Average predicted reserve volume in region 2 :', round(vol_1.mean(),3))\n",
    "print('RMSE of model predictions in region 2 :', round(rmse_1,3))"
   ]
  },
  {
   "cell_type": "code",
   "execution_count": 18,
   "metadata": {},
   "outputs": [
    {
     "name": "stdout",
     "output_type": "stream",
     "text": [
      "Average predicted reserve volume in region 3 : 94.965\n",
      "RMSE of model predictions in region 3 : 40.03\n"
     ]
    }
   ],
   "source": [
    "vol_2, rmse_2 = oil_pred(train_features2, val_features2, train_target2, val_target2)\n",
    "print('Average predicted reserve volume in region 3 :', round(vol_2.mean(),3))\n",
    "print('RMSE of model predictions in region 3 :', round(rmse_2,3))"
   ]
  },
  {
   "cell_type": "markdown",
   "metadata": {},
   "source": [
    "Berdasarkan model, region 2 memiliki cadangan minyak terbanyak 94.965 ribu barel namun memiliki RMSE terbesar 40.03\n",
    "\n",
    "region 1 mirip seperti region 2 memiliki cadangan minyak 92.593 ribu barel, dan memiliki RMSE sebesar 37.579\n",
    "\n",
    "dan region 2 memiliki cadangan yang paling sedikit 68.729 ribu barel namun memiliki RMSE terbaik 0.893"
   ]
  },
  {
   "cell_type": "markdown",
   "metadata": {},
   "source": [
    "<div class=\"alert alert-success\">\n",
    "<b>Chamdani's comment v.1</b> <a class=\"tocSkip\"></a>\n",
    "\n",
    "Hebat, Kerja bagus!\n",
    "</div>"
   ]
  },
  {
   "cell_type": "markdown",
   "metadata": {},
   "source": [
    "## Preparation for calculating profit\n",
    "\n",
    "- Perusahaan OilyGiant memiliki investasi 100 juta USD untuk 200 sumur minyak\n",
    "- sebuah sumur minyak rata-rata harus menghasilkan setidaknya 500 ribu USD untuk menghindari kerugian (ini setara dengan 111,1 unit)\n",
    "- 1 unit (1000 barels) minyak menghasilkan pendapatan 4.500 USD"
   ]
  },
  {
   "cell_type": "code",
   "execution_count": 19,
   "metadata": {},
   "outputs": [
    {
     "name": "stdout",
     "output_type": "stream",
     "text": [
      "The minimum reserve volume needed to reach ROI: 111.11111111111111 thousand barrels\n"
     ]
    }
   ],
   "source": [
    "budget = 100000000\n",
    "n_best = 200\n",
    "price_vol = 4.5*1000\n",
    "\n",
    "# mengetahui berapa unit produk yang bisa dihasilkan dari modal investasi untuk 200 lokasi\n",
    "n_prod = budget/(price_vol*n_best)\n",
    "\n",
    "print(f'The minimum reserve volume needed to reach ROI: {n_prod} thousand barrels')"
   ]
  },
  {
   "cell_type": "markdown",
   "metadata": {},
   "source": [
    "<div class=\"alert alert-success\">\n",
    "<b>Chamdani's comment v.1</b> <a class=\"tocSkip\"></a>\n",
    "\n",
    "Hebat, Kerja bagus!\n",
    "</div>"
   ]
  },
  {
   "cell_type": "markdown",
   "metadata": {},
   "source": [
    "## Create Function to Calculate Profit\n",
    "\n",
    "Untuk menghitung profit pada proyek ini kita dapat melakukan bootstrap pada data: mengulangi pengujian pada sampel acak dalam waktu yang cukup lama agar statistik mendekati parameter sebenarnya. Mengulangi proses ini 1000 kali seharusnya cukup untuk tujuan kita dengan pengambilan sebanyak 500 sampel untuk menentukan 200 lokasi."
   ]
  },
  {
   "cell_type": "code",
   "execution_count": 20,
   "metadata": {},
   "outputs": [],
   "source": [
    "def margin_profit(predict,target):\n",
    "    pred = pd.Series(predict)\n",
    "    tar = target.reset_index(drop=True)\n",
    "    pred.sort_values(ascending=False,inplace=True)\n",
    "\n",
    "    tar = tar[pred.index]\n",
    "    # margin = [predict revenue total] - [revenue without lose total]\n",
    "    margin = price_vol*(tar[:n_best].sum() - n_prod*n_best)\n",
    "\n",
    "    # mengembalikan margin profit\n",
    "    return margin"
   ]
  },
  {
   "cell_type": "code",
   "execution_count": 21,
   "metadata": {},
   "outputs": [],
   "source": [
    "n_test = 1000\n",
    "n_sample = 500\n",
    "\n",
    "def profit_bootsrap(predict,target):\n",
    "    margin = []\n",
    "    predict = pd.Series(predict)\n",
    "    target = target.reset_index(drop=True)\n",
    "    random = np.random.RandomState(12345)\n",
    "\n",
    "    # creat bootstrap to calculate revenue\n",
    "    for i in range(n_test):\n",
    "        # mengambil sampel sebanyak `n_point=500` dari data target\n",
    "        tar_sample = target.sample(n_sample,replace=True,random_state=random)\n",
    "        # mengambil nilai prediksi yang sesuai dengan indeks target sampel\n",
    "        predict_sample = predict[tar_sample.index]\n",
    "        # mereset indeks taget sampel\n",
    "        tar_sample.reset_index(drop=True,inplace=True)\n",
    "        # mereset indeks prediksi sampel\n",
    "        predict_sample.reset_index(drop=True,inplace=True)\n",
    "        # menghitung besarnya margin profit dan menambahkanya ke tempat penampungan `margin`\n",
    "        margin.append(margin_profit(predict_sample,tar_sample))\n",
    "\n",
    "    return margin"
   ]
  },
  {
   "cell_type": "code",
   "execution_count": 22,
   "metadata": {
    "scrolled": false
   },
   "outputs": [
    {
     "name": "stdout",
     "output_type": "stream",
     "text": [
      "Average Margin Profit Region-1 : 3961649.84802371 USD\n",
      "Average Margin Profit Region-2 : 4560451.057866606 USD\n",
      "Average Margin Profit Region-3 : 4044038.665683566 USD\n"
     ]
    }
   ],
   "source": [
    "# menghitung margin profit menggunakan 200 titik terbaik untuk tiap dataset\n",
    "reg1 = profit_bootsrap(vol_0,val_target0)\n",
    "reg2 = profit_bootsrap(vol_1,val_target1)\n",
    "reg3 = profit_bootsrap(vol_2,val_target2)\n",
    "\n",
    "# menampilkan revenue 200 titik lokasi terbaik\n",
    "print('Average Margin Profit Region-1 :',np.mean(reg1),'USD')\n",
    "print('Average Margin Profit Region-2 :',np.mean(reg2),'USD')\n",
    "print('Average Margin Profit Region-3 :',np.mean(reg3),'USD')"
   ]
  },
  {
   "cell_type": "code",
   "execution_count": 23,
   "metadata": {},
   "outputs": [],
   "source": [
    "# menggabungkan hasil perhitungan bootstrapping\n",
    "regeo1 = pd.Series(reg1,name='Region-1')\n",
    "regeo2 = pd.Series(reg2,name='Region-2')\n",
    "regeo3 = pd.Series(reg3,name='Region-3')\n",
    "combine = pd.concat([regeo1,regeo2,regeo3],axis=1)"
   ]
  },
  {
   "cell_type": "markdown",
   "metadata": {},
   "source": [
    "Region 2 memberikan rata-rate margin profit terbesar dengan ~4.5 juta USD, kemudian region 3, dan region 1 yang terendah dengan ~3.9 juta USD"
   ]
  },
  {
   "cell_type": "markdown",
   "metadata": {},
   "source": [
    "<div class=\"alert alert-success\">\n",
    "<b>Chamdani's comment v.1</b> <a class=\"tocSkip\"></a>\n",
    "\n",
    "Hebat, Kerja bagus!\n",
    "</div>"
   ]
  },
  {
   "cell_type": "markdown",
   "metadata": {},
   "source": [
    "## Calculating confidence intervals\n",
    "\n",
    "Semua wilayah mempunyai risiko kerugian. Perusahaan mengharuskan kita memilih hanya wilayah dengan risiko kerugian kurang dari 2,5% dan rata-rata keuntungan tertinggi.\n",
    "\n",
    "Untuk menghitung risiko ini, kita akan menggunakan interval kepercayaan. Interval kepercayaan statistik sampel mengukur probabilitas mendapatkan parameter populasi sebenarnya dalam rentang/interval yang ditentukan. Kita ingin memiliki kemungkinan 95% bahwa rata-rata keuntungan sebenarnya berada dalam kisaran tersebut, jadi kita akan menetapkan interval kepercayaan kami menjadi 95%."
   ]
  },
  {
   "cell_type": "code",
   "execution_count": 24,
   "metadata": {},
   "outputs": [],
   "source": [
    "# confidence intervals 95%\n",
    "cfd_interval = 0.95\n",
    "\n",
    "# lost risk 2.5%\n",
    "risk_threshold = 0.025"
   ]
  },
  {
   "cell_type": "code",
   "execution_count": 25,
   "metadata": {},
   "outputs": [],
   "source": [
    "def cfd_risk(dif_rev,sample):\n",
    "    low = round((1 - cfd_interval)/2,3)\n",
    "    high = cfd_interval + low\n",
    "    # calculating low quantille for margin profit\n",
    "    low_cfd = dif_rev.quantile(low)\n",
    "    # calculating high quantille for margin profit\n",
    "    high_cfd = dif_rev.quantile(high)\n",
    "\n",
    "    # calculating negative risk from margin profi\n",
    "    negative = [neg for neg in dif_rev if neg < 0]\n",
    "    # calculating percentage\n",
    "    risk = len(negative)/sample*100\n",
    "    return low_cfd, high_cfd, risk"
   ]
  },
  {
   "cell_type": "code",
   "execution_count": 26,
   "metadata": {},
   "outputs": [
    {
     "name": "stdout",
     "output_type": "stream",
     "text": [
      "Wilayah Region-1\n",
      "Rata-rata Margin Profit 3961649.85 USD\n",
      "Confidence Interval (95% Keyakinan) dari -1112155.46 USD hingga 9097669.42 USD\n",
      "Persentase Risiko Negatif Revenue 6.9 %\n"
     ]
    }
   ],
   "source": [
    "# calculating confidence intervals & risk\n",
    "low, high, risk = cfd_risk(regeo1,n_test)\n",
    "print('Wilayah Region-1')\n",
    "print('Rata-rata Margin Profit',round(np.mean(reg1),2),'USD')\n",
    "print(f'Confidence Interval (95% Keyakinan) dari',round(low,2),'USD','hingga',round(high,2),'USD')\n",
    "print('Persentase Risiko Negatif Revenue',risk,'%')"
   ]
  },
  {
   "cell_type": "markdown",
   "metadata": {},
   "source": [
    "<div class=\"alert alert-success\">\n",
    "<b>Chamdani's comment v.1</b> <a class=\"tocSkip\"></a>\n",
    "\n",
    "Hebat, Kerja bagus!\n",
    "</div>"
   ]
  },
  {
   "cell_type": "code",
   "execution_count": 27,
   "metadata": {},
   "outputs": [
    {
     "name": "stdout",
     "output_type": "stream",
     "text": [
      "Wilayah Region-2\n",
      "Rata-rata Margin Profit 4560451.06 USD\n",
      "Confidence Interval (95% Keyakinan) dari 338205.09 USD hingga 8522894.54 USD\n",
      "Persentase Risiko Negatif Revenue 1.5 %\n"
     ]
    }
   ],
   "source": [
    "# calculating confidence intervals & risk\n",
    "low, high, risk = cfd_risk(regeo2,n_test)\n",
    "print('Wilayah Region-2')\n",
    "print('Rata-rata Margin Profit',round(np.mean(reg2),2),'USD')\n",
    "print(f'Confidence Interval (95% Keyakinan) dari',round(low,2),'USD','hingga',round(high,2),'USD')\n",
    "print('Persentase Risiko Negatif Revenue',risk,'%')"
   ]
  },
  {
   "cell_type": "code",
   "execution_count": 28,
   "metadata": {},
   "outputs": [
    {
     "name": "stdout",
     "output_type": "stream",
     "text": [
      "Wilayah Region-3\n",
      "Rata-rata Margin Profit 4044038.67 USD\n",
      "Confidence Interval (95% Keyakinan) dari -1633504.13 USD hingga 9503595.75 USD\n",
      "Persentase Risiko Negatif Revenue 7.6 %\n"
     ]
    }
   ],
   "source": [
    "# calculating confidence intervals & risk\n",
    "low, high, risk = cfd_risk(regeo3,n_test)\n",
    "print('Wilayah Region-3')\n",
    "print('Rata-rata Margin Profit',round(np.mean(reg3),2),'USD')\n",
    "print(f'Confidence Interval (95% Keyakinan) dari',round(low,2),'USD','hingga',round(high,2),'USD')\n",
    "print('Persentase Risiko Negatif Revenue',risk,'%')"
   ]
  },
  {
   "cell_type": "markdown",
   "metadata": {},
   "source": [
    "Region 2 memiliki rata-rata margin profit tertinggi, serta memenuhi syarat dari perusahaan memiliki risiko kerugian kurang dari 2,5%. Sehingga kita memutuskan untuk menggali sumur minyak di region 2"
   ]
  },
  {
   "cell_type": "markdown",
   "metadata": {},
   "source": [
    "<div class=\"alert alert-success\">\n",
    "<b>Chamdani's comment v.1</b> <a class=\"tocSkip\"></a>\n",
    "\n",
    "Hebat, Kerja bagus!\n",
    "</div>"
   ]
  },
  {
   "cell_type": "markdown",
   "metadata": {},
   "source": [
    "# Conclusion\n",
    "\n",
    "- Berdasarkan analisis boxplot, wilayah Region-3 memiliki rata-rata kandungan minyak paling tinggi dibandingkan wilayah lain.\n",
    "- Tabel korelasi menunjukan hanya variabel/fitur f2 yang memiliki korelasi cukup baik dengan target product dibandingkan dengan variabel/fitur lain.\n",
    "- Analisis dasar bisnis menunjukan jika kita tidak mengalami kerugian dengan modal investasi 100 juta USD untuk 200 titik, maka semua titik harus memproduksi sebanyak 111.11 ribu barel. Jika kita menggunakan rata-rata kandungan minyak untuk tiap wilayah, maka kita akan merugi, namun apabila kita hanya mengambil 200 titik terbaik maka kita akan mendapatatkan keuntungan\n",
    "- Bootstrapping digunakan untuk melihat persebaran margin profit n risk (margin profit negatif) diperoleh risiko Region-1 sebesar 6.9%, risiko Region-2 sebesar 1.5% dan risiko Region-3 sebesar 7.6%.\n",
    "- Wilayah Region-2 yang memenuhi kriteria dibawah risiko 2.5% dan memiliki rata-rata margin profit paling tinggi ~4.65 juta USD dengan 95% Keyakinan berada pada 338205.09 USD hingga 8522894.54 USD"
   ]
  },
  {
   "cell_type": "markdown",
   "metadata": {},
   "source": [
    "<div class=\"alert alert-success\">\n",
    "<b>Chamdani's comment v.1</b> <a class=\"tocSkip\"></a>\n",
    "\n",
    "Hebat, Kerja bagus!\n",
    "</div>"
   ]
  }
 ],
 "metadata": {
  "kernelspec": {
   "display_name": "Python 3 (ipykernel)",
   "language": "python",
   "name": "python3"
  },
  "language_info": {
   "codemirror_mode": {
    "name": "ipython",
    "version": 3
   },
   "file_extension": ".py",
   "mimetype": "text/x-python",
   "name": "python",
   "nbconvert_exporter": "python",
   "pygments_lexer": "ipython3",
   "version": "3.9.19"
  },
  "toc": {
   "base_numbering": 1,
   "nav_menu": {},
   "number_sections": true,
   "sideBar": true,
   "skip_h1_title": true,
   "title_cell": "Table of Contents",
   "title_sidebar": "Contents",
   "toc_cell": false,
   "toc_position": {},
   "toc_section_display": true,
   "toc_window_display": false
  }
 },
 "nbformat": 4,
 "nbformat_minor": 2
}
